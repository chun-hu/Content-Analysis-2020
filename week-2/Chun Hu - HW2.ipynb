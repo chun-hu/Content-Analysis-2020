{
 "cells": [
  {
   "cell_type": "code",
   "execution_count": 70,
   "metadata": {},
   "outputs": [],
   "source": [
    "import lucem_illud_2020 #pip install -U git+git://github.com/Computational-Content-Analysis-2020/lucem_illud_2020.git\n",
    "\n",
    "#All these packages need to be installed from pip\n",
    "import numpy as np #For arrays\n",
    "import scipy as sp #For some stats\n",
    "import pandas as pd #Gives us DataFrames\n",
    "import matplotlib.pyplot as plt #For graphics\n",
    "import seaborn #Makes the graphics look nicer\n",
    "import pyanno #On python3 make sure to pip install pyanno3\n",
    "\n",
    "#We need to import these this way due to how pyanno is setup\n",
    "from pyanno.measures import pairwise_matrix, agreement, cohens_kappa, cohens_weighted_kappa, fleiss_kappa, krippendorffs_alpha, pearsons_rho, scotts_pi, spearmans_rho\n",
    "from pyanno.annotations import AnnotationsContainer\n",
    "from pyanno.models import ModelA, ModelBt, ModelB\n",
    "\n",
    "from functools import reduce\n",
    "from itertools import permutations\n",
    "import math\n",
    "\n",
    "\n",
    "#This 'magic' command makes the plots work better\n",
    "#in the notebook, don't use it outside of a notebook.\n",
    "#Also you can ignore the warning\n",
    "%matplotlib inline\n",
    "\n",
    "import os #For looking through files\n",
    "import os.path #For managing file paths"
   ]
  },
  {
   "cell_type": "markdown",
   "metadata": {},
   "source": [
    "## <span style=\"color:red\">*Pitch the Domain of your Project*</span>\n",
    "\n",
    "<span style=\"color:red\">In the two cells immediately following, describe **WHAT** you are planning to analyze for your final project (i.e., texts, contexts and the social game, world and actors you intend to learn about through your analysis) (<200 words) and **WHY** you are going to do it (i.e., why would theory and/or the average person benefit from knowing the results of your investigation) (<200 words)? [**Note**: your individual or collective project can change over the course of the quarter if new data and/or analysis opportunities arise or if old ones fade away.]"
   ]
  },
  {
   "cell_type": "markdown",
   "metadata": {},
   "source": [
    "## ***What?***  \n",
    "\n",
    "For this final project, I would like to investigate the social context and cultural patterns in the U.S. by analyzing musical expressions of U.S. songs in different periods. Singers often convey their judgments and conflicts about lifestyle and personal identity through the song lyrics. And these conflicts often reflect the bigger social and political issues in that time period. Specifically, I'll perform sentiment analysis on the song lyrics and use topic modeling to find out the themes and social factors behind these expressions. I'll conduct these analysis in the context of cultural changes."
   ]
  },
  {
   "cell_type": "markdown",
   "metadata": {},
   "source": [
    "## ***Why?***\n",
    "\n",
    "People often use music as a way to communicate their feelings and thoughts. Musical expression of emotions can be basic and universal - they convey wide-shared values or experiences. They can also depend on the social context and individual listeners - music are open to multiple interpretations. Music are often considered as reflections of the society and culture in which they were produced. Hence, understanding musical expressions can help us learn more about the social context and culture patterns in our living.\n",
    "\n",
    "In addition, if we are able to discover the themes behind the musical expressions in each time period, we may be able to predict the changes in society and culture based on the music we are listening to. In this way, we not only employ inferences to understand the relationship between music and ourselves, but also use prediction to create a better future."
   ]
  },
  {
   "cell_type": "markdown",
   "metadata": {},
   "source": [
    "## <span style=\"color:red\">*Pitch Your Sample*</span>\n",
    "\n",
    "<span style=\"color:red\">In the cell immediately following, describe the rationale behind your proposed sample design for your final project. What is the social game, social work, or social actors about whom you are seeking to make inferences? What are its virtues with respect to your research questions? What are its limitations? What are alternatives? What would be a reasonable path to \"scale up\" your sample for further analysis (i.e., high-profile publication)? (<200 words)."
   ]
  },
  {
   "cell_type": "markdown",
   "metadata": {},
   "source": [
    "Due to time constraint, my samples are confined to the most popular songs in the U.S. over the past decade. By which our samples includes only songs produced by the most popular singers in the most popular music genres. It may not capture the most interesting trends in the society and culture, but it definitely reflects the mainstream expressions that many people can relate to. \n",
    "\n",
    "My samples can be limited. For further analysis, I would like to include more music genres in the U.S. and look at the similarity and differences between the themes in each genre. In addition, it will also be interesting if I can compare the themes in different countries and in different periods. It will allow us to make cross-category comparison and validation."
   ]
  },
  {
   "cell_type": "markdown",
   "metadata": {},
   "source": [
    "# Annotation Dataset\n",
    "My dataset included a subset of Kanye West's rap verses. The whole dataset is downloaded from Kaggle. I asked 5 respondents to code for the sentiment of the lyrics, and I pretended to be a bad coder (coder 4). The sentiment score ranges from 0 (negative) to 10 (positive), with 5 being neutral. "
   ]
  },
  {
   "cell_type": "code",
   "execution_count": 71,
   "metadata": {},
   "outputs": [],
   "source": [
    "df = pd.read_csv(\"kanye_west_coding.csv\")\n",
    "anno = AnnotationsContainer.from_array(df.values[:,1:])"
   ]
  },
  {
   "cell_type": "code",
   "execution_count": 72,
   "metadata": {},
   "outputs": [
    {
     "data": {
      "text/plain": [
       "array([[ 0,  1,  0,  5,  1,  1],\n",
       "       [ 0,  2,  1,  6,  1,  1],\n",
       "       [ 0,  2,  1,  5,  0,  0],\n",
       "       [ 3,  3,  5,  8,  4,  2],\n",
       "       [ 6,  5,  4,  2,  6,  7],\n",
       "       [ 9,  9, 10,  5,  8,  7],\n",
       "       [10, 10,  9,  4,  9,  9],\n",
       "       [ 7,  5,  8,  5,  6,  7],\n",
       "       [ 5,  7,  6, 10,  6,  5],\n",
       "       [10, 10,  9,  3,  9, 10],\n",
       "       [ 7,  6,  7,  5,  8,  8],\n",
       "       [ 9,  7,  9,  2,  8,  9],\n",
       "       [ 7,  9, 10,  5,  9, 10],\n",
       "       [ 4,  5,  2, 10,  3,  3],\n",
       "       [ 6,  6,  5,  4,  7,  5],\n",
       "       [ 3,  2,  3,  7,  3,  2],\n",
       "       [10, 10,  9,  5,  9, 10],\n",
       "       [ 5,  7,  7,  1,  6,  5],\n",
       "       [ 7,  8,  8,  4,  8,  9],\n",
       "       [ 7,  7,  8,  5,  7,  7],\n",
       "       [ 6,  8,  7,  1,  5,  7],\n",
       "       [ 5,  4,  5,  9,  5,  3],\n",
       "       [ 3,  5,  6,  5,  4,  2],\n",
       "       [ 4,  6,  6,  8,  4,  5],\n",
       "       [ 9,  8,  9,  5,  8,  8],\n",
       "       [ 3,  2,  2,  5,  1,  2],\n",
       "       [ 6,  5,  6,  2,  5,  5],\n",
       "       [ 3,  5,  4,  7,  3,  2],\n",
       "       [ 7,  7,  6,  1,  8,  6],\n",
       "       [ 6,  5,  7,  7,  7,  8],\n",
       "       [ 6,  5,  7,  9,  7,  8],\n",
       "       [ 0,  1,  1,  4,  0,  1],\n",
       "       [ 6,  4,  3,  9,  5,  3],\n",
       "       [ 7,  8,  6,  7,  8,  8],\n",
       "       [ 8,  8,  9,  5,  8,  7],\n",
       "       [ 9,  8,  9,  5, 10,  9],\n",
       "       [ 8,  6,  7,  2,  8,  8],\n",
       "       [ 6,  5,  5,  8,  5,  6],\n",
       "       [ 3,  5,  4,  9,  5,  5],\n",
       "       [ 6,  7,  7,  2,  6,  5],\n",
       "       [ 7,  7,  6, 10,  5,  7],\n",
       "       [ 6,  6,  7, 10,  6,  5],\n",
       "       [ 6,  5,  3,  8,  5,  4],\n",
       "       [ 7,  7,  7,  1,  5,  8],\n",
       "       [ 8,  5,  7,  5,  7,  8],\n",
       "       [ 3,  1,  1,  5,  2,  1],\n",
       "       [ 8,  6,  5,  1,  7,  6],\n",
       "       [ 7,  5,  6,  1,  7,  7],\n",
       "       [ 8,  8,  9,  5,  7,  8],\n",
       "       [ 7,  8,  8,  5,  7,  8],\n",
       "       [ 9,  6,  8,  2,  7,  8],\n",
       "       [ 5,  6,  5,  9,  6,  5],\n",
       "       [ 8,  9,  8,  3,  9, 10],\n",
       "       [ 7,  8,  5,  4,  7,  7],\n",
       "       [ 6,  5,  3, 10,  5,  4],\n",
       "       [ 1,  0,  2,  6,  2,  1],\n",
       "       [ 7,  6,  5,  9,  7,  7],\n",
       "       [10,  9,  9,  6,  9,  9],\n",
       "       [ 9, 10,  8,  6,  9, 10],\n",
       "       [ 7,  8,  7,  1,  8,  8],\n",
       "       [ 2,  3,  3,  7,  2,  1],\n",
       "       [ 4,  5,  3,  8,  5,  5],\n",
       "       [ 0,  0,  0,  4,  0,  0],\n",
       "       [ 0,  0,  0,  5,  0,  0],\n",
       "       [ 8,  9, 10,  6,  9, 10],\n",
       "       [ 8,  7,  8,  5,  8,  8],\n",
       "       [ 0,  2,  2,  8,  1,  1]])"
      ]
     },
     "execution_count": 72,
     "metadata": {},
     "output_type": "execute_result"
    }
   ],
   "source": [
    "anno.annotations"
   ]
  },
  {
   "cell_type": "code",
   "execution_count": 73,
   "metadata": {},
   "outputs": [
    {
     "data": {
      "text/plain": [
       "[0, 1, 2, 3, 4, 5, 6, 7, 8, 9, 10]"
      ]
     },
     "execution_count": 73,
     "metadata": {},
     "output_type": "execute_result"
    }
   ],
   "source": [
    "anno.labels"
   ]
  },
  {
   "cell_type": "markdown",
   "metadata": {},
   "source": [
    "# Annotation Statistics"
   ]
  },
  {
   "cell_type": "code",
   "execution_count": 74,
   "metadata": {},
   "outputs": [
    {
     "data": {
      "text/plain": [
       "array([0.04975124, 0.06467662, 0.05970149, 0.05721393, 0.04726368,\n",
       "       0.16666667, 0.10945274, 0.15174129, 0.13930348, 0.09701493,\n",
       "       0.05721393])"
      ]
     },
     "execution_count": 74,
     "metadata": {},
     "output_type": "execute_result"
    }
   ],
   "source": [
    "pyanno.measures.agreement.labels_frequency(anno.annotations, 11)"
   ]
  },
  {
   "cell_type": "markdown",
   "metadata": {},
   "source": [
    "First, use Cohen's $\\kappa$ to measure agreement between coders:"
   ]
  },
  {
   "cell_type": "code",
   "execution_count": 75,
   "metadata": {},
   "outputs": [
    {
     "name": "stdout",
     "output_type": "stream",
     "text": [
      "[[ 1.          0.13333333  0.12834626 -0.06966618  0.22718154  0.25647349]\n",
      " [ 0.13333333  1.          0.12943528 -0.08915418  0.21935157  0.24208145]\n",
      " [ 0.12834626  0.12943528  1.         -0.09374227  0.15892543  0.21802831]\n",
      " [-0.06966618 -0.08915418 -0.09374227  1.         -0.10660661 -0.12253063]\n",
      " [ 0.22718154  0.21935157  0.15892543 -0.10660661  1.          0.24227193]\n",
      " [ 0.25647349  0.24208145  0.21802831 -0.12253063  0.24227193  1.        ]]\n"
     ]
    }
   ],
   "source": [
    "m = pairwise_matrix(cohens_kappa, anno.annotations)\n",
    "print(m)"
   ]
  },
  {
   "cell_type": "code",
   "execution_count": 68,
   "metadata": {},
   "outputs": [
    {
     "data": {
      "image/png": "[encoded data removed]",
      "text/plain": [
       "<Figure size 432x288 with 2 Axes>"
      ]
     },
     "metadata": {
      "needs_background": "light"
     },
     "output_type": "display_data"
    }
   ],
   "source": [
    "ax = seaborn.heatmap(m)\n",
    "plt.show()"
   ]
  },
  {
   "cell_type": "code",
   "execution_count": 27,
   "metadata": {},
   "outputs": [
    {
     "data": {
      "text/plain": [
       "0.09824858176710678"
      ]
     },
     "execution_count": 27,
     "metadata": {},
     "output_type": "execute_result"
    }
   ],
   "source": [
    "def pairwise_metric_average(metric, array):\n",
    "    \"\"\"Calculate the pairwise metric average for the real elements of metric function run on an array of annotations\"\"\"\n",
    "    p = permutations(range(array[0,:].size),2)\n",
    "    m = [metric(array[:,x[0]], array[:,x[1]]) for x in p]\n",
    "    clean_m = [c for c in m if not math.isnan(c)]\n",
    "    return reduce(lambda a, b: a + b, clean_m)/len(clean_m)    \n",
    " \n",
    "pairwise_metric_average(cohens_kappa, anno.annotations)"
   ]
  },
  {
   "cell_type": "markdown",
   "metadata": {},
   "source": [
    "The score of the average Cohen's $\\kappa$ for all pairs of coders that have coded against one another is low. It could be due to the fact that the average Cohen's $\\kappa$ has not been weighted and it takes into account of the scores of bad coder seriously. It could also be that the range of sentiment score is large, so that respondents will have different codings even if they agree that the sentiment of a verse is positive. However, the heatmap shows that coder 4 might not be reliable because of the low agreement scores with other coders."
   ]
  },
  {
   "cell_type": "code",
   "execution_count": 28,
   "metadata": {},
   "outputs": [
    {
     "data": {
      "text/plain": [
       "0.3654087173402977"
      ]
     },
     "execution_count": 28,
     "metadata": {},
     "output_type": "execute_result"
    }
   ],
   "source": [
    "pairwise_metric_average(cohens_weighted_kappa,anno.annotations)"
   ]
  },
  {
   "cell_type": "markdown",
   "metadata": {},
   "source": [
    "The score of weighted $\\kappa$ averaged over all pairs of coders is much better."
   ]
  },
  {
   "cell_type": "code",
   "execution_count": 29,
   "metadata": {},
   "outputs": [
    {
     "data": {
      "image/png": "[encoded data removed]",
      "text/plain": [
       "<Figure size 432x288 with 2 Axes>"
      ]
     },
     "metadata": {
      "needs_background": "light"
     },
     "output_type": "display_data"
    },
    {
     "data": {
      "image/png": "[encoded data removed]",
      "text/plain": [
       "<Figure size 432x288 with 2 Axes>"
      ]
     },
     "metadata": {
      "needs_background": "light"
     },
     "output_type": "display_data"
    }
   ],
   "source": [
    "n = pairwise_matrix(pearsons_rho, anno.annotations)\n",
    "m = pairwise_matrix(spearmans_rho, anno.annotations)\n",
    "an = seaborn.heatmap(n)\n",
    "plt.show()\n",
    "am = seaborn.heatmap(m)\n",
    "plt.show()"
   ]
  },
  {
   "cell_type": "markdown",
   "metadata": {},
   "source": [
    "The correlation of values (Pearson's $\\rho$) or correlation of ranks (Spearman's $\\rho$) for pairs of coders showed that coder 4 (in column 3) is very different from other coders. On the other hand, the scores of other 5 coders are highly correlated."
   ]
  },
  {
   "cell_type": "code",
   "execution_count": 30,
   "metadata": {},
   "outputs": [
    {
     "name": "stdout",
     "output_type": "stream",
     "text": [
      "0.5185280609055136 0.486680510989607\n"
     ]
    }
   ],
   "source": [
    "print(pairwise_metric_average(pearsons_rho,anno.annotations), pairwise_metric_average(spearmans_rho,anno.annotations))"
   ]
  },
  {
   "cell_type": "markdown",
   "metadata": {},
   "source": [
    "The score is the average over all comparable pairs. Overall, our result suggests that the sentiment scores of all coders (except coder 4) are highly correlated and they tend to agree on the sentiment of the rap verses. To improve the agreement score in future analysis, I can create a smaller scale (e.g. 1-5) for sentiment score and ask more respondents to provide codings for the verses."
   ]
  },
  {
   "cell_type": "markdown",
   "metadata": {},
   "source": [
    "# Models"
   ]
  },
  {
   "cell_type": "code",
   "execution_count": 76,
   "metadata": {},
   "outputs": [],
   "source": [
    "# create a new instance of model A, with 11 label classes and 6 annotators.\n",
    "model = ModelB.create_initial_state(11, 6)"
   ]
  },
  {
   "cell_type": "code",
   "execution_count": 77,
   "metadata": {},
   "outputs": [],
   "source": [
    "samples = model.sample_posterior_over_accuracy(anno.annotations, 200, burn_in_samples=100, thin_samples=3)"
   ]
  },
  {
   "cell_type": "code",
   "execution_count": 78,
   "metadata": {},
   "outputs": [],
   "source": [
    "model.map(anno.annotations)"
   ]
  },
  {
   "cell_type": "code",
   "execution_count": 79,
   "metadata": {},
   "outputs": [],
   "source": [
    "model = ModelB.create_initial_state(11, 6)\n",
    "model.map(anno.annotations)"
   ]
  },
  {
   "cell_type": "code",
   "execution_count": 80,
   "metadata": {},
   "outputs": [],
   "source": [
    "posterior = model.infer_labels(anno.annotations)"
   ]
  },
  {
   "cell_type": "code",
   "execution_count": 81,
   "metadata": {},
   "outputs": [],
   "source": [
    "votes = []\n",
    "for r in anno.annotations:\n",
    "    v = [0] * len(anno.labels)\n",
    "    votes.append(v)\n",
    "    for a in r:\n",
    "        if a > -1:\n",
    "            v[a] += 1\n",
    "votes_array = np.array(votes)"
   ]
  },
  {
   "cell_type": "code",
   "execution_count": 82,
   "metadata": {},
   "outputs": [
    {
     "data": {
      "image/png": "[encoded data removed]",
      "text/plain": [
       "<Figure size 1080x720 with 4 Axes>"
      ]
     },
     "metadata": {
      "needs_background": "light"
     },
     "output_type": "display_data"
    }
   ],
   "source": [
    "fig, (ax1, ax2) = plt.subplots(ncols=2, figsize = (15, 10), sharey=True)\n",
    "num_questions = 15\n",
    "\n",
    "seaborn.heatmap(votes_array[:num_questions], annot = True, ax=ax2)\n",
    "seaborn.heatmap(posterior[:num_questions], annot=True, ax =ax1)\n",
    "ax1.set_title(\"Model\")\n",
    "ax2.set_title(\"Votes\")\n",
    "plt.show()"
   ]
  },
  {
   "cell_type": "code",
   "execution_count": 83,
   "metadata": {},
   "outputs": [
    {
     "name": "stdout",
     "output_type": "stream",
     "text": [
      "[0.80603636 0.62557486 0.75271616 0.75154928 0.79961581 0.86724153]\n",
      "-1044.4344753009073\n"
     ]
    }
   ],
   "source": [
    "# create a new instance of model B, with 11 label classes and 6 annotators.\n",
    "model = ModelBt.create_initial_state(11, 6)\n",
    "print(model.theta)\n",
    "print(model.log_likelihood(anno.annotations))"
   ]
  },
  {
   "cell_type": "code",
   "execution_count": 84,
   "metadata": {},
   "outputs": [],
   "source": [
    "model.map(anno.annotations)"
   ]
  },
  {
   "cell_type": "code",
   "execution_count": 85,
   "metadata": {},
   "outputs": [],
   "source": [
    "posterior = model.infer_labels(anno.annotations)"
   ]
  },
  {
   "cell_type": "code",
   "execution_count": 86,
   "metadata": {},
   "outputs": [
    {
     "data": {
      "image/png": "[encoded data removed]",
      "text/plain": [
       "<Figure size 432x288 with 2 Axes>"
      ]
     },
     "metadata": {
      "needs_background": "light"
     },
     "output_type": "display_data"
    }
   ],
   "source": [
    "ax = seaborn.heatmap(posterior[:10,])\n",
    "plt.show()"
   ]
  },
  {
   "cell_type": "markdown",
   "metadata": {},
   "source": [
    "The heatmap suggests the verses and scores annotators tend to agree and disagree on. It would be interesting to look at the most controversial verses and think about the social factors behind these lines."
   ]
  },
  {
   "cell_type": "markdown",
   "metadata": {},
   "source": [
    "# Visualizing coder accuracy"
   ]
  },
  {
   "cell_type": "code",
   "execution_count": 87,
   "metadata": {},
   "outputs": [],
   "source": [
    "model = ModelBt.create_initial_state(11, 6)\n",
    "model.mle(anno.annotations)\n",
    "samples = model.sample_posterior_over_accuracy(anno.annotations, 200, burn_in_samples=100, thin_samples=3)\n",
    "y =  samples.mean(axis=0)#.mean(axis = 1).mean(axis = 1)\n",
    "y_ci = samples.std(axis=0)#.mean(axis = 1).mean(axis = 1)"
   ]
  },
  {
   "cell_type": "code",
   "execution_count": 88,
   "metadata": {},
   "outputs": [
    {
     "data": {
      "image/png": "[encoded data removed]",
      "text/plain": [
       "<Figure size 432x288 with 1 Axes>"
      ]
     },
     "metadata": {
      "needs_background": "light"
     },
     "output_type": "display_data"
    }
   ],
   "source": [
    "plt.figure()\n",
    "plt.errorbar(range(6),y, yerr = y_ci)\n",
    "plt.show()"
   ]
  },
  {
   "cell_type": "markdown",
   "metadata": {},
   "source": [
    "As expected, coder 4 (in column 3) has the lowest accuracy score among all respondents since I pretended to be a bad coder in this case. The accuracy scores of coder 1, 2 and 3 are nearly below average. Although the most appropriate solution might be to exclude these coders that have lower agreement score with others, it would be interesting to look at the controversial verses since they might reflect the social and political issues in the cultural context. Depending on the overall agreement score among coders, we can have different strategies to deal with our selection of coders."
   ]
  }
 ],
 "metadata": {
  "kernelspec": {
   "display_name": "Python 3",
   "language": "python",
   "name": "python3"
  },
  "language_info": {
   "codemirror_mode": {
    "name": "ipython",
    "version": 3
   },
   "file_extension": ".py",
   "mimetype": "text/x-python",
   "name": "python",
   "nbconvert_exporter": "python",
   "pygments_lexer": "ipython3",
   "version": "3.7.3"
  }
 },
 "nbformat": 4,
 "nbformat_minor": 2
}
