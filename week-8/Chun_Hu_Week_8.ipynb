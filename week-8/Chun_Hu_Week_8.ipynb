{
 "cells": [
  {
   "cell_type": "markdown",
   "metadata": {
    "colab_type": "text",
    "id": "N0BZ4_2wf5wf"
   },
   "source": [
    "# Week - 8 - Deep Neural Nets and Text - Training Models"
   ]
  },
  {
   "cell_type": "markdown",
   "metadata": {
    "colab_type": "text",
    "id": "1nV8dNX-gCtM"
   },
   "source": [
    "## Exercise 1\n",
    "Construct cells immediately below this that estimate a deep classification model with Keras (and LSTM) and also BERT in order to predict pre-established data labels relevant to your final project (as for week 3's homework). Which works better? Are the errors the same or different?\n",
    "\n",
    "***Stretch***: Now alter the neural network by stacking network layers, adjusting the embedding dimension, compare its performance with your model above, and interpret why it might be different."
   ]
  },
  {
   "cell_type": "code",
   "execution_count": 6,
   "metadata": {
    "colab": {
     "base_uri": "https://localhost:8080/",
     "height": 34
    },
    "colab_type": "code",
    "id": "4Cx8ordhyiUK",
    "outputId": "d61f1728-6812-497f-97de-be18332dfc5c"
   },
   "outputs": [
    {
     "name": "stdout",
     "output_type": "stream",
     "text": [
      "Found GPU at: /device:GPU:0\n"
     ]
    }
   ],
   "source": [
    "import tensorflow as tf\n",
    "\n",
    "# Get the GPU device name.\n",
    "device_name = tf.test.gpu_device_name()\n",
    "\n",
    "# The device name should look like the following:\n",
    "if device_name == '/device:GPU:0':\n",
    "    print('Found GPU at: {}'.format(device_name))\n",
    "else:\n",
    "    raise SystemError('GPU device not found')"
   ]
  },
  {
   "cell_type": "code",
   "execution_count": 7,
   "metadata": {
    "colab": {
     "base_uri": "https://localhost:8080/",
     "height": 51
    },
    "colab_type": "code",
    "id": "L_tf8rTpHec2",
    "outputId": "68e0235c-d1d5-4909-9188-78f006fe5c3a"
   },
   "outputs": [
    {
     "name": "stdout",
     "output_type": "stream",
     "text": [
      "There are 1 GPU(s) available.\n",
      "We will use the GPU: Tesla K80\n"
     ]
    }
   ],
   "source": [
    "import torch\n",
    "\n",
    "# If there's a GPU available...\n",
    "if torch.cuda.is_available():    \n",
    "\n",
    "    # Tell PyTorch to use the GPU.    \n",
    "    device = torch.device(\"cuda\")\n",
    "\n",
    "    print('There are %d GPU(s) available.' % torch.cuda.device_count())\n",
    "\n",
    "    print('We will use the GPU:', torch.cuda.get_device_name(0))\n",
    "\n",
    "# If not...\n",
    "else:\n",
    "    print('No GPU available, using the CPU instead.')\n",
    "    device = torch.device(\"cpu\")"
   ]
  },
  {
   "cell_type": "code",
   "execution_count": 8,
   "metadata": {
    "colab": {
     "base_uri": "https://localhost:8080/",
     "height": 411
    },
    "colab_type": "code",
    "id": "NKmZw9EVHgRL",
    "outputId": "99f8023f-18db-4037-de18-96dadca37e77"
   },
   "outputs": [
    {
     "name": "stdout",
     "output_type": "stream",
     "text": [
      "Requirement already satisfied: transformers in /usr/local/lib/python3.6/dist-packages (2.5.1)\n",
      "Requirement already satisfied: sacremoses in /usr/local/lib/python3.6/dist-packages (from transformers) (0.0.38)\n",
      "Requirement already satisfied: tokenizers==0.5.2 in /usr/local/lib/python3.6/dist-packages (from transformers) (0.5.2)\n",
      "Requirement already satisfied: requests in /usr/local/lib/python3.6/dist-packages (from transformers) (2.21.0)\n",
      "Requirement already satisfied: filelock in /usr/local/lib/python3.6/dist-packages (from transformers) (3.0.12)\n",
      "Requirement already satisfied: boto3 in /usr/local/lib/python3.6/dist-packages (from transformers) (1.11.15)\n",
      "Requirement already satisfied: regex!=2019.12.17 in /usr/local/lib/python3.6/dist-packages (from transformers) (2019.12.20)\n",
      "Requirement already satisfied: numpy in /usr/local/lib/python3.6/dist-packages (from transformers) (1.17.5)\n",
      "Requirement already satisfied: tqdm>=4.27 in /usr/local/lib/python3.6/dist-packages (from transformers) (4.28.1)\n",
      "Requirement already satisfied: sentencepiece in /usr/local/lib/python3.6/dist-packages (from transformers) (0.1.85)\n",
      "Requirement already satisfied: joblib in /usr/local/lib/python3.6/dist-packages (from sacremoses->transformers) (0.14.1)\n",
      "Requirement already satisfied: click in /usr/local/lib/python3.6/dist-packages (from sacremoses->transformers) (7.0)\n",
      "Requirement already satisfied: six in /usr/local/lib/python3.6/dist-packages (from sacremoses->transformers) (1.12.0)\n",
      "Requirement already satisfied: chardet<3.1.0,>=3.0.2 in /usr/local/lib/python3.6/dist-packages (from requests->transformers) (3.0.4)\n",
      "Requirement already satisfied: idna<2.9,>=2.5 in /usr/local/lib/python3.6/dist-packages (from requests->transformers) (2.8)\n",
      "Requirement already satisfied: certifi>=2017.4.17 in /usr/local/lib/python3.6/dist-packages (from requests->transformers) (2019.11.28)\n",
      "Requirement already satisfied: urllib3<1.25,>=1.21.1 in /usr/local/lib/python3.6/dist-packages (from requests->transformers) (1.24.3)\n",
      "Requirement already satisfied: jmespath<1.0.0,>=0.7.1 in /usr/local/lib/python3.6/dist-packages (from boto3->transformers) (0.9.4)\n",
      "Requirement already satisfied: botocore<1.15.0,>=1.14.15 in /usr/local/lib/python3.6/dist-packages (from boto3->transformers) (1.14.15)\n",
      "Requirement already satisfied: s3transfer<0.4.0,>=0.3.0 in /usr/local/lib/python3.6/dist-packages (from boto3->transformers) (0.3.3)\n",
      "Requirement already satisfied: python-dateutil<3.0.0,>=2.1 in /usr/local/lib/python3.6/dist-packages (from botocore<1.15.0,>=1.14.15->boto3->transformers) (2.6.1)\n",
      "Requirement already satisfied: docutils<0.16,>=0.10 in /usr/local/lib/python3.6/dist-packages (from botocore<1.15.0,>=1.14.15->boto3->transformers) (0.15.2)\n"
     ]
    }
   ],
   "source": [
    "!pip install transformers"
   ]
  },
  {
   "cell_type": "code",
   "execution_count": 0,
   "metadata": {
    "colab": {},
    "colab_type": "code",
    "id": "kyi41LRaHivX"
   },
   "outputs": [],
   "source": [
    "from torch.utils.data import TensorDataset, DataLoader, RandomSampler, SequentialSampler\n",
    "from sklearn.model_selection import train_test_split\n",
    "from transformers import BertTokenizer, BertConfig\n",
    "from transformers import AdamW, BertForSequenceClassification\n",
    "from tqdm import tqdm, trange\n",
    "import pandas as pd\n",
    "import io\n",
    "import numpy as np\n",
    "import matplotlib.pyplot as plt\n",
    "\n",
    "import warnings\n",
    "warnings.filterwarnings('ignore')"
   ]
  },
  {
   "cell_type": "code",
   "execution_count": 0,
   "metadata": {
    "colab": {},
    "colab_type": "code",
    "id": "v3ahZEWVHoXk"
   },
   "outputs": [],
   "source": [
    "negDF = pd.read_csv('comments_negative.csv', nrows=5000)\n",
    "posDF = pd.read_csv('comments_positive.csv', nrows=5000)"
   ]
  },
  {
   "cell_type": "code",
   "execution_count": 10,
   "metadata": {
    "colab": {
     "base_uri": "https://localhost:8080/",
     "height": 419
    },
    "colab_type": "code",
    "id": "q2d_xosng5Ip",
    "outputId": "2fbc86f6-bac1-4eda-dc57-8dbaf44026c7"
   },
   "outputs": [
    {
     "data": {
      "text/html": [
       "<div>\n",
       "<style scoped>\n",
       "    .dataframe tbody tr th:only-of-type {\n",
       "        vertical-align: middle;\n",
       "    }\n",
       "\n",
       "    .dataframe tbody tr th {\n",
       "        vertical-align: top;\n",
       "    }\n",
       "\n",
       "    .dataframe thead th {\n",
       "        text-align: right;\n",
       "    }\n",
       "</style>\n",
       "<table border=\"1\" class=\"dataframe\">\n",
       "  <thead>\n",
       "    <tr style=\"text-align: right;\">\n",
       "      <th></th>\n",
       "      <th>text</th>\n",
       "      <th>label</th>\n",
       "    </tr>\n",
       "  </thead>\n",
       "  <tbody>\n",
       "    <tr>\n",
       "      <th>0</th>\n",
       "      <td>This isn't Twitter: try to comment on the arti...</td>\n",
       "      <td>1</td>\n",
       "    </tr>\n",
       "    <tr>\n",
       "      <th>1</th>\n",
       "      <td>Well, it is exactly what it sounds like. It's ...</td>\n",
       "      <td>1</td>\n",
       "    </tr>\n",
       "    <tr>\n",
       "      <th>2</th>\n",
       "      <td>In soviet Russia, bomb disarms you!</td>\n",
       "      <td>1</td>\n",
       "    </tr>\n",
       "    <tr>\n",
       "      <th>3</th>\n",
       "      <td>\"runin for senitur! #YOLO!\"</td>\n",
       "      <td>1</td>\n",
       "    </tr>\n",
       "    <tr>\n",
       "      <th>4</th>\n",
       "      <td>You step motherfucker.</td>\n",
       "      <td>1</td>\n",
       "    </tr>\n",
       "    <tr>\n",
       "      <th>...</th>\n",
       "      <td>...</td>\n",
       "      <td>...</td>\n",
       "    </tr>\n",
       "    <tr>\n",
       "      <th>9995</th>\n",
       "      <td>Devil's advocate here for sake of argument.  W...</td>\n",
       "      <td>0</td>\n",
       "    </tr>\n",
       "    <tr>\n",
       "      <th>9996</th>\n",
       "      <td>Are you reading with your ears? xD Hes talking...</td>\n",
       "      <td>0</td>\n",
       "    </tr>\n",
       "    <tr>\n",
       "      <th>9997</th>\n",
       "      <td>Gay man here who visits TRP decently often:  i...</td>\n",
       "      <td>0</td>\n",
       "    </tr>\n",
       "    <tr>\n",
       "      <th>9998</th>\n",
       "      <td>PSY</td>\n",
       "      <td>0</td>\n",
       "    </tr>\n",
       "    <tr>\n",
       "      <th>9999</th>\n",
       "      <td>HI WEDDIT!!!!!!!!!!!!!!!! YOU TINK DAT YOU CAN...</td>\n",
       "      <td>0</td>\n",
       "    </tr>\n",
       "  </tbody>\n",
       "</table>\n",
       "<p>10000 rows × 2 columns</p>\n",
       "</div>"
      ],
      "text/plain": [
       "                                                   text  label\n",
       "0     This isn't Twitter: try to comment on the arti...      1\n",
       "1     Well, it is exactly what it sounds like. It's ...      1\n",
       "2                   In soviet Russia, bomb disarms you!      1\n",
       "3                           \"runin for senitur! #YOLO!\"      1\n",
       "4                                You step motherfucker.      1\n",
       "...                                                 ...    ...\n",
       "9995  Devil's advocate here for sake of argument.  W...      0\n",
       "9996  Are you reading with your ears? xD Hes talking...      0\n",
       "9997  Gay man here who visits TRP decently often:  i...      0\n",
       "9998                                                PSY      0\n",
       "9999  HI WEDDIT!!!!!!!!!!!!!!!! YOU TINK DAT YOU CAN...      0\n",
       "\n",
       "[10000 rows x 2 columns]"
      ]
     },
     "execution_count": 10,
     "metadata": {
      "tags": []
     },
     "output_type": "execute_result"
    }
   ],
   "source": [
    "df = pd.concat([posDF[['text']], negDF[['text']]], axis=0, ignore_index=True)\n",
    "df['label'] = [1] * 5000 + [0] * 5000\n",
    "df"
   ]
  },
  {
   "cell_type": "code",
   "execution_count": 0,
   "metadata": {
    "colab": {},
    "colab_type": "code",
    "id": "Uj-6Jyp7lMvA"
   },
   "outputs": [],
   "source": [
    "# Create sentence and label lists\n",
    "com_sentences = df.text.values\n",
    "\n",
    "# We need to add special tokens at the beginning and end of each sentence for BERT to work properly\n",
    "com_sentences = [\"[CLS] \" + str(sentence) + \" [SEP]\" for sentence in com_sentences]\n",
    "labels = df.label.values"
   ]
  },
  {
   "cell_type": "code",
   "execution_count": 12,
   "metadata": {
    "colab": {
     "base_uri": "https://localhost:8080/",
     "height": 120,
     "referenced_widgets": [
      "16c21a7b67c74a8e8fa7770ec3ae058d",
      "ff1beea594644ab894c3566a002ca7a6",
      "9514ae9f209d483ebf49a886fd9ceaaf",
      "c6fb4409c08d4e9788a6c10d64942250",
      "ba83b82fbe8f4627b9505120cfbdd22b",
      "bbf48cdad1c54841897a33f1fead643e",
      "23266b9adc5d411aa6647a89f0fa3b01",
      "0e789345ab2c44098bee68f1124911e1"
     ]
    },
    "colab_type": "code",
    "id": "tB3-5_LLmxUp",
    "outputId": "9e6108d1-8e58-4528-ac12-0768891a1b15"
   },
   "outputs": [
    {
     "data": {
      "application/vnd.jupyter.widget-view+json": {
       "model_id": "16c21a7b67c74a8e8fa7770ec3ae058d",
       "version_major": 2,
       "version_minor": 0
      },
      "text/plain": [
       "HBox(children=(IntProgress(value=0, description='Downloading', max=231508, style=ProgressStyle(description_wid…"
      ]
     },
     "metadata": {
      "tags": []
     },
     "output_type": "display_data"
    },
    {
     "name": "stdout",
     "output_type": "stream",
     "text": [
      "\n",
      "Tokenize the first sentence:\n",
      "['[CLS]', 'this', 'isn', \"'\", 't', 'twitter', ':', 'try', 'to', 'comment', 'on', 'the', 'article', ',', 'and', 'not', 'your', 'current', 'activities', '.', '[SEP]']\n"
     ]
    }
   ],
   "source": [
    "tokenizer = BertTokenizer.from_pretrained('bert-base-uncased', do_lower_case=True)\n",
    "\n",
    "tokenized_texts = [tokenizer.tokenize(sent) for sent in com_sentences]\n",
    "print (\"Tokenize the first sentence:\")\n",
    "print (tokenized_texts[0])"
   ]
  },
  {
   "cell_type": "code",
   "execution_count": 0,
   "metadata": {
    "colab": {},
    "colab_type": "code",
    "id": "vUpWdP-0nS4V"
   },
   "outputs": [],
   "source": [
    "MAX_LEN = 128"
   ]
  },
  {
   "cell_type": "code",
   "execution_count": 0,
   "metadata": {
    "colab": {},
    "colab_type": "code",
    "id": "MFpkmo68nUFD"
   },
   "outputs": [],
   "source": [
    "input_ids = [tokenizer.convert_tokens_to_ids(x) for x in tokenized_texts]"
   ]
  },
  {
   "cell_type": "code",
   "execution_count": 15,
   "metadata": {
    "colab": {
     "base_uri": "https://localhost:8080/",
     "height": 34
    },
    "colab_type": "code",
    "id": "quiyQBfEnXJU",
    "outputId": "3986bedd-f42a-43a4-f16b-a4133f33cf5a"
   },
   "outputs": [
    {
     "name": "stderr",
     "output_type": "stream",
     "text": [
      "Using TensorFlow backend.\n"
     ]
    }
   ],
   "source": [
    "import os\n",
    "os.environ['KERAS_BACKEND'] = 'tensorflow'\n",
    "from keras.preprocessing.sequence import pad_sequences"
   ]
  },
  {
   "cell_type": "code",
   "execution_count": 0,
   "metadata": {
    "colab": {},
    "colab_type": "code",
    "id": "SPC5brYLnZ0w"
   },
   "outputs": [],
   "source": [
    "# Pad our input tokens\n",
    "input_ids = pad_sequences(input_ids, maxlen=MAX_LEN, dtype=\"long\", truncating=\"post\", padding=\"post\")"
   ]
  },
  {
   "cell_type": "code",
   "execution_count": 0,
   "metadata": {
    "colab": {},
    "colab_type": "code",
    "id": "SF4NfeH0nc8N"
   },
   "outputs": [],
   "source": [
    "# Create attention masks\n",
    "attention_masks = []\n",
    "\n",
    "# Create a mask of 1s for each token followed by 0s for padding\n",
    "for seq in input_ids:\n",
    "    seq_mask = [float(i>0) for i in seq]\n",
    "    attention_masks.append(seq_mask)"
   ]
  },
  {
   "cell_type": "code",
   "execution_count": 0,
   "metadata": {
    "colab": {},
    "colab_type": "code",
    "id": "YX5MxYYCnjqV"
   },
   "outputs": [],
   "source": [
    "# Use train_test_split to split our data into train and validation sets for training\n",
    "train_inputs, validation_inputs, train_labels, validation_labels = train_test_split(input_ids, labels, \n",
    "                                                            random_state=2020, test_size=0.1)\n",
    "train_masks, validation_masks, _, _ = train_test_split(attention_masks, input_ids,\n",
    "                                             random_state=2020, test_size=0.1)"
   ]
  },
  {
   "cell_type": "markdown",
   "metadata": {
    "colab_type": "text",
    "id": "vgPBNh5Wy-Ai"
   },
   "source": [
    "### Deep Neural Nets"
   ]
  },
  {
   "cell_type": "code",
   "execution_count": 0,
   "metadata": {
    "colab": {},
    "colab_type": "code",
    "id": "yVgJEQGUnMCn"
   },
   "outputs": [],
   "source": [
    "from keras.models import Sequential\n",
    "from keras.layers import Dense, LSTM, Embedding"
   ]
  },
  {
   "cell_type": "code",
   "execution_count": 0,
   "metadata": {
    "colab": {},
    "colab_type": "code",
    "id": "MRDMp3m5nMRM"
   },
   "outputs": [],
   "source": [
    "vocab_in_size = tokenizer.vocab_size\n",
    "embedding_dim = 32\n",
    "unit = 100\n",
    "no_labels = len(np.unique(train_labels))\n",
    "batch_size = 32"
   ]
  },
  {
   "cell_type": "code",
   "execution_count": 21,
   "metadata": {
    "colab": {
     "base_uri": "https://localhost:8080/",
     "height": 445
    },
    "colab_type": "code",
    "id": "1WICNNPqnMXg",
    "outputId": "15510b26-87fc-45a2-c429-e56a123f2bea"
   },
   "outputs": [
    {
     "name": "stdout",
     "output_type": "stream",
     "text": [
      "WARNING:tensorflow:From /usr/local/lib/python3.6/dist-packages/keras/backend/tensorflow_backend.py:66: The name tf.get_default_graph is deprecated. Please use tf.compat.v1.get_default_graph instead.\n",
      "\n",
      "WARNING:tensorflow:From /usr/local/lib/python3.6/dist-packages/keras/backend/tensorflow_backend.py:541: The name tf.placeholder is deprecated. Please use tf.compat.v1.placeholder instead.\n",
      "\n",
      "WARNING:tensorflow:From /usr/local/lib/python3.6/dist-packages/keras/backend/tensorflow_backend.py:4432: The name tf.random_uniform is deprecated. Please use tf.random.uniform instead.\n",
      "\n",
      "WARNING:tensorflow:From /usr/local/lib/python3.6/dist-packages/keras/optimizers.py:793: The name tf.train.Optimizer is deprecated. Please use tf.compat.v1.train.Optimizer instead.\n",
      "\n",
      "WARNING:tensorflow:From /usr/local/lib/python3.6/dist-packages/keras/backend/tensorflow_backend.py:3622: The name tf.log is deprecated. Please use tf.math.log instead.\n",
      "\n",
      "Model: \"sequential_1\"\n",
      "_________________________________________________________________\n",
      "Layer (type)                 Output Shape              Param #   \n",
      "=================================================================\n",
      "embedding_1 (Embedding)      (None, 128, 32)           976704    \n",
      "_________________________________________________________________\n",
      "lstm_1 (LSTM)                (None, 100)               53200     \n",
      "_________________________________________________________________\n",
      "dense_1 (Dense)              (None, 2)                 202       \n",
      "=================================================================\n",
      "Total params: 1,030,106\n",
      "Trainable params: 1,030,106\n",
      "Non-trainable params: 0\n",
      "_________________________________________________________________\n"
     ]
    }
   ],
   "source": [
    "model_lstm = Sequential()\n",
    "model_lstm.add(Embedding(vocab_in_size, embedding_dim, input_length=MAX_LEN))\n",
    "model_lstm.add(LSTM(unit))\n",
    "model_lstm.add(Dense(no_labels, activation='softmax'))\n",
    "model_lstm.compile(loss='sparse_categorical_crossentropy', optimizer='adam', metrics=['accuracy'])\n",
    "model_lstm.summary()"
   ]
  },
  {
   "cell_type": "code",
   "execution_count": 22,
   "metadata": {
    "colab": {
     "base_uri": "https://localhost:8080/",
     "height": 700
    },
    "colab_type": "code",
    "id": "jfpdQqGdnaA7",
    "outputId": "3aab3e38-56e8-42e8-8961-c4971d53b8d6"
   },
   "outputs": [
    {
     "name": "stdout",
     "output_type": "stream",
     "text": [
      "WARNING:tensorflow:From /usr/local/lib/python3.6/dist-packages/tensorflow_core/python/ops/math_grad.py:1424: where (from tensorflow.python.ops.array_ops) is deprecated and will be removed in a future version.\n",
      "Instructions for updating:\n",
      "Use tf.where in 2.0, which has the same broadcast rule as np.where\n",
      "WARNING:tensorflow:From /usr/local/lib/python3.6/dist-packages/keras/backend/tensorflow_backend.py:1033: The name tf.assign_add is deprecated. Please use tf.compat.v1.assign_add instead.\n",
      "\n",
      "WARNING:tensorflow:From /usr/local/lib/python3.6/dist-packages/keras/backend/tensorflow_backend.py:1020: The name tf.assign is deprecated. Please use tf.compat.v1.assign instead.\n",
      "\n",
      "WARNING:tensorflow:From /usr/local/lib/python3.6/dist-packages/keras/backend/tensorflow_backend.py:3005: The name tf.Session is deprecated. Please use tf.compat.v1.Session instead.\n",
      "\n",
      "Epoch 1/10\n",
      "WARNING:tensorflow:From /usr/local/lib/python3.6/dist-packages/keras/backend/tensorflow_backend.py:190: The name tf.get_default_session is deprecated. Please use tf.compat.v1.get_default_session instead.\n",
      "\n",
      "WARNING:tensorflow:From /usr/local/lib/python3.6/dist-packages/keras/backend/tensorflow_backend.py:197: The name tf.ConfigProto is deprecated. Please use tf.compat.v1.ConfigProto instead.\n",
      "\n",
      "WARNING:tensorflow:From /usr/local/lib/python3.6/dist-packages/keras/backend/tensorflow_backend.py:207: The name tf.global_variables is deprecated. Please use tf.compat.v1.global_variables instead.\n",
      "\n",
      "WARNING:tensorflow:From /usr/local/lib/python3.6/dist-packages/keras/backend/tensorflow_backend.py:216: The name tf.is_variable_initialized is deprecated. Please use tf.compat.v1.is_variable_initialized instead.\n",
      "\n",
      "WARNING:tensorflow:From /usr/local/lib/python3.6/dist-packages/keras/backend/tensorflow_backend.py:223: The name tf.variables_initializer is deprecated. Please use tf.compat.v1.variables_initializer instead.\n",
      "\n",
      "9000/9000 [==============================] - 84s 9ms/step - loss: 0.6934 - acc: 0.5004\n",
      "Epoch 2/10\n",
      "9000/9000 [==============================] - 76s 8ms/step - loss: 0.6924 - acc: 0.5043\n",
      "Epoch 3/10\n",
      "9000/9000 [==============================] - 78s 9ms/step - loss: 0.6901 - acc: 0.5199\n",
      "Epoch 4/10\n",
      "9000/9000 [==============================] - 76s 8ms/step - loss: 0.6752 - acc: 0.5258\n",
      "Epoch 5/10\n",
      "9000/9000 [==============================] - 74s 8ms/step - loss: 0.6560 - acc: 0.5396\n",
      "Epoch 6/10\n",
      "9000/9000 [==============================] - 72s 8ms/step - loss: 0.6460 - acc: 0.5406\n",
      "Epoch 7/10\n",
      "9000/9000 [==============================] - 72s 8ms/step - loss: 0.6424 - acc: 0.5354\n",
      "Epoch 8/10\n",
      "9000/9000 [==============================] - 72s 8ms/step - loss: 0.6430 - acc: 0.5341\n",
      "Epoch 9/10\n",
      "9000/9000 [==============================] - 71s 8ms/step - loss: 0.6427 - acc: 0.5300\n",
      "Epoch 10/10\n",
      "9000/9000 [==============================] - 72s 8ms/step - loss: 0.6386 - acc: 0.5396\n"
     ]
    }
   ],
   "source": [
    "history_lstm = model_lstm.fit(train_inputs, train_labels, \n",
    "                              epochs=10,batch_size=batch_size)"
   ]
  },
  {
   "cell_type": "markdown",
   "metadata": {
    "colab_type": "text",
    "id": "jQMFdhTpoc2z"
   },
   "source": [
    "The general LSTM model does not perform well on our dataset, with an accuracy rate at around 54%. I add another LSTM layer and change the type losses."
   ]
  },
  {
   "cell_type": "code",
   "execution_count": 35,
   "metadata": {
    "colab": {
     "base_uri": "https://localhost:8080/",
     "height": 357
    },
    "colab_type": "code",
    "id": "q2ZQmNDqkPD9",
    "outputId": "b7924e3e-d1fd-4931-8577-38edc029101a"
   },
   "outputs": [
    {
     "name": "stdout",
     "output_type": "stream",
     "text": [
      "Epoch 1/10\n",
      "9000/9000 [==============================] - 145s 16ms/step - loss: 0.6934 - acc: 0.4971\n",
      "Epoch 2/10\n",
      "9000/9000 [==============================] - 142s 16ms/step - loss: 0.6932 - acc: 0.5068\n",
      "Epoch 3/10\n",
      "9000/9000 [==============================] - 146s 16ms/step - loss: 0.6794 - acc: 0.5263\n",
      "Epoch 4/10\n",
      "9000/9000 [==============================] - 147s 16ms/step - loss: 0.6510 - acc: 0.5360\n",
      "Epoch 5/10\n",
      "9000/9000 [==============================] - 147s 16ms/step - loss: 0.6425 - acc: 0.5486\n",
      "Epoch 6/10\n",
      "9000/9000 [==============================] - 147s 16ms/step - loss: 0.6352 - acc: 0.5443\n",
      "Epoch 7/10\n",
      "9000/9000 [==============================] - 143s 16ms/step - loss: 0.6330 - acc: 0.5528\n",
      "Epoch 8/10\n",
      "9000/9000 [==============================] - 142s 16ms/step - loss: 0.6275 - acc: 0.5628\n",
      "Epoch 9/10\n",
      "9000/9000 [==============================] - 143s 16ms/step - loss: 0.6390 - acc: 0.5529\n",
      "Epoch 10/10\n",
      "9000/9000 [==============================] - 142s 16ms/step - loss: 0.6508 - acc: 0.5434\n"
     ]
    }
   ],
   "source": [
    "units = 150\n",
    "model_lstm2 = Sequential()\n",
    "model_lstm2.add(Embedding(vocab_in_size, embedding_dim, input_length=MAX_LEN))\n",
    "model_lstm2.add(LSTM(units, return_sequences=True))\n",
    "model_lstm2.add(LSTM(units))\n",
    "model_lstm2.add(Dense(1, activation='sigmoid'))\n",
    "model_lstm2.compile(loss='binary_crossentropy', optimizer='adam', metrics=['accuracy'])\n",
    "\n",
    "history_lstm2 = model_lstm2.fit(train_inputs, train_labels, epochs=10, batch_size=batch_size)"
   ]
  },
  {
   "cell_type": "markdown",
   "metadata": {
    "colab_type": "text",
    "id": "oYyDvT_Dx1Ku"
   },
   "source": [
    "Adding one more layer of LSTM and using binary cross entropy as losses, our accuracy rate is still around 56%."
   ]
  },
  {
   "cell_type": "markdown",
   "metadata": {
    "colab_type": "text",
    "id": "oy6YmN0_y2PQ"
   },
   "source": [
    "### On with BERT!"
   ]
  },
  {
   "cell_type": "code",
   "execution_count": 0,
   "metadata": {
    "colab": {},
    "colab_type": "code",
    "id": "yUzIKw4LnnQp"
   },
   "outputs": [],
   "source": [
    "# Convert all of our data into torch tensors, the required datatype for our model\n",
    "train_inputs = torch.tensor(train_inputs)\n",
    "validation_inputs = torch.tensor(validation_inputs)\n",
    "train_labels = torch.tensor(train_labels)\n",
    "validation_labels = torch.tensor(validation_labels)\n",
    "train_masks = torch.tensor(train_masks)\n",
    "validation_masks = torch.tensor(validation_masks)"
   ]
  },
  {
   "cell_type": "code",
   "execution_count": 0,
   "metadata": {
    "colab": {},
    "colab_type": "code",
    "id": "FWH847v2nrQ7"
   },
   "outputs": [],
   "source": [
    "# Select a batch size for training. For fine-tuning BERT on a specific task, the authors recommend a batch size of 16 or 32\n",
    "batch_size = 32\n",
    "\n",
    "# Create an iterator of our data with torch DataLoader. This helps save on memory during training because, unlike a for loop, \n",
    "# with an iterator the entire dataset does not need to be loaded into memory\n",
    "\n",
    "train_data = TensorDataset(train_inputs, train_masks, train_labels)\n",
    "train_sampler = RandomSampler(train_data)\n",
    "train_dataloader = DataLoader(train_data, sampler=train_sampler, batch_size=batch_size)\n",
    "\n",
    "validation_data = TensorDataset(validation_inputs, validation_masks, validation_labels)\n",
    "validation_sampler = SequentialSampler(validation_data)\n",
    "validation_dataloader = DataLoader(validation_data, sampler=validation_sampler, batch_size=batch_size)"
   ]
  },
  {
   "cell_type": "code",
   "execution_count": 26,
   "metadata": {
    "colab": {
     "base_uri": "https://localhost:8080/",
     "height": 1000,
     "referenced_widgets": [
      "13908c923b70427594bdda446a7cc859",
      "0ab36653e42046558307312dc4bfa895",
      "ba9e64da158b47d98801b3841e1e2f21",
      "5035f0a8085941a2ab863d5aef2909e4",
      "c8ff157353f6498092ca1da10c95089a",
      "d4e9a696154344b1bdd3ed775f862cf0",
      "a9b5873304cf469fb0a02027244d2358",
      "72adcc3cc0764f8a9bee604bf73a710b",
      "705b048a60d04e228b234c5ba8766a0e",
      "f986ad1e84dd414bb796bf7630f8fa0c",
      "c9e3df06ba73483bb1a7f41ff4d41e14",
      "3003a436ceb1433090cde61f585adf61",
      "42ea5f01fca04629ab34094cbd6bf703",
      "fba2e6190f404b24a8e1d014d235babf",
      "df9484112e9046ddaa965106b93925df",
      "76d534d727a24666b3ed73be6c4b4159"
     ]
    },
    "colab_type": "code",
    "id": "t1W05GYYnuzX",
    "outputId": "48a4dc8f-6574-469c-823f-44db890ce944"
   },
   "outputs": [
    {
     "data": {
      "application/vnd.jupyter.widget-view+json": {
       "model_id": "13908c923b70427594bdda446a7cc859",
       "version_major": 2,
       "version_minor": 0
      },
      "text/plain": [
       "HBox(children=(IntProgress(value=0, description='Downloading', max=361, style=ProgressStyle(description_width=…"
      ]
     },
     "metadata": {
      "tags": []
     },
     "output_type": "display_data"
    },
    {
     "name": "stdout",
     "output_type": "stream",
     "text": [
      "\n"
     ]
    },
    {
     "data": {
      "application/vnd.jupyter.widget-view+json": {
       "model_id": "705b048a60d04e228b234c5ba8766a0e",
       "version_major": 2,
       "version_minor": 0
      },
      "text/plain": [
       "HBox(children=(IntProgress(value=0, description='Downloading', max=440473133, style=ProgressStyle(description_…"
      ]
     },
     "metadata": {
      "tags": []
     },
     "output_type": "display_data"
    },
    {
     "name": "stdout",
     "output_type": "stream",
     "text": [
      "\n"
     ]
    },
    {
     "data": {
      "text/plain": [
       "BertForSequenceClassification(\n",
       "  (bert): BertModel(\n",
       "    (embeddings): BertEmbeddings(\n",
       "      (word_embeddings): Embedding(30522, 768, padding_idx=0)\n",
       "      (position_embeddings): Embedding(512, 768)\n",
       "      (token_type_embeddings): Embedding(2, 768)\n",
       "      (LayerNorm): LayerNorm((768,), eps=1e-12, elementwise_affine=True)\n",
       "      (dropout): Dropout(p=0.1, inplace=False)\n",
       "    )\n",
       "    (encoder): BertEncoder(\n",
       "      (layer): ModuleList(\n",
       "        (0): BertLayer(\n",
       "          (attention): BertAttention(\n",
       "            (self): BertSelfAttention(\n",
       "              (query): Linear(in_features=768, out_features=768, bias=True)\n",
       "              (key): Linear(in_features=768, out_features=768, bias=True)\n",
       "              (value): Linear(in_features=768, out_features=768, bias=True)\n",
       "              (dropout): Dropout(p=0.1, inplace=False)\n",
       "            )\n",
       "            (output): BertSelfOutput(\n",
       "              (dense): Linear(in_features=768, out_features=768, bias=True)\n",
       "              (LayerNorm): LayerNorm((768,), eps=1e-12, elementwise_affine=True)\n",
       "              (dropout): Dropout(p=0.1, inplace=False)\n",
       "            )\n",
       "          )\n",
       "          (intermediate): BertIntermediate(\n",
       "            (dense): Linear(in_features=768, out_features=3072, bias=True)\n",
       "          )\n",
       "          (output): BertOutput(\n",
       "            (dense): Linear(in_features=3072, out_features=768, bias=True)\n",
       "            (LayerNorm): LayerNorm((768,), eps=1e-12, elementwise_affine=True)\n",
       "            (dropout): Dropout(p=0.1, inplace=False)\n",
       "          )\n",
       "        )\n",
       "        (1): BertLayer(\n",
       "          (attention): BertAttention(\n",
       "            (self): BertSelfAttention(\n",
       "              (query): Linear(in_features=768, out_features=768, bias=True)\n",
       "              (key): Linear(in_features=768, out_features=768, bias=True)\n",
       "              (value): Linear(in_features=768, out_features=768, bias=True)\n",
       "              (dropout): Dropout(p=0.1, inplace=False)\n",
       "            )\n",
       "            (output): BertSelfOutput(\n",
       "              (dense): Linear(in_features=768, out_features=768, bias=True)\n",
       "              (LayerNorm): LayerNorm((768,), eps=1e-12, elementwise_affine=True)\n",
       "              (dropout): Dropout(p=0.1, inplace=False)\n",
       "            )\n",
       "          )\n",
       "          (intermediate): BertIntermediate(\n",
       "            (dense): Linear(in_features=768, out_features=3072, bias=True)\n",
       "          )\n",
       "          (output): BertOutput(\n",
       "            (dense): Linear(in_features=3072, out_features=768, bias=True)\n",
       "            (LayerNorm): LayerNorm((768,), eps=1e-12, elementwise_affine=True)\n",
       "            (dropout): Dropout(p=0.1, inplace=False)\n",
       "          )\n",
       "        )\n",
       "        (2): BertLayer(\n",
       "          (attention): BertAttention(\n",
       "            (self): BertSelfAttention(\n",
       "              (query): Linear(in_features=768, out_features=768, bias=True)\n",
       "              (key): Linear(in_features=768, out_features=768, bias=True)\n",
       "              (value): Linear(in_features=768, out_features=768, bias=True)\n",
       "              (dropout): Dropout(p=0.1, inplace=False)\n",
       "            )\n",
       "            (output): BertSelfOutput(\n",
       "              (dense): Linear(in_features=768, out_features=768, bias=True)\n",
       "              (LayerNorm): LayerNorm((768,), eps=1e-12, elementwise_affine=True)\n",
       "              (dropout): Dropout(p=0.1, inplace=False)\n",
       "            )\n",
       "          )\n",
       "          (intermediate): BertIntermediate(\n",
       "            (dense): Linear(in_features=768, out_features=3072, bias=True)\n",
       "          )\n",
       "          (output): BertOutput(\n",
       "            (dense): Linear(in_features=3072, out_features=768, bias=True)\n",
       "            (LayerNorm): LayerNorm((768,), eps=1e-12, elementwise_affine=True)\n",
       "            (dropout): Dropout(p=0.1, inplace=False)\n",
       "          )\n",
       "        )\n",
       "        (3): BertLayer(\n",
       "          (attention): BertAttention(\n",
       "            (self): BertSelfAttention(\n",
       "              (query): Linear(in_features=768, out_features=768, bias=True)\n",
       "              (key): Linear(in_features=768, out_features=768, bias=True)\n",
       "              (value): Linear(in_features=768, out_features=768, bias=True)\n",
       "              (dropout): Dropout(p=0.1, inplace=False)\n",
       "            )\n",
       "            (output): BertSelfOutput(\n",
       "              (dense): Linear(in_features=768, out_features=768, bias=True)\n",
       "              (LayerNorm): LayerNorm((768,), eps=1e-12, elementwise_affine=True)\n",
       "              (dropout): Dropout(p=0.1, inplace=False)\n",
       "            )\n",
       "          )\n",
       "          (intermediate): BertIntermediate(\n",
       "            (dense): Linear(in_features=768, out_features=3072, bias=True)\n",
       "          )\n",
       "          (output): BertOutput(\n",
       "            (dense): Linear(in_features=3072, out_features=768, bias=True)\n",
       "            (LayerNorm): LayerNorm((768,), eps=1e-12, elementwise_affine=True)\n",
       "            (dropout): Dropout(p=0.1, inplace=False)\n",
       "          )\n",
       "        )\n",
       "        (4): BertLayer(\n",
       "          (attention): BertAttention(\n",
       "            (self): BertSelfAttention(\n",
       "              (query): Linear(in_features=768, out_features=768, bias=True)\n",
       "              (key): Linear(in_features=768, out_features=768, bias=True)\n",
       "              (value): Linear(in_features=768, out_features=768, bias=True)\n",
       "              (dropout): Dropout(p=0.1, inplace=False)\n",
       "            )\n",
       "            (output): BertSelfOutput(\n",
       "              (dense): Linear(in_features=768, out_features=768, bias=True)\n",
       "              (LayerNorm): LayerNorm((768,), eps=1e-12, elementwise_affine=True)\n",
       "              (dropout): Dropout(p=0.1, inplace=False)\n",
       "            )\n",
       "          )\n",
       "          (intermediate): BertIntermediate(\n",
       "            (dense): Linear(in_features=768, out_features=3072, bias=True)\n",
       "          )\n",
       "          (output): BertOutput(\n",
       "            (dense): Linear(in_features=3072, out_features=768, bias=True)\n",
       "            (LayerNorm): LayerNorm((768,), eps=1e-12, elementwise_affine=True)\n",
       "            (dropout): Dropout(p=0.1, inplace=False)\n",
       "          )\n",
       "        )\n",
       "        (5): BertLayer(\n",
       "          (attention): BertAttention(\n",
       "            (self): BertSelfAttention(\n",
       "              (query): Linear(in_features=768, out_features=768, bias=True)\n",
       "              (key): Linear(in_features=768, out_features=768, bias=True)\n",
       "              (value): Linear(in_features=768, out_features=768, bias=True)\n",
       "              (dropout): Dropout(p=0.1, inplace=False)\n",
       "            )\n",
       "            (output): BertSelfOutput(\n",
       "              (dense): Linear(in_features=768, out_features=768, bias=True)\n",
       "              (LayerNorm): LayerNorm((768,), eps=1e-12, elementwise_affine=True)\n",
       "              (dropout): Dropout(p=0.1, inplace=False)\n",
       "            )\n",
       "          )\n",
       "          (intermediate): BertIntermediate(\n",
       "            (dense): Linear(in_features=768, out_features=3072, bias=True)\n",
       "          )\n",
       "          (output): BertOutput(\n",
       "            (dense): Linear(in_features=3072, out_features=768, bias=True)\n",
       "            (LayerNorm): LayerNorm((768,), eps=1e-12, elementwise_affine=True)\n",
       "            (dropout): Dropout(p=0.1, inplace=False)\n",
       "          )\n",
       "        )\n",
       "        (6): BertLayer(\n",
       "          (attention): BertAttention(\n",
       "            (self): BertSelfAttention(\n",
       "              (query): Linear(in_features=768, out_features=768, bias=True)\n",
       "              (key): Linear(in_features=768, out_features=768, bias=True)\n",
       "              (value): Linear(in_features=768, out_features=768, bias=True)\n",
       "              (dropout): Dropout(p=0.1, inplace=False)\n",
       "            )\n",
       "            (output): BertSelfOutput(\n",
       "              (dense): Linear(in_features=768, out_features=768, bias=True)\n",
       "              (LayerNorm): LayerNorm((768,), eps=1e-12, elementwise_affine=True)\n",
       "              (dropout): Dropout(p=0.1, inplace=False)\n",
       "            )\n",
       "          )\n",
       "          (intermediate): BertIntermediate(\n",
       "            (dense): Linear(in_features=768, out_features=3072, bias=True)\n",
       "          )\n",
       "          (output): BertOutput(\n",
       "            (dense): Linear(in_features=3072, out_features=768, bias=True)\n",
       "            (LayerNorm): LayerNorm((768,), eps=1e-12, elementwise_affine=True)\n",
       "            (dropout): Dropout(p=0.1, inplace=False)\n",
       "          )\n",
       "        )\n",
       "        (7): BertLayer(\n",
       "          (attention): BertAttention(\n",
       "            (self): BertSelfAttention(\n",
       "              (query): Linear(in_features=768, out_features=768, bias=True)\n",
       "              (key): Linear(in_features=768, out_features=768, bias=True)\n",
       "              (value): Linear(in_features=768, out_features=768, bias=True)\n",
       "              (dropout): Dropout(p=0.1, inplace=False)\n",
       "            )\n",
       "            (output): BertSelfOutput(\n",
       "              (dense): Linear(in_features=768, out_features=768, bias=True)\n",
       "              (LayerNorm): LayerNorm((768,), eps=1e-12, elementwise_affine=True)\n",
       "              (dropout): Dropout(p=0.1, inplace=False)\n",
       "            )\n",
       "          )\n",
       "          (intermediate): BertIntermediate(\n",
       "            (dense): Linear(in_features=768, out_features=3072, bias=True)\n",
       "          )\n",
       "          (output): BertOutput(\n",
       "            (dense): Linear(in_features=3072, out_features=768, bias=True)\n",
       "            (LayerNorm): LayerNorm((768,), eps=1e-12, elementwise_affine=True)\n",
       "            (dropout): Dropout(p=0.1, inplace=False)\n",
       "          )\n",
       "        )\n",
       "        (8): BertLayer(\n",
       "          (attention): BertAttention(\n",
       "            (self): BertSelfAttention(\n",
       "              (query): Linear(in_features=768, out_features=768, bias=True)\n",
       "              (key): Linear(in_features=768, out_features=768, bias=True)\n",
       "              (value): Linear(in_features=768, out_features=768, bias=True)\n",
       "              (dropout): Dropout(p=0.1, inplace=False)\n",
       "            )\n",
       "            (output): BertSelfOutput(\n",
       "              (dense): Linear(in_features=768, out_features=768, bias=True)\n",
       "              (LayerNorm): LayerNorm((768,), eps=1e-12, elementwise_affine=True)\n",
       "              (dropout): Dropout(p=0.1, inplace=False)\n",
       "            )\n",
       "          )\n",
       "          (intermediate): BertIntermediate(\n",
       "            (dense): Linear(in_features=768, out_features=3072, bias=True)\n",
       "          )\n",
       "          (output): BertOutput(\n",
       "            (dense): Linear(in_features=3072, out_features=768, bias=True)\n",
       "            (LayerNorm): LayerNorm((768,), eps=1e-12, elementwise_affine=True)\n",
       "            (dropout): Dropout(p=0.1, inplace=False)\n",
       "          )\n",
       "        )\n",
       "        (9): BertLayer(\n",
       "          (attention): BertAttention(\n",
       "            (self): BertSelfAttention(\n",
       "              (query): Linear(in_features=768, out_features=768, bias=True)\n",
       "              (key): Linear(in_features=768, out_features=768, bias=True)\n",
       "              (value): Linear(in_features=768, out_features=768, bias=True)\n",
       "              (dropout): Dropout(p=0.1, inplace=False)\n",
       "            )\n",
       "            (output): BertSelfOutput(\n",
       "              (dense): Linear(in_features=768, out_features=768, bias=True)\n",
       "              (LayerNorm): LayerNorm((768,), eps=1e-12, elementwise_affine=True)\n",
       "              (dropout): Dropout(p=0.1, inplace=False)\n",
       "            )\n",
       "          )\n",
       "          (intermediate): BertIntermediate(\n",
       "            (dense): Linear(in_features=768, out_features=3072, bias=True)\n",
       "          )\n",
       "          (output): BertOutput(\n",
       "            (dense): Linear(in_features=3072, out_features=768, bias=True)\n",
       "            (LayerNorm): LayerNorm((768,), eps=1e-12, elementwise_affine=True)\n",
       "            (dropout): Dropout(p=0.1, inplace=False)\n",
       "          )\n",
       "        )\n",
       "        (10): BertLayer(\n",
       "          (attention): BertAttention(\n",
       "            (self): BertSelfAttention(\n",
       "              (query): Linear(in_features=768, out_features=768, bias=True)\n",
       "              (key): Linear(in_features=768, out_features=768, bias=True)\n",
       "              (value): Linear(in_features=768, out_features=768, bias=True)\n",
       "              (dropout): Dropout(p=0.1, inplace=False)\n",
       "            )\n",
       "            (output): BertSelfOutput(\n",
       "              (dense): Linear(in_features=768, out_features=768, bias=True)\n",
       "              (LayerNorm): LayerNorm((768,), eps=1e-12, elementwise_affine=True)\n",
       "              (dropout): Dropout(p=0.1, inplace=False)\n",
       "            )\n",
       "          )\n",
       "          (intermediate): BertIntermediate(\n",
       "            (dense): Linear(in_features=768, out_features=3072, bias=True)\n",
       "          )\n",
       "          (output): BertOutput(\n",
       "            (dense): Linear(in_features=3072, out_features=768, bias=True)\n",
       "            (LayerNorm): LayerNorm((768,), eps=1e-12, elementwise_affine=True)\n",
       "            (dropout): Dropout(p=0.1, inplace=False)\n",
       "          )\n",
       "        )\n",
       "        (11): BertLayer(\n",
       "          (attention): BertAttention(\n",
       "            (self): BertSelfAttention(\n",
       "              (query): Linear(in_features=768, out_features=768, bias=True)\n",
       "              (key): Linear(in_features=768, out_features=768, bias=True)\n",
       "              (value): Linear(in_features=768, out_features=768, bias=True)\n",
       "              (dropout): Dropout(p=0.1, inplace=False)\n",
       "            )\n",
       "            (output): BertSelfOutput(\n",
       "              (dense): Linear(in_features=768, out_features=768, bias=True)\n",
       "              (LayerNorm): LayerNorm((768,), eps=1e-12, elementwise_affine=True)\n",
       "              (dropout): Dropout(p=0.1, inplace=False)\n",
       "            )\n",
       "          )\n",
       "          (intermediate): BertIntermediate(\n",
       "            (dense): Linear(in_features=768, out_features=3072, bias=True)\n",
       "          )\n",
       "          (output): BertOutput(\n",
       "            (dense): Linear(in_features=3072, out_features=768, bias=True)\n",
       "            (LayerNorm): LayerNorm((768,), eps=1e-12, elementwise_affine=True)\n",
       "            (dropout): Dropout(p=0.1, inplace=False)\n",
       "          )\n",
       "        )\n",
       "      )\n",
       "    )\n",
       "    (pooler): BertPooler(\n",
       "      (dense): Linear(in_features=768, out_features=768, bias=True)\n",
       "      (activation): Tanh()\n",
       "    )\n",
       "  )\n",
       "  (dropout): Dropout(p=0.1, inplace=False)\n",
       "  (classifier): Linear(in_features=768, out_features=2, bias=True)\n",
       ")"
      ]
     },
     "execution_count": 26,
     "metadata": {
      "tags": []
     },
     "output_type": "execute_result"
    }
   ],
   "source": [
    "model = BertForSequenceClassification.from_pretrained(\"bert-base-uncased\", num_labels=2)\n",
    "model.cuda()"
   ]
  },
  {
   "cell_type": "code",
   "execution_count": 0,
   "metadata": {
    "colab": {},
    "colab_type": "code",
    "id": "_UsKZEiooJk0"
   },
   "outputs": [],
   "source": [
    "param_optimizer = list(model.named_parameters())\n",
    "no_decay = ['bias', 'gamma', 'beta']\n",
    "optimizer_grouped_parameters = [\n",
    "    {'params': [p for n, p in param_optimizer if not any(nd in n for nd in no_decay)],\n",
    "     'weight_decay_rate': 0.01},\n",
    "    {'params': [p for n, p in param_optimizer if any(nd in n for nd in no_decay)],\n",
    "     'weight_decay_rate': 0.0}\n",
    "]\n"
   ]
  },
  {
   "cell_type": "code",
   "execution_count": 0,
   "metadata": {
    "colab": {},
    "colab_type": "code",
    "id": "vYLOdMH2oK_2"
   },
   "outputs": [],
   "source": [
    "# This variable contains all of the hyperparemeter information our training loop needs\n",
    "optimizer = AdamW(model.parameters(),\n",
    "                  lr = 2e-5, # args.learning_rate - default is 5e-5, our notebook had 2e-5\n",
    "                  eps = 1e-8 # args.adam_epsilon  - default is 1e-8.\n",
    "                )"
   ]
  },
  {
   "cell_type": "code",
   "execution_count": 0,
   "metadata": {
    "colab": {},
    "colab_type": "code",
    "id": "wH3agP2PoPuB"
   },
   "outputs": [],
   "source": [
    "from transformers import get_linear_schedule_with_warmup\n",
    "\n",
    "# Number of training epochs (authors recommend between 2 and 4)\n",
    "epochs = 4\n",
    "\n",
    "# Total number of training steps is number of batches * number of epochs.\n",
    "total_steps = len(train_dataloader) * epochs\n",
    "\n",
    "# Create the learning rate scheduler.\n",
    "scheduler = get_linear_schedule_with_warmup(optimizer, \n",
    "                                            num_warmup_steps = 0, # Default value in run_glue.py\n",
    "                                            num_training_steps = total_steps)"
   ]
  },
  {
   "cell_type": "code",
   "execution_count": 0,
   "metadata": {
    "colab": {},
    "colab_type": "code",
    "id": "_-ts70-foS5p"
   },
   "outputs": [],
   "source": [
    "# Function to calculate the accuracy of our predictions vs labels\n",
    "def flat_accuracy(preds, labels):\n",
    "    pred_flat = np.argmax(preds, axis=1).flatten()\n",
    "    labels_flat = labels.flatten()\n",
    "    return np.sum(pred_flat == labels_flat) / len(labels_flat)"
   ]
  },
  {
   "cell_type": "code",
   "execution_count": 0,
   "metadata": {
    "colab": {},
    "colab_type": "code",
    "id": "Img0PQJToWD2"
   },
   "outputs": [],
   "source": [
    "import time\n",
    "import datetime\n",
    "\n",
    "def format_time(elapsed):\n",
    "    '''\n",
    "    Takes a time in seconds and returns a string hh:mm:ss\n",
    "    '''\n",
    "    # Round to the nearest second.\n",
    "    elapsed_rounded = int(round((elapsed)))\n",
    "    \n",
    "    # Format as hh:mm:ss\n",
    "    return str(datetime.timedelta(seconds=elapsed_rounded))"
   ]
  },
  {
   "cell_type": "code",
   "execution_count": 32,
   "metadata": {
    "colab": {
     "base_uri": "https://localhost:8080/",
     "height": 1000
    },
    "colab_type": "code",
    "id": "rroeQ4McoZOc",
    "outputId": "9b14c9ba-8414-4739-a9a2-479428cb1e9f"
   },
   "outputs": [
    {
     "name": "stdout",
     "output_type": "stream",
     "text": [
      "\n",
      "======== Epoch 1 / 4 ========\n",
      "Training...\n",
      "  Batch    40  of    282.    Elapsed: 0:00:49.\n",
      "  Batch    80  of    282.    Elapsed: 0:01:38.\n",
      "  Batch   120  of    282.    Elapsed: 0:02:27.\n",
      "  Batch   160  of    282.    Elapsed: 0:03:16.\n",
      "  Batch   200  of    282.    Elapsed: 0:04:05.\n",
      "  Batch   240  of    282.    Elapsed: 0:04:55.\n",
      "  Batch   280  of    282.    Elapsed: 0:05:45.\n",
      "\n",
      "  Average training loss: 0.56\n",
      "  Training epcoh took: 0:05:46\n",
      "\n",
      "Running Validation...\n",
      "  Accuracy: 0.76\n",
      "  Validation took: 0:00:14\n",
      "\n",
      "======== Epoch 2 / 4 ========\n",
      "Training...\n",
      "  Batch    40  of    282.    Elapsed: 0:00:50.\n",
      "  Batch    80  of    282.    Elapsed: 0:01:40.\n",
      "  Batch   120  of    282.    Elapsed: 0:02:29.\n",
      "  Batch   160  of    282.    Elapsed: 0:03:19.\n",
      "  Batch   200  of    282.    Elapsed: 0:04:09.\n",
      "  Batch   240  of    282.    Elapsed: 0:04:59.\n",
      "  Batch   280  of    282.    Elapsed: 0:05:49.\n",
      "\n",
      "  Average training loss: 0.40\n",
      "  Training epcoh took: 0:05:50\n",
      "\n",
      "Running Validation...\n",
      "  Accuracy: 0.78\n",
      "  Validation took: 0:00:14\n",
      "\n",
      "======== Epoch 3 / 4 ========\n",
      "Training...\n",
      "  Batch    40  of    282.    Elapsed: 0:00:50.\n",
      "  Batch    80  of    282.    Elapsed: 0:01:40.\n",
      "  Batch   120  of    282.    Elapsed: 0:02:30.\n",
      "  Batch   160  of    282.    Elapsed: 0:03:20.\n",
      "  Batch   200  of    282.    Elapsed: 0:04:09.\n",
      "  Batch   240  of    282.    Elapsed: 0:04:59.\n",
      "  Batch   280  of    282.    Elapsed: 0:05:49.\n",
      "\n",
      "  Average training loss: 0.27\n",
      "  Training epcoh took: 0:05:51\n",
      "\n",
      "Running Validation...\n",
      "  Accuracy: 0.79\n",
      "  Validation took: 0:00:14\n",
      "\n",
      "======== Epoch 4 / 4 ========\n",
      "Training...\n",
      "  Batch    40  of    282.    Elapsed: 0:00:50.\n",
      "  Batch    80  of    282.    Elapsed: 0:01:40.\n",
      "  Batch   120  of    282.    Elapsed: 0:02:29.\n",
      "  Batch   160  of    282.    Elapsed: 0:03:19.\n",
      "  Batch   200  of    282.    Elapsed: 0:04:09.\n",
      "  Batch   240  of    282.    Elapsed: 0:04:59.\n",
      "  Batch   280  of    282.    Elapsed: 0:05:49.\n",
      "\n",
      "  Average training loss: 0.18\n",
      "  Training epcoh took: 0:05:50\n",
      "\n",
      "Running Validation...\n",
      "  Accuracy: 0.79\n",
      "  Validation took: 0:00:14\n",
      "\n",
      "Training complete!\n"
     ]
    }
   ],
   "source": [
    "import random\n",
    "\n",
    "# This training code is based on the `run_glue.py` script here:\n",
    "# https://github.com/huggingface/transformers/blob/5bfcd0485ece086ebcbed2d008813037968a9e58/examples/run_glue.py#L128\n",
    "\n",
    "# Set the seed value all over the place to make this reproducible.\n",
    "seed_val = 42\n",
    "\n",
    "random.seed(seed_val)\n",
    "np.random.seed(seed_val)\n",
    "torch.manual_seed(seed_val)\n",
    "torch.cuda.manual_seed_all(seed_val)\n",
    "\n",
    "# Store the average loss after each epoch so we can plot them.\n",
    "loss_values = []\n",
    "\n",
    "# For each epoch...\n",
    "for epoch_i in range(0, epochs):\n",
    "    \n",
    "    # ========================================\n",
    "    #               Training\n",
    "    # ========================================\n",
    "    \n",
    "    # Perform one full pass over the training set.\n",
    "\n",
    "    print(\"\")\n",
    "    print('======== Epoch {:} / {:} ========'.format(epoch_i + 1, epochs))\n",
    "    print('Training...')\n",
    "\n",
    "    # Measure how long the training epoch takes.\n",
    "    t0 = time.time()\n",
    "\n",
    "    # Reset the total loss for this epoch.\n",
    "    total_loss = 0\n",
    "\n",
    "    # Put the model into training mode. Don't be mislead--the call to \n",
    "    # `train` just changes the *mode*, it doesn't *perform* the training.\n",
    "    # `dropout` and `batchnorm` layers behave differently during training\n",
    "    # vs. test (source: https://stackoverflow.com/questions/51433378/what-does-model-train-do-in-pytorch)\n",
    "    model.train()\n",
    "\n",
    "    # For each batch of training data...\n",
    "    for step, batch in enumerate(train_dataloader):\n",
    "\n",
    "        # Progress update every 40 batches.\n",
    "        if step % 40 == 0 and not step == 0:\n",
    "            # Calculate elapsed time in minutes.\n",
    "            elapsed = format_time(time.time() - t0)\n",
    "            \n",
    "            # Report progress.\n",
    "            print('  Batch {:>5,}  of  {:>5,}.    Elapsed: {:}.'.format(step, len(train_dataloader), elapsed))\n",
    "\n",
    "        # Unpack this training batch from our dataloader. \n",
    "        #\n",
    "        # As we unpack the batch, we'll also copy each tensor to the GPU using the \n",
    "        # `to` method.\n",
    "        #\n",
    "        # `batch` contains three pytorch tensors:\n",
    "        #   [0]: input ids \n",
    "        #   [1]: attention masks\n",
    "        #   [2]: labels \n",
    "        b_input_ids = batch[0].to(device)\n",
    "        b_input_mask = batch[1].to(device)\n",
    "        b_labels = batch[2].to(device)\n",
    "\n",
    "        # Always clear any previously calculated gradients before performing a\n",
    "        # backward pass. PyTorch doesn't do this automatically because \n",
    "        # accumulating the gradients is \"convenient while training RNNs\". \n",
    "        # (source: https://stackoverflow.com/questions/48001598/why-do-we-need-to-call-zero-grad-in-pytorch)\n",
    "        model.zero_grad()        \n",
    "\n",
    "        # Perform a forward pass (evaluate the model on this training batch).\n",
    "        # This will return the loss (rather than the model output) because we\n",
    "        # have provided the `labels`.\n",
    "        # The documentation for this `model` function is here: \n",
    "        # https://huggingface.co/transformers/v2.2.0/model_doc/bert.html#transformers.BertForSequenceClassification\n",
    "        outputs = model(b_input_ids, \n",
    "                    token_type_ids=None, \n",
    "                    attention_mask=b_input_mask, \n",
    "                    labels=b_labels)\n",
    "        \n",
    "        # The call to `model` always returns a tuple, so we need to pull the \n",
    "        # loss value out of the tuple.\n",
    "        loss = outputs[0]\n",
    "\n",
    "        # Accumulate the training loss over all of the batches so that we can\n",
    "        # calculate the average loss at the end. `loss` is a Tensor containing a\n",
    "        # single value; the `.item()` function just returns the Python value \n",
    "        # from the tensor.\n",
    "        total_loss += loss.item()\n",
    "\n",
    "        # Perform a backward pass to calculate the gradients.\n",
    "        loss.backward()\n",
    "\n",
    "        # Clip the norm of the gradients to 1.0.\n",
    "        # This is to help prevent the \"exploding gradients\" problem.\n",
    "        torch.nn.utils.clip_grad_norm_(model.parameters(), 1.0)\n",
    "\n",
    "        # Update parameters and take a step using the computed gradient.\n",
    "        # The optimizer dictates the \"update rule\"--how the parameters are\n",
    "        # modified based on their gradients, the learning rate, etc.\n",
    "        optimizer.step()\n",
    "\n",
    "        # Update the learning rate.\n",
    "        scheduler.step()\n",
    "\n",
    "    # Calculate the average loss over the training data.\n",
    "    avg_train_loss = total_loss / len(train_dataloader)            \n",
    "    \n",
    "    # Store the loss value for plotting the learning curve.\n",
    "    loss_values.append(avg_train_loss)\n",
    "\n",
    "    print(\"\")\n",
    "    print(\"  Average training loss: {0:.2f}\".format(avg_train_loss))\n",
    "    print(\"  Training epcoh took: {:}\".format(format_time(time.time() - t0)))\n",
    "        \n",
    "    # ========================================\n",
    "    #               Validation\n",
    "    # ========================================\n",
    "    # After the completion of each training epoch, measure our performance on\n",
    "    # our validation set.\n",
    "\n",
    "    print(\"\")\n",
    "    print(\"Running Validation...\")\n",
    "\n",
    "    t0 = time.time()\n",
    "\n",
    "    # Put the model in evaluation mode--the dropout layers behave differently\n",
    "    # during evaluation.\n",
    "    model.eval()\n",
    "\n",
    "    # Tracking variables \n",
    "    eval_loss, eval_accuracy = 0, 0\n",
    "    nb_eval_steps, nb_eval_examples = 0, 0\n",
    "\n",
    "    # Evaluate data for one epoch\n",
    "    for batch in validation_dataloader:\n",
    "        \n",
    "        # Add batch to GPU\n",
    "        batch = tuple(t.to(device) for t in batch)\n",
    "        \n",
    "        # Unpack the inputs from our dataloader\n",
    "        b_input_ids, b_input_mask, b_labels = batch\n",
    "        \n",
    "        # Telling the model not to compute or store gradients, saving memory and\n",
    "        # speeding up validation\n",
    "        with torch.no_grad():        \n",
    "\n",
    "            # Forward pass, calculate logit predictions.\n",
    "            # This will return the logits rather than the loss because we have\n",
    "            # not provided labels.\n",
    "            # token_type_ids is the same as the \"segment ids\", which \n",
    "            # differentiates sentence 1 and 2 in 2-sentence tasks.\n",
    "            # The documentation for this `model` function is here: \n",
    "            # https://huggingface.co/transformers/v2.2.0/model_doc/bert.html#transformers.BertForSequenceClassification\n",
    "            outputs = model(b_input_ids, \n",
    "                            token_type_ids=None, \n",
    "                            attention_mask=b_input_mask)\n",
    "        \n",
    "        # Get the \"logits\" output by the model. The \"logits\" are the output\n",
    "        # values prior to applying an activation function like the softmax.\n",
    "        logits = outputs[0]\n",
    "\n",
    "        # Move logits and labels to CPU\n",
    "        logits = logits.detach().cpu().numpy()\n",
    "        label_ids = b_labels.to('cpu').numpy()\n",
    "        \n",
    "        # Calculate the accuracy for this batch of test sentences.\n",
    "        tmp_eval_accuracy = flat_accuracy(logits, label_ids)\n",
    "        \n",
    "        # Accumulate the total accuracy.\n",
    "        eval_accuracy += tmp_eval_accuracy\n",
    "\n",
    "        # Track the number of batches\n",
    "        nb_eval_steps += 1\n",
    "\n",
    "    # Report the final accuracy for this validation run.\n",
    "    print(\"  Accuracy: {0:.2f}\".format(eval_accuracy/nb_eval_steps))\n",
    "    print(\"  Validation took: {:}\".format(format_time(time.time() - t0)))\n",
    "\n",
    "print(\"\")\n",
    "print(\"Training complete!\")"
   ]
  },
  {
   "cell_type": "code",
   "execution_count": 36,
   "metadata": {
    "colab": {
     "base_uri": "https://localhost:8080/",
     "height": 427
    },
    "colab_type": "code",
    "id": "mSKlf6SHyQhC",
    "outputId": "4be0aaad-0fd1-47a2-f98e-d4ce767ef54d"
   },
   "outputs": [
    {
     "data": {
      "image/png": "[encoded data removed]",
      "text/plain": [
       "<Figure size 864x432 with 1 Axes>"
      ]
     },
     "metadata": {
      "tags": []
     },
     "output_type": "display_data"
    }
   ],
   "source": [
    "import matplotlib.pyplot as plt\n",
    "%matplotlib inline\n",
    "\n",
    "import seaborn as sns\n",
    "\n",
    "# Use plot styling from seaborn.\n",
    "sns.set(style='darkgrid')\n",
    "\n",
    "# Increase the plot size and font size.\n",
    "sns.set(font_scale=1.5)\n",
    "plt.rcParams[\"figure.figsize\"] = (12,6)\n",
    "\n",
    "# Plot the learning curve.\n",
    "plt.plot(loss_values, 'b-o')\n",
    "\n",
    "# Label the plot.\n",
    "plt.title(\"Training loss\")\n",
    "plt.xlabel(\"Epoch\")\n",
    "plt.ylabel(\"Loss\")\n",
    "\n",
    "plt.show()"
   ]
  },
  {
   "cell_type": "markdown",
   "metadata": {
    "colab_type": "text",
    "id": "s_jCZbmCyYs-"
   },
   "source": [
    "The BERT model performs much better than LSTM, with an accuracy rate at 79%. From the graph above, we can see that as epoch number increases, average training loss decreases."
   ]
  },
  {
   "cell_type": "markdown",
   "metadata": {
    "colab_type": "text",
    "id": "xbc9iUT2ywhR"
   },
   "source": [
    "### Holdout Set"
   ]
  },
  {
   "cell_type": "code",
   "execution_count": 0,
   "metadata": {
    "colab": {},
    "colab_type": "code",
    "id": "G9znA-vPyq0o"
   },
   "outputs": [],
   "source": [
    "negPred = pd.read_csv('comments_negative.csv', nrows=10000)[5000:]\n",
    "posPred = pd.read_csv('comments_positive.csv', nrows=10000)[5000:]"
   ]
  },
  {
   "cell_type": "code",
   "execution_count": 38,
   "metadata": {
    "colab": {
     "base_uri": "https://localhost:8080/",
     "height": 419
    },
    "colab_type": "code",
    "id": "6d8Lj6RnzTws",
    "outputId": "19e85d8f-25fd-4542-9577-16c7bdde432a"
   },
   "outputs": [
    {
     "data": {
      "text/html": [
       "<div>\n",
       "<style scoped>\n",
       "    .dataframe tbody tr th:only-of-type {\n",
       "        vertical-align: middle;\n",
       "    }\n",
       "\n",
       "    .dataframe tbody tr th {\n",
       "        vertical-align: top;\n",
       "    }\n",
       "\n",
       "    .dataframe thead th {\n",
       "        text-align: right;\n",
       "    }\n",
       "</style>\n",
       "<table border=\"1\" class=\"dataframe\">\n",
       "  <thead>\n",
       "    <tr style=\"text-align: right;\">\n",
       "      <th></th>\n",
       "      <th>text</th>\n",
       "      <th>label</th>\n",
       "    </tr>\n",
       "  </thead>\n",
       "  <tbody>\n",
       "    <tr>\n",
       "      <th>0</th>\n",
       "      <td>lol wat.\\n\\nWake up owner please! OMNOMONOMNOM...</td>\n",
       "      <td>1</td>\n",
       "    </tr>\n",
       "    <tr>\n",
       "      <th>1</th>\n",
       "      <td>The groom is wearing a white dress shirt with ...</td>\n",
       "      <td>1</td>\n",
       "    </tr>\n",
       "    <tr>\n",
       "      <th>2</th>\n",
       "      <td>*sigh* Okay...\\n\\nWhen I was a freshman in col...</td>\n",
       "      <td>1</td>\n",
       "    </tr>\n",
       "    <tr>\n",
       "      <th>3</th>\n",
       "      <td>Due to hormones, that isn't supposed to happen...</td>\n",
       "      <td>1</td>\n",
       "    </tr>\n",
       "    <tr>\n",
       "      <th>4</th>\n",
       "      <td>Why not? You eat everyone else's</td>\n",
       "      <td>1</td>\n",
       "    </tr>\n",
       "    <tr>\n",
       "      <th>...</th>\n",
       "      <td>...</td>\n",
       "      <td>...</td>\n",
       "    </tr>\n",
       "    <tr>\n",
       "      <th>9995</th>\n",
       "      <td>Ultima Online</td>\n",
       "      <td>0</td>\n",
       "    </tr>\n",
       "    <tr>\n",
       "      <th>9996</th>\n",
       "      <td>Hey.</td>\n",
       "      <td>0</td>\n",
       "    </tr>\n",
       "    <tr>\n",
       "      <th>9997</th>\n",
       "      <td>Gay people deserve equal rights.</td>\n",
       "      <td>0</td>\n",
       "    </tr>\n",
       "    <tr>\n",
       "      <th>9998</th>\n",
       "      <td>I'll save you some time: It's the part that sa...</td>\n",
       "      <td>0</td>\n",
       "    </tr>\n",
       "    <tr>\n",
       "      <th>9999</th>\n",
       "      <td>Because it's just fucking stupid to downvote a...</td>\n",
       "      <td>0</td>\n",
       "    </tr>\n",
       "  </tbody>\n",
       "</table>\n",
       "<p>10000 rows × 2 columns</p>\n",
       "</div>"
      ],
      "text/plain": [
       "                                                   text  label\n",
       "0     lol wat.\\n\\nWake up owner please! OMNOMONOMNOM...      1\n",
       "1     The groom is wearing a white dress shirt with ...      1\n",
       "2     *sigh* Okay...\\n\\nWhen I was a freshman in col...      1\n",
       "3     Due to hormones, that isn't supposed to happen...      1\n",
       "4                      Why not? You eat everyone else's      1\n",
       "...                                                 ...    ...\n",
       "9995                                      Ultima Online      0\n",
       "9996                                               Hey.      0\n",
       "9997                  Gay people deserve equal rights.       0\n",
       "9998  I'll save you some time: It's the part that sa...      0\n",
       "9999  Because it's just fucking stupid to downvote a...      0\n",
       "\n",
       "[10000 rows x 2 columns]"
      ]
     },
     "execution_count": 38,
     "metadata": {
      "tags": []
     },
     "output_type": "execute_result"
    }
   ],
   "source": [
    "dfPred = pd.concat([posPred[['text']], negPred[['text']]], axis=0, ignore_index=True)\n",
    "dfPred['label'] = [1] * 5000 + [0] * 5000\n",
    "dfPred"
   ]
  },
  {
   "cell_type": "code",
   "execution_count": 39,
   "metadata": {
    "colab": {
     "base_uri": "https://localhost:8080/",
     "height": 1000
    },
    "colab_type": "code",
    "id": "yIVlWdO2z2v-",
    "outputId": "e49354ed-95a8-4a67-e2a3-d0db7624462b"
   },
   "outputs": [
    {
     "name": "stderr",
     "output_type": "stream",
     "text": [
      "Token indices sequence length is longer than the specified maximum sequence length for this model (868 > 512). Running this sequence through the model will result in indexing errors\n",
      "Token indices sequence length is longer than the specified maximum sequence length for this model (1420 > 512). Running this sequence through the model will result in indexing errors\n",
      "Token indices sequence length is longer than the specified maximum sequence length for this model (813 > 512). Running this sequence through the model will result in indexing errors\n",
      "Token indices sequence length is longer than the specified maximum sequence length for this model (562 > 512). Running this sequence through the model will result in indexing errors\n",
      "Token indices sequence length is longer than the specified maximum sequence length for this model (529 > 512). Running this sequence through the model will result in indexing errors\n",
      "Token indices sequence length is longer than the specified maximum sequence length for this model (580 > 512). Running this sequence through the model will result in indexing errors\n",
      "Token indices sequence length is longer than the specified maximum sequence length for this model (863 > 512). Running this sequence through the model will result in indexing errors\n",
      "Token indices sequence length is longer than the specified maximum sequence length for this model (603 > 512). Running this sequence through the model will result in indexing errors\n",
      "Token indices sequence length is longer than the specified maximum sequence length for this model (1437 > 512). Running this sequence through the model will result in indexing errors\n",
      "Token indices sequence length is longer than the specified maximum sequence length for this model (904 > 512). Running this sequence through the model will result in indexing errors\n",
      "Token indices sequence length is longer than the specified maximum sequence length for this model (680 > 512). Running this sequence through the model will result in indexing errors\n",
      "Token indices sequence length is longer than the specified maximum sequence length for this model (3752 > 512). Running this sequence through the model will result in indexing errors\n",
      "Token indices sequence length is longer than the specified maximum sequence length for this model (779 > 512). Running this sequence through the model will result in indexing errors\n",
      "Token indices sequence length is longer than the specified maximum sequence length for this model (1307 > 512). Running this sequence through the model will result in indexing errors\n",
      "Token indices sequence length is longer than the specified maximum sequence length for this model (514 > 512). Running this sequence through the model will result in indexing errors\n",
      "Token indices sequence length is longer than the specified maximum sequence length for this model (685 > 512). Running this sequence through the model will result in indexing errors\n",
      "Token indices sequence length is longer than the specified maximum sequence length for this model (831 > 512). Running this sequence through the model will result in indexing errors\n",
      "Token indices sequence length is longer than the specified maximum sequence length for this model (661 > 512). Running this sequence through the model will result in indexing errors\n",
      "Token indices sequence length is longer than the specified maximum sequence length for this model (829 > 512). Running this sequence through the model will result in indexing errors\n",
      "Token indices sequence length is longer than the specified maximum sequence length for this model (830 > 512). Running this sequence through the model will result in indexing errors\n",
      "Token indices sequence length is longer than the specified maximum sequence length for this model (694 > 512). Running this sequence through the model will result in indexing errors\n",
      "Token indices sequence length is longer than the specified maximum sequence length for this model (853 > 512). Running this sequence through the model will result in indexing errors\n",
      "Token indices sequence length is longer than the specified maximum sequence length for this model (1094 > 512). Running this sequence through the model will result in indexing errors\n",
      "Token indices sequence length is longer than the specified maximum sequence length for this model (533 > 512). Running this sequence through the model will result in indexing errors\n",
      "Token indices sequence length is longer than the specified maximum sequence length for this model (574 > 512). Running this sequence through the model will result in indexing errors\n",
      "Token indices sequence length is longer than the specified maximum sequence length for this model (809 > 512). Running this sequence through the model will result in indexing errors\n",
      "Token indices sequence length is longer than the specified maximum sequence length for this model (1115 > 512). Running this sequence through the model will result in indexing errors\n",
      "Token indices sequence length is longer than the specified maximum sequence length for this model (593 > 512). Running this sequence through the model will result in indexing errors\n",
      "Token indices sequence length is longer than the specified maximum sequence length for this model (800 > 512). Running this sequence through the model will result in indexing errors\n",
      "Token indices sequence length is longer than the specified maximum sequence length for this model (1032 > 512). Running this sequence through the model will result in indexing errors\n",
      "Token indices sequence length is longer than the specified maximum sequence length for this model (717 > 512). Running this sequence through the model will result in indexing errors\n",
      "Token indices sequence length is longer than the specified maximum sequence length for this model (1098 > 512). Running this sequence through the model will result in indexing errors\n",
      "Token indices sequence length is longer than the specified maximum sequence length for this model (2140 > 512). Running this sequence through the model will result in indexing errors\n",
      "Token indices sequence length is longer than the specified maximum sequence length for this model (3130 > 512). Running this sequence through the model will result in indexing errors\n",
      "Token indices sequence length is longer than the specified maximum sequence length for this model (807 > 512). Running this sequence through the model will result in indexing errors\n",
      "Token indices sequence length is longer than the specified maximum sequence length for this model (731 > 512). Running this sequence through the model will result in indexing errors\n",
      "Token indices sequence length is longer than the specified maximum sequence length for this model (1454 > 512). Running this sequence through the model will result in indexing errors\n",
      "Token indices sequence length is longer than the specified maximum sequence length for this model (1097 > 512). Running this sequence through the model will result in indexing errors\n",
      "Token indices sequence length is longer than the specified maximum sequence length for this model (861 > 512). Running this sequence through the model will result in indexing errors\n",
      "Token indices sequence length is longer than the specified maximum sequence length for this model (908 > 512). Running this sequence through the model will result in indexing errors\n",
      "Token indices sequence length is longer than the specified maximum sequence length for this model (518 > 512). Running this sequence through the model will result in indexing errors\n",
      "Token indices sequence length is longer than the specified maximum sequence length for this model (1266 > 512). Running this sequence through the model will result in indexing errors\n",
      "Token indices sequence length is longer than the specified maximum sequence length for this model (523 > 512). Running this sequence through the model will result in indexing errors\n",
      "Token indices sequence length is longer than the specified maximum sequence length for this model (528 > 512). Running this sequence through the model will result in indexing errors\n",
      "Token indices sequence length is longer than the specified maximum sequence length for this model (784 > 512). Running this sequence through the model will result in indexing errors\n",
      "Token indices sequence length is longer than the specified maximum sequence length for this model (613 > 512). Running this sequence through the model will result in indexing errors\n",
      "Token indices sequence length is longer than the specified maximum sequence length for this model (560 > 512). Running this sequence through the model will result in indexing errors\n",
      "Token indices sequence length is longer than the specified maximum sequence length for this model (1519 > 512). Running this sequence through the model will result in indexing errors\n",
      "Token indices sequence length is longer than the specified maximum sequence length for this model (767 > 512). Running this sequence through the model will result in indexing errors\n",
      "Token indices sequence length is longer than the specified maximum sequence length for this model (569 > 512). Running this sequence through the model will result in indexing errors\n",
      "Token indices sequence length is longer than the specified maximum sequence length for this model (579 > 512). Running this sequence through the model will result in indexing errors\n",
      "Token indices sequence length is longer than the specified maximum sequence length for this model (1938 > 512). Running this sequence through the model will result in indexing errors\n",
      "Token indices sequence length is longer than the specified maximum sequence length for this model (689 > 512). Running this sequence through the model will result in indexing errors\n",
      "Token indices sequence length is longer than the specified maximum sequence length for this model (642 > 512). Running this sequence through the model will result in indexing errors\n",
      "Token indices sequence length is longer than the specified maximum sequence length for this model (1264 > 512). Running this sequence through the model will result in indexing errors\n",
      "Token indices sequence length is longer than the specified maximum sequence length for this model (583 > 512). Running this sequence through the model will result in indexing errors\n",
      "Token indices sequence length is longer than the specified maximum sequence length for this model (1864 > 512). Running this sequence through the model will result in indexing errors\n",
      "Token indices sequence length is longer than the specified maximum sequence length for this model (965 > 512). Running this sequence through the model will result in indexing errors\n",
      "Token indices sequence length is longer than the specified maximum sequence length for this model (636 > 512). Running this sequence through the model will result in indexing errors\n",
      "Token indices sequence length is longer than the specified maximum sequence length for this model (1008 > 512). Running this sequence through the model will result in indexing errors\n",
      "Token indices sequence length is longer than the specified maximum sequence length for this model (572 > 512). Running this sequence through the model will result in indexing errors\n",
      "Token indices sequence length is longer than the specified maximum sequence length for this model (591 > 512). Running this sequence through the model will result in indexing errors\n",
      "Token indices sequence length is longer than the specified maximum sequence length for this model (1139 > 512). Running this sequence through the model will result in indexing errors\n",
      "Token indices sequence length is longer than the specified maximum sequence length for this model (629 > 512). Running this sequence through the model will result in indexing errors\n",
      "Token indices sequence length is longer than the specified maximum sequence length for this model (2073 > 512). Running this sequence through the model will result in indexing errors\n",
      "Token indices sequence length is longer than the specified maximum sequence length for this model (2469 > 512). Running this sequence through the model will result in indexing errors\n",
      "Token indices sequence length is longer than the specified maximum sequence length for this model (559 > 512). Running this sequence through the model will result in indexing errors\n",
      "Token indices sequence length is longer than the specified maximum sequence length for this model (3333 > 512). Running this sequence through the model will result in indexing errors\n",
      "Token indices sequence length is longer than the specified maximum sequence length for this model (612 > 512). Running this sequence through the model will result in indexing errors\n",
      "Token indices sequence length is longer than the specified maximum sequence length for this model (582 > 512). Running this sequence through the model will result in indexing errors\n",
      "Token indices sequence length is longer than the specified maximum sequence length for this model (1442 > 512). Running this sequence through the model will result in indexing errors\n",
      "Token indices sequence length is longer than the specified maximum sequence length for this model (1042 > 512). Running this sequence through the model will result in indexing errors\n",
      "Token indices sequence length is longer than the specified maximum sequence length for this model (518 > 512). Running this sequence through the model will result in indexing errors\n",
      "Token indices sequence length is longer than the specified maximum sequence length for this model (567 > 512). Running this sequence through the model will result in indexing errors\n"
     ]
    }
   ],
   "source": [
    "# Create sentence and label lists\n",
    "sentences = dfPred.text.values\n",
    "labels = dfPred.label.values\n",
    "\n",
    "# Tokenize all of the sentences and map the tokens to thier word IDs.\n",
    "input_ids = []\n",
    "\n",
    "# For every sentence...\n",
    "for sent in sentences:\n",
    "    # `encode` will:\n",
    "    #   (1) Tokenize the sentence.\n",
    "    #   (2) Prepend the `[CLS]` token to the start.\n",
    "    #   (3) Append the `[SEP]` token to the end.\n",
    "    #   (4) Map tokens to their IDs.\n",
    "    encoded_sent = tokenizer.encode(\n",
    "                        sent,                      # Sentence to encode.\n",
    "                        add_special_tokens = True, # Add '[CLS]' and '[SEP]'\n",
    "                   )\n",
    "    \n",
    "    input_ids.append(encoded_sent)\n",
    "\n",
    "# Pad our input tokens\n",
    "input_ids = pad_sequences(input_ids, maxlen=MAX_LEN, \n",
    "                          dtype=\"long\", truncating=\"post\", padding=\"post\")\n",
    "\n",
    "# Create attention masks\n",
    "attention_masks = []\n",
    "\n",
    "# Create a mask of 1s for each token followed by 0s for padding\n",
    "for seq in input_ids:\n",
    "    seq_mask = [float(i>0) for i in seq]\n",
    "    attention_masks.append(seq_mask) \n",
    "\n",
    "# Convert to tensors.\n",
    "prediction_inputs = torch.tensor(input_ids)\n",
    "prediction_masks = torch.tensor(attention_masks)\n",
    "prediction_labels = torch.tensor(labels)\n",
    "\n",
    "# Set the batch size.  \n",
    "batch_size = 32  \n",
    "\n",
    "# Create the DataLoader.\n",
    "prediction_data = TensorDataset(prediction_inputs, prediction_masks, prediction_labels)\n",
    "prediction_sampler = SequentialSampler(prediction_data)\n",
    "prediction_dataloader = DataLoader(prediction_data, sampler=prediction_sampler, batch_size=batch_size)"
   ]
  },
  {
   "cell_type": "code",
   "execution_count": 40,
   "metadata": {
    "colab": {
     "base_uri": "https://localhost:8080/",
     "height": 51
    },
    "colab_type": "code",
    "id": "ZEHrz3IS0eMP",
    "outputId": "3e08c15a-1d07-4c06-b421-b8b79b19ce25"
   },
   "outputs": [
    {
     "name": "stdout",
     "output_type": "stream",
     "text": [
      "Predicting labels for 10,000 test sentences...\n",
      "    DONE.\n"
     ]
    }
   ],
   "source": [
    "print('Predicting labels for {:,} test sentences...'.format(len(prediction_inputs)))\n",
    "\n",
    "# Put model in evaluation mode\n",
    "model.eval()\n",
    "\n",
    "# Tracking variables \n",
    "predictions , true_labels = [], []\n",
    "\n",
    "# Predict \n",
    "for batch in prediction_dataloader:\n",
    "    # Add batch to GPU\n",
    "    batch = tuple(t.to(device) for t in batch)\n",
    "\n",
    "    # Unpack the inputs from our dataloader\n",
    "    b_input_ids, b_input_mask, b_labels = batch\n",
    "\n",
    "    # Telling the model not to compute or store gradients, saving memory and \n",
    "    # speeding up prediction\n",
    "    with torch.no_grad():\n",
    "      # Forward pass, calculate logit predictions\n",
    "      outputs = model(b_input_ids, token_type_ids=None, \n",
    "                      attention_mask=b_input_mask)\n",
    "\n",
    "    logits = outputs[0]\n",
    "\n",
    "    # Move logits and labels to CPU\n",
    "    logits = logits.detach().cpu().numpy()\n",
    "    label_ids = b_labels.to('cpu').numpy()\n",
    "\n",
    "    # Store predictions and true labels\n",
    "    predictions.append(logits)\n",
    "    true_labels.append(label_ids)\n",
    "\n",
    "print('    DONE.')"
   ]
  },
  {
   "cell_type": "code",
   "execution_count": 41,
   "metadata": {
    "colab": {
     "base_uri": "https://localhost:8080/",
     "height": 34
    },
    "colab_type": "code",
    "id": "4jEZG0AY072w",
    "outputId": "56f718bf-749b-4ed6-f872-48edebe688e0"
   },
   "outputs": [
    {
     "name": "stdout",
     "output_type": "stream",
     "text": [
      "Positive samples: 5000 of 10000 (50.00%)\n"
     ]
    }
   ],
   "source": [
    "print('Positive samples: %d of %d (%.2f%%)' % (df.label.sum(), len(df.label), (df.label.sum() / len(df.label) * 100.0)))"
   ]
  },
  {
   "cell_type": "code",
   "execution_count": 42,
   "metadata": {
    "colab": {
     "base_uri": "https://localhost:8080/",
     "height": 34
    },
    "colab_type": "code",
    "id": "u2FLEC-I1CkA",
    "outputId": "6002b83b-8911-4a2d-e1df-c9d096178ae2"
   },
   "outputs": [
    {
     "name": "stdout",
     "output_type": "stream",
     "text": [
      "Calculating Matthews Corr. Coef. for each batch...\n"
     ]
    }
   ],
   "source": [
    "from sklearn.metrics import matthews_corrcoef\n",
    "\n",
    "matthews_set = []\n",
    "\n",
    "# Evaluate each test batch using Matthew's correlation coefficient\n",
    "print('Calculating Matthews Corr. Coef. for each batch...')\n",
    "\n",
    "# For each input batch...\n",
    "for i in range(len(true_labels)):\n",
    "\n",
    "    # The predictions for this batch are a 2-column ndarray (one column for \"0\" \n",
    "    # and one column for \"1\"). Pick the label with the highest value and turn this\n",
    "    # in to a list of 0s and 1s.\n",
    "    pred_labels_i = np.argmax(predictions[i], axis=1).flatten()\n",
    "\n",
    "    # Calculate and store the coef for this batch.  \n",
    "    matthews = matthews_corrcoef(true_labels[i], pred_labels_i)                \n",
    "    matthews_set.append(matthews)"
   ]
  },
  {
   "cell_type": "code",
   "execution_count": 43,
   "metadata": {
    "colab": {
     "base_uri": "https://localhost:8080/",
     "height": 34
    },
    "colab_type": "code",
    "id": "nIT3kt9_1Gyg",
    "outputId": "9567609c-07b8-4988-bd1a-5096f1dd5b68"
   },
   "outputs": [
    {
     "name": "stdout",
     "output_type": "stream",
     "text": [
      "MCC: 0.520\n"
     ]
    }
   ],
   "source": [
    "# Combine the predictions for each batch into a single list of 0s and 1s.\n",
    "flat_predictions = [item for sublist in predictions for item in sublist]\n",
    "flat_predictions = np.argmax(flat_predictions, axis=1).flatten()\n",
    "\n",
    "# Combine the correct labels for each batch into a single list.\n",
    "flat_true_labels = [item for sublist in true_labels for item in sublist]\n",
    "\n",
    "# Calculate the MCC\n",
    "mcc = matthews_corrcoef(flat_true_labels, flat_predictions)\n",
    "\n",
    "print('MCC: %.3f' % mcc)"
   ]
  },
  {
   "cell_type": "markdown",
   "metadata": {
    "colab_type": "text",
    "id": "gIuATrn51h_P"
   },
   "source": [
    "The model has pretty good performance, suggesting that there is a strong positive relationship between the actual label and the predicted label. The Google Bert model also has a similar score. These two models performed much better than the LSTM model."
   ]
  },
  {
   "cell_type": "markdown",
   "metadata": {
    "colab_type": "text",
    "id": "6e0365x22GfN"
   },
   "source": [
    "## Exercise 2\n",
    "In the cells immediately following, use the pipeline functions or the word or sentence vector functions (e.g., similarity) to explore the social game underlying the production and meaning of texts associated with your final project. You have used similar, but often weaker versions in previous weeks. How does BERT help you gain insight regarding your research question that is similar and different from prior methods?"
   ]
  },
  {
   "cell_type": "markdown",
   "metadata": {
    "colab_type": "text",
    "id": "B8e-SqAZ2V15"
   },
   "source": [
    "### Embeddings, Context Words"
   ]
  },
  {
   "cell_type": "code",
   "execution_count": 0,
   "metadata": {
    "colab": {},
    "colab_type": "code",
    "id": "jqr4aV2t15xq"
   },
   "outputs": [],
   "source": [
    "parDF = pd.concat([posDF[['text', 'parent_text']], negDF[['text', 'parent_text']]], axis=0, ignore_index=True)\n",
    "text = parDF.text\n",
    "par_text = parDF.parent_text\n",
    "text = [\"[CLS] \" + sentence + \" [SEP]\" for sentence in text]\n",
    "par_text = [\"[CLS] \" + sentence + \" [SEP]\" for sentence in par_text]"
   ]
  },
  {
   "cell_type": "code",
   "execution_count": 45,
   "metadata": {
    "colab": {
     "base_uri": "https://localhost:8080/",
     "height": 71
    },
    "colab_type": "code",
    "id": "cTc40mt527i-",
    "outputId": "8d453f42-15f2-4ef9-f8ab-22741569172c"
   },
   "outputs": [
    {
     "name": "stdout",
     "output_type": "stream",
     "text": [
      "['[CLS]', 'this', 'isn', \"'\", 't', 'twitter', ':', 'try', 'to', 'comment', 'on', 'the', 'article', ',', 'and', 'not', 'your', 'current', 'activities', '.', '[SEP]']\n",
      "['[CLS]', 'fucking', 'fa', '##gg', '##ot', '.', '[SEP]']\n"
     ]
    }
   ],
   "source": [
    "tokenizer = BertTokenizer.from_pretrained('bert-base-uncased')\n",
    "# Tokenize our sentence with the BERT tokenizer.\n",
    "tokenized_text = [tokenizer.tokenize(com) for com in text]\n",
    "tokenized_par = [tokenizer.tokenize(par_com) for par_com in par_text]\n",
    "\n",
    "# Print out the tokens.\n",
    "print(tokenized_text[0])\n",
    "print(tokenized_par[0])"
   ]
  },
  {
   "cell_type": "code",
   "execution_count": 0,
   "metadata": {
    "colab": {},
    "colab_type": "code",
    "id": "X_e7gCd13dWH"
   },
   "outputs": [],
   "source": [
    "# Map the token strings to their vocabulary indeces.\n",
    "indexed_text = [tokenizer.convert_tokens_to_ids(text) for text in tokenized_text]\n",
    "indexed_par = [tokenizer.convert_tokens_to_ids(text) for text in tokenized_par]"
   ]
  },
  {
   "cell_type": "code",
   "execution_count": 0,
   "metadata": {
    "colab": {},
    "colab_type": "code",
    "id": "hWtEaPbe4Lam"
   },
   "outputs": [],
   "source": [
    "indexed_text = pad_sequences(indexed_text, maxlen=128, dtype=\"long\", truncating=\"post\", padding=\"post\")\n",
    "indexed_par = pad_sequences(indexed_par, maxlen=128, dtype=\"long\", truncating=\"post\", padding=\"post\")"
   ]
  },
  {
   "cell_type": "markdown",
   "metadata": {
    "colab_type": "text",
    "id": "3WCOAS2n4QlQ"
   },
   "source": [
    "### Segment ID"
   ]
  },
  {
   "cell_type": "code",
   "execution_count": 0,
   "metadata": {
    "colab": {},
    "colab_type": "code",
    "id": "XrLYrlbf4OaJ"
   },
   "outputs": [],
   "source": [
    "text_ids = [128 * [1] for index in tokenized_text]\n",
    "par_ids = [128 * [1] for index in tokenized_par]"
   ]
  },
  {
   "cell_type": "code",
   "execution_count": 0,
   "metadata": {
    "colab": {},
    "colab_type": "code",
    "id": "-_Ff9aFs4ctW"
   },
   "outputs": [],
   "source": [
    "text_token_tensor = torch.tensor(indexed_text[:50])\n",
    "par_token_tensor = torch.tensor(indexed_par[:50])\n",
    "text_seg_tensor = torch.tensor(text_ids[:50])\n",
    "par_seg_tensor = torch.tensor(par_ids[:50])"
   ]
  },
  {
   "cell_type": "code",
   "execution_count": 50,
   "metadata": {
    "colab": {
     "base_uri": "https://localhost:8080/",
     "height": 1000
    },
    "colab_type": "code",
    "id": "DDEDCo-j4zHY",
    "outputId": "7c928540-3ffc-4876-91fe-f50e625cefd2"
   },
   "outputs": [
    {
     "data": {
      "text/plain": [
       "BertModel(\n",
       "  (embeddings): BertEmbeddings(\n",
       "    (word_embeddings): Embedding(30522, 768, padding_idx=0)\n",
       "    (position_embeddings): Embedding(512, 768)\n",
       "    (token_type_embeddings): Embedding(2, 768)\n",
       "    (LayerNorm): LayerNorm((768,), eps=1e-12, elementwise_affine=True)\n",
       "    (dropout): Dropout(p=0.1, inplace=False)\n",
       "  )\n",
       "  (encoder): BertEncoder(\n",
       "    (layer): ModuleList(\n",
       "      (0): BertLayer(\n",
       "        (attention): BertAttention(\n",
       "          (self): BertSelfAttention(\n",
       "            (query): Linear(in_features=768, out_features=768, bias=True)\n",
       "            (key): Linear(in_features=768, out_features=768, bias=True)\n",
       "            (value): Linear(in_features=768, out_features=768, bias=True)\n",
       "            (dropout): Dropout(p=0.1, inplace=False)\n",
       "          )\n",
       "          (output): BertSelfOutput(\n",
       "            (dense): Linear(in_features=768, out_features=768, bias=True)\n",
       "            (LayerNorm): LayerNorm((768,), eps=1e-12, elementwise_affine=True)\n",
       "            (dropout): Dropout(p=0.1, inplace=False)\n",
       "          )\n",
       "        )\n",
       "        (intermediate): BertIntermediate(\n",
       "          (dense): Linear(in_features=768, out_features=3072, bias=True)\n",
       "        )\n",
       "        (output): BertOutput(\n",
       "          (dense): Linear(in_features=3072, out_features=768, bias=True)\n",
       "          (LayerNorm): LayerNorm((768,), eps=1e-12, elementwise_affine=True)\n",
       "          (dropout): Dropout(p=0.1, inplace=False)\n",
       "        )\n",
       "      )\n",
       "      (1): BertLayer(\n",
       "        (attention): BertAttention(\n",
       "          (self): BertSelfAttention(\n",
       "            (query): Linear(in_features=768, out_features=768, bias=True)\n",
       "            (key): Linear(in_features=768, out_features=768, bias=True)\n",
       "            (value): Linear(in_features=768, out_features=768, bias=True)\n",
       "            (dropout): Dropout(p=0.1, inplace=False)\n",
       "          )\n",
       "          (output): BertSelfOutput(\n",
       "            (dense): Linear(in_features=768, out_features=768, bias=True)\n",
       "            (LayerNorm): LayerNorm((768,), eps=1e-12, elementwise_affine=True)\n",
       "            (dropout): Dropout(p=0.1, inplace=False)\n",
       "          )\n",
       "        )\n",
       "        (intermediate): BertIntermediate(\n",
       "          (dense): Linear(in_features=768, out_features=3072, bias=True)\n",
       "        )\n",
       "        (output): BertOutput(\n",
       "          (dense): Linear(in_features=3072, out_features=768, bias=True)\n",
       "          (LayerNorm): LayerNorm((768,), eps=1e-12, elementwise_affine=True)\n",
       "          (dropout): Dropout(p=0.1, inplace=False)\n",
       "        )\n",
       "      )\n",
       "      (2): BertLayer(\n",
       "        (attention): BertAttention(\n",
       "          (self): BertSelfAttention(\n",
       "            (query): Linear(in_features=768, out_features=768, bias=True)\n",
       "            (key): Linear(in_features=768, out_features=768, bias=True)\n",
       "            (value): Linear(in_features=768, out_features=768, bias=True)\n",
       "            (dropout): Dropout(p=0.1, inplace=False)\n",
       "          )\n",
       "          (output): BertSelfOutput(\n",
       "            (dense): Linear(in_features=768, out_features=768, bias=True)\n",
       "            (LayerNorm): LayerNorm((768,), eps=1e-12, elementwise_affine=True)\n",
       "            (dropout): Dropout(p=0.1, inplace=False)\n",
       "          )\n",
       "        )\n",
       "        (intermediate): BertIntermediate(\n",
       "          (dense): Linear(in_features=768, out_features=3072, bias=True)\n",
       "        )\n",
       "        (output): BertOutput(\n",
       "          (dense): Linear(in_features=3072, out_features=768, bias=True)\n",
       "          (LayerNorm): LayerNorm((768,), eps=1e-12, elementwise_affine=True)\n",
       "          (dropout): Dropout(p=0.1, inplace=False)\n",
       "        )\n",
       "      )\n",
       "      (3): BertLayer(\n",
       "        (attention): BertAttention(\n",
       "          (self): BertSelfAttention(\n",
       "            (query): Linear(in_features=768, out_features=768, bias=True)\n",
       "            (key): Linear(in_features=768, out_features=768, bias=True)\n",
       "            (value): Linear(in_features=768, out_features=768, bias=True)\n",
       "            (dropout): Dropout(p=0.1, inplace=False)\n",
       "          )\n",
       "          (output): BertSelfOutput(\n",
       "            (dense): Linear(in_features=768, out_features=768, bias=True)\n",
       "            (LayerNorm): LayerNorm((768,), eps=1e-12, elementwise_affine=True)\n",
       "            (dropout): Dropout(p=0.1, inplace=False)\n",
       "          )\n",
       "        )\n",
       "        (intermediate): BertIntermediate(\n",
       "          (dense): Linear(in_features=768, out_features=3072, bias=True)\n",
       "        )\n",
       "        (output): BertOutput(\n",
       "          (dense): Linear(in_features=3072, out_features=768, bias=True)\n",
       "          (LayerNorm): LayerNorm((768,), eps=1e-12, elementwise_affine=True)\n",
       "          (dropout): Dropout(p=0.1, inplace=False)\n",
       "        )\n",
       "      )\n",
       "      (4): BertLayer(\n",
       "        (attention): BertAttention(\n",
       "          (self): BertSelfAttention(\n",
       "            (query): Linear(in_features=768, out_features=768, bias=True)\n",
       "            (key): Linear(in_features=768, out_features=768, bias=True)\n",
       "            (value): Linear(in_features=768, out_features=768, bias=True)\n",
       "            (dropout): Dropout(p=0.1, inplace=False)\n",
       "          )\n",
       "          (output): BertSelfOutput(\n",
       "            (dense): Linear(in_features=768, out_features=768, bias=True)\n",
       "            (LayerNorm): LayerNorm((768,), eps=1e-12, elementwise_affine=True)\n",
       "            (dropout): Dropout(p=0.1, inplace=False)\n",
       "          )\n",
       "        )\n",
       "        (intermediate): BertIntermediate(\n",
       "          (dense): Linear(in_features=768, out_features=3072, bias=True)\n",
       "        )\n",
       "        (output): BertOutput(\n",
       "          (dense): Linear(in_features=3072, out_features=768, bias=True)\n",
       "          (LayerNorm): LayerNorm((768,), eps=1e-12, elementwise_affine=True)\n",
       "          (dropout): Dropout(p=0.1, inplace=False)\n",
       "        )\n",
       "      )\n",
       "      (5): BertLayer(\n",
       "        (attention): BertAttention(\n",
       "          (self): BertSelfAttention(\n",
       "            (query): Linear(in_features=768, out_features=768, bias=True)\n",
       "            (key): Linear(in_features=768, out_features=768, bias=True)\n",
       "            (value): Linear(in_features=768, out_features=768, bias=True)\n",
       "            (dropout): Dropout(p=0.1, inplace=False)\n",
       "          )\n",
       "          (output): BertSelfOutput(\n",
       "            (dense): Linear(in_features=768, out_features=768, bias=True)\n",
       "            (LayerNorm): LayerNorm((768,), eps=1e-12, elementwise_affine=True)\n",
       "            (dropout): Dropout(p=0.1, inplace=False)\n",
       "          )\n",
       "        )\n",
       "        (intermediate): BertIntermediate(\n",
       "          (dense): Linear(in_features=768, out_features=3072, bias=True)\n",
       "        )\n",
       "        (output): BertOutput(\n",
       "          (dense): Linear(in_features=3072, out_features=768, bias=True)\n",
       "          (LayerNorm): LayerNorm((768,), eps=1e-12, elementwise_affine=True)\n",
       "          (dropout): Dropout(p=0.1, inplace=False)\n",
       "        )\n",
       "      )\n",
       "      (6): BertLayer(\n",
       "        (attention): BertAttention(\n",
       "          (self): BertSelfAttention(\n",
       "            (query): Linear(in_features=768, out_features=768, bias=True)\n",
       "            (key): Linear(in_features=768, out_features=768, bias=True)\n",
       "            (value): Linear(in_features=768, out_features=768, bias=True)\n",
       "            (dropout): Dropout(p=0.1, inplace=False)\n",
       "          )\n",
       "          (output): BertSelfOutput(\n",
       "            (dense): Linear(in_features=768, out_features=768, bias=True)\n",
       "            (LayerNorm): LayerNorm((768,), eps=1e-12, elementwise_affine=True)\n",
       "            (dropout): Dropout(p=0.1, inplace=False)\n",
       "          )\n",
       "        )\n",
       "        (intermediate): BertIntermediate(\n",
       "          (dense): Linear(in_features=768, out_features=3072, bias=True)\n",
       "        )\n",
       "        (output): BertOutput(\n",
       "          (dense): Linear(in_features=3072, out_features=768, bias=True)\n",
       "          (LayerNorm): LayerNorm((768,), eps=1e-12, elementwise_affine=True)\n",
       "          (dropout): Dropout(p=0.1, inplace=False)\n",
       "        )\n",
       "      )\n",
       "      (7): BertLayer(\n",
       "        (attention): BertAttention(\n",
       "          (self): BertSelfAttention(\n",
       "            (query): Linear(in_features=768, out_features=768, bias=True)\n",
       "            (key): Linear(in_features=768, out_features=768, bias=True)\n",
       "            (value): Linear(in_features=768, out_features=768, bias=True)\n",
       "            (dropout): Dropout(p=0.1, inplace=False)\n",
       "          )\n",
       "          (output): BertSelfOutput(\n",
       "            (dense): Linear(in_features=768, out_features=768, bias=True)\n",
       "            (LayerNorm): LayerNorm((768,), eps=1e-12, elementwise_affine=True)\n",
       "            (dropout): Dropout(p=0.1, inplace=False)\n",
       "          )\n",
       "        )\n",
       "        (intermediate): BertIntermediate(\n",
       "          (dense): Linear(in_features=768, out_features=3072, bias=True)\n",
       "        )\n",
       "        (output): BertOutput(\n",
       "          (dense): Linear(in_features=3072, out_features=768, bias=True)\n",
       "          (LayerNorm): LayerNorm((768,), eps=1e-12, elementwise_affine=True)\n",
       "          (dropout): Dropout(p=0.1, inplace=False)\n",
       "        )\n",
       "      )\n",
       "      (8): BertLayer(\n",
       "        (attention): BertAttention(\n",
       "          (self): BertSelfAttention(\n",
       "            (query): Linear(in_features=768, out_features=768, bias=True)\n",
       "            (key): Linear(in_features=768, out_features=768, bias=True)\n",
       "            (value): Linear(in_features=768, out_features=768, bias=True)\n",
       "            (dropout): Dropout(p=0.1, inplace=False)\n",
       "          )\n",
       "          (output): BertSelfOutput(\n",
       "            (dense): Linear(in_features=768, out_features=768, bias=True)\n",
       "            (LayerNorm): LayerNorm((768,), eps=1e-12, elementwise_affine=True)\n",
       "            (dropout): Dropout(p=0.1, inplace=False)\n",
       "          )\n",
       "        )\n",
       "        (intermediate): BertIntermediate(\n",
       "          (dense): Linear(in_features=768, out_features=3072, bias=True)\n",
       "        )\n",
       "        (output): BertOutput(\n",
       "          (dense): Linear(in_features=3072, out_features=768, bias=True)\n",
       "          (LayerNorm): LayerNorm((768,), eps=1e-12, elementwise_affine=True)\n",
       "          (dropout): Dropout(p=0.1, inplace=False)\n",
       "        )\n",
       "      )\n",
       "      (9): BertLayer(\n",
       "        (attention): BertAttention(\n",
       "          (self): BertSelfAttention(\n",
       "            (query): Linear(in_features=768, out_features=768, bias=True)\n",
       "            (key): Linear(in_features=768, out_features=768, bias=True)\n",
       "            (value): Linear(in_features=768, out_features=768, bias=True)\n",
       "            (dropout): Dropout(p=0.1, inplace=False)\n",
       "          )\n",
       "          (output): BertSelfOutput(\n",
       "            (dense): Linear(in_features=768, out_features=768, bias=True)\n",
       "            (LayerNorm): LayerNorm((768,), eps=1e-12, elementwise_affine=True)\n",
       "            (dropout): Dropout(p=0.1, inplace=False)\n",
       "          )\n",
       "        )\n",
       "        (intermediate): BertIntermediate(\n",
       "          (dense): Linear(in_features=768, out_features=3072, bias=True)\n",
       "        )\n",
       "        (output): BertOutput(\n",
       "          (dense): Linear(in_features=3072, out_features=768, bias=True)\n",
       "          (LayerNorm): LayerNorm((768,), eps=1e-12, elementwise_affine=True)\n",
       "          (dropout): Dropout(p=0.1, inplace=False)\n",
       "        )\n",
       "      )\n",
       "      (10): BertLayer(\n",
       "        (attention): BertAttention(\n",
       "          (self): BertSelfAttention(\n",
       "            (query): Linear(in_features=768, out_features=768, bias=True)\n",
       "            (key): Linear(in_features=768, out_features=768, bias=True)\n",
       "            (value): Linear(in_features=768, out_features=768, bias=True)\n",
       "            (dropout): Dropout(p=0.1, inplace=False)\n",
       "          )\n",
       "          (output): BertSelfOutput(\n",
       "            (dense): Linear(in_features=768, out_features=768, bias=True)\n",
       "            (LayerNorm): LayerNorm((768,), eps=1e-12, elementwise_affine=True)\n",
       "            (dropout): Dropout(p=0.1, inplace=False)\n",
       "          )\n",
       "        )\n",
       "        (intermediate): BertIntermediate(\n",
       "          (dense): Linear(in_features=768, out_features=3072, bias=True)\n",
       "        )\n",
       "        (output): BertOutput(\n",
       "          (dense): Linear(in_features=3072, out_features=768, bias=True)\n",
       "          (LayerNorm): LayerNorm((768,), eps=1e-12, elementwise_affine=True)\n",
       "          (dropout): Dropout(p=0.1, inplace=False)\n",
       "        )\n",
       "      )\n",
       "      (11): BertLayer(\n",
       "        (attention): BertAttention(\n",
       "          (self): BertSelfAttention(\n",
       "            (query): Linear(in_features=768, out_features=768, bias=True)\n",
       "            (key): Linear(in_features=768, out_features=768, bias=True)\n",
       "            (value): Linear(in_features=768, out_features=768, bias=True)\n",
       "            (dropout): Dropout(p=0.1, inplace=False)\n",
       "          )\n",
       "          (output): BertSelfOutput(\n",
       "            (dense): Linear(in_features=768, out_features=768, bias=True)\n",
       "            (LayerNorm): LayerNorm((768,), eps=1e-12, elementwise_affine=True)\n",
       "            (dropout): Dropout(p=0.1, inplace=False)\n",
       "          )\n",
       "        )\n",
       "        (intermediate): BertIntermediate(\n",
       "          (dense): Linear(in_features=768, out_features=3072, bias=True)\n",
       "        )\n",
       "        (output): BertOutput(\n",
       "          (dense): Linear(in_features=3072, out_features=768, bias=True)\n",
       "          (LayerNorm): LayerNorm((768,), eps=1e-12, elementwise_affine=True)\n",
       "          (dropout): Dropout(p=0.1, inplace=False)\n",
       "        )\n",
       "      )\n",
       "    )\n",
       "  )\n",
       "  (pooler): BertPooler(\n",
       "    (dense): Linear(in_features=768, out_features=768, bias=True)\n",
       "    (activation): Tanh()\n",
       "  )\n",
       ")"
      ]
     },
     "execution_count": 50,
     "metadata": {
      "tags": []
     },
     "output_type": "execute_result"
    }
   ],
   "source": [
    "# Load pre-trained model (weights)\n",
    "from transformers import BertModel\n",
    "model_embedding = BertModel.from_pretrained('bert-base-uncased')\n",
    "\n",
    "# Put the model in \"evaluation\" mode, meaning feed-forward operation.\n",
    "model_embedding.eval()"
   ]
  },
  {
   "cell_type": "code",
   "execution_count": 0,
   "metadata": {
    "colab": {},
    "colab_type": "code",
    "id": "N8ItimX94-E3"
   },
   "outputs": [],
   "source": [
    "output = model_embedding(text_token_tensor, text_seg_tensor)\n",
    "par_output = model_embedding(par_token_tensor, par_seg_tensor)"
   ]
  },
  {
   "cell_type": "markdown",
   "metadata": {
    "colab_type": "text",
    "id": "lFzM-271JyA_"
   },
   "source": [
    "### Understanding the Output"
   ]
  },
  {
   "cell_type": "code",
   "execution_count": 0,
   "metadata": {
    "colab": {},
    "colab_type": "code",
    "id": "Ynu2eHQhHtT2"
   },
   "outputs": [],
   "source": [
    "word_embeddings, sentence_embedding = output\n",
    "word_embeddings_par, sentence_embedding_par = par_output"
   ]
  },
  {
   "cell_type": "code",
   "execution_count": 53,
   "metadata": {
    "colab": {
     "base_uri": "https://localhost:8080/",
     "height": 602
    },
    "colab_type": "code",
    "id": "F-HU8wG1IIhS",
    "outputId": "fda9094d-20ba-4edb-fe4c-0318fa9d66d6"
   },
   "outputs": [
    {
     "data": {
      "image/png": "[encoded data removed]",
      "text/plain": [
       "<Figure size 720x720 with 1 Axes>"
      ]
     },
     "metadata": {
      "tags": []
     },
     "output_type": "display_data"
    }
   ],
   "source": [
    "vec = word_embeddings[0][0]\n",
    "vec = vec.detach().numpy()\n",
    "# Plot the values as a histogram to show their distribution.\n",
    "plt.figure(figsize=(10,10))\n",
    "plt.hist(vec, bins=200)\n",
    "plt.show()"
   ]
  },
  {
   "cell_type": "markdown",
   "metadata": {
    "colab_type": "text",
    "id": "8UNv1Lwr0ZLp"
   },
   "source": [
    "The range is fairly similar for all layers and tokens, with the majority of values falling between [-1, 1]."
   ]
  },
  {
   "cell_type": "markdown",
   "metadata": {
    "colab_type": "text",
    "id": "YE8-dI49KK6I"
   },
   "source": [
    "### Sentence Vector"
   ]
  },
  {
   "cell_type": "code",
   "execution_count": 0,
   "metadata": {
    "colab": {},
    "colab_type": "code",
    "id": "cSWDhSw1J4Wl"
   },
   "outputs": [],
   "source": [
    "from scipy.spatial.distance import cosine\n",
    "l = len(sentence_embedding.detach().numpy())\n",
    "embedding_cosine = [1 - cosine(sentence_embedding[i].detach().numpy(), sentence_embedding_par[i].detach().numpy()) for i in range(l)]"
   ]
  },
  {
   "cell_type": "code",
   "execution_count": 55,
   "metadata": {
    "colab": {
     "base_uri": "https://localhost:8080/",
     "height": 402
    },
    "colab_type": "code",
    "id": "yxBVQIkrK5Fs",
    "outputId": "ff8aa2da-00d0-4a74-c9e6-3b14042e5c42"
   },
   "outputs": [
    {
     "data": {
      "text/plain": [
       "[<matplotlib.lines.Line2D at 0x7fce9ad17a90>]"
      ]
     },
     "execution_count": 55,
     "metadata": {
      "tags": []
     },
     "output_type": "execute_result"
    },
    {
     "data": {
      "image/png": "[encoded data removed]",
      "text/plain": [
       "<Figure size 864x432 with 1 Axes>"
      ]
     },
     "metadata": {
      "tags": []
     },
     "output_type": "display_data"
    }
   ],
   "source": [
    "plt.plot(embedding_cosine)"
   ]
  },
  {
   "cell_type": "markdown",
   "metadata": {
    "colab_type": "text",
    "id": "xA6-oP4vLFKF"
   },
   "source": [
    "The cosine similarity of sentence embeddings between comments and parent comments is high for all token tensers except 1 at around 19. Three other places have similarities at around 0.6-0.7, and all the other places obtained a similarity above 0.8. This suggests that comments and parent comments are highly similar in their embeddings."
   ]
  },
  {
   "cell_type": "markdown",
   "metadata": {
    "colab_type": "text",
    "id": "UtlhVPCSLmva"
   },
   "source": [
    "### Transformers Pipelines"
   ]
  },
  {
   "cell_type": "code",
   "execution_count": 56,
   "metadata": {
    "colab": {
     "base_uri": "https://localhost:8080/",
     "height": 213,
     "referenced_widgets": [
      "1cd4ade99c1f4748aaf8776f1097ceb6",
      "bfd4d22635fa46d4ba0f1e2f6e982114",
      "e68ba4cd54c946df9b0775c68346ddbb",
      "cee8cdfe77ec476b82a9970c8fa64245",
      "318afc0fbad04947bdf15630ac1c3c80",
      "bffe57427b5943948fabc4c84bed90b2",
      "95001fc643a2456db649d5dc75038f31",
      "2ffbf17f925a4dceaa9091c1b78902b1",
      "61abf8abb49a4bc7840e5dfb53e0262a",
      "24756e5b276649d2a1163485e4be375b",
      "2264c0bee2104a89ae3918d4e39a80f7",
      "1bde1506ea6e481a9cae566029726174",
      "5d64c2eaafd04cceb591ce5dbd4349b4",
      "566d0be50e6e44679491ff10fd9ba784",
      "e9b0dcb349e640299b9ddd3283d8d518",
      "5d32b39bcb094fabb4d67ee78a1bdcac",
      "7ebe899fd4b34cbb91b14ffbc51ef9cb",
      "b5e65bfc2deb496fa2a701c78855cf81",
      "297cb14da14d45538568245f2ebdd178",
      "ef7e3d3deeb14b0cb5c4c4b712fb4670",
      "67f76b3439f344768135a5e99626ae87",
      "3e90687117974516a9837a46cb5bd345",
      "9eadf6c33c3d4c0797534f4e95935f52",
      "06a6a10ce00a47ae93e522f10612f6d6",
      "827bc7535beb4093b0179adcda35279e",
      "6c0cb6c47df04298a1a77afff114465f",
      "291b9d7e7712493180aaad7d991920c2",
      "094da5792c674070b0f51dae94f06e1f",
      "90943407b322424899a8349dddab60e3",
      "5013b55c2023442ebf6a694d8c3c9a48",
      "a89d7f65aa8b43e3be1f5f8870e6a180",
      "8e69d86ee8854c46a798fa34631fda16"
     ]
    },
    "colab_type": "code",
    "id": "oYvCeh4LLi9k",
    "outputId": "4759588b-44ca-4c79-f23b-ff04e920f947"
   },
   "outputs": [
    {
     "data": {
      "application/vnd.jupyter.widget-view+json": {
       "model_id": "1cd4ade99c1f4748aaf8776f1097ceb6",
       "version_major": 2,
       "version_minor": 0
      },
      "text/plain": [
       "HBox(children=(IntProgress(value=0, description='Downloading', max=546, style=ProgressStyle(description_width=…"
      ]
     },
     "metadata": {
      "tags": []
     },
     "output_type": "display_data"
    },
    {
     "name": "stdout",
     "output_type": "stream",
     "text": [
      "\n"
     ]
    },
    {
     "data": {
      "application/vnd.jupyter.widget-view+json": {
       "model_id": "61abf8abb49a4bc7840e5dfb53e0262a",
       "version_major": 2,
       "version_minor": 0
      },
      "text/plain": [
       "HBox(children=(IntProgress(value=0, description='Downloading', max=754, style=ProgressStyle(description_width=…"
      ]
     },
     "metadata": {
      "tags": []
     },
     "output_type": "display_data"
    },
    {
     "name": "stdout",
     "output_type": "stream",
     "text": [
      "\n"
     ]
    },
    {
     "data": {
      "application/vnd.jupyter.widget-view+json": {
       "model_id": "7ebe899fd4b34cbb91b14ffbc51ef9cb",
       "version_major": 2,
       "version_minor": 0
      },
      "text/plain": [
       "HBox(children=(IntProgress(value=0, description='Downloading', max=230, style=ProgressStyle(description_width=…"
      ]
     },
     "metadata": {
      "tags": []
     },
     "output_type": "display_data"
    },
    {
     "name": "stdout",
     "output_type": "stream",
     "text": [
      "\n"
     ]
    },
    {
     "data": {
      "application/vnd.jupyter.widget-view+json": {
       "model_id": "827bc7535beb4093b0179adcda35279e",
       "version_major": 2,
       "version_minor": 0
      },
      "text/plain": [
       "HBox(children=(IntProgress(value=0, description='Downloading', max=267844284, style=ProgressStyle(description_…"
      ]
     },
     "metadata": {
      "tags": []
     },
     "output_type": "display_data"
    },
    {
     "name": "stdout",
     "output_type": "stream",
     "text": [
      "\n"
     ]
    }
   ],
   "source": [
    "from transformers import pipeline\n",
    "# Allocate a pipeline for sentiment-analysis\n",
    "nlp_sentiment = pipeline('sentiment-analysis')"
   ]
  },
  {
   "cell_type": "code",
   "execution_count": 0,
   "metadata": {
    "colab": {},
    "colab_type": "code",
    "id": "VQ8TflnxMEXj"
   },
   "outputs": [],
   "source": [
    "com_sentiment = [nlp_sentiment(text) for text in parDF.text[:1000]]\n",
    "par_sentiment = [nlp_sentiment(text) for text in parDF.parent_text[:1000]]"
   ]
  },
  {
   "cell_type": "code",
   "execution_count": 58,
   "metadata": {
    "colab": {
     "base_uri": "https://localhost:8080/",
     "height": 402
    },
    "colab_type": "code",
    "id": "9PQtZGPZNM66",
    "outputId": "11e4ba29-38a5-4d80-cb79-6b4b942e27be"
   },
   "outputs": [
    {
     "data": {
      "text/plain": [
       "[<matplotlib.lines.Line2D at 0x7fcda9768550>]"
      ]
     },
     "execution_count": 58,
     "metadata": {
      "tags": []
     },
     "output_type": "execute_result"
    },
    {
     "data": {
      "image/png": "[encoded data removed]",
      "text/plain": [
       "<Figure size 864x432 with 1 Axes>"
      ]
     },
     "metadata": {
      "tags": []
     },
     "output_type": "display_data"
    }
   ],
   "source": [
    "com_s = []\n",
    "for i in range(len(com_sentiment)):\n",
    "  com_s.append(com_sentiment[i][0]['score'])\n",
    "plt.plot(com_s)"
   ]
  },
  {
   "cell_type": "code",
   "execution_count": 59,
   "metadata": {
    "colab": {
     "base_uri": "https://localhost:8080/",
     "height": 402
    },
    "colab_type": "code",
    "id": "3-qgL1z5OAkd",
    "outputId": "2275c154-621b-4f17-8e20-b6eb2501517e"
   },
   "outputs": [
    {
     "data": {
      "text/plain": [
       "[<matplotlib.lines.Line2D at 0x7fcda9806278>]"
      ]
     },
     "execution_count": 59,
     "metadata": {
      "tags": []
     },
     "output_type": "execute_result"
    },
    {
     "data": {
      "image/png": "[encoded data removed]",
      "text/plain": [
       "<Figure size 864x432 with 1 Axes>"
      ]
     },
     "metadata": {
      "tags": []
     },
     "output_type": "display_data"
    }
   ],
   "source": [
    "par_s = []\n",
    "for i in range(len(par_sentiment)):\n",
    "  par_s.append(par_sentiment[i][0]['score'])\n",
    "plt.plot(par_s)"
   ]
  },
  {
   "cell_type": "code",
   "execution_count": 60,
   "metadata": {
    "colab": {
     "base_uri": "https://localhost:8080/",
     "height": 402
    },
    "colab_type": "code",
    "id": "N1Hcd9kJOGbK",
    "outputId": "dd88ab3f-a00d-455e-d89a-916d2648f33f"
   },
   "outputs": [
    {
     "data": {
      "text/plain": [
       "[<matplotlib.lines.Line2D at 0x7fcda97df978>]"
      ]
     },
     "execution_count": 60,
     "metadata": {
      "tags": []
     },
     "output_type": "execute_result"
    },
    {
     "data": {
      "image/png": "[encoded data removed]",
      "text/plain": [
       "<Figure size 864x432 with 1 Axes>"
      ]
     },
     "metadata": {
      "tags": []
     },
     "output_type": "display_data"
    }
   ],
   "source": [
    "diff = []\n",
    "for i in range(len(com_s)):\n",
    "  diff.append(com_s[i] - par_s[i])\n",
    "plt.plot(diff)"
   ]
  },
  {
   "cell_type": "markdown",
   "metadata": {
    "colab_type": "text",
    "id": "IabES-7vQPkH"
   },
   "source": [
    "Most of the sentiment differences are within 0.5, suggesting that comments and parent comments are similar in sentiments. Looking at the sentiment scores of comments and parent comments individually, all of them have sentiment scores above 0.5. This is a quite surprising fact for comments online, especially that we combined comments that obtained both high upvotes and high downvotes."
   ]
  },
  {
   "cell_type": "markdown",
   "metadata": {
    "colab_type": "text",
    "id": "_uintDcQSgvt"
   },
   "source": [
    "## Exercise 3\n",
    "Construct cells immediately below this that generate a BERT-powered chatbot tuned on text related to your final project. What is interesting about this model, and how to does it compare to an untrained model? What does it reveal about the social game involved with your dataset?"
   ]
  },
  {
   "cell_type": "code",
   "execution_count": 0,
   "metadata": {
    "colab": {},
    "colab_type": "code",
    "id": "TrQKi-GhSsb9"
   },
   "outputs": [],
   "source": [
    "torch.cuda.empty_cache() "
   ]
  },
  {
   "cell_type": "markdown",
   "metadata": {
    "colab_type": "text",
    "id": "F-gMZ7mC6tGS"
   },
   "source": [
    "First, I trained the model using a dataset that contains comments that receive the highest upvotes."
   ]
  },
  {
   "cell_type": "code",
   "execution_count": 0,
   "metadata": {
    "colab": {},
    "colab_type": "code",
    "id": "5QClg3TsSugb"
   },
   "outputs": [],
   "source": [
    "from sklearn.model_selection import train_test_split\n",
    "train_text, test_text = train_test_split(posDF['text'], test_size=0.2)"
   ]
  },
  {
   "cell_type": "code",
   "execution_count": 63,
   "metadata": {
    "colab": {
     "base_uri": "https://localhost:8080/",
     "height": 119
    },
    "colab_type": "code",
    "id": "fxi_fqOaUm0Z",
    "outputId": "0cdfc542-b07e-4b00-a542-239fe980146e"
   },
   "outputs": [
    {
     "data": {
      "text/plain": [
       "3107                        Stretching in my seat? Boner.\n",
       "685     Selfie sticks are probably the least weird thi...\n",
       "2609    Everyone knows A negatives grow cabbages at th...\n",
       "2198    That's a bit like asking 'how do fish get into...\n",
       "1499    But hey, torturing and killing people on TV? N...\n",
       "Name: text, dtype: object"
      ]
     },
     "execution_count": 63,
     "metadata": {
      "tags": []
     },
     "output_type": "execute_result"
    }
   ],
   "source": [
    "train_text.head()"
   ]
  },
  {
   "cell_type": "code",
   "execution_count": 0,
   "metadata": {
    "colab": {},
    "colab_type": "code",
    "id": "Xuy6b2i-Upq6"
   },
   "outputs": [],
   "source": [
    "train_text.to_frame().to_csv(r'train_text', header=None, index=None, sep=' ', mode='a')\n",
    "test_text.to_frame().to_csv(r'test_text', header=None, index=None, sep=' ', mode='a')"
   ]
  },
  {
   "cell_type": "code",
   "execution_count": 65,
   "metadata": {
    "colab": {
     "base_uri": "https://localhost:8080/",
     "height": 1000
    },
    "colab_type": "code",
    "id": "xKgO184gUzsy",
    "outputId": "0f9bbe22-9cc2-4310-9e74-d31b37e74625"
   },
   "outputs": [
    {
     "name": "stdout",
     "output_type": "stream",
     "text": [
      "03/07/2020 21:11:52 - WARNING - __main__ -   Process rank: -1, device: cuda, n_gpu: 1, distributed training: False, 16-bits training: False\n",
      "03/07/2020 21:11:52 - INFO - filelock -   Lock 140306645543736 acquired on /root/.cache/torch/transformers/4be02c5697d91738003fb1685c9872f284166aa32e061576bbe6aaeb95649fcf.699bbd1c449e9861456f359d6daa51bd523ac085b4b531ab0aad5a55d091e942.lock\n",
      "03/07/2020 21:11:52 - INFO - transformers.file_utils -   https://s3.amazonaws.com/models.huggingface.co/bert/gpt2-config.json not found in cache or force_download set to True, downloading to /root/.cache/torch/transformers/tmpvsz7rwrg\n",
      "Downloading: 100% 224/224 [00:00<00:00, 196kB/s]\n",
      "03/07/2020 21:11:52 - INFO - transformers.file_utils -   storing https://s3.amazonaws.com/models.huggingface.co/bert/gpt2-config.json in cache at /root/.cache/torch/transformers/4be02c5697d91738003fb1685c9872f284166aa32e061576bbe6aaeb95649fcf.699bbd1c449e9861456f359d6daa51bd523ac085b4b531ab0aad5a55d091e942\n",
      "03/07/2020 21:11:52 - INFO - transformers.file_utils -   creating metadata file for /root/.cache/torch/transformers/4be02c5697d91738003fb1685c9872f284166aa32e061576bbe6aaeb95649fcf.699bbd1c449e9861456f359d6daa51bd523ac085b4b531ab0aad5a55d091e942\n",
      "03/07/2020 21:11:52 - INFO - filelock -   Lock 140306645543736 released on /root/.cache/torch/transformers/4be02c5697d91738003fb1685c9872f284166aa32e061576bbe6aaeb95649fcf.699bbd1c449e9861456f359d6daa51bd523ac085b4b531ab0aad5a55d091e942.lock\n",
      "03/07/2020 21:11:52 - INFO - transformers.configuration_utils -   loading configuration file https://s3.amazonaws.com/models.huggingface.co/bert/gpt2-config.json from cache at /root/.cache/torch/transformers/4be02c5697d91738003fb1685c9872f284166aa32e061576bbe6aaeb95649fcf.699bbd1c449e9861456f359d6daa51bd523ac085b4b531ab0aad5a55d091e942\n",
      "03/07/2020 21:11:52 - INFO - transformers.configuration_utils -   Model config GPT2Config {\n",
      "  \"architectures\": [\n",
      "    \"GPT2LMHeadModel\"\n",
      "  ],\n",
      "  \"attn_pdrop\": 0.1,\n",
      "  \"bos_token_id\": null,\n",
      "  \"do_sample\": false,\n",
      "  \"embd_pdrop\": 0.1,\n",
      "  \"eos_token_ids\": null,\n",
      "  \"finetuning_task\": null,\n",
      "  \"id2label\": {\n",
      "    \"0\": \"LABEL_0\",\n",
      "    \"1\": \"LABEL_1\"\n",
      "  },\n",
      "  \"initializer_range\": 0.02,\n",
      "  \"is_decoder\": false,\n",
      "  \"label2id\": {\n",
      "    \"LABEL_0\": 0,\n",
      "    \"LABEL_1\": 1\n",
      "  },\n",
      "  \"layer_norm_epsilon\": 1e-05,\n",
      "  \"length_penalty\": 1.0,\n",
      "  \"max_length\": 20,\n",
      "  \"model_type\": \"gpt2\",\n",
      "  \"n_ctx\": 1024,\n",
      "  \"n_embd\": 768,\n",
      "  \"n_head\": 12,\n",
      "  \"n_layer\": 12,\n",
      "  \"n_positions\": 1024,\n",
      "  \"num_beams\": 1,\n",
      "  \"num_labels\": 2,\n",
      "  \"num_return_sequences\": 1,\n",
      "  \"output_attentions\": false,\n",
      "  \"output_hidden_states\": false,\n",
      "  \"output_past\": true,\n",
      "  \"pad_token_id\": null,\n",
      "  \"pruned_heads\": {},\n",
      "  \"repetition_penalty\": 1.0,\n",
      "  \"resid_pdrop\": 0.1,\n",
      "  \"summary_activation\": null,\n",
      "  \"summary_first_dropout\": 0.1,\n",
      "  \"summary_proj_to_labels\": true,\n",
      "  \"summary_type\": \"cls_index\",\n",
      "  \"summary_use_proj\": true,\n",
      "  \"temperature\": 1.0,\n",
      "  \"top_k\": 50,\n",
      "  \"top_p\": 1.0,\n",
      "  \"torchscript\": false,\n",
      "  \"use_bfloat16\": false,\n",
      "  \"vocab_size\": 50257\n",
      "}\n",
      "\n",
      "03/07/2020 21:11:52 - INFO - filelock -   Lock 140307018307736 acquired on /root/.cache/torch/transformers/f2808208f9bec2320371a9f5f891c184ae0b674ef866b79c58177067d15732dd.1512018be4ba4e8726e41b9145129dc30651ea4fec86aa61f4b9f40bf94eac71.lock\n",
      "03/07/2020 21:11:52 - INFO - transformers.file_utils -   https://s3.amazonaws.com/models.huggingface.co/bert/gpt2-vocab.json not found in cache or force_download set to True, downloading to /root/.cache/torch/transformers/tmp7iqsgao3\n",
      "Downloading: 100% 1.04M/1.04M [00:00<00:00, 5.87MB/s]\n",
      "03/07/2020 21:11:52 - INFO - transformers.file_utils -   storing https://s3.amazonaws.com/models.huggingface.co/bert/gpt2-vocab.json in cache at /root/.cache/torch/transformers/f2808208f9bec2320371a9f5f891c184ae0b674ef866b79c58177067d15732dd.1512018be4ba4e8726e41b9145129dc30651ea4fec86aa61f4b9f40bf94eac71\n",
      "03/07/2020 21:11:52 - INFO - transformers.file_utils -   creating metadata file for /root/.cache/torch/transformers/f2808208f9bec2320371a9f5f891c184ae0b674ef866b79c58177067d15732dd.1512018be4ba4e8726e41b9145129dc30651ea4fec86aa61f4b9f40bf94eac71\n",
      "03/07/2020 21:11:52 - INFO - filelock -   Lock 140307018307736 released on /root/.cache/torch/transformers/f2808208f9bec2320371a9f5f891c184ae0b674ef866b79c58177067d15732dd.1512018be4ba4e8726e41b9145129dc30651ea4fec86aa61f4b9f40bf94eac71.lock\n",
      "03/07/2020 21:11:53 - INFO - filelock -   Lock 140307018307736 acquired on /root/.cache/torch/transformers/d629f792e430b3c76a1291bb2766b0a047e36fae0588f9dbc1ae51decdff691b.70bec105b4158ed9a1747fea67a43f5dee97855c64d62b6ec3742f4cfdb5feda.lock\n",
      "03/07/2020 21:11:53 - INFO - transformers.file_utils -   https://s3.amazonaws.com/models.huggingface.co/bert/gpt2-merges.txt not found in cache or force_download set to True, downloading to /root/.cache/torch/transformers/tmpackybf0u\n",
      "Downloading: 100% 456k/456k [00:00<00:00, 3.18MB/s]\n",
      "03/07/2020 21:11:53 - INFO - transformers.file_utils -   storing https://s3.amazonaws.com/models.huggingface.co/bert/gpt2-merges.txt in cache at /root/.cache/torch/transformers/d629f792e430b3c76a1291bb2766b0a047e36fae0588f9dbc1ae51decdff691b.70bec105b4158ed9a1747fea67a43f5dee97855c64d62b6ec3742f4cfdb5feda\n",
      "03/07/2020 21:11:53 - INFO - transformers.file_utils -   creating metadata file for /root/.cache/torch/transformers/d629f792e430b3c76a1291bb2766b0a047e36fae0588f9dbc1ae51decdff691b.70bec105b4158ed9a1747fea67a43f5dee97855c64d62b6ec3742f4cfdb5feda\n",
      "03/07/2020 21:11:53 - INFO - filelock -   Lock 140307018307736 released on /root/.cache/torch/transformers/d629f792e430b3c76a1291bb2766b0a047e36fae0588f9dbc1ae51decdff691b.70bec105b4158ed9a1747fea67a43f5dee97855c64d62b6ec3742f4cfdb5feda.lock\n",
      "03/07/2020 21:11:53 - INFO - transformers.tokenization_utils -   loading file https://s3.amazonaws.com/models.huggingface.co/bert/gpt2-vocab.json from cache at /root/.cache/torch/transformers/f2808208f9bec2320371a9f5f891c184ae0b674ef866b79c58177067d15732dd.1512018be4ba4e8726e41b9145129dc30651ea4fec86aa61f4b9f40bf94eac71\n",
      "03/07/2020 21:11:53 - INFO - transformers.tokenization_utils -   loading file https://s3.amazonaws.com/models.huggingface.co/bert/gpt2-merges.txt from cache at /root/.cache/torch/transformers/d629f792e430b3c76a1291bb2766b0a047e36fae0588f9dbc1ae51decdff691b.70bec105b4158ed9a1747fea67a43f5dee97855c64d62b6ec3742f4cfdb5feda\n",
      "03/07/2020 21:11:53 - INFO - filelock -   Lock 140306645510800 acquired on /root/.cache/torch/transformers/4295d67f022061768f4adc386234dbdb781c814c39662dd1662221c309962c55.778cf36f5c4e5d94c8cd9cefcf2a580c8643570eb327f0d4a1f007fab2acbdf1.lock\n",
      "03/07/2020 21:11:53 - INFO - transformers.file_utils -   https://s3.amazonaws.com/models.huggingface.co/bert/gpt2-pytorch_model.bin not found in cache or force_download set to True, downloading to /root/.cache/torch/transformers/tmpqv6w1xr4\n",
      "Downloading: 100% 548M/548M [00:09<00:00, 60.4MB/s]\n",
      "03/07/2020 21:12:02 - INFO - transformers.file_utils -   storing https://s3.amazonaws.com/models.huggingface.co/bert/gpt2-pytorch_model.bin in cache at /root/.cache/torch/transformers/4295d67f022061768f4adc386234dbdb781c814c39662dd1662221c309962c55.778cf36f5c4e5d94c8cd9cefcf2a580c8643570eb327f0d4a1f007fab2acbdf1\n",
      "03/07/2020 21:12:02 - INFO - transformers.file_utils -   creating metadata file for /root/.cache/torch/transformers/4295d67f022061768f4adc386234dbdb781c814c39662dd1662221c309962c55.778cf36f5c4e5d94c8cd9cefcf2a580c8643570eb327f0d4a1f007fab2acbdf1\n",
      "03/07/2020 21:12:02 - INFO - filelock -   Lock 140306645510800 released on /root/.cache/torch/transformers/4295d67f022061768f4adc386234dbdb781c814c39662dd1662221c309962c55.778cf36f5c4e5d94c8cd9cefcf2a580c8643570eb327f0d4a1f007fab2acbdf1.lock\n",
      "03/07/2020 21:12:02 - INFO - transformers.modeling_utils -   loading weights file https://s3.amazonaws.com/models.huggingface.co/bert/gpt2-pytorch_model.bin from cache at /root/.cache/torch/transformers/4295d67f022061768f4adc386234dbdb781c814c39662dd1662221c309962c55.778cf36f5c4e5d94c8cd9cefcf2a580c8643570eb327f0d4a1f007fab2acbdf1\n",
      "03/07/2020 21:12:09 - INFO - __main__ -   Training/evaluation parameters Namespace(adam_epsilon=1e-08, block_size=1024, cache_dir=None, config_name=None, device=device(type='cuda'), do_eval=True, do_train=True, eval_all_checkpoints=False, eval_data_file='test_text', evaluate_during_training=False, fp16=False, fp16_opt_level='O1', gradient_accumulation_steps=1, learning_rate=5e-05, line_by_line=False, local_rank=-1, logging_steps=500, max_grad_norm=1.0, max_steps=-1, mlm=False, mlm_probability=0.15, model_name_or_path='gpt2', model_type='gpt2', n_gpu=1, no_cuda=False, num_train_epochs=1.0, output_dir='output_gpt_text', overwrite_cache=False, overwrite_output_dir=False, per_gpu_eval_batch_size=1, per_gpu_train_batch_size=1, save_steps=500, save_total_limit=None, seed=42, server_ip='', server_port='', should_continue=False, tokenizer_name=None, train_data_file='train_text', warmup_steps=0, weight_decay=0.0)\n",
      "03/07/2020 21:12:09 - INFO - __main__ -   Creating features from dataset file at \n",
      "03/07/2020 21:12:10 - INFO - __main__ -   Saving features into cached file gpt2_cached_lm_1024_train_text\n",
      "03/07/2020 21:12:11 - INFO - __main__ -   ***** Running training *****\n",
      "03/07/2020 21:12:11 - INFO - __main__ -     Num examples = 214\n",
      "03/07/2020 21:12:11 - INFO - __main__ -     Num Epochs = 1\n",
      "03/07/2020 21:12:11 - INFO - __main__ -     Instantaneous batch size per GPU = 1\n",
      "03/07/2020 21:12:11 - INFO - __main__ -     Total train batch size (w. parallel, distributed & accumulation) = 1\n",
      "03/07/2020 21:12:11 - INFO - __main__ -     Gradient Accumulation steps = 1\n",
      "03/07/2020 21:12:11 - INFO - __main__ -     Total optimization steps = 214\n",
      "Epoch:   0% 0/1 [00:00<?, ?it/s]\n",
      "Iteration:   0% 0/214 [00:00<?, ?it/s]\u001b[A\n",
      "Iteration:   0% 1/214 [00:00<02:50,  1.25it/s]\u001b[A\n",
      "Iteration:   1% 2/214 [00:01<02:44,  1.29it/s]\u001b[A\n",
      "Iteration:   1% 3/214 [00:02<02:41,  1.31it/s]\u001b[A\n",
      "Iteration:   2% 4/214 [00:02<02:39,  1.32it/s]\u001b[A\n",
      "Iteration:   2% 5/214 [00:03<02:36,  1.33it/s]\u001b[A\n",
      "Iteration:   3% 6/214 [00:04<02:34,  1.34it/s]\u001b[A\n",
      "Iteration:   3% 7/214 [00:05<02:34,  1.34it/s]\u001b[A\n",
      "Iteration:   4% 8/214 [00:05<02:32,  1.35it/s]\u001b[A\n",
      "Iteration:   4% 9/214 [00:06<02:31,  1.35it/s]\u001b[A\n",
      "Iteration:   5% 10/214 [00:07<02:30,  1.35it/s]\u001b[A\n",
      "Iteration:   5% 11/214 [00:08<02:30,  1.35it/s]\u001b[A\n",
      "Iteration:   6% 12/214 [00:08<02:29,  1.35it/s]\u001b[A\n",
      "Iteration:   6% 13/214 [00:09<02:28,  1.35it/s]\u001b[A\n",
      "Iteration:   7% 14/214 [00:10<02:27,  1.35it/s]\u001b[A\n",
      "Iteration:   7% 15/214 [00:11<02:26,  1.36it/s]\u001b[A\n",
      "Iteration:   7% 16/214 [00:11<02:26,  1.36it/s]\u001b[A\n",
      "Iteration:   8% 17/214 [00:12<02:25,  1.35it/s]\u001b[A\n",
      "Iteration:   8% 18/214 [00:13<02:24,  1.36it/s]\u001b[A\n",
      "Iteration:   9% 19/214 [00:14<02:23,  1.36it/s]\u001b[A\n",
      "Iteration:   9% 20/214 [00:14<02:23,  1.36it/s]\u001b[A\n",
      "Iteration:  10% 21/214 [00:15<02:22,  1.36it/s]\u001b[A\n",
      "Iteration:  10% 22/214 [00:16<02:21,  1.35it/s]\u001b[A\n",
      "Iteration:  11% 23/214 [00:17<02:21,  1.35it/s]\u001b[A\n",
      "Iteration:  11% 24/214 [00:17<02:20,  1.35it/s]\u001b[A\n",
      "Iteration:  12% 25/214 [00:18<02:19,  1.35it/s]\u001b[A\n",
      "Iteration:  12% 26/214 [00:19<02:18,  1.35it/s]\u001b[A\n",
      "Iteration:  13% 27/214 [00:19<02:18,  1.35it/s]\u001b[A\n",
      "Iteration:  13% 28/214 [00:20<02:17,  1.35it/s]\u001b[A\n",
      "Iteration:  14% 29/214 [00:21<02:16,  1.35it/s]\u001b[A\n",
      "Iteration:  14% 30/214 [00:22<02:16,  1.35it/s]\u001b[A\n",
      "Iteration:  14% 31/214 [00:22<02:15,  1.35it/s]\u001b[A\n",
      "Iteration:  15% 32/214 [00:23<02:15,  1.35it/s]\u001b[A\n",
      "Iteration:  15% 33/214 [00:24<02:14,  1.34it/s]\u001b[A\n",
      "Iteration:  16% 34/214 [00:25<02:14,  1.34it/s]\u001b[A\n",
      "Iteration:  16% 35/214 [00:25<02:13,  1.34it/s]\u001b[A\n",
      "Iteration:  17% 36/214 [00:26<02:12,  1.34it/s]\u001b[A\n",
      "Iteration:  17% 37/214 [00:27<02:12,  1.34it/s]\u001b[A\n",
      "Iteration:  18% 38/214 [00:28<02:10,  1.34it/s]\u001b[A\n",
      "Iteration:  18% 39/214 [00:28<02:10,  1.34it/s]\u001b[A\n",
      "Iteration:  19% 40/214 [00:29<02:09,  1.34it/s]\u001b[A\n",
      "Iteration:  19% 41/214 [00:30<02:09,  1.34it/s]\u001b[A\n",
      "Iteration:  20% 42/214 [00:31<02:08,  1.34it/s]\u001b[A\n",
      "Iteration:  20% 43/214 [00:31<02:07,  1.34it/s]\u001b[A\n",
      "Iteration:  21% 44/214 [00:32<02:07,  1.34it/s]\u001b[A\n",
      "Iteration:  21% 45/214 [00:33<02:06,  1.34it/s]\u001b[A\n",
      "Iteration:  21% 46/214 [00:34<02:05,  1.33it/s]\u001b[A\n",
      "Iteration:  22% 47/214 [00:34<02:04,  1.34it/s]\u001b[A\n",
      "Iteration:  22% 48/214 [00:35<02:04,  1.33it/s]\u001b[A\n",
      "Iteration:  23% 49/214 [00:36<02:03,  1.34it/s]\u001b[A\n",
      "Iteration:  23% 50/214 [00:37<02:02,  1.33it/s]\u001b[A\n",
      "Iteration:  24% 51/214 [00:37<02:02,  1.33it/s]\u001b[A\n",
      "Iteration:  24% 52/214 [00:38<02:01,  1.33it/s]\u001b[A\n",
      "Iteration:  25% 53/214 [00:39<02:00,  1.33it/s]\u001b[A\n",
      "Iteration:  25% 54/214 [00:40<01:59,  1.34it/s]\u001b[A\n",
      "Iteration:  26% 55/214 [00:40<01:59,  1.34it/s]\u001b[A\n",
      "Iteration:  26% 56/214 [00:41<01:58,  1.34it/s]\u001b[A\n",
      "Iteration:  27% 57/214 [00:42<01:57,  1.33it/s]\u001b[A\n",
      "Iteration:  27% 58/214 [00:43<01:57,  1.33it/s]\u001b[A\n",
      "Iteration:  28% 59/214 [00:43<01:56,  1.33it/s]\u001b[A\n",
      "Iteration:  28% 60/214 [00:44<01:55,  1.33it/s]\u001b[A\n",
      "Iteration:  29% 61/214 [00:45<01:55,  1.33it/s]\u001b[A\n",
      "Iteration:  29% 62/214 [00:46<01:54,  1.33it/s]\u001b[A\n",
      "Iteration:  29% 63/214 [00:46<01:53,  1.33it/s]\u001b[A\n",
      "Iteration:  30% 64/214 [00:47<01:52,  1.33it/s]\u001b[A\n",
      "Iteration:  30% 65/214 [00:48<01:52,  1.33it/s]\u001b[A\n",
      "Iteration:  31% 66/214 [00:49<01:51,  1.33it/s]\u001b[A\n",
      "Iteration:  31% 67/214 [00:49<01:50,  1.32it/s]\u001b[A\n",
      "Iteration:  32% 68/214 [00:50<01:50,  1.33it/s]\u001b[A\n",
      "Iteration:  32% 69/214 [00:51<01:49,  1.33it/s]\u001b[A\n",
      "Iteration:  33% 70/214 [00:52<01:48,  1.33it/s]\u001b[A\n",
      "Iteration:  33% 71/214 [00:52<01:47,  1.33it/s]\u001b[A\n",
      "Iteration:  34% 72/214 [00:53<01:46,  1.33it/s]\u001b[A\n",
      "Iteration:  34% 73/214 [00:54<01:46,  1.33it/s]\u001b[A\n",
      "Iteration:  35% 74/214 [00:55<01:45,  1.33it/s]\u001b[A\n",
      "Iteration:  35% 75/214 [00:55<01:44,  1.33it/s]\u001b[A\n",
      "Iteration:  36% 76/214 [00:56<01:44,  1.33it/s]\u001b[A\n",
      "Iteration:  36% 77/214 [00:57<01:43,  1.33it/s]\u001b[A\n",
      "Iteration:  36% 78/214 [00:58<01:42,  1.32it/s]\u001b[A\n",
      "Iteration:  37% 79/214 [00:58<01:41,  1.32it/s]\u001b[A\n",
      "Iteration:  37% 80/214 [00:59<01:41,  1.32it/s]\u001b[A\n",
      "Iteration:  38% 81/214 [01:00<01:40,  1.32it/s]\u001b[A\n",
      "Iteration:  38% 82/214 [01:01<01:39,  1.32it/s]\u001b[A\n",
      "Iteration:  39% 83/214 [01:02<01:39,  1.32it/s]\u001b[A\n",
      "Iteration:  39% 84/214 [01:02<01:38,  1.32it/s]\u001b[A\n",
      "Iteration:  40% 85/214 [01:03<01:37,  1.32it/s]\u001b[A\n",
      "Iteration:  40% 86/214 [01:04<01:36,  1.32it/s]\u001b[A\n",
      "Iteration:  41% 87/214 [01:05<01:35,  1.32it/s]\u001b[A\n",
      "Iteration:  41% 88/214 [01:05<01:35,  1.32it/s]\u001b[A\n",
      "Iteration:  42% 89/214 [01:06<01:34,  1.32it/s]\u001b[A\n",
      "Iteration:  42% 90/214 [01:07<01:33,  1.32it/s]\u001b[A\n",
      "Iteration:  43% 91/214 [01:08<01:32,  1.33it/s]\u001b[A\n",
      "Iteration:  43% 92/214 [01:08<01:32,  1.32it/s]\u001b[A\n",
      "Iteration:  43% 93/214 [01:09<01:31,  1.33it/s]\u001b[A\n",
      "Iteration:  44% 94/214 [01:10<01:30,  1.32it/s]\u001b[A\n",
      "Iteration:  44% 95/214 [01:11<01:29,  1.32it/s]\u001b[A\n",
      "Iteration:  45% 96/214 [01:11<01:29,  1.32it/s]\u001b[A\n",
      "Iteration:  45% 97/214 [01:12<01:28,  1.33it/s]\u001b[A\n",
      "Iteration:  46% 98/214 [01:13<01:27,  1.33it/s]\u001b[A\n",
      "Iteration:  46% 99/214 [01:14<01:26,  1.33it/s]\u001b[A\n",
      "Iteration:  47% 100/214 [01:14<01:25,  1.33it/s]\u001b[A\n",
      "Iteration:  47% 101/214 [01:15<01:25,  1.33it/s]\u001b[A\n",
      "Iteration:  48% 102/214 [01:16<01:24,  1.33it/s]\u001b[A\n",
      "Iteration:  48% 103/214 [01:17<01:23,  1.33it/s]\u001b[A\n",
      "Iteration:  49% 104/214 [01:17<01:22,  1.33it/s]\u001b[A\n",
      "Iteration:  49% 105/214 [01:18<01:22,  1.33it/s]\u001b[A\n",
      "Iteration:  50% 106/214 [01:19<01:21,  1.33it/s]\u001b[A\n",
      "Iteration:  50% 107/214 [01:20<01:20,  1.33it/s]\u001b[A\n",
      "Iteration:  50% 108/214 [01:20<01:20,  1.32it/s]\u001b[A\n",
      "Iteration:  51% 109/214 [01:21<01:19,  1.33it/s]\u001b[A\n",
      "Iteration:  51% 110/214 [01:22<01:18,  1.32it/s]\u001b[A\n",
      "Iteration:  52% 111/214 [01:23<01:17,  1.32it/s]\u001b[A\n",
      "Iteration:  52% 112/214 [01:23<01:16,  1.33it/s]\u001b[A\n",
      "Iteration:  53% 113/214 [01:24<01:16,  1.32it/s]\u001b[A\n",
      "Iteration:  53% 114/214 [01:25<01:15,  1.33it/s]\u001b[A\n",
      "Iteration:  54% 115/214 [01:26<01:14,  1.33it/s]\u001b[A\n",
      "Iteration:  54% 116/214 [01:26<01:13,  1.33it/s]\u001b[A\n",
      "Iteration:  55% 117/214 [01:27<01:12,  1.33it/s]\u001b[A\n",
      "Iteration:  55% 118/214 [01:28<01:12,  1.33it/s]\u001b[A\n",
      "Iteration:  56% 119/214 [01:29<01:11,  1.33it/s]\u001b[A\n",
      "Iteration:  56% 120/214 [01:29<01:10,  1.33it/s]\u001b[A\n",
      "Iteration:  57% 121/214 [01:30<01:09,  1.33it/s]\u001b[A\n",
      "Iteration:  57% 122/214 [01:31<01:09,  1.33it/s]\u001b[A\n",
      "Iteration:  57% 123/214 [01:32<01:08,  1.33it/s]\u001b[A\n",
      "Iteration:  58% 124/214 [01:32<01:07,  1.33it/s]\u001b[A\n",
      "Iteration:  58% 125/214 [01:33<01:06,  1.33it/s]\u001b[A\n",
      "Iteration:  59% 126/214 [01:34<01:06,  1.33it/s]\u001b[A\n",
      "Iteration:  59% 127/214 [01:35<01:05,  1.33it/s]\u001b[A\n",
      "Iteration:  60% 128/214 [01:35<01:04,  1.33it/s]\u001b[A\n",
      "Iteration:  60% 129/214 [01:36<01:04,  1.33it/s]\u001b[A\n",
      "Iteration:  61% 130/214 [01:37<01:03,  1.33it/s]\u001b[A\n",
      "Iteration:  61% 131/214 [01:38<01:02,  1.33it/s]\u001b[A\n",
      "Iteration:  62% 132/214 [01:38<01:01,  1.33it/s]\u001b[A\n",
      "Iteration:  62% 133/214 [01:39<01:00,  1.33it/s]\u001b[A\n",
      "Iteration:  63% 134/214 [01:40<01:00,  1.33it/s]\u001b[A\n",
      "Iteration:  63% 135/214 [01:41<00:59,  1.33it/s]\u001b[A\n",
      "Iteration:  64% 136/214 [01:41<00:58,  1.33it/s]\u001b[A\n",
      "Iteration:  64% 137/214 [01:42<00:57,  1.33it/s]\u001b[A\n",
      "Iteration:  64% 138/214 [01:43<00:57,  1.33it/s]\u001b[A\n",
      "Iteration:  65% 139/214 [01:44<00:56,  1.33it/s]\u001b[A\n",
      "Iteration:  65% 140/214 [01:44<00:55,  1.33it/s]\u001b[A\n",
      "Iteration:  66% 141/214 [01:45<00:54,  1.33it/s]\u001b[A\n",
      "Iteration:  66% 142/214 [01:46<00:54,  1.33it/s]\u001b[A\n",
      "Iteration:  67% 143/214 [01:47<00:53,  1.33it/s]\u001b[A\n",
      "Iteration:  67% 144/214 [01:47<00:52,  1.33it/s]\u001b[A\n",
      "Iteration:  68% 145/214 [01:48<00:51,  1.33it/s]\u001b[A\n",
      "Iteration:  68% 146/214 [01:49<00:51,  1.33it/s]\u001b[A\n",
      "Iteration:  69% 147/214 [01:50<00:50,  1.33it/s]\u001b[A\n",
      "Iteration:  69% 148/214 [01:50<00:49,  1.33it/s]\u001b[A\n",
      "Iteration:  70% 149/214 [01:51<00:48,  1.33it/s]\u001b[A\n",
      "Iteration:  70% 150/214 [01:52<00:48,  1.33it/s]\u001b[A\n",
      "Iteration:  71% 151/214 [01:53<00:47,  1.33it/s]\u001b[A\n",
      "Iteration:  71% 152/214 [01:53<00:46,  1.33it/s]\u001b[A\n",
      "Iteration:  71% 153/214 [01:54<00:45,  1.33it/s]\u001b[A\n",
      "Iteration:  72% 154/214 [01:55<00:45,  1.33it/s]\u001b[A\n",
      "Iteration:  72% 155/214 [01:56<00:44,  1.33it/s]\u001b[A\n",
      "Iteration:  73% 156/214 [01:57<00:43,  1.33it/s]\u001b[A\n",
      "Iteration:  73% 157/214 [01:57<00:42,  1.33it/s]\u001b[A\n",
      "Iteration:  74% 158/214 [01:58<00:42,  1.32it/s]\u001b[A\n",
      "Iteration:  74% 159/214 [01:59<00:41,  1.33it/s]\u001b[A\n",
      "Iteration:  75% 160/214 [02:00<00:40,  1.33it/s]\u001b[A\n",
      "Iteration:  75% 161/214 [02:00<00:39,  1.33it/s]\u001b[A\n",
      "Iteration:  76% 162/214 [02:01<00:39,  1.33it/s]\u001b[A\n",
      "Iteration:  76% 163/214 [02:02<00:38,  1.33it/s]\u001b[A\n",
      "Iteration:  77% 164/214 [02:03<00:37,  1.33it/s]\u001b[A\n",
      "Iteration:  77% 165/214 [02:03<00:36,  1.33it/s]\u001b[A\n",
      "Iteration:  78% 166/214 [02:04<00:36,  1.32it/s]\u001b[A\n",
      "Iteration:  78% 167/214 [02:05<00:35,  1.33it/s]\u001b[A\n",
      "Iteration:  79% 168/214 [02:06<00:34,  1.32it/s]\u001b[A\n",
      "Iteration:  79% 169/214 [02:06<00:33,  1.33it/s]\u001b[A\n",
      "Iteration:  79% 170/214 [02:07<00:33,  1.32it/s]\u001b[A\n",
      "Iteration:  80% 171/214 [02:08<00:32,  1.33it/s]\u001b[A\n",
      "Iteration:  80% 172/214 [02:09<00:31,  1.33it/s]\u001b[A\n",
      "Iteration:  81% 173/214 [02:09<00:30,  1.33it/s]\u001b[A\n",
      "Iteration:  81% 174/214 [02:10<00:30,  1.33it/s]\u001b[A\n",
      "Iteration:  82% 175/214 [02:11<00:29,  1.33it/s]\u001b[A\n",
      "Iteration:  82% 176/214 [02:12<00:28,  1.33it/s]\u001b[A\n",
      "Iteration:  83% 177/214 [02:12<00:27,  1.33it/s]\u001b[A\n",
      "Iteration:  83% 178/214 [02:13<00:27,  1.32it/s]\u001b[A\n",
      "Iteration:  84% 179/214 [02:14<00:26,  1.32it/s]\u001b[A\n",
      "Iteration:  84% 180/214 [02:15<00:25,  1.32it/s]\u001b[A\n",
      "Iteration:  85% 181/214 [02:15<00:24,  1.32it/s]\u001b[A\n",
      "Iteration:  85% 182/214 [02:16<00:24,  1.32it/s]\u001b[A\n",
      "Iteration:  86% 183/214 [02:17<00:23,  1.32it/s]\u001b[A\n",
      "Iteration:  86% 184/214 [02:18<00:22,  1.33it/s]\u001b[A\n",
      "Iteration:  86% 185/214 [02:18<00:21,  1.33it/s]\u001b[A\n",
      "Iteration:  87% 186/214 [02:19<00:21,  1.33it/s]\u001b[A\n",
      "Iteration:  87% 187/214 [02:20<00:20,  1.33it/s]\u001b[A\n",
      "Iteration:  88% 188/214 [02:21<00:19,  1.33it/s]\u001b[A\n",
      "Iteration:  88% 189/214 [02:21<00:18,  1.33it/s]\u001b[A\n",
      "Iteration:  89% 190/214 [02:22<00:18,  1.33it/s]\u001b[A\n",
      "Iteration:  89% 191/214 [02:23<00:17,  1.33it/s]\u001b[A\n",
      "Iteration:  90% 192/214 [02:24<00:16,  1.33it/s]\u001b[A\n",
      "Iteration:  90% 193/214 [02:24<00:15,  1.33it/s]\u001b[A\n",
      "Iteration:  91% 194/214 [02:25<00:15,  1.33it/s]\u001b[A\n",
      "Iteration:  91% 195/214 [02:26<00:14,  1.33it/s]\u001b[A\n",
      "Iteration:  92% 196/214 [02:27<00:13,  1.33it/s]\u001b[A\n",
      "Iteration:  92% 197/214 [02:27<00:12,  1.33it/s]\u001b[A\n",
      "Iteration:  93% 198/214 [02:28<00:12,  1.33it/s]\u001b[A\n",
      "Iteration:  93% 199/214 [02:29<00:11,  1.33it/s]\u001b[A\n",
      "Iteration:  93% 200/214 [02:30<00:10,  1.32it/s]\u001b[A\n",
      "Iteration:  94% 201/214 [02:30<00:09,  1.33it/s]\u001b[A\n",
      "Iteration:  94% 202/214 [02:31<00:09,  1.33it/s]\u001b[A\n",
      "Iteration:  95% 203/214 [02:32<00:08,  1.32it/s]\u001b[A\n",
      "Iteration:  95% 204/214 [02:33<00:07,  1.32it/s]\u001b[A\n",
      "Iteration:  96% 205/214 [02:33<00:06,  1.33it/s]\u001b[A\n",
      "Iteration:  96% 206/214 [02:34<00:06,  1.33it/s]\u001b[A\n",
      "Iteration:  97% 207/214 [02:35<00:05,  1.33it/s]\u001b[A\n",
      "Iteration:  97% 208/214 [02:36<00:04,  1.33it/s]\u001b[A\n",
      "Iteration:  98% 209/214 [02:36<00:03,  1.33it/s]\u001b[A\n",
      "Iteration:  98% 210/214 [02:37<00:03,  1.32it/s]\u001b[A\n",
      "Iteration:  99% 211/214 [02:38<00:02,  1.33it/s]\u001b[A\n",
      "Iteration:  99% 212/214 [02:39<00:01,  1.33it/s]\u001b[A\n",
      "Iteration: 100% 213/214 [02:39<00:00,  1.33it/s]\u001b[A\n",
      "Iteration: 100% 214/214 [02:40<00:00,  1.33it/s]\u001b[A\n",
      "Epoch: 100% 1/1 [02:40<00:00, 160.73s/it]\n",
      "03/07/2020 21:14:51 - INFO - __main__ -    global_step = 214, average loss = 3.677523842481809\n",
      "03/07/2020 21:14:51 - INFO - __main__ -   Saving model checkpoint to output_gpt_text\n",
      "03/07/2020 21:14:51 - INFO - transformers.configuration_utils -   Configuration saved in output_gpt_text/config.json\n",
      "03/07/2020 21:14:52 - INFO - transformers.modeling_utils -   Model weights saved in output_gpt_text/pytorch_model.bin\n",
      "03/07/2020 21:14:52 - INFO - transformers.configuration_utils -   loading configuration file output_gpt_text/config.json\n",
      "03/07/2020 21:14:52 - INFO - transformers.configuration_utils -   Model config GPT2Config {\n",
      "  \"architectures\": [\n",
      "    \"GPT2LMHeadModel\"\n",
      "  ],\n",
      "  \"attn_pdrop\": 0.1,\n",
      "  \"bos_token_id\": null,\n",
      "  \"do_sample\": false,\n",
      "  \"embd_pdrop\": 0.1,\n",
      "  \"eos_token_ids\": null,\n",
      "  \"finetuning_task\": null,\n",
      "  \"id2label\": {\n",
      "    \"0\": \"LABEL_0\",\n",
      "    \"1\": \"LABEL_1\"\n",
      "  },\n",
      "  \"initializer_range\": 0.02,\n",
      "  \"is_decoder\": false,\n",
      "  \"label2id\": {\n",
      "    \"LABEL_0\": 0,\n",
      "    \"LABEL_1\": 1\n",
      "  },\n",
      "  \"layer_norm_epsilon\": 1e-05,\n",
      "  \"length_penalty\": 1.0,\n",
      "  \"max_length\": 20,\n",
      "  \"model_type\": \"gpt2\",\n",
      "  \"n_ctx\": 1024,\n",
      "  \"n_embd\": 768,\n",
      "  \"n_head\": 12,\n",
      "  \"n_layer\": 12,\n",
      "  \"n_positions\": 1024,\n",
      "  \"num_beams\": 1,\n",
      "  \"num_labels\": 2,\n",
      "  \"num_return_sequences\": 1,\n",
      "  \"output_attentions\": false,\n",
      "  \"output_hidden_states\": false,\n",
      "  \"output_past\": true,\n",
      "  \"pad_token_id\": null,\n",
      "  \"pruned_heads\": {},\n",
      "  \"repetition_penalty\": 1.0,\n",
      "  \"resid_pdrop\": 0.1,\n",
      "  \"summary_activation\": null,\n",
      "  \"summary_first_dropout\": 0.1,\n",
      "  \"summary_proj_to_labels\": true,\n",
      "  \"summary_type\": \"cls_index\",\n",
      "  \"summary_use_proj\": true,\n",
      "  \"temperature\": 1.0,\n",
      "  \"top_k\": 50,\n",
      "  \"top_p\": 1.0,\n",
      "  \"torchscript\": false,\n",
      "  \"use_bfloat16\": false,\n",
      "  \"vocab_size\": 50257\n",
      "}\n",
      "\n",
      "03/07/2020 21:14:52 - INFO - transformers.modeling_utils -   loading weights file output_gpt_text/pytorch_model.bin\n",
      "03/07/2020 21:14:57 - INFO - transformers.tokenization_utils -   Model name 'output_gpt_text' not found in model shortcut name list (gpt2, gpt2-medium, gpt2-large, gpt2-xl, distilgpt2). Assuming 'output_gpt_text' is a path, a model identifier, or url to a directory containing tokenizer files.\n",
      "03/07/2020 21:14:57 - INFO - transformers.tokenization_utils -   Didn't find file output_gpt_text/added_tokens.json. We won't load it.\n",
      "03/07/2020 21:14:57 - INFO - transformers.tokenization_utils -   loading file output_gpt_text/vocab.json\n",
      "03/07/2020 21:14:57 - INFO - transformers.tokenization_utils -   loading file output_gpt_text/merges.txt\n",
      "03/07/2020 21:14:57 - INFO - transformers.tokenization_utils -   loading file None\n",
      "03/07/2020 21:14:57 - INFO - transformers.tokenization_utils -   loading file output_gpt_text/special_tokens_map.json\n",
      "03/07/2020 21:14:57 - INFO - transformers.tokenization_utils -   loading file output_gpt_text/tokenizer_config.json\n",
      "03/07/2020 21:14:57 - INFO - __main__ -   Evaluate the following checkpoints: ['output_gpt_text']\n",
      "03/07/2020 21:14:57 - INFO - transformers.configuration_utils -   loading configuration file output_gpt_text/config.json\n",
      "03/07/2020 21:14:57 - INFO - transformers.configuration_utils -   Model config GPT2Config {\n",
      "  \"architectures\": [\n",
      "    \"GPT2LMHeadModel\"\n",
      "  ],\n",
      "  \"attn_pdrop\": 0.1,\n",
      "  \"bos_token_id\": null,\n",
      "  \"do_sample\": false,\n",
      "  \"embd_pdrop\": 0.1,\n",
      "  \"eos_token_ids\": null,\n",
      "  \"finetuning_task\": null,\n",
      "  \"id2label\": {\n",
      "    \"0\": \"LABEL_0\",\n",
      "    \"1\": \"LABEL_1\"\n",
      "  },\n",
      "  \"initializer_range\": 0.02,\n",
      "  \"is_decoder\": false,\n",
      "  \"label2id\": {\n",
      "    \"LABEL_0\": 0,\n",
      "    \"LABEL_1\": 1\n",
      "  },\n",
      "  \"layer_norm_epsilon\": 1e-05,\n",
      "  \"length_penalty\": 1.0,\n",
      "  \"max_length\": 20,\n",
      "  \"model_type\": \"gpt2\",\n",
      "  \"n_ctx\": 1024,\n",
      "  \"n_embd\": 768,\n",
      "  \"n_head\": 12,\n",
      "  \"n_layer\": 12,\n",
      "  \"n_positions\": 1024,\n",
      "  \"num_beams\": 1,\n",
      "  \"num_labels\": 2,\n",
      "  \"num_return_sequences\": 1,\n",
      "  \"output_attentions\": false,\n",
      "  \"output_hidden_states\": false,\n",
      "  \"output_past\": true,\n",
      "  \"pad_token_id\": null,\n",
      "  \"pruned_heads\": {},\n",
      "  \"repetition_penalty\": 1.0,\n",
      "  \"resid_pdrop\": 0.1,\n",
      "  \"summary_activation\": null,\n",
      "  \"summary_first_dropout\": 0.1,\n",
      "  \"summary_proj_to_labels\": true,\n",
      "  \"summary_type\": \"cls_index\",\n",
      "  \"summary_use_proj\": true,\n",
      "  \"temperature\": 1.0,\n",
      "  \"top_k\": 50,\n",
      "  \"top_p\": 1.0,\n",
      "  \"torchscript\": false,\n",
      "  \"use_bfloat16\": false,\n",
      "  \"vocab_size\": 50257\n",
      "}\n",
      "\n",
      "03/07/2020 21:14:57 - INFO - transformers.modeling_utils -   loading weights file output_gpt_text/pytorch_model.bin\n",
      "03/07/2020 21:15:01 - INFO - __main__ -   Creating features from dataset file at \n",
      "03/07/2020 21:15:02 - INFO - __main__ -   Saving features into cached file gpt2_cached_lm_1024_test_text\n",
      "03/07/2020 21:15:02 - INFO - __main__ -   ***** Running evaluation  *****\n",
      "03/07/2020 21:15:02 - INFO - __main__ -     Num examples = 54\n",
      "03/07/2020 21:15:02 - INFO - __main__ -     Batch size = 1\n",
      "Evaluating: 100% 54/54 [00:12<00:00,  4.31it/s]\n",
      "03/07/2020 21:15:14 - INFO - __main__ -   ***** Eval results  *****\n",
      "03/07/2020 21:15:14 - INFO - __main__ -     perplexity = tensor(31.8466)\n"
     ]
    }
   ],
   "source": [
    "!python run_language_modelling.py --output_dir=output_gpt_text --model_type=gpt2 --model_name_or_path=gpt2 --do_train --train_data_file=train_text --do_eval --eval_data_file=test_text --per_gpu_train_batch_size=1 --per_gpu_eval_batch_size=1"
   ]
  },
  {
   "cell_type": "code",
   "execution_count": 66,
   "metadata": {
    "colab": {
     "base_uri": "https://localhost:8080/",
     "height": 1000
    },
    "colab_type": "code",
    "id": "kFE5XpO5XagE",
    "outputId": "168bf250-4619-480b-9e6f-ddb4a87b14ee"
   },
   "outputs": [
    {
     "name": "stdout",
     "output_type": "stream",
     "text": [
      "03/07/2020 21:20:47 - INFO - transformers.tokenization_utils -   Model name 'output_gpt_text' not found in model shortcut name list (gpt2, gpt2-medium, gpt2-large, gpt2-xl, distilgpt2). Assuming 'output_gpt_text' is a path, a model identifier, or url to a directory containing tokenizer files.\n",
      "03/07/2020 21:20:47 - INFO - transformers.tokenization_utils -   Didn't find file output_gpt_text/added_tokens.json. We won't load it.\n",
      "03/07/2020 21:20:47 - INFO - transformers.tokenization_utils -   loading file output_gpt_text/vocab.json\n",
      "03/07/2020 21:20:47 - INFO - transformers.tokenization_utils -   loading file output_gpt_text/merges.txt\n",
      "03/07/2020 21:20:47 - INFO - transformers.tokenization_utils -   loading file None\n",
      "03/07/2020 21:20:47 - INFO - transformers.tokenization_utils -   loading file output_gpt_text/special_tokens_map.json\n",
      "03/07/2020 21:20:47 - INFO - transformers.tokenization_utils -   loading file output_gpt_text/tokenizer_config.json\n",
      "03/07/2020 21:20:47 - INFO - transformers.configuration_utils -   loading configuration file output_gpt_text/config.json\n",
      "03/07/2020 21:20:47 - INFO - transformers.configuration_utils -   Model config GPT2Config {\n",
      "  \"architectures\": [\n",
      "    \"GPT2LMHeadModel\"\n",
      "  ],\n",
      "  \"attn_pdrop\": 0.1,\n",
      "  \"bos_token_id\": null,\n",
      "  \"do_sample\": false,\n",
      "  \"embd_pdrop\": 0.1,\n",
      "  \"eos_token_ids\": null,\n",
      "  \"finetuning_task\": null,\n",
      "  \"id2label\": {\n",
      "    \"0\": \"LABEL_0\",\n",
      "    \"1\": \"LABEL_1\"\n",
      "  },\n",
      "  \"initializer_range\": 0.02,\n",
      "  \"is_decoder\": false,\n",
      "  \"label2id\": {\n",
      "    \"LABEL_0\": 0,\n",
      "    \"LABEL_1\": 1\n",
      "  },\n",
      "  \"layer_norm_epsilon\": 1e-05,\n",
      "  \"length_penalty\": 1.0,\n",
      "  \"max_length\": 20,\n",
      "  \"model_type\": \"gpt2\",\n",
      "  \"n_ctx\": 1024,\n",
      "  \"n_embd\": 768,\n",
      "  \"n_head\": 12,\n",
      "  \"n_layer\": 12,\n",
      "  \"n_positions\": 1024,\n",
      "  \"num_beams\": 1,\n",
      "  \"num_labels\": 2,\n",
      "  \"num_return_sequences\": 1,\n",
      "  \"output_attentions\": false,\n",
      "  \"output_hidden_states\": false,\n",
      "  \"output_past\": true,\n",
      "  \"pad_token_id\": null,\n",
      "  \"pruned_heads\": {},\n",
      "  \"repetition_penalty\": 1.0,\n",
      "  \"resid_pdrop\": 0.1,\n",
      "  \"summary_activation\": null,\n",
      "  \"summary_first_dropout\": 0.1,\n",
      "  \"summary_proj_to_labels\": true,\n",
      "  \"summary_type\": \"cls_index\",\n",
      "  \"summary_use_proj\": true,\n",
      "  \"temperature\": 1.0,\n",
      "  \"top_k\": 50,\n",
      "  \"top_p\": 1.0,\n",
      "  \"torchscript\": false,\n",
      "  \"use_bfloat16\": false,\n",
      "  \"vocab_size\": 50257\n",
      "}\n",
      "\n",
      "03/07/2020 21:20:47 - INFO - transformers.modeling_utils -   loading weights file output_gpt_text/pytorch_model.bin\n",
      "03/07/2020 21:20:54 - INFO - __main__ -   Namespace(device=device(type='cuda'), k=0, length=20, model_name_or_path='output_gpt_text', model_type='gpt2', n_gpu=1, no_cuda=False, num_return_sequences=1, p=0.9, padding_text='', prompt='', repetition_penalty=1.0, seed=42, stop_token=None, temperature=1.0, xlm_language='')\n",
      "Model prompt >>> America is\n",
      "=== GENERATED SEQUENCE 1 ===\n",
      "America is full of lazy leaders of an America that once repressed their working class. So tell me what you\n"
     ]
    }
   ],
   "source": [
    "!python run_generation.py --model_type=gpt2 --model_name_or_path=output_gpt_text"
   ]
  },
  {
   "cell_type": "markdown",
   "metadata": {
    "colab_type": "text",
    "id": "wOtMaYdt3_NE"
   },
   "source": [
    "This is really interesting! This suggests that comments in our dataset (highest upvotes) might express negative attitudes towards the country."
   ]
  },
  {
   "cell_type": "code",
   "execution_count": 0,
   "metadata": {
    "colab": {},
    "colab_type": "code",
    "id": "WrVeutVJXtAI"
   },
   "outputs": [],
   "source": [
    "from transformers import AutoModelWithLMHead, AutoTokenizer\n",
    "\n",
    "tokenizer_gpt = AutoTokenizer.from_pretrained(\"gpt2\")\n",
    "model_gpt = AutoModelWithLMHead.from_pretrained(\"gpt2\")\n",
    "\n",
    "tokenizer_comment = AutoTokenizer.from_pretrained(\"output_gpt_text\")\n",
    "model_comment = AutoModelWithLMHead.from_pretrained(\"output_gpt_text\")"
   ]
  },
  {
   "cell_type": "code",
   "execution_count": 89,
   "metadata": {
    "colab": {
     "base_uri": "https://localhost:8080/",
     "height": 51
    },
    "colab_type": "code",
    "id": "clGZpwqnZiAw",
    "outputId": "2730efb5-0715-4df8-81c9-36052c3165a8"
   },
   "outputs": [
    {
     "name": "stdout",
     "output_type": "stream",
     "text": [
      "i am an atheist, you see.. but you have never told me what I'm actually saying?\"\n",
      "\"\n"
     ]
    }
   ],
   "source": [
    "sequence = \"i am\"\n",
    "\n",
    "input = tokenizer_comment.encode(sequence, return_tensors=\"pt\")\n",
    "generated = model_comment.generate(input, max_length=50, bos_token_id=1, pad_token_id=1, eos_token_ids=1)\n",
    "\n",
    "resulting_string = tokenizer_comment.decode(generated.tolist()[0])\n",
    "print(resulting_string)"
   ]
  },
  {
   "cell_type": "code",
   "execution_count": 86,
   "metadata": {
    "colab": {
     "base_uri": "https://localhost:8080/",
     "height": 34
    },
    "colab_type": "code",
    "id": "WRvB-C1KZr9J",
    "outputId": "d8ff4328-e059-4f85-e26e-eb634a336c7f"
   },
   "outputs": [
    {
     "name": "stdout",
     "output_type": "stream",
     "text": [
      "you are not a black person and you just want to be treated as such\"\n"
     ]
    }
   ],
   "source": [
    "sequence = \"you are\"\n",
    "\n",
    "input = tokenizer_comment.encode(sequence, return_tensors=\"pt\")\n",
    "generated = model_comment.generate(input, max_length=50, bos_token_id=1, pad_token_id=1, eos_token_ids=1)\n",
    "\n",
    "resulting_string = tokenizer_comment.decode(generated.tolist()[0])\n",
    "print(resulting_string)"
   ]
  },
  {
   "cell_type": "markdown",
   "metadata": {
    "colab_type": "text",
    "id": "eYixU783ZxH_"
   },
   "source": [
    "I'm impressed by the quality of the generated text. The text makes a lot of sense, ands since Reddit comments are short by nature, these generated text are short as well. In addition, these expressions are colloquial and the topics are very much like what we usually see in online conversation. "
   ]
  },
  {
   "cell_type": "markdown",
   "metadata": {
    "colab_type": "text",
    "id": "WbKMzZswaSIK"
   },
   "source": [
    "## Exercise 4\n",
    "Construct cells immediately below this that tune BERT to at least two different textual samples. These could be from different corpora, distinct time periods, separate authors, alternative publishing outlets, etc. Then compare the meaning of words, phrases and sentences to each other across the separate models. What do they reveal about the social worlds inscribed by the distinctive samples?"
   ]
  },
  {
   "cell_type": "code",
   "execution_count": 0,
   "metadata": {
    "colab": {},
    "colab_type": "code",
    "id": "rfg36nl3aYMi"
   },
   "outputs": [],
   "source": [
    "train_text, test_text = train_test_split(negDF['text'], test_size=0.2)\n",
    "train_text.to_frame().to_csv(r'train_neg', header=None, index=None, sep=' ', mode='a')\n",
    "test_text.to_frame().to_csv(r'test_neg', header=None, index=None, sep=' ', mode='a')"
   ]
  },
  {
   "cell_type": "markdown",
   "metadata": {
    "colab_type": "text",
    "id": "829pKCuv5RGI"
   },
   "source": [
    "First, I trained models using the dataset that contains comments that receive the highest downvotes."
   ]
  },
  {
   "cell_type": "code",
   "execution_count": 91,
   "metadata": {
    "colab": {
     "base_uri": "https://localhost:8080/",
     "height": 1000
    },
    "colab_type": "code",
    "id": "CJkcVa8Nanmd",
    "outputId": "41efe6cc-ecb3-4987-9888-821e82df5385"
   },
   "outputs": [
    {
     "name": "stdout",
     "output_type": "stream",
     "text": [
      "03/07/2020 21:27:10 - WARNING - __main__ -   Process rank: -1, device: cuda, n_gpu: 1, distributed training: False, 16-bits training: False\n",
      "03/07/2020 21:27:10 - INFO - transformers.configuration_utils -   loading configuration file https://s3.amazonaws.com/models.huggingface.co/bert/gpt2-config.json from cache at /root/.cache/torch/transformers/4be02c5697d91738003fb1685c9872f284166aa32e061576bbe6aaeb95649fcf.699bbd1c449e9861456f359d6daa51bd523ac085b4b531ab0aad5a55d091e942\n",
      "03/07/2020 21:27:10 - INFO - transformers.configuration_utils -   Model config GPT2Config {\n",
      "  \"architectures\": [\n",
      "    \"GPT2LMHeadModel\"\n",
      "  ],\n",
      "  \"attn_pdrop\": 0.1,\n",
      "  \"bos_token_id\": null,\n",
      "  \"do_sample\": false,\n",
      "  \"embd_pdrop\": 0.1,\n",
      "  \"eos_token_ids\": null,\n",
      "  \"finetuning_task\": null,\n",
      "  \"id2label\": {\n",
      "    \"0\": \"LABEL_0\",\n",
      "    \"1\": \"LABEL_1\"\n",
      "  },\n",
      "  \"initializer_range\": 0.02,\n",
      "  \"is_decoder\": false,\n",
      "  \"label2id\": {\n",
      "    \"LABEL_0\": 0,\n",
      "    \"LABEL_1\": 1\n",
      "  },\n",
      "  \"layer_norm_epsilon\": 1e-05,\n",
      "  \"length_penalty\": 1.0,\n",
      "  \"max_length\": 20,\n",
      "  \"model_type\": \"gpt2\",\n",
      "  \"n_ctx\": 1024,\n",
      "  \"n_embd\": 768,\n",
      "  \"n_head\": 12,\n",
      "  \"n_layer\": 12,\n",
      "  \"n_positions\": 1024,\n",
      "  \"num_beams\": 1,\n",
      "  \"num_labels\": 2,\n",
      "  \"num_return_sequences\": 1,\n",
      "  \"output_attentions\": false,\n",
      "  \"output_hidden_states\": false,\n",
      "  \"output_past\": true,\n",
      "  \"pad_token_id\": null,\n",
      "  \"pruned_heads\": {},\n",
      "  \"repetition_penalty\": 1.0,\n",
      "  \"resid_pdrop\": 0.1,\n",
      "  \"summary_activation\": null,\n",
      "  \"summary_first_dropout\": 0.1,\n",
      "  \"summary_proj_to_labels\": true,\n",
      "  \"summary_type\": \"cls_index\",\n",
      "  \"summary_use_proj\": true,\n",
      "  \"temperature\": 1.0,\n",
      "  \"top_k\": 50,\n",
      "  \"top_p\": 1.0,\n",
      "  \"torchscript\": false,\n",
      "  \"use_bfloat16\": false,\n",
      "  \"vocab_size\": 50257\n",
      "}\n",
      "\n",
      "03/07/2020 21:27:10 - INFO - transformers.tokenization_utils -   loading file https://s3.amazonaws.com/models.huggingface.co/bert/gpt2-vocab.json from cache at /root/.cache/torch/transformers/f2808208f9bec2320371a9f5f891c184ae0b674ef866b79c58177067d15732dd.1512018be4ba4e8726e41b9145129dc30651ea4fec86aa61f4b9f40bf94eac71\n",
      "03/07/2020 21:27:10 - INFO - transformers.tokenization_utils -   loading file https://s3.amazonaws.com/models.huggingface.co/bert/gpt2-merges.txt from cache at /root/.cache/torch/transformers/d629f792e430b3c76a1291bb2766b0a047e36fae0588f9dbc1ae51decdff691b.70bec105b4158ed9a1747fea67a43f5dee97855c64d62b6ec3742f4cfdb5feda\n",
      "03/07/2020 21:27:10 - INFO - transformers.modeling_utils -   loading weights file https://s3.amazonaws.com/models.huggingface.co/bert/gpt2-pytorch_model.bin from cache at /root/.cache/torch/transformers/4295d67f022061768f4adc386234dbdb781c814c39662dd1662221c309962c55.778cf36f5c4e5d94c8cd9cefcf2a580c8643570eb327f0d4a1f007fab2acbdf1\n",
      "03/07/2020 21:27:17 - INFO - __main__ -   Training/evaluation parameters Namespace(adam_epsilon=1e-08, block_size=1024, cache_dir=None, config_name=None, device=device(type='cuda'), do_eval=True, do_train=True, eval_all_checkpoints=False, eval_data_file='test_neg', evaluate_during_training=False, fp16=False, fp16_opt_level='O1', gradient_accumulation_steps=1, learning_rate=5e-05, line_by_line=False, local_rank=-1, logging_steps=500, max_grad_norm=1.0, max_steps=-1, mlm=False, mlm_probability=0.15, model_name_or_path='gpt2', model_type='gpt2', n_gpu=1, no_cuda=False, num_train_epochs=1.0, output_dir='output_gpt_neg', overwrite_cache=False, overwrite_output_dir=False, per_gpu_eval_batch_size=1, per_gpu_train_batch_size=1, save_steps=500, save_total_limit=None, seed=42, server_ip='', server_port='', should_continue=False, tokenizer_name=None, train_data_file='train_neg', warmup_steps=0, weight_decay=0.0)\n",
      "03/07/2020 21:27:17 - INFO - __main__ -   Creating features from dataset file at \n",
      "03/07/2020 21:27:18 - INFO - __main__ -   Saving features into cached file gpt2_cached_lm_1024_train_neg\n",
      "03/07/2020 21:27:18 - INFO - __main__ -   ***** Running training *****\n",
      "03/07/2020 21:27:18 - INFO - __main__ -     Num examples = 191\n",
      "03/07/2020 21:27:18 - INFO - __main__ -     Num Epochs = 1\n",
      "03/07/2020 21:27:18 - INFO - __main__ -     Instantaneous batch size per GPU = 1\n",
      "03/07/2020 21:27:18 - INFO - __main__ -     Total train batch size (w. parallel, distributed & accumulation) = 1\n",
      "03/07/2020 21:27:18 - INFO - __main__ -     Gradient Accumulation steps = 1\n",
      "03/07/2020 21:27:18 - INFO - __main__ -     Total optimization steps = 191\n",
      "Epoch:   0% 0/1 [00:00<?, ?it/s]\n",
      "Iteration:   0% 0/191 [00:00<?, ?it/s]\u001b[A\n",
      "Iteration:   1% 1/191 [00:00<02:34,  1.23it/s]\u001b[A\n",
      "Iteration:   1% 2/191 [00:01<02:29,  1.27it/s]\u001b[A\n",
      "Iteration:   2% 3/191 [00:02<02:25,  1.29it/s]\u001b[A\n",
      "Iteration:   2% 4/191 [00:03<02:22,  1.31it/s]\u001b[A\n",
      "Iteration:   3% 5/191 [00:03<02:20,  1.32it/s]\u001b[A\n",
      "Iteration:   3% 6/191 [00:04<02:18,  1.34it/s]\u001b[A\n",
      "Iteration:   4% 7/191 [00:05<02:17,  1.34it/s]\u001b[A\n",
      "Iteration:   4% 8/191 [00:05<02:15,  1.35it/s]\u001b[A\n",
      "Iteration:   5% 9/191 [00:06<02:14,  1.35it/s]\u001b[A\n",
      "Iteration:   5% 10/191 [00:07<02:13,  1.35it/s]\u001b[A\n",
      "Iteration:   6% 11/191 [00:08<02:13,  1.35it/s]\u001b[A\n",
      "Iteration:   6% 12/191 [00:08<02:11,  1.36it/s]\u001b[A\n",
      "Iteration:   7% 13/191 [00:09<02:11,  1.35it/s]\u001b[A\n",
      "Iteration:   7% 14/191 [00:10<02:10,  1.36it/s]\u001b[A\n",
      "Iteration:   8% 15/191 [00:11<02:09,  1.36it/s]\u001b[A\n",
      "Iteration:   8% 16/191 [00:11<02:09,  1.35it/s]\u001b[A\n",
      "Iteration:   9% 17/191 [00:12<02:08,  1.35it/s]\u001b[A\n",
      "Iteration:   9% 18/191 [00:13<02:08,  1.35it/s]\u001b[A\n",
      "Iteration:  10% 19/191 [00:14<02:07,  1.35it/s]\u001b[A\n",
      "Iteration:  10% 20/191 [00:14<02:06,  1.35it/s]\u001b[A\n",
      "Iteration:  11% 21/191 [00:15<02:05,  1.35it/s]\u001b[A\n",
      "Iteration:  12% 22/191 [00:16<02:05,  1.35it/s]\u001b[A\n",
      "Iteration:  12% 23/191 [00:17<02:04,  1.35it/s]\u001b[A\n",
      "Iteration:  13% 24/191 [00:17<02:03,  1.35it/s]\u001b[A\n",
      "Iteration:  13% 25/191 [00:18<02:02,  1.35it/s]\u001b[A\n",
      "Iteration:  14% 26/191 [00:19<02:02,  1.35it/s]\u001b[A\n",
      "Iteration:  14% 27/191 [00:20<02:01,  1.35it/s]\u001b[A\n",
      "Iteration:  15% 28/191 [00:20<02:00,  1.35it/s]\u001b[A\n",
      "Iteration:  15% 29/191 [00:21<01:59,  1.35it/s]\u001b[A\n",
      "Iteration:  16% 30/191 [00:22<01:59,  1.35it/s]\u001b[A\n",
      "Iteration:  16% 31/191 [00:22<01:58,  1.35it/s]\u001b[A\n",
      "Iteration:  17% 32/191 [00:23<01:57,  1.35it/s]\u001b[A\n",
      "Iteration:  17% 33/191 [00:24<01:57,  1.35it/s]\u001b[A\n",
      "Iteration:  18% 34/191 [00:25<01:56,  1.34it/s]\u001b[A\n",
      "Iteration:  18% 35/191 [00:25<01:56,  1.34it/s]\u001b[A\n",
      "Iteration:  19% 36/191 [00:26<01:55,  1.35it/s]\u001b[A\n",
      "Iteration:  19% 37/191 [00:27<01:54,  1.34it/s]\u001b[A\n",
      "Iteration:  20% 38/191 [00:28<01:53,  1.34it/s]\u001b[A\n",
      "Iteration:  20% 39/191 [00:28<01:53,  1.34it/s]\u001b[A\n",
      "Iteration:  21% 40/191 [00:29<01:52,  1.34it/s]\u001b[A\n",
      "Iteration:  21% 41/191 [00:30<01:52,  1.34it/s]\u001b[A\n",
      "Iteration:  22% 42/191 [00:31<01:51,  1.34it/s]\u001b[A\n",
      "Iteration:  23% 43/191 [00:31<01:50,  1.34it/s]\u001b[A\n",
      "Iteration:  23% 44/191 [00:32<01:50,  1.33it/s]\u001b[A\n",
      "Iteration:  24% 45/191 [00:33<01:49,  1.34it/s]\u001b[A\n",
      "Iteration:  24% 46/191 [00:34<01:48,  1.33it/s]\u001b[A\n",
      "Iteration:  25% 47/191 [00:34<01:47,  1.33it/s]\u001b[A\n",
      "Iteration:  25% 48/191 [00:35<01:47,  1.33it/s]\u001b[A\n",
      "Iteration:  26% 49/191 [00:36<01:46,  1.33it/s]\u001b[A\n",
      "Iteration:  26% 50/191 [00:37<01:45,  1.33it/s]\u001b[A\n",
      "Iteration:  27% 51/191 [00:37<01:45,  1.33it/s]\u001b[A\n",
      "Iteration:  27% 52/191 [00:38<01:44,  1.33it/s]\u001b[A\n",
      "Iteration:  28% 54/191 [00:40<01:42,  1.33it/s]\u001b[A\n",
      "Iteration:  29% 55/191 [00:40<01:41,  1.34it/s]\u001b[A\n",
      "Iteration:  29% 56/191 [00:41<01:41,  1.33it/s]\u001b[A\n",
      "Iteration:  30% 57/191 [00:42<01:40,  1.33it/s]\u001b[A\n",
      "Iteration:  30% 58/191 [00:43<01:39,  1.33it/s]\u001b[A\n",
      "Iteration:  31% 59/191 [00:43<01:39,  1.33it/s]\u001b[A\n",
      "Iteration:  31% 60/191 [00:44<01:38,  1.33it/s]\u001b[A\n",
      "Iteration:  32% 61/191 [00:45<01:37,  1.33it/s]\u001b[A\n",
      "Iteration:  32% 62/191 [00:46<01:37,  1.33it/s]\u001b[A\n",
      "Iteration:  33% 63/191 [00:46<01:36,  1.33it/s]\u001b[A\n",
      "Iteration:  34% 64/191 [00:47<01:35,  1.33it/s]\u001b[A\n",
      "Iteration:  34% 65/191 [00:48<01:35,  1.33it/s]\u001b[A\n",
      "Iteration:  35% 66/191 [00:49<01:34,  1.33it/s]\u001b[A\n",
      "Iteration:  35% 67/191 [00:49<01:33,  1.33it/s]\u001b[A\n",
      "Iteration:  36% 68/191 [00:50<01:32,  1.33it/s]\u001b[A\n",
      "Iteration:  36% 69/191 [00:51<01:32,  1.33it/s]\u001b[A\n",
      "Iteration:  37% 70/191 [00:52<01:31,  1.32it/s]\u001b[A\n",
      "Iteration:  37% 71/191 [00:52<01:30,  1.33it/s]\u001b[A\n",
      "Iteration:  38% 72/191 [00:53<01:29,  1.33it/s]\u001b[A\n",
      "Iteration:  38% 73/191 [00:54<01:28,  1.33it/s]\u001b[A\n",
      "Iteration:  39% 74/191 [00:55<01:28,  1.33it/s]\u001b[A\n",
      "Iteration:  39% 75/191 [00:56<01:27,  1.33it/s]\u001b[A\n",
      "Iteration:  40% 76/191 [00:56<01:26,  1.33it/s]\u001b[A\n",
      "Iteration:  40% 77/191 [00:57<01:25,  1.33it/s]\u001b[A\n",
      "Iteration:  41% 78/191 [00:58<01:25,  1.33it/s]\u001b[A\n",
      "Iteration:  41% 79/191 [00:59<01:24,  1.33it/s]\u001b[A\n",
      "Iteration:  42% 80/191 [00:59<01:23,  1.33it/s]\u001b[A\n",
      "Iteration:  42% 81/191 [01:00<01:22,  1.33it/s]\u001b[A\n",
      "Iteration:  43% 82/191 [01:01<01:22,  1.33it/s]\u001b[A\n",
      "Iteration:  43% 83/191 [01:02<01:21,  1.33it/s]\u001b[A\n",
      "Iteration:  44% 84/191 [01:02<01:20,  1.32it/s]\u001b[A\n",
      "Iteration:  45% 85/191 [01:03<01:20,  1.32it/s]\u001b[A\n",
      "Iteration:  45% 86/191 [01:04<01:19,  1.32it/s]\u001b[A\n",
      "Iteration:  46% 87/191 [01:05<01:18,  1.32it/s]\u001b[A\n",
      "Iteration:  46% 88/191 [01:05<01:17,  1.32it/s]\u001b[A\n",
      "Iteration:  47% 89/191 [01:06<01:17,  1.32it/s]\u001b[A\n",
      "Iteration:  47% 90/191 [01:07<01:16,  1.33it/s]\u001b[A\n",
      "Iteration:  48% 91/191 [01:08<01:15,  1.33it/s]\u001b[A\n",
      "Iteration:  48% 92/191 [01:08<01:14,  1.33it/s]\u001b[A\n",
      "Iteration:  49% 93/191 [01:09<01:13,  1.33it/s]\u001b[A\n",
      "Iteration:  49% 94/191 [01:10<01:12,  1.33it/s]\u001b[A\n",
      "Iteration:  50% 95/191 [01:11<01:12,  1.33it/s]\u001b[A\n",
      "Iteration:  50% 96/191 [01:11<01:11,  1.33it/s]\u001b[A\n",
      "Iteration:  51% 97/191 [01:12<01:10,  1.33it/s]\u001b[A\n",
      "Iteration:  51% 98/191 [01:13<01:10,  1.33it/s]\u001b[A\n",
      "Iteration:  52% 99/191 [01:14<01:09,  1.33it/s]\u001b[A\n",
      "Iteration:  52% 100/191 [01:14<01:08,  1.33it/s]\u001b[A\n",
      "Iteration:  53% 101/191 [01:15<01:07,  1.33it/s]\u001b[A\n",
      "Iteration:  53% 102/191 [01:16<01:07,  1.33it/s]\u001b[A\n",
      "Iteration:  54% 103/191 [01:17<01:06,  1.33it/s]\u001b[A\n",
      "Iteration:  54% 104/191 [01:17<01:05,  1.33it/s]\u001b[A\n",
      "Iteration:  55% 105/191 [01:18<01:04,  1.33it/s]\u001b[A\n",
      "Iteration:  55% 106/191 [01:19<01:04,  1.33it/s]\u001b[A\n",
      "Iteration:  56% 107/191 [01:20<01:03,  1.33it/s]\u001b[A\n",
      "Iteration:  57% 108/191 [01:20<01:02,  1.32it/s]\u001b[A\n",
      "Iteration:  57% 109/191 [01:21<01:01,  1.33it/s]\u001b[A\n",
      "Iteration:  58% 110/191 [01:22<01:01,  1.33it/s]\u001b[A\n",
      "Iteration:  58% 111/191 [01:23<01:00,  1.33it/s]\u001b[A\n",
      "Iteration:  59% 112/191 [01:23<00:59,  1.33it/s]\u001b[A\n",
      "Iteration:  59% 113/191 [01:24<00:58,  1.33it/s]\u001b[A\n",
      "Iteration:  60% 114/191 [01:25<00:58,  1.32it/s]\u001b[A\n",
      "Iteration:  60% 115/191 [01:26<00:57,  1.33it/s]\u001b[A\n",
      "Iteration:  61% 116/191 [01:26<00:56,  1.32it/s]\u001b[A\n",
      "Iteration:  61% 117/191 [01:27<00:55,  1.32it/s]\u001b[A\n",
      "Iteration:  62% 118/191 [01:28<00:55,  1.32it/s]\u001b[A\n",
      "Iteration:  62% 119/191 [01:29<00:54,  1.32it/s]\u001b[A\n",
      "Iteration:  63% 120/191 [01:29<00:53,  1.32it/s]\u001b[A\n",
      "Iteration:  63% 121/191 [01:30<00:52,  1.32it/s]\u001b[A\n",
      "Iteration:  64% 122/191 [01:31<00:52,  1.32it/s]\u001b[A\n",
      "Iteration:  64% 123/191 [01:32<00:51,  1.32it/s]\u001b[A\n",
      "Iteration:  65% 124/191 [01:32<00:50,  1.32it/s]\u001b[A\n",
      "Iteration:  65% 125/191 [01:33<00:49,  1.32it/s]\u001b[A\n",
      "Iteration:  66% 126/191 [01:34<00:49,  1.32it/s]\u001b[A\n",
      "Iteration:  66% 127/191 [01:35<00:48,  1.32it/s]\u001b[A\n",
      "Iteration:  67% 128/191 [01:35<00:47,  1.33it/s]\u001b[A\n",
      "Iteration:  68% 129/191 [01:36<00:46,  1.32it/s]\u001b[A\n",
      "Iteration:  68% 130/191 [01:37<00:46,  1.32it/s]\u001b[A\n",
      "Iteration:  69% 131/191 [01:38<00:45,  1.32it/s]\u001b[A\n",
      "Iteration:  69% 132/191 [01:39<00:44,  1.33it/s]\u001b[A\n",
      "Iteration:  70% 133/191 [01:39<00:43,  1.32it/s]\u001b[A\n",
      "Iteration:  70% 134/191 [01:40<00:42,  1.33it/s]\u001b[A\n",
      "Iteration:  71% 135/191 [01:41<00:42,  1.32it/s]\u001b[A\n",
      "Iteration:  71% 136/191 [01:42<00:41,  1.33it/s]\u001b[A\n",
      "Iteration:  72% 137/191 [01:42<00:40,  1.33it/s]\u001b[A\n",
      "Iteration:  72% 138/191 [01:43<00:39,  1.33it/s]\u001b[A\n",
      "Iteration:  73% 139/191 [01:44<00:39,  1.32it/s]\u001b[A\n",
      "Iteration:  73% 140/191 [01:45<00:38,  1.33it/s]\u001b[A\n",
      "Iteration:  74% 141/191 [01:45<00:37,  1.33it/s]\u001b[A\n",
      "Iteration:  74% 142/191 [01:46<00:36,  1.33it/s]\u001b[A\n",
      "Iteration:  75% 143/191 [01:47<00:36,  1.33it/s]\u001b[A\n",
      "Iteration:  75% 144/191 [01:48<00:35,  1.33it/s]\u001b[A\n",
      "Iteration:  76% 145/191 [01:48<00:34,  1.32it/s]\u001b[A\n",
      "Iteration:  76% 146/191 [01:49<00:33,  1.33it/s]\u001b[A\n",
      "Iteration:  77% 147/191 [01:50<00:33,  1.33it/s]\u001b[A\n",
      "Iteration:  77% 148/191 [01:51<00:32,  1.33it/s]\u001b[A\n",
      "Iteration:  78% 149/191 [01:51<00:31,  1.33it/s]\u001b[A\n",
      "Iteration:  79% 150/191 [01:52<00:30,  1.33it/s]\u001b[A\n",
      "Iteration:  79% 151/191 [01:53<00:30,  1.33it/s]\u001b[A\n",
      "Iteration:  80% 152/191 [01:54<00:29,  1.33it/s]\u001b[A\n",
      "Iteration:  80% 153/191 [01:54<00:28,  1.32it/s]\u001b[A\n",
      "Iteration:  81% 154/191 [01:55<00:27,  1.32it/s]\u001b[A\n",
      "Iteration:  81% 155/191 [01:56<00:27,  1.32it/s]\u001b[A\n",
      "Iteration:  82% 156/191 [01:57<00:26,  1.33it/s]\u001b[A\n",
      "Iteration:  82% 157/191 [01:57<00:25,  1.32it/s]\u001b[A\n",
      "Iteration:  83% 158/191 [01:58<00:24,  1.33it/s]\u001b[A\n",
      "Iteration:  83% 159/191 [01:59<00:24,  1.32it/s]\u001b[A\n",
      "Iteration:  84% 160/191 [02:00<00:23,  1.32it/s]\u001b[A\n",
      "Iteration:  84% 161/191 [02:00<00:22,  1.33it/s]\u001b[A\n",
      "Iteration:  85% 162/191 [02:01<00:21,  1.32it/s]\u001b[A\n",
      "Iteration:  85% 163/191 [02:02<00:21,  1.33it/s]\u001b[A\n",
      "Iteration:  86% 164/191 [02:03<00:20,  1.33it/s]\u001b[A\n",
      "Iteration:  86% 165/191 [02:03<00:19,  1.33it/s]\u001b[A\n",
      "Iteration:  87% 166/191 [02:04<00:18,  1.33it/s]\u001b[A\n",
      "Iteration:  87% 167/191 [02:05<00:18,  1.33it/s]\u001b[A\n",
      "Iteration:  88% 168/191 [02:06<00:17,  1.33it/s]\u001b[A\n",
      "Iteration:  88% 169/191 [02:06<00:16,  1.33it/s]\u001b[A\n",
      "Iteration:  89% 170/191 [02:07<00:15,  1.33it/s]\u001b[A\n",
      "Iteration:  90% 171/191 [02:08<00:15,  1.33it/s]\u001b[A\n",
      "Iteration:  90% 172/191 [02:09<00:14,  1.33it/s]\u001b[A\n",
      "Iteration:  91% 173/191 [02:09<00:13,  1.33it/s]\u001b[A\n",
      "Iteration:  91% 174/191 [02:10<00:12,  1.33it/s]\u001b[A\n",
      "Iteration:  92% 175/191 [02:11<00:12,  1.33it/s]\u001b[A\n",
      "Iteration:  92% 176/191 [02:12<00:11,  1.33it/s]\u001b[A\n",
      "Iteration:  93% 177/191 [02:12<00:10,  1.33it/s]\u001b[A\n",
      "Iteration:  93% 178/191 [02:13<00:09,  1.33it/s]\u001b[A\n",
      "Iteration:  94% 179/191 [02:14<00:09,  1.33it/s]\u001b[A\n",
      "Iteration:  94% 180/191 [02:15<00:08,  1.33it/s]\u001b[A\n",
      "Iteration:  95% 181/191 [02:15<00:07,  1.33it/s]\u001b[A\n",
      "Iteration:  95% 182/191 [02:16<00:06,  1.33it/s]\u001b[A\n",
      "Iteration:  96% 183/191 [02:17<00:06,  1.33it/s]\u001b[A\n",
      "Iteration:  96% 184/191 [02:18<00:05,  1.33it/s]\u001b[A\n",
      "Iteration:  97% 185/191 [02:18<00:04,  1.33it/s]\u001b[A\n",
      "Iteration:  97% 186/191 [02:19<00:03,  1.33it/s]\u001b[A\n",
      "Iteration:  98% 187/191 [02:20<00:03,  1.33it/s]\u001b[A\n",
      "Iteration:  98% 188/191 [02:21<00:02,  1.33it/s]\u001b[A\n",
      "Iteration:  99% 189/191 [02:21<00:01,  1.33it/s]\u001b[A\n",
      "Iteration:  99% 190/191 [02:22<00:00,  1.33it/s]\u001b[A\n",
      "Iteration: 100% 191/191 [02:23<00:00,  1.33it/s]\u001b[A\n",
      "Epoch: 100% 1/1 [02:23<00:00, 143.45s/it]\n",
      "03/07/2020 21:29:42 - INFO - __main__ -    global_step = 191, average loss = 3.787740570712464\n",
      "03/07/2020 21:29:42 - INFO - __main__ -   Saving model checkpoint to output_gpt_neg\n",
      "03/07/2020 21:29:42 - INFO - transformers.configuration_utils -   Configuration saved in output_gpt_neg/config.json\n",
      "03/07/2020 21:29:43 - INFO - transformers.modeling_utils -   Model weights saved in output_gpt_neg/pytorch_model.bin\n",
      "03/07/2020 21:29:43 - INFO - transformers.configuration_utils -   loading configuration file output_gpt_neg/config.json\n",
      "03/07/2020 21:29:43 - INFO - transformers.configuration_utils -   Model config GPT2Config {\n",
      "  \"architectures\": [\n",
      "    \"GPT2LMHeadModel\"\n",
      "  ],\n",
      "  \"attn_pdrop\": 0.1,\n",
      "  \"bos_token_id\": null,\n",
      "  \"do_sample\": false,\n",
      "  \"embd_pdrop\": 0.1,\n",
      "  \"eos_token_ids\": null,\n",
      "  \"finetuning_task\": null,\n",
      "  \"id2label\": {\n",
      "    \"0\": \"LABEL_0\",\n",
      "    \"1\": \"LABEL_1\"\n",
      "  },\n",
      "  \"initializer_range\": 0.02,\n",
      "  \"is_decoder\": false,\n",
      "  \"label2id\": {\n",
      "    \"LABEL_0\": 0,\n",
      "    \"LABEL_1\": 1\n",
      "  },\n",
      "  \"layer_norm_epsilon\": 1e-05,\n",
      "  \"length_penalty\": 1.0,\n",
      "  \"max_length\": 20,\n",
      "  \"model_type\": \"gpt2\",\n",
      "  \"n_ctx\": 1024,\n",
      "  \"n_embd\": 768,\n",
      "  \"n_head\": 12,\n",
      "  \"n_layer\": 12,\n",
      "  \"n_positions\": 1024,\n",
      "  \"num_beams\": 1,\n",
      "  \"num_labels\": 2,\n",
      "  \"num_return_sequences\": 1,\n",
      "  \"output_attentions\": false,\n",
      "  \"output_hidden_states\": false,\n",
      "  \"output_past\": true,\n",
      "  \"pad_token_id\": null,\n",
      "  \"pruned_heads\": {},\n",
      "  \"repetition_penalty\": 1.0,\n",
      "  \"resid_pdrop\": 0.1,\n",
      "  \"summary_activation\": null,\n",
      "  \"summary_first_dropout\": 0.1,\n",
      "  \"summary_proj_to_labels\": true,\n",
      "  \"summary_type\": \"cls_index\",\n",
      "  \"summary_use_proj\": true,\n",
      "  \"temperature\": 1.0,\n",
      "  \"top_k\": 50,\n",
      "  \"top_p\": 1.0,\n",
      "  \"torchscript\": false,\n",
      "  \"use_bfloat16\": false,\n",
      "  \"vocab_size\": 50257\n",
      "}\n",
      "\n",
      "03/07/2020 21:29:43 - INFO - transformers.modeling_utils -   loading weights file output_gpt_neg/pytorch_model.bin\n",
      "03/07/2020 21:29:47 - INFO - transformers.tokenization_utils -   Model name 'output_gpt_neg' not found in model shortcut name list (gpt2, gpt2-medium, gpt2-large, gpt2-xl, distilgpt2). Assuming 'output_gpt_neg' is a path, a model identifier, or url to a directory containing tokenizer files.\n",
      "03/07/2020 21:29:47 - INFO - transformers.tokenization_utils -   Didn't find file output_gpt_neg/added_tokens.json. We won't load it.\n",
      "03/07/2020 21:29:47 - INFO - transformers.tokenization_utils -   loading file output_gpt_neg/vocab.json\n",
      "03/07/2020 21:29:47 - INFO - transformers.tokenization_utils -   loading file output_gpt_neg/merges.txt\n",
      "03/07/2020 21:29:47 - INFO - transformers.tokenization_utils -   loading file None\n",
      "03/07/2020 21:29:47 - INFO - transformers.tokenization_utils -   loading file output_gpt_neg/special_tokens_map.json\n",
      "03/07/2020 21:29:47 - INFO - transformers.tokenization_utils -   loading file output_gpt_neg/tokenizer_config.json\n",
      "03/07/2020 21:29:47 - INFO - __main__ -   Evaluate the following checkpoints: ['output_gpt_neg']\n",
      "03/07/2020 21:29:47 - INFO - transformers.configuration_utils -   loading configuration file output_gpt_neg/config.json\n",
      "03/07/2020 21:29:47 - INFO - transformers.configuration_utils -   Model config GPT2Config {\n",
      "  \"architectures\": [\n",
      "    \"GPT2LMHeadModel\"\n",
      "  ],\n",
      "  \"attn_pdrop\": 0.1,\n",
      "  \"bos_token_id\": null,\n",
      "  \"do_sample\": false,\n",
      "  \"embd_pdrop\": 0.1,\n",
      "  \"eos_token_ids\": null,\n",
      "  \"finetuning_task\": null,\n",
      "  \"id2label\": {\n",
      "    \"0\": \"LABEL_0\",\n",
      "    \"1\": \"LABEL_1\"\n",
      "  },\n",
      "  \"initializer_range\": 0.02,\n",
      "  \"is_decoder\": false,\n",
      "  \"label2id\": {\n",
      "    \"LABEL_0\": 0,\n",
      "    \"LABEL_1\": 1\n",
      "  },\n",
      "  \"layer_norm_epsilon\": 1e-05,\n",
      "  \"length_penalty\": 1.0,\n",
      "  \"max_length\": 20,\n",
      "  \"model_type\": \"gpt2\",\n",
      "  \"n_ctx\": 1024,\n",
      "  \"n_embd\": 768,\n",
      "  \"n_head\": 12,\n",
      "  \"n_layer\": 12,\n",
      "  \"n_positions\": 1024,\n",
      "  \"num_beams\": 1,\n",
      "  \"num_labels\": 2,\n",
      "  \"num_return_sequences\": 1,\n",
      "  \"output_attentions\": false,\n",
      "  \"output_hidden_states\": false,\n",
      "  \"output_past\": true,\n",
      "  \"pad_token_id\": null,\n",
      "  \"pruned_heads\": {},\n",
      "  \"repetition_penalty\": 1.0,\n",
      "  \"resid_pdrop\": 0.1,\n",
      "  \"summary_activation\": null,\n",
      "  \"summary_first_dropout\": 0.1,\n",
      "  \"summary_proj_to_labels\": true,\n",
      "  \"summary_type\": \"cls_index\",\n",
      "  \"summary_use_proj\": true,\n",
      "  \"temperature\": 1.0,\n",
      "  \"top_k\": 50,\n",
      "  \"top_p\": 1.0,\n",
      "  \"torchscript\": false,\n",
      "  \"use_bfloat16\": false,\n",
      "  \"vocab_size\": 50257\n",
      "}\n",
      "\n",
      "03/07/2020 21:29:47 - INFO - transformers.modeling_utils -   loading weights file output_gpt_neg/pytorch_model.bin\n",
      "03/07/2020 21:29:51 - INFO - __main__ -   Creating features from dataset file at \n",
      "03/07/2020 21:29:52 - INFO - __main__ -   Saving features into cached file gpt2_cached_lm_1024_test_neg\n",
      "03/07/2020 21:29:52 - INFO - __main__ -   ***** Running evaluation  *****\n",
      "03/07/2020 21:29:52 - INFO - __main__ -     Num examples = 57\n",
      "03/07/2020 21:29:52 - INFO - __main__ -     Batch size = 1\n",
      "Evaluating: 100% 57/57 [00:13<00:00,  4.29it/s]\n",
      "03/07/2020 21:30:05 - INFO - __main__ -   ***** Eval results  *****\n",
      "03/07/2020 21:30:05 - INFO - __main__ -     perplexity = tensor(30.3881)\n"
     ]
    }
   ],
   "source": [
    "!python run_language_modelling.py --output_dir=output_gpt_neg --model_type=gpt2 --model_name_or_path=gpt2 --do_train --train_data_file=train_neg --do_eval --eval_data_file=test_neg --per_gpu_train_batch_size=1 --per_gpu_eval_batch_size=1"
   ]
  },
  {
   "cell_type": "code",
   "execution_count": 92,
   "metadata": {
    "colab": {
     "base_uri": "https://localhost:8080/",
     "height": 1000
    },
    "colab_type": "code",
    "id": "xXpqzTmjbG6d",
    "outputId": "09a35981-9819-4335-95d7-1bc5ddc15b85"
   },
   "outputs": [
    {
     "name": "stdout",
     "output_type": "stream",
     "text": [
      "03/07/2020 21:30:17 - INFO - transformers.tokenization_utils -   Model name 'output_gpt_neg' not found in model shortcut name list (gpt2, gpt2-medium, gpt2-large, gpt2-xl, distilgpt2). Assuming 'output_gpt_neg' is a path, a model identifier, or url to a directory containing tokenizer files.\n",
      "03/07/2020 21:30:17 - INFO - transformers.tokenization_utils -   Didn't find file output_gpt_neg/added_tokens.json. We won't load it.\n",
      "03/07/2020 21:30:17 - INFO - transformers.tokenization_utils -   loading file output_gpt_neg/vocab.json\n",
      "03/07/2020 21:30:17 - INFO - transformers.tokenization_utils -   loading file output_gpt_neg/merges.txt\n",
      "03/07/2020 21:30:17 - INFO - transformers.tokenization_utils -   loading file None\n",
      "03/07/2020 21:30:17 - INFO - transformers.tokenization_utils -   loading file output_gpt_neg/special_tokens_map.json\n",
      "03/07/2020 21:30:17 - INFO - transformers.tokenization_utils -   loading file output_gpt_neg/tokenizer_config.json\n",
      "03/07/2020 21:30:17 - INFO - transformers.configuration_utils -   loading configuration file output_gpt_neg/config.json\n",
      "03/07/2020 21:30:17 - INFO - transformers.configuration_utils -   Model config GPT2Config {\n",
      "  \"architectures\": [\n",
      "    \"GPT2LMHeadModel\"\n",
      "  ],\n",
      "  \"attn_pdrop\": 0.1,\n",
      "  \"bos_token_id\": null,\n",
      "  \"do_sample\": false,\n",
      "  \"embd_pdrop\": 0.1,\n",
      "  \"eos_token_ids\": null,\n",
      "  \"finetuning_task\": null,\n",
      "  \"id2label\": {\n",
      "    \"0\": \"LABEL_0\",\n",
      "    \"1\": \"LABEL_1\"\n",
      "  },\n",
      "  \"initializer_range\": 0.02,\n",
      "  \"is_decoder\": false,\n",
      "  \"label2id\": {\n",
      "    \"LABEL_0\": 0,\n",
      "    \"LABEL_1\": 1\n",
      "  },\n",
      "  \"layer_norm_epsilon\": 1e-05,\n",
      "  \"length_penalty\": 1.0,\n",
      "  \"max_length\": 20,\n",
      "  \"model_type\": \"gpt2\",\n",
      "  \"n_ctx\": 1024,\n",
      "  \"n_embd\": 768,\n",
      "  \"n_head\": 12,\n",
      "  \"n_layer\": 12,\n",
      "  \"n_positions\": 1024,\n",
      "  \"num_beams\": 1,\n",
      "  \"num_labels\": 2,\n",
      "  \"num_return_sequences\": 1,\n",
      "  \"output_attentions\": false,\n",
      "  \"output_hidden_states\": false,\n",
      "  \"output_past\": true,\n",
      "  \"pad_token_id\": null,\n",
      "  \"pruned_heads\": {},\n",
      "  \"repetition_penalty\": 1.0,\n",
      "  \"resid_pdrop\": 0.1,\n",
      "  \"summary_activation\": null,\n",
      "  \"summary_first_dropout\": 0.1,\n",
      "  \"summary_proj_to_labels\": true,\n",
      "  \"summary_type\": \"cls_index\",\n",
      "  \"summary_use_proj\": true,\n",
      "  \"temperature\": 1.0,\n",
      "  \"top_k\": 50,\n",
      "  \"top_p\": 1.0,\n",
      "  \"torchscript\": false,\n",
      "  \"use_bfloat16\": false,\n",
      "  \"vocab_size\": 50257\n",
      "}\n",
      "\n",
      "03/07/2020 21:30:17 - INFO - transformers.modeling_utils -   loading weights file output_gpt_neg/pytorch_model.bin\n",
      "03/07/2020 21:30:24 - INFO - __main__ -   Namespace(device=device(type='cuda'), k=0, length=20, model_name_or_path='output_gpt_neg', model_type='gpt2', n_gpu=1, no_cuda=False, num_return_sequences=1, p=0.9, padding_text='', prompt='', repetition_penalty=1.0, seed=42, stop_token=None, temperature=1.0, xlm_language='')\n",
      "Model prompt >>> America is\n",
      "=== GENERATED SEQUENCE 1 ===\n",
      "America is realigned into our country. \"\n",
      "\"It's not so much to stop racism, but to\n"
     ]
    }
   ],
   "source": [
    "!python run_generation.py --model_type=gpt2 --model_name_or_path=output_gpt_neg"
   ]
  },
  {
   "cell_type": "code",
   "execution_count": 0,
   "metadata": {
    "colab": {},
    "colab_type": "code",
    "id": "LRQMiKJ9bzXZ"
   },
   "outputs": [],
   "source": [
    "from transformers import RobertaConfig, RobertaModel, RobertaTokenizer\n",
    "com_model_embedding = RobertaModel.from_pretrained('output_gpt_text')\n",
    "com_tokenizer = RobertaTokenizer.from_pretrained('output_gpt_text')"
   ]
  },
  {
   "cell_type": "code",
   "execution_count": 0,
   "metadata": {
    "colab": {},
    "colab_type": "code",
    "id": "GGWRZLricDTZ"
   },
   "outputs": [],
   "source": [
    "import seaborn as sns\n",
    "from scipy.spatial.distance import cosine\n",
    "def visualise_diffs(text, model, tokenizer):\n",
    "    word_vecs = []\n",
    "    for i in range(0, len(text.split())):\n",
    "        word_vecs.append(word_vector(text, i, model, tokenizer))\n",
    "    L = []\n",
    "    for p in word_vecs:\n",
    "        l = []\n",
    "        for q in word_vecs:\n",
    "            l.append(1 - cosine(p, q))\n",
    "        L.append(l)\n",
    "    M = np.array(L)\n",
    "    fig = plt.figure()\n",
    "    div = pd.DataFrame(M, columns = list(text.split()), index = list(text.split()))\n",
    "    ax = sns.heatmap(div)\n",
    "    plt.show()\n",
    "\n",
    "def word_vector(text, word_id, model, tokenizer):\n",
    "    marked_text = \"[CLS] \" + text + \" [SEP]\"\n",
    "    tokenized_text = tokenizer.tokenize(marked_text)\n",
    "    indexed_tokens = tokenizer.convert_tokens_to_ids(tokenized_text)\n",
    "    tokens_tensor = torch.tensor([indexed_tokens])\n",
    "    word_embeddings, sentence_embeddings = model(tokens_tensor)   \n",
    "    vector = word_embeddings[0][word_id].detach().numpy()\n",
    "    return vector"
   ]
  },
  {
   "cell_type": "code",
   "execution_count": 96,
   "metadata": {
    "colab": {
     "base_uri": "https://localhost:8080/",
     "height": 392
    },
    "colab_type": "code",
    "id": "tZw-L4SKcRnN",
    "outputId": "e2b2c2ad-370f-47a9-f382-b5fc2abd53a5"
   },
   "outputs": [
    {
     "data": {
      "image/png": "[encoded data removed]",
      "text/plain": [
       "<Figure size 864x432 with 2 Axes>"
      ]
     },
     "metadata": {
      "tags": []
     },
     "output_type": "display_data"
    }
   ],
   "source": [
    "text = \"happy sad life love hate people women man\" \n",
    "visualise_diffs(text, com_model_embedding, com_tokenizer)"
   ]
  },
  {
   "cell_type": "code",
   "execution_count": 0,
   "metadata": {
    "colab": {},
    "colab_type": "code",
    "id": "D_wQ1Bgecm_4"
   },
   "outputs": [],
   "source": [
    "neg_model_embedding = RobertaModel.from_pretrained('output_gpt_neg')\n",
    "neg_tokenizer = RobertaTokenizer.from_pretrained('output_gpt_neg')"
   ]
  },
  {
   "cell_type": "code",
   "execution_count": 98,
   "metadata": {
    "colab": {
     "base_uri": "https://localhost:8080/",
     "height": 392
    },
    "colab_type": "code",
    "id": "8Ra-rvMjcvIe",
    "outputId": "abed52c6-dcf9-4be9-9775-ee9f86448b3d"
   },
   "outputs": [
    {
     "data": {
      "image/png": "[encoded data removed]",
      "text/plain": [
       "<Figure size 864x432 with 2 Axes>"
      ]
     },
     "metadata": {
      "tags": []
     },
     "output_type": "display_data"
    }
   ],
   "source": [
    "visualise_diffs(text, neg_model_embedding, neg_tokenizer)"
   ]
  },
  {
   "cell_type": "markdown",
   "metadata": {
    "colab_type": "text",
    "id": "w9krFie1fBDG"
   },
   "source": [
    "Our two models are respectively trained from comments that received the highest 5000 upvotes and those that received the highest 5000 downvotes. Judging from the similarity heatmap, we cannot tell the difference between the similarities between these keywords in the two dataset. In addition, the similarities between keywords are not high - the similarity rate being around 0.6-0.7. This suggests that these words occur frequently in both types of comments and the model cannot distinguish between these words trained from different datasets. This is not surprising since the upvotes and downvotes received by the comments hardly depend on these keywords. "
   ]
  }
 ],
 "metadata": {
  "accelerator": "GPU",
  "colab": {
   "collapsed_sections": [],
   "machine_shape": "hm",
   "name": "Chun Hu - Week 8.ipynb",
   "provenance": []
  },
  "kernelspec": {
   "display_name": "Python 3",
   "language": "python",
   "name": "python3"
  },
  "language_info": {
   "codemirror_mode": {
    "name": "ipython",
    "version": 3
   },
   "file_extension": ".py",
   "mimetype": "text/x-python",
   "name": "python",
   "nbconvert_exporter": "python",
   "pygments_lexer": "ipython3",
   "version": "3.7.3"
  },
  "widgets": {
   "application/vnd.jupyter.widget-state+json": {
    "06a6a10ce00a47ae93e522f10612f6d6": {
     "model_module": "@jupyter-widgets/base",
     "model_name": "LayoutModel",
     "state": {
      "_model_module": "@jupyter-widgets/base",
      "_model_module_version": "1.2.0",
      "_model_name": "LayoutModel",
      "_view_count": null,
      "_view_module": "@jupyter-widgets/base",
      "_view_module_version": "1.2.0",
      "_view_name": "LayoutView",
      "align_content": null,
      "align_items": null,
      "align_self": null,
      "border": null,
      "bottom": null,
      "display": null,
      "flex": null,
      "flex_flow": null,
      "grid_area": null,
      "grid_auto_columns": null,
      "grid_auto_flow": null,
      "grid_auto_rows": null,
      "grid_column": null,
      "grid_gap": null,
      "grid_row": null,
      "grid_template_areas": null,
      "grid_template_columns": null,
      "grid_template_rows": null,
      "height": null,
      "justify_content": null,
      "justify_items": null,
      "left": null,
      "margin": null,
      "max_height": null,
      "max_width": null,
      "min_height": null,
      "min_width": null,
      "object_fit": null,
      "object_position": null,
      "order": null,
      "overflow": null,
      "overflow_x": null,
      "overflow_y": null,
      "padding": null,
      "right": null,
      "top": null,
      "visibility": null,
      "width": null
     }
    },
    "094da5792c674070b0f51dae94f06e1f": {
     "model_module": "@jupyter-widgets/controls",
     "model_name": "HTMLModel",
     "state": {
      "_dom_classes": [],
      "_model_module": "@jupyter-widgets/controls",
      "_model_module_version": "1.5.0",
      "_model_name": "HTMLModel",
      "_view_count": null,
      "_view_module": "@jupyter-widgets/controls",
      "_view_module_version": "1.5.0",
      "_view_name": "HTMLView",
      "description": "",
      "description_tooltip": null,
      "layout": "IPY_MODEL_8e69d86ee8854c46a798fa34631fda16",
      "placeholder": "​",
      "style": "IPY_MODEL_a89d7f65aa8b43e3be1f5f8870e6a180",
      "value": "100% 268M/268M [00:05&lt;00:00, 51.4MB/s]"
     }
    },
    "0ab36653e42046558307312dc4bfa895": {
     "model_module": "@jupyter-widgets/base",
     "model_name": "LayoutModel",
     "state": {
      "_model_module": "@jupyter-widgets/base",
      "_model_module_version": "1.2.0",
      "_model_name": "LayoutModel",
      "_view_count": null,
      "_view_module": "@jupyter-widgets/base",
      "_view_module_version": "1.2.0",
      "_view_name": "LayoutView",
      "align_content": null,
      "align_items": null,
      "align_self": null,
      "border": null,
      "bottom": null,
      "display": null,
      "flex": null,
      "flex_flow": null,
      "grid_area": null,
      "grid_auto_columns": null,
      "grid_auto_flow": null,
      "grid_auto_rows": null,
      "grid_column": null,
      "grid_gap": null,
      "grid_row": null,
      "grid_template_areas": null,
      "grid_template_columns": null,
      "grid_template_rows": null,
      "height": null,
      "justify_content": null,
      "justify_items": null,
      "left": null,
      "margin": null,
      "max_height": null,
      "max_width": null,
      "min_height": null,
      "min_width": null,
      "object_fit": null,
      "object_position": null,
      "order": null,
      "overflow": null,
      "overflow_x": null,
      "overflow_y": null,
      "padding": null,
      "right": null,
      "top": null,
      "visibility": null,
      "width": null
     }
    },
    "0e789345ab2c44098bee68f1124911e1": {
     "model_module": "@jupyter-widgets/base",
     "model_name": "LayoutModel",
     "state": {
      "_model_module": "@jupyter-widgets/base",
      "_model_module_version": "1.2.0",
      "_model_name": "LayoutModel",
      "_view_count": null,
      "_view_module": "@jupyter-widgets/base",
      "_view_module_version": "1.2.0",
      "_view_name": "LayoutView",
      "align_content": null,
      "align_items": null,
      "align_self": null,
      "border": null,
      "bottom": null,
      "display": null,
      "flex": null,
      "flex_flow": null,
      "grid_area": null,
      "grid_auto_columns": null,
      "grid_auto_flow": null,
      "grid_auto_rows": null,
      "grid_column": null,
      "grid_gap": null,
      "grid_row": null,
      "grid_template_areas": null,
      "grid_template_columns": null,
      "grid_template_rows": null,
      "height": null,
      "justify_content": null,
      "justify_items": null,
      "left": null,
      "margin": null,
      "max_height": null,
      "max_width": null,
      "min_height": null,
      "min_width": null,
      "object_fit": null,
      "object_position": null,
      "order": null,
      "overflow": null,
      "overflow_x": null,
      "overflow_y": null,
      "padding": null,
      "right": null,
      "top": null,
      "visibility": null,
      "width": null
     }
    },
    "13908c923b70427594bdda446a7cc859": {
     "model_module": "@jupyter-widgets/controls",
     "model_name": "HBoxModel",
     "state": {
      "_dom_classes": [],
      "_model_module": "@jupyter-widgets/controls",
      "_model_module_version": "1.5.0",
      "_model_name": "HBoxModel",
      "_view_count": null,
      "_view_module": "@jupyter-widgets/controls",
      "_view_module_version": "1.5.0",
      "_view_name": "HBoxView",
      "box_style": "",
      "children": [
       "IPY_MODEL_ba9e64da158b47d98801b3841e1e2f21",
       "IPY_MODEL_5035f0a8085941a2ab863d5aef2909e4"
      ],
      "layout": "IPY_MODEL_0ab36653e42046558307312dc4bfa895"
     }
    },
    "16c21a7b67c74a8e8fa7770ec3ae058d": {
     "model_module": "@jupyter-widgets/controls",
     "model_name": "HBoxModel",
     "state": {
      "_dom_classes": [],
      "_model_module": "@jupyter-widgets/controls",
      "_model_module_version": "1.5.0",
      "_model_name": "HBoxModel",
      "_view_count": null,
      "_view_module": "@jupyter-widgets/controls",
      "_view_module_version": "1.5.0",
      "_view_name": "HBoxView",
      "box_style": "",
      "children": [
       "IPY_MODEL_9514ae9f209d483ebf49a886fd9ceaaf",
       "IPY_MODEL_c6fb4409c08d4e9788a6c10d64942250"
      ],
      "layout": "IPY_MODEL_ff1beea594644ab894c3566a002ca7a6"
     }
    },
    "1bde1506ea6e481a9cae566029726174": {
     "model_module": "@jupyter-widgets/controls",
     "model_name": "HTMLModel",
     "state": {
      "_dom_classes": [],
      "_model_module": "@jupyter-widgets/controls",
      "_model_module_version": "1.5.0",
      "_model_name": "HTMLModel",
      "_view_count": null,
      "_view_module": "@jupyter-widgets/controls",
      "_view_module_version": "1.5.0",
      "_view_name": "HTMLView",
      "description": "",
      "description_tooltip": null,
      "layout": "IPY_MODEL_5d32b39bcb094fabb4d67ee78a1bdcac",
      "placeholder": "​",
      "style": "IPY_MODEL_e9b0dcb349e640299b9ddd3283d8d518",
      "value": "100% 754/754 [00:00&lt;00:00, 22.1kB/s]"
     }
    },
    "1cd4ade99c1f4748aaf8776f1097ceb6": {
     "model_module": "@jupyter-widgets/controls",
     "model_name": "HBoxModel",
     "state": {
      "_dom_classes": [],
      "_model_module": "@jupyter-widgets/controls",
      "_model_module_version": "1.5.0",
      "_model_name": "HBoxModel",
      "_view_count": null,
      "_view_module": "@jupyter-widgets/controls",
      "_view_module_version": "1.5.0",
      "_view_name": "HBoxView",
      "box_style": "",
      "children": [
       "IPY_MODEL_e68ba4cd54c946df9b0775c68346ddbb",
       "IPY_MODEL_cee8cdfe77ec476b82a9970c8fa64245"
      ],
      "layout": "IPY_MODEL_bfd4d22635fa46d4ba0f1e2f6e982114"
     }
    },
    "2264c0bee2104a89ae3918d4e39a80f7": {
     "model_module": "@jupyter-widgets/controls",
     "model_name": "IntProgressModel",
     "state": {
      "_dom_classes": [],
      "_model_module": "@jupyter-widgets/controls",
      "_model_module_version": "1.5.0",
      "_model_name": "IntProgressModel",
      "_view_count": null,
      "_view_module": "@jupyter-widgets/controls",
      "_view_module_version": "1.5.0",
      "_view_name": "ProgressView",
      "bar_style": "success",
      "description": "Downloading",
      "description_tooltip": null,
      "layout": "IPY_MODEL_566d0be50e6e44679491ff10fd9ba784",
      "max": 754,
      "min": 0,
      "orientation": "horizontal",
      "style": "IPY_MODEL_5d64c2eaafd04cceb591ce5dbd4349b4",
      "value": 754
     }
    },
    "23266b9adc5d411aa6647a89f0fa3b01": {
     "model_module": "@jupyter-widgets/controls",
     "model_name": "DescriptionStyleModel",
     "state": {
      "_model_module": "@jupyter-widgets/controls",
      "_model_module_version": "1.5.0",
      "_model_name": "DescriptionStyleModel",
      "_view_count": null,
      "_view_module": "@jupyter-widgets/base",
      "_view_module_version": "1.2.0",
      "_view_name": "StyleView",
      "description_width": ""
     }
    },
    "24756e5b276649d2a1163485e4be375b": {
     "model_module": "@jupyter-widgets/base",
     "model_name": "LayoutModel",
     "state": {
      "_model_module": "@jupyter-widgets/base",
      "_model_module_version": "1.2.0",
      "_model_name": "LayoutModel",
      "_view_count": null,
      "_view_module": "@jupyter-widgets/base",
      "_view_module_version": "1.2.0",
      "_view_name": "LayoutView",
      "align_content": null,
      "align_items": null,
      "align_self": null,
      "border": null,
      "bottom": null,
      "display": null,
      "flex": null,
      "flex_flow": null,
      "grid_area": null,
      "grid_auto_columns": null,
      "grid_auto_flow": null,
      "grid_auto_rows": null,
      "grid_column": null,
      "grid_gap": null,
      "grid_row": null,
      "grid_template_areas": null,
      "grid_template_columns": null,
      "grid_template_rows": null,
      "height": null,
      "justify_content": null,
      "justify_items": null,
      "left": null,
      "margin": null,
      "max_height": null,
      "max_width": null,
      "min_height": null,
      "min_width": null,
      "object_fit": null,
      "object_position": null,
      "order": null,
      "overflow": null,
      "overflow_x": null,
      "overflow_y": null,
      "padding": null,
      "right": null,
      "top": null,
      "visibility": null,
      "width": null
     }
    },
    "291b9d7e7712493180aaad7d991920c2": {
     "model_module": "@jupyter-widgets/controls",
     "model_name": "IntProgressModel",
     "state": {
      "_dom_classes": [],
      "_model_module": "@jupyter-widgets/controls",
      "_model_module_version": "1.5.0",
      "_model_name": "IntProgressModel",
      "_view_count": null,
      "_view_module": "@jupyter-widgets/controls",
      "_view_module_version": "1.5.0",
      "_view_name": "ProgressView",
      "bar_style": "success",
      "description": "Downloading",
      "description_tooltip": null,
      "layout": "IPY_MODEL_5013b55c2023442ebf6a694d8c3c9a48",
      "max": 267844284,
      "min": 0,
      "orientation": "horizontal",
      "style": "IPY_MODEL_90943407b322424899a8349dddab60e3",
      "value": 267844284
     }
    },
    "297cb14da14d45538568245f2ebdd178": {
     "model_module": "@jupyter-widgets/controls",
     "model_name": "IntProgressModel",
     "state": {
      "_dom_classes": [],
      "_model_module": "@jupyter-widgets/controls",
      "_model_module_version": "1.5.0",
      "_model_name": "IntProgressModel",
      "_view_count": null,
      "_view_module": "@jupyter-widgets/controls",
      "_view_module_version": "1.5.0",
      "_view_name": "ProgressView",
      "bar_style": "success",
      "description": "Downloading",
      "description_tooltip": null,
      "layout": "IPY_MODEL_3e90687117974516a9837a46cb5bd345",
      "max": 230,
      "min": 0,
      "orientation": "horizontal",
      "style": "IPY_MODEL_67f76b3439f344768135a5e99626ae87",
      "value": 230
     }
    },
    "2ffbf17f925a4dceaa9091c1b78902b1": {
     "model_module": "@jupyter-widgets/base",
     "model_name": "LayoutModel",
     "state": {
      "_model_module": "@jupyter-widgets/base",
      "_model_module_version": "1.2.0",
      "_model_name": "LayoutModel",
      "_view_count": null,
      "_view_module": "@jupyter-widgets/base",
      "_view_module_version": "1.2.0",
      "_view_name": "LayoutView",
      "align_content": null,
      "align_items": null,
      "align_self": null,
      "border": null,
      "bottom": null,
      "display": null,
      "flex": null,
      "flex_flow": null,
      "grid_area": null,
      "grid_auto_columns": null,
      "grid_auto_flow": null,
      "grid_auto_rows": null,
      "grid_column": null,
      "grid_gap": null,
      "grid_row": null,
      "grid_template_areas": null,
      "grid_template_columns": null,
      "grid_template_rows": null,
      "height": null,
      "justify_content": null,
      "justify_items": null,
      "left": null,
      "margin": null,
      "max_height": null,
      "max_width": null,
      "min_height": null,
      "min_width": null,
      "object_fit": null,
      "object_position": null,
      "order": null,
      "overflow": null,
      "overflow_x": null,
      "overflow_y": null,
      "padding": null,
      "right": null,
      "top": null,
      "visibility": null,
      "width": null
     }
    },
    "3003a436ceb1433090cde61f585adf61": {
     "model_module": "@jupyter-widgets/controls",
     "model_name": "HTMLModel",
     "state": {
      "_dom_classes": [],
      "_model_module": "@jupyter-widgets/controls",
      "_model_module_version": "1.5.0",
      "_model_name": "HTMLModel",
      "_view_count": null,
      "_view_module": "@jupyter-widgets/controls",
      "_view_module_version": "1.5.0",
      "_view_name": "HTMLView",
      "description": "",
      "description_tooltip": null,
      "layout": "IPY_MODEL_76d534d727a24666b3ed73be6c4b4159",
      "placeholder": "​",
      "style": "IPY_MODEL_df9484112e9046ddaa965106b93925df",
      "value": "100% 440M/440M [00:08&lt;00:00, 53.4MB/s]"
     }
    },
    "318afc0fbad04947bdf15630ac1c3c80": {
     "model_module": "@jupyter-widgets/controls",
     "model_name": "ProgressStyleModel",
     "state": {
      "_model_module": "@jupyter-widgets/controls",
      "_model_module_version": "1.5.0",
      "_model_name": "ProgressStyleModel",
      "_view_count": null,
      "_view_module": "@jupyter-widgets/base",
      "_view_module_version": "1.2.0",
      "_view_name": "StyleView",
      "bar_color": null,
      "description_width": "initial"
     }
    },
    "3e90687117974516a9837a46cb5bd345": {
     "model_module": "@jupyter-widgets/base",
     "model_name": "LayoutModel",
     "state": {
      "_model_module": "@jupyter-widgets/base",
      "_model_module_version": "1.2.0",
      "_model_name": "LayoutModel",
      "_view_count": null,
      "_view_module": "@jupyter-widgets/base",
      "_view_module_version": "1.2.0",
      "_view_name": "LayoutView",
      "align_content": null,
      "align_items": null,
      "align_self": null,
      "border": null,
      "bottom": null,
      "display": null,
      "flex": null,
      "flex_flow": null,
      "grid_area": null,
      "grid_auto_columns": null,
      "grid_auto_flow": null,
      "grid_auto_rows": null,
      "grid_column": null,
      "grid_gap": null,
      "grid_row": null,
      "grid_template_areas": null,
      "grid_template_columns": null,
      "grid_template_rows": null,
      "height": null,
      "justify_content": null,
      "justify_items": null,
      "left": null,
      "margin": null,
      "max_height": null,
      "max_width": null,
      "min_height": null,
      "min_width": null,
      "object_fit": null,
      "object_position": null,
      "order": null,
      "overflow": null,
      "overflow_x": null,
      "overflow_y": null,
      "padding": null,
      "right": null,
      "top": null,
      "visibility": null,
      "width": null
     }
    },
    "42ea5f01fca04629ab34094cbd6bf703": {
     "model_module": "@jupyter-widgets/controls",
     "model_name": "ProgressStyleModel",
     "state": {
      "_model_module": "@jupyter-widgets/controls",
      "_model_module_version": "1.5.0",
      "_model_name": "ProgressStyleModel",
      "_view_count": null,
      "_view_module": "@jupyter-widgets/base",
      "_view_module_version": "1.2.0",
      "_view_name": "StyleView",
      "bar_color": null,
      "description_width": "initial"
     }
    },
    "5013b55c2023442ebf6a694d8c3c9a48": {
     "model_module": "@jupyter-widgets/base",
     "model_name": "LayoutModel",
     "state": {
      "_model_module": "@jupyter-widgets/base",
      "_model_module_version": "1.2.0",
      "_model_name": "LayoutModel",
      "_view_count": null,
      "_view_module": "@jupyter-widgets/base",
      "_view_module_version": "1.2.0",
      "_view_name": "LayoutView",
      "align_content": null,
      "align_items": null,
      "align_self": null,
      "border": null,
      "bottom": null,
      "display": null,
      "flex": null,
      "flex_flow": null,
      "grid_area": null,
      "grid_auto_columns": null,
      "grid_auto_flow": null,
      "grid_auto_rows": null,
      "grid_column": null,
      "grid_gap": null,
      "grid_row": null,
      "grid_template_areas": null,
      "grid_template_columns": null,
      "grid_template_rows": null,
      "height": null,
      "justify_content": null,
      "justify_items": null,
      "left": null,
      "margin": null,
      "max_height": null,
      "max_width": null,
      "min_height": null,
      "min_width": null,
      "object_fit": null,
      "object_position": null,
      "order": null,
      "overflow": null,
      "overflow_x": null,
      "overflow_y": null,
      "padding": null,
      "right": null,
      "top": null,
      "visibility": null,
      "width": null
     }
    },
    "5035f0a8085941a2ab863d5aef2909e4": {
     "model_module": "@jupyter-widgets/controls",
     "model_name": "HTMLModel",
     "state": {
      "_dom_classes": [],
      "_model_module": "@jupyter-widgets/controls",
      "_model_module_version": "1.5.0",
      "_model_name": "HTMLModel",
      "_view_count": null,
      "_view_module": "@jupyter-widgets/controls",
      "_view_module_version": "1.5.0",
      "_view_name": "HTMLView",
      "description": "",
      "description_tooltip": null,
      "layout": "IPY_MODEL_72adcc3cc0764f8a9bee604bf73a710b",
      "placeholder": "​",
      "style": "IPY_MODEL_a9b5873304cf469fb0a02027244d2358",
      "value": "100% 361/361 [00:00&lt;00:00, 16.1kB/s]"
     }
    },
    "566d0be50e6e44679491ff10fd9ba784": {
     "model_module": "@jupyter-widgets/base",
     "model_name": "LayoutModel",
     "state": {
      "_model_module": "@jupyter-widgets/base",
      "_model_module_version": "1.2.0",
      "_model_name": "LayoutModel",
      "_view_count": null,
      "_view_module": "@jupyter-widgets/base",
      "_view_module_version": "1.2.0",
      "_view_name": "LayoutView",
      "align_content": null,
      "align_items": null,
      "align_self": null,
      "border": null,
      "bottom": null,
      "display": null,
      "flex": null,
      "flex_flow": null,
      "grid_area": null,
      "grid_auto_columns": null,
      "grid_auto_flow": null,
      "grid_auto_rows": null,
      "grid_column": null,
      "grid_gap": null,
      "grid_row": null,
      "grid_template_areas": null,
      "grid_template_columns": null,
      "grid_template_rows": null,
      "height": null,
      "justify_content": null,
      "justify_items": null,
      "left": null,
      "margin": null,
      "max_height": null,
      "max_width": null,
      "min_height": null,
      "min_width": null,
      "object_fit": null,
      "object_position": null,
      "order": null,
      "overflow": null,
      "overflow_x": null,
      "overflow_y": null,
      "padding": null,
      "right": null,
      "top": null,
      "visibility": null,
      "width": null
     }
    },
    "5d32b39bcb094fabb4d67ee78a1bdcac": {
     "model_module": "@jupyter-widgets/base",
     "model_name": "LayoutModel",
     "state": {
      "_model_module": "@jupyter-widgets/base",
      "_model_module_version": "1.2.0",
      "_model_name": "LayoutModel",
      "_view_count": null,
      "_view_module": "@jupyter-widgets/base",
      "_view_module_version": "1.2.0",
      "_view_name": "LayoutView",
      "align_content": null,
      "align_items": null,
      "align_self": null,
      "border": null,
      "bottom": null,
      "display": null,
      "flex": null,
      "flex_flow": null,
      "grid_area": null,
      "grid_auto_columns": null,
      "grid_auto_flow": null,
      "grid_auto_rows": null,
      "grid_column": null,
      "grid_gap": null,
      "grid_row": null,
      "grid_template_areas": null,
      "grid_template_columns": null,
      "grid_template_rows": null,
      "height": null,
      "justify_content": null,
      "justify_items": null,
      "left": null,
      "margin": null,
      "max_height": null,
      "max_width": null,
      "min_height": null,
      "min_width": null,
      "object_fit": null,
      "object_position": null,
      "order": null,
      "overflow": null,
      "overflow_x": null,
      "overflow_y": null,
      "padding": null,
      "right": null,
      "top": null,
      "visibility": null,
      "width": null
     }
    },
    "5d64c2eaafd04cceb591ce5dbd4349b4": {
     "model_module": "@jupyter-widgets/controls",
     "model_name": "ProgressStyleModel",
     "state": {
      "_model_module": "@jupyter-widgets/controls",
      "_model_module_version": "1.5.0",
      "_model_name": "ProgressStyleModel",
      "_view_count": null,
      "_view_module": "@jupyter-widgets/base",
      "_view_module_version": "1.2.0",
      "_view_name": "StyleView",
      "bar_color": null,
      "description_width": "initial"
     }
    },
    "61abf8abb49a4bc7840e5dfb53e0262a": {
     "model_module": "@jupyter-widgets/controls",
     "model_name": "HBoxModel",
     "state": {
      "_dom_classes": [],
      "_model_module": "@jupyter-widgets/controls",
      "_model_module_version": "1.5.0",
      "_model_name": "HBoxModel",
      "_view_count": null,
      "_view_module": "@jupyter-widgets/controls",
      "_view_module_version": "1.5.0",
      "_view_name": "HBoxView",
      "box_style": "",
      "children": [
       "IPY_MODEL_2264c0bee2104a89ae3918d4e39a80f7",
       "IPY_MODEL_1bde1506ea6e481a9cae566029726174"
      ],
      "layout": "IPY_MODEL_24756e5b276649d2a1163485e4be375b"
     }
    },
    "67f76b3439f344768135a5e99626ae87": {
     "model_module": "@jupyter-widgets/controls",
     "model_name": "ProgressStyleModel",
     "state": {
      "_model_module": "@jupyter-widgets/controls",
      "_model_module_version": "1.5.0",
      "_model_name": "ProgressStyleModel",
      "_view_count": null,
      "_view_module": "@jupyter-widgets/base",
      "_view_module_version": "1.2.0",
      "_view_name": "StyleView",
      "bar_color": null,
      "description_width": "initial"
     }
    },
    "6c0cb6c47df04298a1a77afff114465f": {
     "model_module": "@jupyter-widgets/base",
     "model_name": "LayoutModel",
     "state": {
      "_model_module": "@jupyter-widgets/base",
      "_model_module_version": "1.2.0",
      "_model_name": "LayoutModel",
      "_view_count": null,
      "_view_module": "@jupyter-widgets/base",
      "_view_module_version": "1.2.0",
      "_view_name": "LayoutView",
      "align_content": null,
      "align_items": null,
      "align_self": null,
      "border": null,
      "bottom": null,
      "display": null,
      "flex": null,
      "flex_flow": null,
      "grid_area": null,
      "grid_auto_columns": null,
      "grid_auto_flow": null,
      "grid_auto_rows": null,
      "grid_column": null,
      "grid_gap": null,
      "grid_row": null,
      "grid_template_areas": null,
      "grid_template_columns": null,
      "grid_template_rows": null,
      "height": null,
      "justify_content": null,
      "justify_items": null,
      "left": null,
      "margin": null,
      "max_height": null,
      "max_width": null,
      "min_height": null,
      "min_width": null,
      "object_fit": null,
      "object_position": null,
      "order": null,
      "overflow": null,
      "overflow_x": null,
      "overflow_y": null,
      "padding": null,
      "right": null,
      "top": null,
      "visibility": null,
      "width": null
     }
    },
    "705b048a60d04e228b234c5ba8766a0e": {
     "model_module": "@jupyter-widgets/controls",
     "model_name": "HBoxModel",
     "state": {
      "_dom_classes": [],
      "_model_module": "@jupyter-widgets/controls",
      "_model_module_version": "1.5.0",
      "_model_name": "HBoxModel",
      "_view_count": null,
      "_view_module": "@jupyter-widgets/controls",
      "_view_module_version": "1.5.0",
      "_view_name": "HBoxView",
      "box_style": "",
      "children": [
       "IPY_MODEL_c9e3df06ba73483bb1a7f41ff4d41e14",
       "IPY_MODEL_3003a436ceb1433090cde61f585adf61"
      ],
      "layout": "IPY_MODEL_f986ad1e84dd414bb796bf7630f8fa0c"
     }
    },
    "72adcc3cc0764f8a9bee604bf73a710b": {
     "model_module": "@jupyter-widgets/base",
     "model_name": "LayoutModel",
     "state": {
      "_model_module": "@jupyter-widgets/base",
      "_model_module_version": "1.2.0",
      "_model_name": "LayoutModel",
      "_view_count": null,
      "_view_module": "@jupyter-widgets/base",
      "_view_module_version": "1.2.0",
      "_view_name": "LayoutView",
      "align_content": null,
      "align_items": null,
      "align_self": null,
      "border": null,
      "bottom": null,
      "display": null,
      "flex": null,
      "flex_flow": null,
      "grid_area": null,
      "grid_auto_columns": null,
      "grid_auto_flow": null,
      "grid_auto_rows": null,
      "grid_column": null,
      "grid_gap": null,
      "grid_row": null,
      "grid_template_areas": null,
      "grid_template_columns": null,
      "grid_template_rows": null,
      "height": null,
      "justify_content": null,
      "justify_items": null,
      "left": null,
      "margin": null,
      "max_height": null,
      "max_width": null,
      "min_height": null,
      "min_width": null,
      "object_fit": null,
      "object_position": null,
      "order": null,
      "overflow": null,
      "overflow_x": null,
      "overflow_y": null,
      "padding": null,
      "right": null,
      "top": null,
      "visibility": null,
      "width": null
     }
    },
    "76d534d727a24666b3ed73be6c4b4159": {
     "model_module": "@jupyter-widgets/base",
     "model_name": "LayoutModel",
     "state": {
      "_model_module": "@jupyter-widgets/base",
      "_model_module_version": "1.2.0",
      "_model_name": "LayoutModel",
      "_view_count": null,
      "_view_module": "@jupyter-widgets/base",
      "_view_module_version": "1.2.0",
      "_view_name": "LayoutView",
      "align_content": null,
      "align_items": null,
      "align_self": null,
      "border": null,
      "bottom": null,
      "display": null,
      "flex": null,
      "flex_flow": null,
      "grid_area": null,
      "grid_auto_columns": null,
      "grid_auto_flow": null,
      "grid_auto_rows": null,
      "grid_column": null,
      "grid_gap": null,
      "grid_row": null,
      "grid_template_areas": null,
      "grid_template_columns": null,
      "grid_template_rows": null,
      "height": null,
      "justify_content": null,
      "justify_items": null,
      "left": null,
      "margin": null,
      "max_height": null,
      "max_width": null,
      "min_height": null,
      "min_width": null,
      "object_fit": null,
      "object_position": null,
      "order": null,
      "overflow": null,
      "overflow_x": null,
      "overflow_y": null,
      "padding": null,
      "right": null,
      "top": null,
      "visibility": null,
      "width": null
     }
    },
    "7ebe899fd4b34cbb91b14ffbc51ef9cb": {
     "model_module": "@jupyter-widgets/controls",
     "model_name": "HBoxModel",
     "state": {
      "_dom_classes": [],
      "_model_module": "@jupyter-widgets/controls",
      "_model_module_version": "1.5.0",
      "_model_name": "HBoxModel",
      "_view_count": null,
      "_view_module": "@jupyter-widgets/controls",
      "_view_module_version": "1.5.0",
      "_view_name": "HBoxView",
      "box_style": "",
      "children": [
       "IPY_MODEL_297cb14da14d45538568245f2ebdd178",
       "IPY_MODEL_ef7e3d3deeb14b0cb5c4c4b712fb4670"
      ],
      "layout": "IPY_MODEL_b5e65bfc2deb496fa2a701c78855cf81"
     }
    },
    "827bc7535beb4093b0179adcda35279e": {
     "model_module": "@jupyter-widgets/controls",
     "model_name": "HBoxModel",
     "state": {
      "_dom_classes": [],
      "_model_module": "@jupyter-widgets/controls",
      "_model_module_version": "1.5.0",
      "_model_name": "HBoxModel",
      "_view_count": null,
      "_view_module": "@jupyter-widgets/controls",
      "_view_module_version": "1.5.0",
      "_view_name": "HBoxView",
      "box_style": "",
      "children": [
       "IPY_MODEL_291b9d7e7712493180aaad7d991920c2",
       "IPY_MODEL_094da5792c674070b0f51dae94f06e1f"
      ],
      "layout": "IPY_MODEL_6c0cb6c47df04298a1a77afff114465f"
     }
    },
    "8e69d86ee8854c46a798fa34631fda16": {
     "model_module": "@jupyter-widgets/base",
     "model_name": "LayoutModel",
     "state": {
      "_model_module": "@jupyter-widgets/base",
      "_model_module_version": "1.2.0",
      "_model_name": "LayoutModel",
      "_view_count": null,
      "_view_module": "@jupyter-widgets/base",
      "_view_module_version": "1.2.0",
      "_view_name": "LayoutView",
      "align_content": null,
      "align_items": null,
      "align_self": null,
      "border": null,
      "bottom": null,
      "display": null,
      "flex": null,
      "flex_flow": null,
      "grid_area": null,
      "grid_auto_columns": null,
      "grid_auto_flow": null,
      "grid_auto_rows": null,
      "grid_column": null,
      "grid_gap": null,
      "grid_row": null,
      "grid_template_areas": null,
      "grid_template_columns": null,
      "grid_template_rows": null,
      "height": null,
      "justify_content": null,
      "justify_items": null,
      "left": null,
      "margin": null,
      "max_height": null,
      "max_width": null,
      "min_height": null,
      "min_width": null,
      "object_fit": null,
      "object_position": null,
      "order": null,
      "overflow": null,
      "overflow_x": null,
      "overflow_y": null,
      "padding": null,
      "right": null,
      "top": null,
      "visibility": null,
      "width": null
     }
    },
    "90943407b322424899a8349dddab60e3": {
     "model_module": "@jupyter-widgets/controls",
     "model_name": "ProgressStyleModel",
     "state": {
      "_model_module": "@jupyter-widgets/controls",
      "_model_module_version": "1.5.0",
      "_model_name": "ProgressStyleModel",
      "_view_count": null,
      "_view_module": "@jupyter-widgets/base",
      "_view_module_version": "1.2.0",
      "_view_name": "StyleView",
      "bar_color": null,
      "description_width": "initial"
     }
    },
    "95001fc643a2456db649d5dc75038f31": {
     "model_module": "@jupyter-widgets/controls",
     "model_name": "DescriptionStyleModel",
     "state": {
      "_model_module": "@jupyter-widgets/controls",
      "_model_module_version": "1.5.0",
      "_model_name": "DescriptionStyleModel",
      "_view_count": null,
      "_view_module": "@jupyter-widgets/base",
      "_view_module_version": "1.2.0",
      "_view_name": "StyleView",
      "description_width": ""
     }
    },
    "9514ae9f209d483ebf49a886fd9ceaaf": {
     "model_module": "@jupyter-widgets/controls",
     "model_name": "IntProgressModel",
     "state": {
      "_dom_classes": [],
      "_model_module": "@jupyter-widgets/controls",
      "_model_module_version": "1.5.0",
      "_model_name": "IntProgressModel",
      "_view_count": null,
      "_view_module": "@jupyter-widgets/controls",
      "_view_module_version": "1.5.0",
      "_view_name": "ProgressView",
      "bar_style": "success",
      "description": "Downloading",
      "description_tooltip": null,
      "layout": "IPY_MODEL_bbf48cdad1c54841897a33f1fead643e",
      "max": 231508,
      "min": 0,
      "orientation": "horizontal",
      "style": "IPY_MODEL_ba83b82fbe8f4627b9505120cfbdd22b",
      "value": 231508
     }
    },
    "9eadf6c33c3d4c0797534f4e95935f52": {
     "model_module": "@jupyter-widgets/controls",
     "model_name": "DescriptionStyleModel",
     "state": {
      "_model_module": "@jupyter-widgets/controls",
      "_model_module_version": "1.5.0",
      "_model_name": "DescriptionStyleModel",
      "_view_count": null,
      "_view_module": "@jupyter-widgets/base",
      "_view_module_version": "1.2.0",
      "_view_name": "StyleView",
      "description_width": ""
     }
    },
    "a89d7f65aa8b43e3be1f5f8870e6a180": {
     "model_module": "@jupyter-widgets/controls",
     "model_name": "DescriptionStyleModel",
     "state": {
      "_model_module": "@jupyter-widgets/controls",
      "_model_module_version": "1.5.0",
      "_model_name": "DescriptionStyleModel",
      "_view_count": null,
      "_view_module": "@jupyter-widgets/base",
      "_view_module_version": "1.2.0",
      "_view_name": "StyleView",
      "description_width": ""
     }
    },
    "a9b5873304cf469fb0a02027244d2358": {
     "model_module": "@jupyter-widgets/controls",
     "model_name": "DescriptionStyleModel",
     "state": {
      "_model_module": "@jupyter-widgets/controls",
      "_model_module_version": "1.5.0",
      "_model_name": "DescriptionStyleModel",
      "_view_count": null,
      "_view_module": "@jupyter-widgets/base",
      "_view_module_version": "1.2.0",
      "_view_name": "StyleView",
      "description_width": ""
     }
    },
    "b5e65bfc2deb496fa2a701c78855cf81": {
     "model_module": "@jupyter-widgets/base",
     "model_name": "LayoutModel",
     "state": {
      "_model_module": "@jupyter-widgets/base",
      "_model_module_version": "1.2.0",
      "_model_name": "LayoutModel",
      "_view_count": null,
      "_view_module": "@jupyter-widgets/base",
      "_view_module_version": "1.2.0",
      "_view_name": "LayoutView",
      "align_content": null,
      "align_items": null,
      "align_self": null,
      "border": null,
      "bottom": null,
      "display": null,
      "flex": null,
      "flex_flow": null,
      "grid_area": null,
      "grid_auto_columns": null,
      "grid_auto_flow": null,
      "grid_auto_rows": null,
      "grid_column": null,
      "grid_gap": null,
      "grid_row": null,
      "grid_template_areas": null,
      "grid_template_columns": null,
      "grid_template_rows": null,
      "height": null,
      "justify_content": null,
      "justify_items": null,
      "left": null,
      "margin": null,
      "max_height": null,
      "max_width": null,
      "min_height": null,
      "min_width": null,
      "object_fit": null,
      "object_position": null,
      "order": null,
      "overflow": null,
      "overflow_x": null,
      "overflow_y": null,
      "padding": null,
      "right": null,
      "top": null,
      "visibility": null,
      "width": null
     }
    },
    "ba83b82fbe8f4627b9505120cfbdd22b": {
     "model_module": "@jupyter-widgets/controls",
     "model_name": "ProgressStyleModel",
     "state": {
      "_model_module": "@jupyter-widgets/controls",
      "_model_module_version": "1.5.0",
      "_model_name": "ProgressStyleModel",
      "_view_count": null,
      "_view_module": "@jupyter-widgets/base",
      "_view_module_version": "1.2.0",
      "_view_name": "StyleView",
      "bar_color": null,
      "description_width": "initial"
     }
    },
    "ba9e64da158b47d98801b3841e1e2f21": {
     "model_module": "@jupyter-widgets/controls",
     "model_name": "IntProgressModel",
     "state": {
      "_dom_classes": [],
      "_model_module": "@jupyter-widgets/controls",
      "_model_module_version": "1.5.0",
      "_model_name": "IntProgressModel",
      "_view_count": null,
      "_view_module": "@jupyter-widgets/controls",
      "_view_module_version": "1.5.0",
      "_view_name": "ProgressView",
      "bar_style": "success",
      "description": "Downloading",
      "description_tooltip": null,
      "layout": "IPY_MODEL_d4e9a696154344b1bdd3ed775f862cf0",
      "max": 361,
      "min": 0,
      "orientation": "horizontal",
      "style": "IPY_MODEL_c8ff157353f6498092ca1da10c95089a",
      "value": 361
     }
    },
    "bbf48cdad1c54841897a33f1fead643e": {
     "model_module": "@jupyter-widgets/base",
     "model_name": "LayoutModel",
     "state": {
      "_model_module": "@jupyter-widgets/base",
      "_model_module_version": "1.2.0",
      "_model_name": "LayoutModel",
      "_view_count": null,
      "_view_module": "@jupyter-widgets/base",
      "_view_module_version": "1.2.0",
      "_view_name": "LayoutView",
      "align_content": null,
      "align_items": null,
      "align_self": null,
      "border": null,
      "bottom": null,
      "display": null,
      "flex": null,
      "flex_flow": null,
      "grid_area": null,
      "grid_auto_columns": null,
      "grid_auto_flow": null,
      "grid_auto_rows": null,
      "grid_column": null,
      "grid_gap": null,
      "grid_row": null,
      "grid_template_areas": null,
      "grid_template_columns": null,
      "grid_template_rows": null,
      "height": null,
      "justify_content": null,
      "justify_items": null,
      "left": null,
      "margin": null,
      "max_height": null,
      "max_width": null,
      "min_height": null,
      "min_width": null,
      "object_fit": null,
      "object_position": null,
      "order": null,
      "overflow": null,
      "overflow_x": null,
      "overflow_y": null,
      "padding": null,
      "right": null,
      "top": null,
      "visibility": null,
      "width": null
     }
    },
    "bfd4d22635fa46d4ba0f1e2f6e982114": {
     "model_module": "@jupyter-widgets/base",
     "model_name": "LayoutModel",
     "state": {
      "_model_module": "@jupyter-widgets/base",
      "_model_module_version": "1.2.0",
      "_model_name": "LayoutModel",
      "_view_count": null,
      "_view_module": "@jupyter-widgets/base",
      "_view_module_version": "1.2.0",
      "_view_name": "LayoutView",
      "align_content": null,
      "align_items": null,
      "align_self": null,
      "border": null,
      "bottom": null,
      "display": null,
      "flex": null,
      "flex_flow": null,
      "grid_area": null,
      "grid_auto_columns": null,
      "grid_auto_flow": null,
      "grid_auto_rows": null,
      "grid_column": null,
      "grid_gap": null,
      "grid_row": null,
      "grid_template_areas": null,
      "grid_template_columns": null,
      "grid_template_rows": null,
      "height": null,
      "justify_content": null,
      "justify_items": null,
      "left": null,
      "margin": null,
      "max_height": null,
      "max_width": null,
      "min_height": null,
      "min_width": null,
      "object_fit": null,
      "object_position": null,
      "order": null,
      "overflow": null,
      "overflow_x": null,
      "overflow_y": null,
      "padding": null,
      "right": null,
      "top": null,
      "visibility": null,
      "width": null
     }
    },
    "bffe57427b5943948fabc4c84bed90b2": {
     "model_module": "@jupyter-widgets/base",
     "model_name": "LayoutModel",
     "state": {
      "_model_module": "@jupyter-widgets/base",
      "_model_module_version": "1.2.0",
      "_model_name": "LayoutModel",
      "_view_count": null,
      "_view_module": "@jupyter-widgets/base",
      "_view_module_version": "1.2.0",
      "_view_name": "LayoutView",
      "align_content": null,
      "align_items": null,
      "align_self": null,
      "border": null,
      "bottom": null,
      "display": null,
      "flex": null,
      "flex_flow": null,
      "grid_area": null,
      "grid_auto_columns": null,
      "grid_auto_flow": null,
      "grid_auto_rows": null,
      "grid_column": null,
      "grid_gap": null,
      "grid_row": null,
      "grid_template_areas": null,
      "grid_template_columns": null,
      "grid_template_rows": null,
      "height": null,
      "justify_content": null,
      "justify_items": null,
      "left": null,
      "margin": null,
      "max_height": null,
      "max_width": null,
      "min_height": null,
      "min_width": null,
      "object_fit": null,
      "object_position": null,
      "order": null,
      "overflow": null,
      "overflow_x": null,
      "overflow_y": null,
      "padding": null,
      "right": null,
      "top": null,
      "visibility": null,
      "width": null
     }
    },
    "c6fb4409c08d4e9788a6c10d64942250": {
     "model_module": "@jupyter-widgets/controls",
     "model_name": "HTMLModel",
     "state": {
      "_dom_classes": [],
      "_model_module": "@jupyter-widgets/controls",
      "_model_module_version": "1.5.0",
      "_model_name": "HTMLModel",
      "_view_count": null,
      "_view_module": "@jupyter-widgets/controls",
      "_view_module_version": "1.5.0",
      "_view_name": "HTMLView",
      "description": "",
      "description_tooltip": null,
      "layout": "IPY_MODEL_0e789345ab2c44098bee68f1124911e1",
      "placeholder": "​",
      "style": "IPY_MODEL_23266b9adc5d411aa6647a89f0fa3b01",
      "value": "100% 232k/232k [00:00&lt;00:00, 2.59MB/s]"
     }
    },
    "c8ff157353f6498092ca1da10c95089a": {
     "model_module": "@jupyter-widgets/controls",
     "model_name": "ProgressStyleModel",
     "state": {
      "_model_module": "@jupyter-widgets/controls",
      "_model_module_version": "1.5.0",
      "_model_name": "ProgressStyleModel",
      "_view_count": null,
      "_view_module": "@jupyter-widgets/base",
      "_view_module_version": "1.2.0",
      "_view_name": "StyleView",
      "bar_color": null,
      "description_width": "initial"
     }
    },
    "c9e3df06ba73483bb1a7f41ff4d41e14": {
     "model_module": "@jupyter-widgets/controls",
     "model_name": "IntProgressModel",
     "state": {
      "_dom_classes": [],
      "_model_module": "@jupyter-widgets/controls",
      "_model_module_version": "1.5.0",
      "_model_name": "IntProgressModel",
      "_view_count": null,
      "_view_module": "@jupyter-widgets/controls",
      "_view_module_version": "1.5.0",
      "_view_name": "ProgressView",
      "bar_style": "success",
      "description": "Downloading",
      "description_tooltip": null,
      "layout": "IPY_MODEL_fba2e6190f404b24a8e1d014d235babf",
      "max": 440473133,
      "min": 0,
      "orientation": "horizontal",
      "style": "IPY_MODEL_42ea5f01fca04629ab34094cbd6bf703",
      "value": 440473133
     }
    },
    "cee8cdfe77ec476b82a9970c8fa64245": {
     "model_module": "@jupyter-widgets/controls",
     "model_name": "HTMLModel",
     "state": {
      "_dom_classes": [],
      "_model_module": "@jupyter-widgets/controls",
      "_model_module_version": "1.5.0",
      "_model_name": "HTMLModel",
      "_view_count": null,
      "_view_module": "@jupyter-widgets/controls",
      "_view_module_version": "1.5.0",
      "_view_name": "HTMLView",
      "description": "",
      "description_tooltip": null,
      "layout": "IPY_MODEL_2ffbf17f925a4dceaa9091c1b78902b1",
      "placeholder": "​",
      "style": "IPY_MODEL_95001fc643a2456db649d5dc75038f31",
      "value": "100% 546/546 [00:00&lt;00:00, 23.2kB/s]"
     }
    },
    "d4e9a696154344b1bdd3ed775f862cf0": {
     "model_module": "@jupyter-widgets/base",
     "model_name": "LayoutModel",
     "state": {
      "_model_module": "@jupyter-widgets/base",
      "_model_module_version": "1.2.0",
      "_model_name": "LayoutModel",
      "_view_count": null,
      "_view_module": "@jupyter-widgets/base",
      "_view_module_version": "1.2.0",
      "_view_name": "LayoutView",
      "align_content": null,
      "align_items": null,
      "align_self": null,
      "border": null,
      "bottom": null,
      "display": null,
      "flex": null,
      "flex_flow": null,
      "grid_area": null,
      "grid_auto_columns": null,
      "grid_auto_flow": null,
      "grid_auto_rows": null,
      "grid_column": null,
      "grid_gap": null,
      "grid_row": null,
      "grid_template_areas": null,
      "grid_template_columns": null,
      "grid_template_rows": null,
      "height": null,
      "justify_content": null,
      "justify_items": null,
      "left": null,
      "margin": null,
      "max_height": null,
      "max_width": null,
      "min_height": null,
      "min_width": null,
      "object_fit": null,
      "object_position": null,
      "order": null,
      "overflow": null,
      "overflow_x": null,
      "overflow_y": null,
      "padding": null,
      "right": null,
      "top": null,
      "visibility": null,
      "width": null
     }
    },
    "df9484112e9046ddaa965106b93925df": {
     "model_module": "@jupyter-widgets/controls",
     "model_name": "DescriptionStyleModel",
     "state": {
      "_model_module": "@jupyter-widgets/controls",
      "_model_module_version": "1.5.0",
      "_model_name": "DescriptionStyleModel",
      "_view_count": null,
      "_view_module": "@jupyter-widgets/base",
      "_view_module_version": "1.2.0",
      "_view_name": "StyleView",
      "description_width": ""
     }
    },
    "e68ba4cd54c946df9b0775c68346ddbb": {
     "model_module": "@jupyter-widgets/controls",
     "model_name": "IntProgressModel",
     "state": {
      "_dom_classes": [],
      "_model_module": "@jupyter-widgets/controls",
      "_model_module_version": "1.5.0",
      "_model_name": "IntProgressModel",
      "_view_count": null,
      "_view_module": "@jupyter-widgets/controls",
      "_view_module_version": "1.5.0",
      "_view_name": "ProgressView",
      "bar_style": "success",
      "description": "Downloading",
      "description_tooltip": null,
      "layout": "IPY_MODEL_bffe57427b5943948fabc4c84bed90b2",
      "max": 546,
      "min": 0,
      "orientation": "horizontal",
      "style": "IPY_MODEL_318afc0fbad04947bdf15630ac1c3c80",
      "value": 546
     }
    },
    "e9b0dcb349e640299b9ddd3283d8d518": {
     "model_module": "@jupyter-widgets/controls",
     "model_name": "DescriptionStyleModel",
     "state": {
      "_model_module": "@jupyter-widgets/controls",
      "_model_module_version": "1.5.0",
      "_model_name": "DescriptionStyleModel",
      "_view_count": null,
      "_view_module": "@jupyter-widgets/base",
      "_view_module_version": "1.2.0",
      "_view_name": "StyleView",
      "description_width": ""
     }
    },
    "ef7e3d3deeb14b0cb5c4c4b712fb4670": {
     "model_module": "@jupyter-widgets/controls",
     "model_name": "HTMLModel",
     "state": {
      "_dom_classes": [],
      "_model_module": "@jupyter-widgets/controls",
      "_model_module_version": "1.5.0",
      "_model_name": "HTMLModel",
      "_view_count": null,
      "_view_module": "@jupyter-widgets/controls",
      "_view_module_version": "1.5.0",
      "_view_name": "HTMLView",
      "description": "",
      "description_tooltip": null,
      "layout": "IPY_MODEL_06a6a10ce00a47ae93e522f10612f6d6",
      "placeholder": "​",
      "style": "IPY_MODEL_9eadf6c33c3d4c0797534f4e95935f52",
      "value": "100% 230/230 [00:00&lt;00:00, 8.61kB/s]"
     }
    },
    "f986ad1e84dd414bb796bf7630f8fa0c": {
     "model_module": "@jupyter-widgets/base",
     "model_name": "LayoutModel",
     "state": {
      "_model_module": "@jupyter-widgets/base",
      "_model_module_version": "1.2.0",
      "_model_name": "LayoutModel",
      "_view_count": null,
      "_view_module": "@jupyter-widgets/base",
      "_view_module_version": "1.2.0",
      "_view_name": "LayoutView",
      "align_content": null,
      "align_items": null,
      "align_self": null,
      "border": null,
      "bottom": null,
      "display": null,
      "flex": null,
      "flex_flow": null,
      "grid_area": null,
      "grid_auto_columns": null,
      "grid_auto_flow": null,
      "grid_auto_rows": null,
      "grid_column": null,
      "grid_gap": null,
      "grid_row": null,
      "grid_template_areas": null,
      "grid_template_columns": null,
      "grid_template_rows": null,
      "height": null,
      "justify_content": null,
      "justify_items": null,
      "left": null,
      "margin": null,
      "max_height": null,
      "max_width": null,
      "min_height": null,
      "min_width": null,
      "object_fit": null,
      "object_position": null,
      "order": null,
      "overflow": null,
      "overflow_x": null,
      "overflow_y": null,
      "padding": null,
      "right": null,
      "top": null,
      "visibility": null,
      "width": null
     }
    },
    "fba2e6190f404b24a8e1d014d235babf": {
     "model_module": "@jupyter-widgets/base",
     "model_name": "LayoutModel",
     "state": {
      "_model_module": "@jupyter-widgets/base",
      "_model_module_version": "1.2.0",
      "_model_name": "LayoutModel",
      "_view_count": null,
      "_view_module": "@jupyter-widgets/base",
      "_view_module_version": "1.2.0",
      "_view_name": "LayoutView",
      "align_content": null,
      "align_items": null,
      "align_self": null,
      "border": null,
      "bottom": null,
      "display": null,
      "flex": null,
      "flex_flow": null,
      "grid_area": null,
      "grid_auto_columns": null,
      "grid_auto_flow": null,
      "grid_auto_rows": null,
      "grid_column": null,
      "grid_gap": null,
      "grid_row": null,
      "grid_template_areas": null,
      "grid_template_columns": null,
      "grid_template_rows": null,
      "height": null,
      "justify_content": null,
      "justify_items": null,
      "left": null,
      "margin": null,
      "max_height": null,
      "max_width": null,
      "min_height": null,
      "min_width": null,
      "object_fit": null,
      "object_position": null,
      "order": null,
      "overflow": null,
      "overflow_x": null,
      "overflow_y": null,
      "padding": null,
      "right": null,
      "top": null,
      "visibility": null,
      "width": null
     }
    },
    "ff1beea594644ab894c3566a002ca7a6": {
     "model_module": "@jupyter-widgets/base",
     "model_name": "LayoutModel",
     "state": {
      "_model_module": "@jupyter-widgets/base",
      "_model_module_version": "1.2.0",
      "_model_name": "LayoutModel",
      "_view_count": null,
      "_view_module": "@jupyter-widgets/base",
      "_view_module_version": "1.2.0",
      "_view_name": "LayoutView",
      "align_content": null,
      "align_items": null,
      "align_self": null,
      "border": null,
      "bottom": null,
      "display": null,
      "flex": null,
      "flex_flow": null,
      "grid_area": null,
      "grid_auto_columns": null,
      "grid_auto_flow": null,
      "grid_auto_rows": null,
      "grid_column": null,
      "grid_gap": null,
      "grid_row": null,
      "grid_template_areas": null,
      "grid_template_columns": null,
      "grid_template_rows": null,
      "height": null,
      "justify_content": null,
      "justify_items": null,
      "left": null,
      "margin": null,
      "max_height": null,
      "max_width": null,
      "min_height": null,
      "min_width": null,
      "object_fit": null,
      "object_position": null,
      "order": null,
      "overflow": null,
      "overflow_x": null,
      "overflow_y": null,
      "padding": null,
      "right": null,
      "top": null,
      "visibility": null,
      "width": null
     }
    }
   }
  }
 },
 "nbformat": 4,
 "nbformat_minor": 1
}
