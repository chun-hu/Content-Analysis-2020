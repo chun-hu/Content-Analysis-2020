{
 "cells": [
  {
   "cell_type": "markdown",
   "metadata": {},
   "source": [
    "# Week 7 - Vector Space Word Embeddings"
   ]
  },
  {
   "cell_type": "code",
   "execution_count": 1,
   "metadata": {},
   "outputs": [],
   "source": [
    "#All these packages need to be installed from pip\n",
    "import gensim#For word2vec, etc\n",
    "import requests #For downloading our datasets\n",
    "import lucem_illud_2020\n",
    "\n",
    "import numpy as np #For arrays\n",
    "import pandas #Gives us DataFrames\n",
    "import matplotlib.pyplot as plt #For graphics\n",
    "import seaborn #Makes the graphics look nicer\n",
    "import sklearn.metrics.pairwise #For cosine similarity\n",
    "import sklearn.manifold #For T-SNE\n",
    "import sklearn.decomposition #For PCA\n",
    "\n",
    "#This 'magic' command makes the plots work better\n",
    "#in the notebook, don't use it outside of a notebook.\n",
    "#Also you can ignore the warning\n",
    "%matplotlib inline\n",
    "\n",
    "import os #For looking through files\n",
    "import os.path #For managing file paths"
   ]
  },
  {
   "cell_type": "markdown",
   "metadata": {},
   "source": [
    "## <span style=\"color:red\">*Exercise 1*</span>\n",
    "\n",
    "<span style=\"color:red\">Construct cells immediately below this that embed documents related to your final project using at least two different specification of `word2vec`, and visualize them each with two separate visualization layout specifications (e.g., TSNE, PCA). Then interrogate critical word vectors within your corpus in terms of the most similar words, analogies, and other additions and subtractions that reveal the structure of similarity and difference within your semantic space. What does this pattern reveal about the semantic organization of words in your corpora? Which estimation and visualization specification generate the most insight and appear the most robustly supported and why? \n",
    "\n",
    "<span style=\"color:red\">***Stretch***: Explore different vector calculations beyond addition and subtraction, such as multiplication, division or some other function. What does this exploration reveal about the semantic structure of your corpus?"
   ]
  },
  {
   "cell_type": "markdown",
   "metadata": {},
   "source": [
    "For our final project, we intend to explore the commonalities and differences in text between comments and parent comments in the Reddit community. Our two datasets consist of 4 millions of comments that received the highest upvotes (2 million) and the highest downvotes (2 million). I'll primarily focus on the former, and my teammate will focus on the latter."
   ]
  },
  {
   "cell_type": "code",
   "execution_count": 2,
   "metadata": {},
   "outputs": [],
   "source": [
    "commentsDF = pandas.read_csv(\"comments_positive.csv\", nrows=5000)"
   ]
  },
  {
   "cell_type": "markdown",
   "metadata": {},
   "source": [
    "First, perform the analysis on **comment**."
   ]
  },
  {
   "cell_type": "code",
   "execution_count": 3,
   "metadata": {},
   "outputs": [
    {
     "data": {
      "text/html": [
       "<div>\n",
       "<style scoped>\n",
       "    .dataframe tbody tr th:only-of-type {\n",
       "        vertical-align: middle;\n",
       "    }\n",
       "\n",
       "    .dataframe tbody tr th {\n",
       "        vertical-align: top;\n",
       "    }\n",
       "\n",
       "    .dataframe thead th {\n",
       "        text-align: right;\n",
       "    }\n",
       "</style>\n",
       "<table border=\"1\" class=\"dataframe\">\n",
       "  <thead>\n",
       "    <tr style=\"text-align: right;\">\n",
       "      <th></th>\n",
       "      <th>id</th>\n",
       "      <th>parent_id</th>\n",
       "      <th>subreddit_id</th>\n",
       "      <th>link_id</th>\n",
       "      <th>text</th>\n",
       "      <th>score</th>\n",
       "      <th>ups</th>\n",
       "      <th>author</th>\n",
       "      <th>controversiality</th>\n",
       "      <th>parent_link_id</th>\n",
       "      <th>parent_text</th>\n",
       "      <th>parent_score</th>\n",
       "      <th>parent_ups</th>\n",
       "      <th>parent_author</th>\n",
       "      <th>parent_controversiality</th>\n",
       "      <th>tokenized_com</th>\n",
       "      <th>normalized_com</th>\n",
       "    </tr>\n",
       "  </thead>\n",
       "  <tbody>\n",
       "    <tr>\n",
       "      <th>0</th>\n",
       "      <td>c092j8m</td>\n",
       "      <td>t1_c092gss</td>\n",
       "      <td>t5_2qh2p</td>\n",
       "      <td>t3_8eyy3</td>\n",
       "      <td>This isn't Twitter: try to comment on the arti...</td>\n",
       "      <td>9582</td>\n",
       "      <td>9582</td>\n",
       "      <td>nraustinii</td>\n",
       "      <td>0</td>\n",
       "      <td>t3_8eyy3</td>\n",
       "      <td>Fucking faggot.</td>\n",
       "      <td>-7526</td>\n",
       "      <td>-7526</td>\n",
       "      <td>Glorificus</td>\n",
       "      <td>0</td>\n",
       "      <td>[[This, is, n't, Twitter, try, to, comment, on...</td>\n",
       "      <td>[[twitter, try, comment, article, current, act...</td>\n",
       "    </tr>\n",
       "    <tr>\n",
       "      <th>1</th>\n",
       "      <td>c4imcva</td>\n",
       "      <td>t1_c4im948</td>\n",
       "      <td>t5_2qh1i</td>\n",
       "      <td>t3_t0ynr</td>\n",
       "      <td>Well, it is exactly what it sounds like. It's ...</td>\n",
       "      <td>9531</td>\n",
       "      <td>9531</td>\n",
       "      <td>Lynfect</td>\n",
       "      <td>0</td>\n",
       "      <td>t3_t0ynr</td>\n",
       "      <td>Elaborate on this cum box, please.</td>\n",
       "      <td>3841</td>\n",
       "      <td>3841</td>\n",
       "      <td>eeeeevil</td>\n",
       "      <td>0</td>\n",
       "      <td>[[Well, it, is, exactly, what, it, sounds, lik...</td>\n",
       "      <td>[[exactly, sounds, like], [shoebox, masturbate...</td>\n",
       "    </tr>\n",
       "    <tr>\n",
       "      <th>2</th>\n",
       "      <td>c0s4nfi</td>\n",
       "      <td>t1_c0s4lje</td>\n",
       "      <td>t5_2qh1i</td>\n",
       "      <td>t3_cf1n2</td>\n",
       "      <td>In soviet Russia, bomb disarms you!</td>\n",
       "      <td>8545</td>\n",
       "      <td>8545</td>\n",
       "      <td>CapnScumbone</td>\n",
       "      <td>0</td>\n",
       "      <td>t3_cf1n2</td>\n",
       "      <td>I don't live in Russia anymore, and I will not...</td>\n",
       "      <td>621</td>\n",
       "      <td>621</td>\n",
       "      <td>shady8x</td>\n",
       "      <td>0</td>\n",
       "      <td>[[In, soviet, Russia, bomb, disarms, you]]</td>\n",
       "      <td>[[soviet, russia, bomb, disarms]]</td>\n",
       "    </tr>\n",
       "    <tr>\n",
       "      <th>3</th>\n",
       "      <td>c4ini33</td>\n",
       "      <td>t1_c4incln</td>\n",
       "      <td>t5_2qh1i</td>\n",
       "      <td>t3_t0ynr</td>\n",
       "      <td>\"runin for senitur! #YOLO!\"</td>\n",
       "      <td>7430</td>\n",
       "      <td>7430</td>\n",
       "      <td>[deleted]</td>\n",
       "      <td>0</td>\n",
       "      <td>t3_t0ynr</td>\n",
       "      <td>This just made me realize that future presiden...</td>\n",
       "      <td>4651</td>\n",
       "      <td>4651</td>\n",
       "      <td>drspg99</td>\n",
       "      <td>0</td>\n",
       "      <td>[[runin, for, senitur], [YOLO]]</td>\n",
       "      <td>[[runin, senitur], [yolo]]</td>\n",
       "    </tr>\n",
       "    <tr>\n",
       "      <th>4</th>\n",
       "      <td>c4imgel</td>\n",
       "      <td>t1_c4ima2e</td>\n",
       "      <td>t5_2qh1i</td>\n",
       "      <td>t3_t0ynr</td>\n",
       "      <td>You step motherfucker.</td>\n",
       "      <td>7173</td>\n",
       "      <td>7173</td>\n",
       "      <td>jbg89</td>\n",
       "      <td>0</td>\n",
       "      <td>t3_t0ynr</td>\n",
       "      <td>I have sex with my step mom when my dad isn't ...</td>\n",
       "      <td>4251</td>\n",
       "      <td>4251</td>\n",
       "      <td>audir8</td>\n",
       "      <td>0</td>\n",
       "      <td>[[You, step, motherfucker]]</td>\n",
       "      <td>[[step, motherfucker]]</td>\n",
       "    </tr>\n",
       "  </tbody>\n",
       "</table>\n",
       "</div>"
      ],
      "text/plain": [
       "        id   parent_id subreddit_id   link_id  \\\n",
       "0  c092j8m  t1_c092gss     t5_2qh2p  t3_8eyy3   \n",
       "1  c4imcva  t1_c4im948     t5_2qh1i  t3_t0ynr   \n",
       "2  c0s4nfi  t1_c0s4lje     t5_2qh1i  t3_cf1n2   \n",
       "3  c4ini33  t1_c4incln     t5_2qh1i  t3_t0ynr   \n",
       "4  c4imgel  t1_c4ima2e     t5_2qh1i  t3_t0ynr   \n",
       "\n",
       "                                                text  score   ups  \\\n",
       "0  This isn't Twitter: try to comment on the arti...   9582  9582   \n",
       "1  Well, it is exactly what it sounds like. It's ...   9531  9531   \n",
       "2                In soviet Russia, bomb disarms you!   8545  8545   \n",
       "3                        \"runin for senitur! #YOLO!\"   7430  7430   \n",
       "4                             You step motherfucker.   7173  7173   \n",
       "\n",
       "         author  controversiality parent_link_id  \\\n",
       "0    nraustinii                 0       t3_8eyy3   \n",
       "1       Lynfect                 0       t3_t0ynr   \n",
       "2  CapnScumbone                 0       t3_cf1n2   \n",
       "3     [deleted]                 0       t3_t0ynr   \n",
       "4         jbg89                 0       t3_t0ynr   \n",
       "\n",
       "                                         parent_text  parent_score  \\\n",
       "0                                    Fucking faggot.         -7526   \n",
       "1                 Elaborate on this cum box, please.          3841   \n",
       "2  I don't live in Russia anymore, and I will not...           621   \n",
       "3  This just made me realize that future presiden...          4651   \n",
       "4  I have sex with my step mom when my dad isn't ...          4251   \n",
       "\n",
       "   parent_ups parent_author  parent_controversiality  \\\n",
       "0       -7526    Glorificus                        0   \n",
       "1        3841      eeeeevil                        0   \n",
       "2         621       shady8x                        0   \n",
       "3        4651       drspg99                        0   \n",
       "4        4251        audir8                        0   \n",
       "\n",
       "                                       tokenized_com  \\\n",
       "0  [[This, is, n't, Twitter, try, to, comment, on...   \n",
       "1  [[Well, it, is, exactly, what, it, sounds, lik...   \n",
       "2         [[In, soviet, Russia, bomb, disarms, you]]   \n",
       "3                    [[runin, for, senitur], [YOLO]]   \n",
       "4                        [[You, step, motherfucker]]   \n",
       "\n",
       "                                      normalized_com  \n",
       "0  [[twitter, try, comment, article, current, act...  \n",
       "1  [[exactly, sounds, like], [shoebox, masturbate...  \n",
       "2                  [[soviet, russia, bomb, disarms]]  \n",
       "3                         [[runin, senitur], [yolo]]  \n",
       "4                             [[step, motherfucker]]  "
      ]
     },
     "execution_count": 3,
     "metadata": {},
     "output_type": "execute_result"
    }
   ],
   "source": [
    "commentsDF['tokenized_com'] = commentsDF['text'].apply(lambda x: [lucem_illud_2020.word_tokenize(s) for s in lucem_illud_2020.sent_tokenize(x)])\n",
    "commentsDF['normalized_com'] = commentsDF['tokenized_com'].apply(lambda x: [lucem_illud_2020.normalizeTokens(s, lemma=False) for s in x])\n",
    "\n",
    "commentsDF.head()"
   ]
  },
  {
   "cell_type": "code",
   "execution_count": 4,
   "metadata": {},
   "outputs": [],
   "source": [
    "commentsW2V = gensim.models.word2vec.Word2Vec(commentsDF['normalized_com'].sum())"
   ]
  },
  {
   "cell_type": "code",
   "execution_count": 5,
   "metadata": {},
   "outputs": [
    {
     "data": {
      "text/plain": [
       "[('time', 0.9999166131019592),\n",
       " ('little', 0.9999034404754639),\n",
       " ('know', 0.9999026656150818),\n",
       " ('old', 0.9999014139175415),\n",
       " ('day', 0.9998979568481445),\n",
       " ('people', 0.9998970627784729),\n",
       " ('man', 0.9998959302902222),\n",
       " ('got', 0.9998939037322998),\n",
       " ('person', 0.9998880624771118),\n",
       " ('way', 0.9998879432678223)]"
      ]
     },
     "execution_count": 5,
     "metadata": {},
     "output_type": "execute_result"
    }
   ],
   "source": [
    "commentsW2V.most_similar('love')"
   ]
  },
  {
   "cell_type": "code",
   "execution_count": 16,
   "metadata": {},
   "outputs": [
    {
     "data": {
      "text/plain": [
       "[('time', 0.9999362826347351),\n",
       " ('want', 0.9999339580535889),\n",
       " ('got', 0.9999295473098755),\n",
       " ('people', 0.9999284744262695),\n",
       " ('way', 0.9999223947525024),\n",
       " ('away', 0.9999208450317383),\n",
       " ('guy', 0.999920666217804),\n",
       " ('man', 0.9999203681945801),\n",
       " ('thing', 0.9999191761016846),\n",
       " ('like', 0.9999178647994995)]"
      ]
     },
     "execution_count": 16,
     "metadata": {},
     "output_type": "execute_result"
    }
   ],
   "source": [
    "commentsW2V.similar_by_word('life',topn=10)"
   ]
  },
  {
   "cell_type": "markdown",
   "metadata": {},
   "source": [
    "`love` and `life` generate pretty similar words, however, the two words are not in each other's most similar words. This suggests that the top 10 words we generated are probably words that occur most frequently in the dataset rather than words that have closer meanings."
   ]
  },
  {
   "cell_type": "code",
   "execution_count": 17,
   "metadata": {},
   "outputs": [
    {
     "data": {
      "text/plain": [
       "[('ve', 0.999137818813324),\n",
       " ('time', 0.99913489818573),\n",
       " ('day', 0.9991148114204407),\n",
       " ('got', 0.9991127252578735),\n",
       " ('story', 0.9991090893745422),\n",
       " ('thing', 0.9991080164909363),\n",
       " ('came', 0.99910569190979),\n",
       " ('seen', 0.9991040229797363),\n",
       " ('wife', 0.9991011619567871),\n",
       " ('getting', 0.9990929365158081)]"
      ]
     },
     "execution_count": 17,
     "metadata": {},
     "output_type": "execute_result"
    }
   ],
   "source": [
    "commentsW2V.most_similar(positive=['love', 'friend'], negative = ['hate'])"
   ]
  },
  {
   "cell_type": "markdown",
   "metadata": {},
   "source": [
    "`love` is to `hate` as `friend` is to `wife`?"
   ]
  },
  {
   "cell_type": "code",
   "execution_count": 35,
   "metadata": {},
   "outputs": [
    {
     "data": {
      "text/plain": [
       "[('pants', 0.9923357963562012),\n",
       " ('building', 0.9922414422035217),\n",
       " ('alive', 0.992131769657135),\n",
       " ('ice', 0.9920884370803833),\n",
       " ('wiki', 0.9920850396156311),\n",
       " ('likes', 0.9920695424079895),\n",
       " ('surface', 0.9920209646224976),\n",
       " ('walking', 0.99197918176651),\n",
       " ('similar', 0.9919568300247192),\n",
       " ('quit', 0.9919512867927551)]"
      ]
     },
     "execution_count": 35,
     "metadata": {},
     "output_type": "execute_result"
    }
   ],
   "source": [
    "commentsW2V.most_similar(positive=['america', 'war'], negative = ['china'])"
   ]
  },
  {
   "cell_type": "markdown",
   "metadata": {},
   "source": [
    "In this case, the top words generated are independent of the second word I put in the positive word list, meaning that the words are pretty similar each time. The reason could be that for words that have an association with the words we listed, many words have high cosine similarity (>0.99) because they occur frequently in the dataset, so that the algorithm cannot successfully calculate the relationship."
   ]
  },
  {
   "cell_type": "code",
   "execution_count": 8,
   "metadata": {},
   "outputs": [],
   "source": [
    "numWords = 50\n",
    "targetWords = commentsW2V.wv.index2word[:numWords]"
   ]
  },
  {
   "cell_type": "code",
   "execution_count": 9,
   "metadata": {},
   "outputs": [],
   "source": [
    "wordsSubMatrix = []\n",
    "for word in targetWords:\n",
    "    wordsSubMatrix.append(commentsW2V[word])\n",
    "wordsSubMatrix = np.array(wordsSubMatrix)"
   ]
  },
  {
   "cell_type": "code",
   "execution_count": 10,
   "metadata": {},
   "outputs": [],
   "source": [
    "pcaWords = sklearn.decomposition.PCA(n_components = 50).fit(wordsSubMatrix)\n",
    "reducedPCA_data = pcaWords.transform(wordsSubMatrix)\n",
    "#T-SNE\n",
    "tsneWords = sklearn.manifold.TSNE(n_components = 2).fit_transform(reducedPCA_data)"
   ]
  },
  {
   "cell_type": "code",
   "execution_count": 11,
   "metadata": {},
   "outputs": [
    {
     "data": {
      "image/png": "[encoded data removed]",
      "text/plain": [
       "<Figure size 720x432 with 1 Axes>"
      ]
     },
     "metadata": {},
     "output_type": "display_data"
    }
   ],
   "source": [
    "fig = plt.figure(figsize = (10,6))\n",
    "ax = fig.add_subplot(111)\n",
    "ax.set_frame_on(False)\n",
    "plt.scatter(tsneWords[:, 0], tsneWords[:, 1], alpha = 0)#Making the points invisible \n",
    "for i, word in enumerate(targetWords):\n",
    "    ax.annotate(word, (tsneWords[:, 0][i],tsneWords[:, 1][i]), size =  20 * (numWords - i) / numWords)\n",
    "plt.xticks(())\n",
    "plt.yticks(())\n",
    "plt.title('TSNE Layout (Comment)')\n",
    "plt.show()"
   ]
  },
  {
   "cell_type": "markdown",
   "metadata": {},
   "source": [
    "**Isomap** seeks a lower-dimensional embedding which maintains geodesic distances between all points."
   ]
  },
  {
   "cell_type": "code",
   "execution_count": 12,
   "metadata": {},
   "outputs": [
    {
     "data": {
      "image/png": "[encoded data removed]",
      "text/plain": [
       "<Figure size 720x432 with 1 Axes>"
      ]
     },
     "metadata": {},
     "output_type": "display_data"
    }
   ],
   "source": [
    "isoWords = sklearn.manifold.Isomap(n_components = 2).fit_transform(reducedPCA_data)\n",
    "fig = plt.figure(figsize = (10,6))\n",
    "ax = fig.add_subplot(111)\n",
    "ax.set_frame_on(False)\n",
    "plt.scatter(isoWords[:, 0], isoWords[:, 1], alpha = 0)#Making the points invisible \n",
    "for i, word in enumerate(targetWords):\n",
    "    ax.annotate(word, (isoWords[:, 0][i],isoWords[:, 1][i]), size =  20 * (numWords - i) / numWords)\n",
    "plt.xticks(())\n",
    "plt.yticks(())\n",
    "plt.title('Isomap Layout (Comment)')\n",
    "plt.show()"
   ]
  },
  {
   "cell_type": "markdown",
   "metadata": {},
   "source": [
    "While Isomap is best suited to unfold a single continuous low dimensional manifold, t-SNE focuses on the local structure of the data and will tend to extract clustered local groups of samples. This ability to group samples based on the local structure is beneficial to visually disentangle our dataset that might comprise several manifolds at once. As shown in the graphs above, t-SNE provides more intuitive visualizations of the clusters in our dataset. The top words generated by PCA are words that occur frequently in colloquial expressions, which clearly reflects the characteristics of online comments."
   ]
  },
  {
   "cell_type": "markdown",
   "metadata": {},
   "source": [
    "Perform the same analysis on **parent comment** and visualize the layout using TSNE and Isomap."
   ]
  },
  {
   "cell_type": "code",
   "execution_count": 36,
   "metadata": {},
   "outputs": [],
   "source": [
    "commentsDF['tokenized_par'] = commentsDF['parent_text'].apply(lambda x: [lucem_illud_2020.word_tokenize(s) for s in lucem_illud_2020.sent_tokenize(x)])\n",
    "commentsDF['normalized_par'] = commentsDF['tokenized_par'].apply(lambda x: [lucem_illud_2020.normalizeTokens(s, lemma=False) for s in x])"
   ]
  },
  {
   "cell_type": "code",
   "execution_count": 37,
   "metadata": {},
   "outputs": [],
   "source": [
    "parentW2V = gensim.models.word2vec.Word2Vec(commentsDF['normalized_par'].sum())"
   ]
  },
  {
   "cell_type": "code",
   "execution_count": 38,
   "metadata": {},
   "outputs": [],
   "source": [
    "numWords = 50\n",
    "parWords = parentW2V.wv.index2word[:numWords]"
   ]
  },
  {
   "cell_type": "code",
   "execution_count": 39,
   "metadata": {},
   "outputs": [],
   "source": [
    "parSubMatrix = []\n",
    "for word in parWords:\n",
    "    parSubMatrix.append(parentW2V[word])\n",
    "parSubMatrix = np.array(parSubMatrix)"
   ]
  },
  {
   "cell_type": "code",
   "execution_count": 40,
   "metadata": {},
   "outputs": [],
   "source": [
    "pcaparWords = sklearn.decomposition.PCA(n_components = 50).fit(parSubMatrix)\n",
    "reducedPCA_par = pcaparWords.transform(parSubMatrix)\n",
    "#T-SNE\n",
    "tsneparWords = sklearn.manifold.TSNE(n_components = 2).fit_transform(reducedPCA_par)"
   ]
  },
  {
   "cell_type": "code",
   "execution_count": 41,
   "metadata": {},
   "outputs": [
    {
     "data": {
      "image/png": "[encoded data removed]",
      "text/plain": [
       "<Figure size 720x432 with 1 Axes>"
      ]
     },
     "metadata": {},
     "output_type": "display_data"
    }
   ],
   "source": [
    "fig = plt.figure(figsize = (10,6))\n",
    "ax = fig.add_subplot(111)\n",
    "ax.set_frame_on(False)\n",
    "plt.scatter(tsneparWords[:, 0], tsneparWords[:, 1], alpha = 0)#Making the points invisible \n",
    "for i, word in enumerate(parWords):\n",
    "    ax.annotate(word, (tsneparWords[:, 0][i],tsneparWords[:, 1][i]), size =  20 * (numWords - i) / numWords)\n",
    "plt.xticks(())\n",
    "plt.yticks(())\n",
    "plt.title('TSNE Layout (Parent Comment)')\n",
    "plt.show()"
   ]
  },
  {
   "cell_type": "code",
   "execution_count": 42,
   "metadata": {},
   "outputs": [
    {
     "data": {
      "image/png": "[encoded data removed]",
      "text/plain": [
       "<Figure size 720x432 with 1 Axes>"
      ]
     },
     "metadata": {},
     "output_type": "display_data"
    }
   ],
   "source": [
    "isoparWords = sklearn.manifold.Isomap(n_components = 2).fit_transform(reducedPCA_par)\n",
    "fig = plt.figure(figsize = (10,6))\n",
    "ax = fig.add_subplot(111)\n",
    "ax.set_frame_on(False)\n",
    "plt.scatter(isoparWords[:, 0], isoparWords[:, 1], alpha = 0)#Making the points invisible \n",
    "for i, word in enumerate(parWords):\n",
    "    ax.annotate(word, (isoparWords[:, 0][i],isoparWords[:, 1][i]), size =  20 * (numWords - i) / numWords)\n",
    "plt.xticks(())\n",
    "plt.yticks(())\n",
    "plt.title('Isomap Layout (Parent Comment)')\n",
    "plt.show()"
   ]
  },
  {
   "cell_type": "markdown",
   "metadata": {},
   "source": [
    "Similar to the graphs for comments, t-SNE produced more intuitive visualizations of clusters in the parent comments. The t-SNE layout is more spread over the dimensions because our dataset primarily focuses on comments that received the highest upvotes - parent comments did not necessarily receive high scores and so may not share similar characteristics. However, the top words generated by PCA are quite similar to those in comments, suggesting that the words followed a similar pattern."
   ]
  },
  {
   "cell_type": "markdown",
   "metadata": {},
   "source": [
    "## <span style=\"color:red\">*Exercise 2*</span>\n",
    "\n",
    "<span style=\"color:red\">Construct cells immediately below this that embed documents related to your final project using `doc2vec`, and explore the relationship between different documents and the word vectors you analyzed in the last exercise. Consider the most similar words to critical documents, analogies (doc _x_ + word _y_), and other additions and subtractions that reveal the structure of similarity and difference within your semantic space. What does this pattern reveal about the documentary organization of your semantic space?"
   ]
  },
  {
   "cell_type": "markdown",
   "metadata": {},
   "source": [
    "We created 8 documents based on our datasets: top 100 comments that received the highest upvotes, along with their parent comments; last 100 comments that received the highest upvotes, along with their parent comments; top 100 comments that received the highest downvotes, along with their parent comments; last 100 comments that received the downest upvotes, along with their parent comments."
   ]
  },
  {
   "cell_type": "code",
   "execution_count": 105,
   "metadata": {},
   "outputs": [],
   "source": [
    "def process_text(df):\n",
    "    df['tokenized_com'] = df['text'].apply(lambda x: [lucem_illud_2020.word_tokenize(s) for s in lucem_illud_2020.sent_tokenize(x)])\n",
    "    df['normalized_com'] = df['tokenized_com'].apply(lambda x: [lucem_illud_2020.normalizeTokens(s, lemma=False) for s in x])\n",
    "    df['tokenized_par'] = df['parent_text'].apply(lambda x: [lucem_illud_2020.word_tokenize(s) for s in lucem_illud_2020.sent_tokenize(x)])\n",
    "    df['normalized_par'] = df['tokenized_par'].apply(lambda x: [lucem_illud_2020.normalizeTokens(s, lemma=False) for s in x])   \n",
    "    \n",
    "    return df\n",
    "\n",
    "\n",
    "def create_text(csv_file):\n",
    "    df = pandas.read_csv(csv_file)\n",
    "    df_head = pandas.read_csv(csv_file, nrows=100)\n",
    "    df_head = process_text(df_head)\n",
    "    \n",
    "    rowsdiff = df.shape[0] - 100\n",
    "    df_tail = pandas.read_csv(csv_file, skiprows = range(1,rowsdiff), nrows = 100)\n",
    "    df_tail = process_text(df_tail)\n",
    "    \n",
    "    return df_head, df_tail\n",
    "    "
   ]
  },
  {
   "cell_type": "code",
   "execution_count": 106,
   "metadata": {},
   "outputs": [],
   "source": [
    "pos_head, pos_tail = create_text(\"comments_positive.csv\")\n",
    "high_pos_com, high_pos_par = pos_head['normalized_com'], pos_head['normalized_par']\n",
    "low_pos_com, low_pos_par = pos_tail['normalized_com'], pos_tail['normalized_par']"
   ]
  },
  {
   "cell_type": "code",
   "execution_count": 107,
   "metadata": {},
   "outputs": [],
   "source": [
    "neg_head, neg_tail = create_text(\"comments_negative.csv\")\n",
    "high_neg_com, high_neg_par = neg_head['normalized_com'], neg_head['normalized_par']\n",
    "low_neg_com, low_neg_par = neg_tail['normalized_com'], neg_tail['normalized_par']"
   ]
  },
  {
   "cell_type": "code",
   "execution_count": 133,
   "metadata": {},
   "outputs": [],
   "source": [
    "def create_str(df):\n",
    "    lst = []\n",
    "    for i in range(len(df)): \n",
    "        for j in df.iloc[i]:\n",
    "            for word in j:\n",
    "                lst.append(word)\n",
    "    return lst"
   ]
  },
  {
   "cell_type": "code",
   "execution_count": 134,
   "metadata": {},
   "outputs": [],
   "source": [
    "# create a list of normalized comments\n",
    "high_pos_comment = create_str(high_pos_com)\n",
    "high_pos_parent = create_str(high_pos_par)\n",
    "low_pos_comment = create_str(low_pos_com)\n",
    "low_pos_parent = create_str(low_pos_par)\n",
    "\n",
    "high_neg_comment = create_str(high_neg_com)\n",
    "high_neg_parent = create_str(high_neg_par)\n",
    "low_neg_comment = create_str(low_neg_com)\n",
    "low_neg_parent = create_str(low_neg_par)"
   ]
  },
  {
   "cell_type": "code",
   "execution_count": 135,
   "metadata": {},
   "outputs": [
    {
     "data": {
      "text/html": [
       "<div>\n",
       "<style scoped>\n",
       "    .dataframe tbody tr th:only-of-type {\n",
       "        vertical-align: middle;\n",
       "    }\n",
       "\n",
       "    .dataframe tbody tr th {\n",
       "        vertical-align: top;\n",
       "    }\n",
       "\n",
       "    .dataframe thead th {\n",
       "        text-align: right;\n",
       "    }\n",
       "</style>\n",
       "<table border=\"1\" class=\"dataframe\">\n",
       "  <thead>\n",
       "    <tr style=\"text-align: right;\">\n",
       "      <th></th>\n",
       "      <th>category</th>\n",
       "      <th>text</th>\n",
       "    </tr>\n",
       "  </thead>\n",
       "  <tbody>\n",
       "    <tr>\n",
       "      <th>0</th>\n",
       "      <td>high positive comment</td>\n",
       "      <td>[twitter, try, comment, article, current, acti...</td>\n",
       "    </tr>\n",
       "    <tr>\n",
       "      <th>1</th>\n",
       "      <td>high positive parent comment</td>\n",
       "      <td>[fucking, faggot, elaborate, cum, box, live, r...</td>\n",
       "    </tr>\n",
       "    <tr>\n",
       "      <th>2</th>\n",
       "      <td>low positive comment</td>\n",
       "      <td>[yeah, thought, snowpiercer, pretty, ridiculou...</td>\n",
       "    </tr>\n",
       "    <tr>\n",
       "      <th>3</th>\n",
       "      <td>low positive parent comment</td>\n",
       "      <td>[snowpiercer, worst, movies, ve, subjected, in...</td>\n",
       "    </tr>\n",
       "    <tr>\n",
       "      <th>4</th>\n",
       "      <td>high negative comment</td>\n",
       "      <td>[na, hate, islam, stands, want, share, streets...</td>\n",
       "    </tr>\n",
       "    <tr>\n",
       "      <th>5</th>\n",
       "      <td>high negative parent comment</td>\n",
       "      <td>[goes, heads, people, kill, murder, torture, v...</td>\n",
       "    </tr>\n",
       "    <tr>\n",
       "      <th>6</th>\n",
       "      <td>low negative comment</td>\n",
       "      <td>[=, ve, everybody, place, tried, kill, mention...</td>\n",
       "    </tr>\n",
       "    <tr>\n",
       "      <th>7</th>\n",
       "      <td>low negative parent comment</td>\n",
       "      <td>[know, house, sold, recently, ve, boat, proble...</td>\n",
       "    </tr>\n",
       "  </tbody>\n",
       "</table>\n",
       "</div>"
      ],
      "text/plain": [
       "                       category  \\\n",
       "0         high positive comment   \n",
       "1  high positive parent comment   \n",
       "2          low positive comment   \n",
       "3   low positive parent comment   \n",
       "4         high negative comment   \n",
       "5  high negative parent comment   \n",
       "6          low negative comment   \n",
       "7   low negative parent comment   \n",
       "\n",
       "                                                text  \n",
       "0  [twitter, try, comment, article, current, acti...  \n",
       "1  [fucking, faggot, elaborate, cum, box, live, r...  \n",
       "2  [yeah, thought, snowpiercer, pretty, ridiculou...  \n",
       "3  [snowpiercer, worst, movies, ve, subjected, in...  \n",
       "4  [na, hate, islam, stands, want, share, streets...  \n",
       "5  [goes, heads, people, kill, murder, torture, v...  \n",
       "6  [=, ve, everybody, place, tried, kill, mention...  \n",
       "7  [know, house, sold, recently, ve, boat, proble...  "
      ]
     },
     "execution_count": 135,
     "metadata": {},
     "output_type": "execute_result"
    }
   ],
   "source": [
    "# create documents\n",
    "cat = [\"high positive comment\", \"high positive parent comment\", \"low positive comment\", \"low positive parent comment\",\n",
    "      \"high negative comment\", \"high negative parent comment\", \"low negative comment\", \"low negative parent comment\"]\n",
    "text = [high_pos_comment, high_pos_parent, low_pos_comment, low_pos_parent, high_neg_comment, high_neg_parent,\n",
    "       low_neg_comment, low_neg_parent]\n",
    "compareDF = pandas.DataFrame({\"category\": cat, \"text\": text})\n",
    "compareDF"
   ]
  },
  {
   "cell_type": "code",
   "execution_count": 200,
   "metadata": {},
   "outputs": [],
   "source": [
    "keywords = ['love', 'hate', 'kind', 'country', 'movie', 'news', 'kill']"
   ]
  },
  {
   "cell_type": "code",
   "execution_count": 201,
   "metadata": {},
   "outputs": [],
   "source": [
    "taggedDocs = []\n",
    "for index, row in compareDF.iterrows():\n",
    "    #Just doing a simple keyword assignment\n",
    "    docKeywords = [s for s in keywords if s in row['text']]\n",
    "    docKeywords.append(row['category'])\n",
    "    taggedDocs.append(gensim.models.doc2vec.LabeledSentence(words = row['text'], tags = docKeywords))\n",
    "compareDF['TaggedComments'] = taggedDocs"
   ]
  },
  {
   "cell_type": "code",
   "execution_count": 202,
   "metadata": {},
   "outputs": [
    {
     "name": "stderr",
     "output_type": "stream",
     "text": [
      "/Users/reneehu/anaconda3/lib/python3.7/site-packages/gensim/models/doc2vec.py:574: UserWarning: The parameter `size` is deprecated, will be removed in 4.0.0, use `vector_size` instead.\n",
      "  warnings.warn(\"The parameter `size` is deprecated, will be removed in 4.0.0, use `vector_size` instead.\")\n"
     ]
    }
   ],
   "source": [
    "compareD2V = gensim.models.doc2vec.Doc2Vec(compareDF['TaggedComments'], size = 100) #Limiting to 100 dimensions"
   ]
  },
  {
   "cell_type": "code",
   "execution_count": 203,
   "metadata": {},
   "outputs": [
    {
     "data": {
      "text/plain": [
       "array([ 0.06345505,  0.03380151, -0.07041699, -0.07037113,  0.06168345,\n",
       "       -0.00249128,  0.04790744,  0.01324176,  0.00185901, -0.01824275,\n",
       "       -0.04845602,  0.05105621, -0.09725534, -0.07962437, -0.03385185,\n",
       "       -0.01096483, -0.01575775, -0.06893611, -0.03763568,  0.05859266,\n",
       "        0.07052027,  0.03561488, -0.02857186, -0.04931678,  0.00961458,\n",
       "       -0.09402613, -0.02736014,  0.02418781, -0.00544616,  0.06507627,\n",
       "       -0.04092212,  0.00482464,  0.00526921, -0.12450793, -0.01394363,\n",
       "        0.08998483,  0.01105493,  0.09287046,  0.05958677,  0.01308354,\n",
       "        0.02578614, -0.02685874, -0.0936076 ,  0.00262473, -0.02077241,\n",
       "        0.09059042, -0.02751847, -0.04443972, -0.02070973,  0.06901935,\n",
       "       -0.04462608, -0.03552155,  0.0174339 ,  0.0065117 ,  0.09850196,\n",
       "       -0.03952331,  0.04559633,  0.10827013,  0.02812115, -0.04980139,\n",
       "       -0.08111618,  0.01769219, -0.05708366, -0.05421334,  0.03777762,\n",
       "        0.00398147, -0.04761179, -0.01348737, -0.08326329, -0.02973253,\n",
       "        0.03836007, -0.03843929,  0.07723775, -0.03387253, -0.11799074,\n",
       "       -0.03058278,  0.0252839 ,  0.0193156 ,  0.10874431, -0.04951108,\n",
       "        0.00840297,  0.01407951,  0.02860199,  0.05649097,  0.02930271,\n",
       "        0.0280874 ,  0.04790691,  0.08155871,  0.03103538,  0.03636712,\n",
       "        0.00064068, -0.03007978,  0.04944015,  0.0132604 ,  0.05775421,\n",
       "       -0.07101676,  0.00816834, -0.05607701,  0.02136409,  0.0562287 ],\n",
       "      dtype=float32)"
      ]
     },
     "execution_count": 203,
     "metadata": {},
     "output_type": "execute_result"
    }
   ],
   "source": [
    "compareD2V['love']"
   ]
  },
  {
   "cell_type": "code",
   "execution_count": 206,
   "metadata": {},
   "outputs": [
    {
     "data": {
      "text/plain": [
       "[('high negative comment', 0.9955999255180359),\n",
       " ('movie', 0.9955859780311584),\n",
       " ('kind', 0.9955754280090332),\n",
       " ('hate', 0.9955718517303467),\n",
       " ('kill', 0.995571494102478)]"
      ]
     },
     "execution_count": 206,
     "metadata": {},
     "output_type": "execute_result"
    }
   ],
   "source": [
    "compareD2V.docvecs.most_similar([compareD2V['country'] ], topn=5)"
   ]
  },
  {
   "cell_type": "code",
   "execution_count": 205,
   "metadata": {},
   "outputs": [
    {
     "data": {
      "text/plain": [
       "[('low negative parent comment', 0.9985969066619873),\n",
       " ('news', 0.9985901713371277),\n",
       " ('kill', 0.9985718131065369),\n",
       " ('movie', 0.9985617995262146),\n",
       " ('hate', 0.9985536932945251)]"
      ]
     },
     "execution_count": 205,
     "metadata": {},
     "output_type": "execute_result"
    }
   ],
   "source": [
    "compareD2V.docvecs.most_similar([compareD2V['love'] ], topn=5)"
   ]
  },
  {
   "cell_type": "markdown",
   "metadata": {},
   "source": [
    "Interestingly, `country` is most similar to high negative comments, and `love` is most similar to low negative parent comment. Let's see words that are most similar to positive and negative comments."
   ]
  },
  {
   "cell_type": "code",
   "execution_count": 207,
   "metadata": {},
   "outputs": [
    {
     "data": {
      "text/plain": [
       "[('george', 0.9974726438522339),\n",
       " ('m', 0.997394859790802),\n",
       " ('got', 0.9972699284553528),\n",
       " ('kill', 0.9971791505813599),\n",
       " ('day', 0.997143030166626)]"
      ]
     },
     "execution_count": 207,
     "metadata": {},
     "output_type": "execute_result"
    }
   ],
   "source": [
    "compareD2V.most_similar([compareD2V.docvecs['high positive comment'] ], topn=5) "
   ]
  },
  {
   "cell_type": "code",
   "execution_count": 208,
   "metadata": {},
   "outputs": [
    {
     "data": {
      "text/plain": [
       "[('bed', 0.9993401765823364),\n",
       " ('like', 0.9992538690567017),\n",
       " ('time', 0.9992341995239258),\n",
       " ('ve', 0.9991830587387085),\n",
       " ('george', 0.9991773366928101)]"
      ]
     },
     "execution_count": 208,
     "metadata": {},
     "output_type": "execute_result"
    }
   ],
   "source": [
    "compareD2V.most_similar([compareD2V.docvecs['low positive comment'] ], topn=5) "
   ]
  },
  {
   "cell_type": "code",
   "execution_count": 209,
   "metadata": {},
   "outputs": [
    {
     "data": {
      "text/plain": [
       "[('people', 0.999403178691864),\n",
       " ('like', 0.9993622899055481),\n",
       " ('time', 0.9993582963943481),\n",
       " ('bed', 0.9993208646774292),\n",
       " ('m', 0.9993140697479248)]"
      ]
     },
     "execution_count": 209,
     "metadata": {},
     "output_type": "execute_result"
    }
   ],
   "source": [
    "compareD2V.most_similar([compareD2V.docvecs['high negative comment'] ], topn=5) "
   ]
  },
  {
   "cell_type": "code",
   "execution_count": 210,
   "metadata": {},
   "outputs": [
    {
     "data": {
      "text/plain": [
       "[('m', 0.9990662336349487),\n",
       " ('george', 0.9990646243095398),\n",
       " ('time', 0.9990450739860535),\n",
       " ('like', 0.9990077614784241),\n",
       " ('ve', 0.9989652633666992)]"
      ]
     },
     "execution_count": 210,
     "metadata": {},
     "output_type": "execute_result"
    }
   ],
   "source": [
    "compareD2V.most_similar([compareD2V.docvecs['low negative comment'] ], topn=5) "
   ]
  },
  {
   "cell_type": "markdown",
   "metadata": {},
   "source": [
    "`george` is everywhere! Interestingly, the top words for both positive and negative comments look pretty similar. Only looking at words that occurs most frequently in the dataset cannot let us know whether they received upvotes or downvotes. Let's see words most similar to the parent comments."
   ]
  },
  {
   "cell_type": "code",
   "execution_count": 211,
   "metadata": {},
   "outputs": [
    {
     "data": {
      "text/plain": [
       "[('time', 0.9992340803146362),\n",
       " ('like', 0.9991881251335144),\n",
       " ('george', 0.9991636872291565),\n",
       " ('people', 0.9990927577018738),\n",
       " ('bed', 0.9990751147270203)]"
      ]
     },
     "execution_count": 211,
     "metadata": {},
     "output_type": "execute_result"
    }
   ],
   "source": [
    "compareD2V.most_similar([compareD2V.docvecs['high positive parent comment'] ], topn=5) "
   ]
  },
  {
   "cell_type": "code",
   "execution_count": 212,
   "metadata": {},
   "outputs": [
    {
     "data": {
      "text/plain": [
       "[('people', 0.9989222288131714),\n",
       " ('george', 0.998883843421936),\n",
       " ('long', 0.998773992061615),\n",
       " ('ve', 0.9987630248069763),\n",
       " ('time', 0.9987512826919556)]"
      ]
     },
     "execution_count": 212,
     "metadata": {},
     "output_type": "execute_result"
    }
   ],
   "source": [
    "compareD2V.most_similar([compareD2V.docvecs['high negative parent comment'] ], topn=5)"
   ]
  },
  {
   "cell_type": "markdown",
   "metadata": {},
   "source": [
    "The results still look pretty similar. These words occur frequently in all types of comments."
   ]
  },
  {
   "cell_type": "code",
   "execution_count": 213,
   "metadata": {},
   "outputs": [],
   "source": [
    "heatmapMatrix = []\n",
    "for tagOuter in keywords:\n",
    "    column = []\n",
    "    tagVec = compareD2V.docvecs[tagOuter].reshape(1, -1)\n",
    "    for tagInner in keywords:\n",
    "        column.append(sklearn.metrics.pairwise.cosine_similarity(tagVec, compareD2V.docvecs[tagInner].reshape(1, -1))[0][0])\n",
    "    heatmapMatrix.append(column)\n",
    "heatmapMatrix = np.array(heatmapMatrix)"
   ]
  },
  {
   "cell_type": "code",
   "execution_count": 214,
   "metadata": {},
   "outputs": [
    {
     "data": {
      "image/png": "[encoded data removed]",
      "text/plain": [
       "<Figure size 432x288 with 2 Axes>"
      ]
     },
     "metadata": {
      "needs_background": "light"
     },
     "output_type": "display_data"
    }
   ],
   "source": [
    "fig, ax = plt.subplots()\n",
    "hmap = ax.pcolor(heatmapMatrix, cmap='terrain')\n",
    "cbar = plt.colorbar(hmap)\n",
    "\n",
    "cbar.set_label('cosine similarity', rotation=270)\n",
    "a = ax.set_xticks(np.arange(heatmapMatrix.shape[1]) + 0.5, minor=False)\n",
    "a = ax.set_yticks(np.arange(heatmapMatrix.shape[0]) + 0.5, minor=False)\n",
    "\n",
    "a = ax.set_xticklabels(keywords, minor=False, rotation=270)\n",
    "a = ax.set_yticklabels(keywords, minor=False)"
   ]
  },
  {
   "cell_type": "markdown",
   "metadata": {},
   "source": [
    "The words are very different from each other, according to the low cosine similarity. `movie`, `love`, and `hate` are relatively similar to each other than to other words."
   ]
  },
  {
   "cell_type": "code",
   "execution_count": 215,
   "metadata": {},
   "outputs": [],
   "source": [
    "targetDocs = compareDF['category'][:7]\n",
    "\n",
    "heatmapMatrixD = []\n",
    "\n",
    "for tagOuter in targetDocs:\n",
    "    column = []\n",
    "    tagVec = compareD2V.docvecs[tagOuter].reshape(1, -1)\n",
    "    for tagInner in targetDocs:\n",
    "        column.append(sklearn.metrics.pairwise.cosine_similarity(tagVec, compareD2V.docvecs[tagInner].reshape(1, -1))[0][0])\n",
    "    heatmapMatrixD.append(column)\n",
    "heatmapMatrixD = np.array(heatmapMatrixD)"
   ]
  },
  {
   "cell_type": "code",
   "execution_count": 216,
   "metadata": {},
   "outputs": [
    {
     "data": {
      "image/png": "[encoded data removed]",
      "text/plain": [
       "<Figure size 432x288 with 2 Axes>"
      ]
     },
     "metadata": {
      "needs_background": "light"
     },
     "output_type": "display_data"
    }
   ],
   "source": [
    "fig, ax = plt.subplots()\n",
    "hmap = ax.pcolor(heatmapMatrixD, cmap='terrain')\n",
    "cbar = plt.colorbar(hmap)\n",
    "\n",
    "cbar.set_label('cosine similarity', rotation=270)\n",
    "a = ax.set_xticks(np.arange(heatmapMatrixD.shape[1]) + 0.5, minor=False)\n",
    "a = ax.set_yticks(np.arange(heatmapMatrixD.shape[0]) + 0.5, minor=False)\n",
    "\n",
    "a = ax.set_xticklabels(targetDocs, minor=False, rotation=270)\n",
    "a = ax.set_yticklabels(targetDocs, minor=False)"
   ]
  },
  {
   "cell_type": "markdown",
   "metadata": {},
   "source": [
    "The high cosine similarity among all documents suggest that the comments are highly similar to each other regardless of their types and sentiment."
   ]
  },
  {
   "cell_type": "code",
   "execution_count": 217,
   "metadata": {},
   "outputs": [],
   "source": [
    "heatmapMatrixC = []\n",
    "\n",
    "for tagOuter in targetDocs:\n",
    "    column = []\n",
    "    tagVec = compareD2V.docvecs[tagOuter].reshape(1, -1)\n",
    "    for tagInner in keywords:\n",
    "        column.append(sklearn.metrics.pairwise.cosine_similarity(tagVec, compareD2V.docvecs[tagInner].reshape(1, -1))[0][0])\n",
    "    heatmapMatrixC.append(column)\n",
    "heatmapMatrixC = np.array(heatmapMatrixC)"
   ]
  },
  {
   "cell_type": "code",
   "execution_count": 218,
   "metadata": {},
   "outputs": [
    {
     "data": {
      "image/png": "[encoded data removed]",
      "text/plain": [
       "<Figure size 432x288 with 2 Axes>"
      ]
     },
     "metadata": {
      "needs_background": "light"
     },
     "output_type": "display_data"
    }
   ],
   "source": [
    "fig, ax = plt.subplots()\n",
    "hmap = ax.pcolor(heatmapMatrixC, cmap='terrain')\n",
    "cbar = plt.colorbar(hmap)\n",
    "\n",
    "cbar.set_label('cosine similarity', rotation=270)\n",
    "a = ax.set_xticks(np.arange(heatmapMatrixC.shape[1]) + 0.5, minor=False)\n",
    "a = ax.set_yticks(np.arange(heatmapMatrixC.shape[0]) + 0.5, minor=False)\n",
    "\n",
    "a = ax.set_xticklabels(keywords, minor=False, rotation=270)\n",
    "a = ax.set_yticklabels(targetDocs, minor=False)"
   ]
  },
  {
   "cell_type": "markdown",
   "metadata": {},
   "source": [
    "Again, all keywords are similar to the documents because they frequently appeared in the comments."
   ]
  },
  {
   "cell_type": "markdown",
   "metadata": {},
   "source": [
    "## <span style=\"color:red\">*Exercise 3*</span>\n",
    "\n",
    "<span style=\"color:red\">Construct cells immediately below this that embed documents related to your final project, then generate meaningful semantic dimensions based on your theoretical understanding of the semantic space (i.e., by subtracting semantically opposite word vectors) and project another set of word vectors onto those dimensions. Interpret the meaning of these projections for your analysis. Which of the dimensions you analyze explain the most variation in the projection of your words and why? \n",
    "\n",
    "<span style=\"color:red\">***Stretch***: Average together multiple antonym pairs to create robust semantic dimensions. How do word projections on these robust dimensions differ from single-pair dimensions?"
   ]
  },
  {
   "cell_type": "code",
   "execution_count": 172,
   "metadata": {},
   "outputs": [
    {
     "data": {
      "text/plain": [
       "array([[-0.19478531, -0.38704777, -0.5084937 , ...,  0.33377197,\n",
       "         0.18364523,  0.6757389 ],\n",
       "       [-0.1316349 , -0.25548887, -0.3405636 , ...,  0.22176443,\n",
       "         0.12266283,  0.44725817],\n",
       "       [-0.17136243, -0.32709166, -0.4385494 , ...,  0.2831357 ,\n",
       "         0.15538658,  0.58065164],\n",
       "       ...,\n",
       "       [-0.03085908, -0.06499675, -0.09155098, ...,  0.06243924,\n",
       "         0.03322316,  0.12084026],\n",
       "       [-0.07798249, -0.15658124, -0.2098592 , ...,  0.13113749,\n",
       "         0.07713323,  0.27516827],\n",
       "       [-0.02824104, -0.0520186 , -0.06444854, ...,  0.04085519,\n",
       "         0.02889569,  0.09148625]], dtype=float32)"
      ]
     },
     "execution_count": 172,
     "metadata": {},
     "output_type": "execute_result"
    }
   ],
   "source": [
    "#words to create dimensions\n",
    "TargetWords = ['man', 'woman', 'black', 'white', 'rich', 'expensive', 'poor', 'cheap']\n",
    "#words we will be mapping\n",
    "TargetWords += ['country', 'america', 'government', 'policy', 'war', 'peace']\n",
    "\n",
    "wordsSubMatrix = []\n",
    "for word in TargetWords:\n",
    "    wordsSubMatrix.append(commentsW2V[word])\n",
    "wordsSubMatrix = np.array(wordsSubMatrix)\n",
    "wordsSubMatrix"
   ]
  },
  {
   "cell_type": "code",
   "execution_count": 174,
   "metadata": {},
   "outputs": [],
   "source": [
    "pcaWordsCom = sklearn.decomposition.PCA(n_components = 10).fit(wordsSubMatrix)\n",
    "reducedPCA_dataCom = pcaWordsCom.transform(wordsSubMatrix)\n",
    "#T-SNE\n",
    "tsneWordsCom = sklearn.manifold.TSNE(n_components = 2).fit_transform(reducedPCA_dataCom)"
   ]
  },
  {
   "cell_type": "code",
   "execution_count": 175,
   "metadata": {},
   "outputs": [
    {
     "data": {
      "image/png": "[encoded data removed]",
      "text/plain": [
       "<Figure size 1440x864 with 1 Axes>"
      ]
     },
     "metadata": {},
     "output_type": "display_data"
    }
   ],
   "source": [
    "fig = plt.figure(figsize = (20,12))\n",
    "ax = fig.add_subplot(111)\n",
    "ax.set_frame_on(False)\n",
    "plt.scatter(tsneWordsCom[:, 0], tsneWordsCom[:, 1], alpha = 0) #Making the points invisible\n",
    "for i, word in enumerate(TargetWords):\n",
    "    ax.annotate(word, (tsneWordsCom[:, 0][i],tsneWordsCom[:, 1][i]), size =  50 * (len(TargetWords) - i) / len(TargetWords))\n",
    "plt.xticks(())\n",
    "plt.yticks(())\n",
    "plt.show()"
   ]
  },
  {
   "cell_type": "markdown",
   "metadata": {},
   "source": [
    "The projection of word vectors to an arbitrary semantic dimension does not work well on our dataset, possibly due to small number of features."
   ]
  },
  {
   "cell_type": "code",
   "execution_count": 176,
   "metadata": {},
   "outputs": [],
   "source": [
    "def normalize(vector):\n",
    "    normalized_vector = vector / np.linalg.norm(vector)\n",
    "    return normalized_vector\n",
    "\n",
    "def dimension(model, positives, negatives):\n",
    "    diff = sum([normalize(model[x]) for x in positives]) - sum([normalize(model[y]) for y in negatives])\n",
    "    return diff"
   ]
  },
  {
   "cell_type": "code",
   "execution_count": 177,
   "metadata": {},
   "outputs": [],
   "source": [
    "Gender = dimension(commentsW2V, ['man'], ['woman'])\n",
    "Race = dimension(commentsW2V, ['black'], ['white'])\n",
    "Class = dimension(commentsW2V, ['rich', 'expensive'], ['poor', 'cheap'])"
   ]
  },
  {
   "cell_type": "code",
   "execution_count": 184,
   "metadata": {},
   "outputs": [],
   "source": [
    "Government = ['country', 'america', 'government', 'policy', 'war', 'peace']\n",
    "Emotions = ['love', 'like', 'want', 'kind', 'hate', 'dislike', 'emotional']"
   ]
  },
  {
   "cell_type": "code",
   "execution_count": 185,
   "metadata": {},
   "outputs": [],
   "source": [
    "def makeDF(model, word_list):\n",
    "    g = []\n",
    "    r = []\n",
    "    c = []\n",
    "    for word in word_list:\n",
    "        g.append(sklearn.metrics.pairwise.cosine_similarity(commentsW2V[word].reshape(1,-1), Gender.reshape(1,-1))[0][0])\n",
    "        r.append(sklearn.metrics.pairwise.cosine_similarity(commentsW2V[word].reshape(1,-1), Race.reshape(1,-1))[0][0])\n",
    "        c.append(sklearn.metrics.pairwise.cosine_similarity(commentsW2V[word].reshape(1,-1), Class.reshape(1,-1))[0][0])\n",
    "    df = pandas.DataFrame({'gender': g, 'race': r, 'class': c}, index = word_list)\n",
    "    return df"
   ]
  },
  {
   "cell_type": "code",
   "execution_count": 186,
   "metadata": {},
   "outputs": [],
   "source": [
    "Govdf = makeDF(commentsW2V, Government) \n",
    "Emodf = makeDF(commentsW2V, Emotions)"
   ]
  },
  {
   "cell_type": "code",
   "execution_count": 187,
   "metadata": {},
   "outputs": [],
   "source": [
    "def Coloring(Series):\n",
    "    x = Series.values\n",
    "    y = x-x.min()\n",
    "    z = y/y.max()\n",
    "    c = list(plt.cm.rainbow(z))\n",
    "    return c\n",
    "\n",
    "def PlotDimension(ax,df, dim):\n",
    "    ax.set_frame_on(False)\n",
    "    ax.set_title(dim, fontsize = 20)\n",
    "    colors = Coloring(df[dim])\n",
    "    for i, word in enumerate(df.index):\n",
    "        ax.annotate(word, (0, df[dim][i]), color = colors[i], alpha = 0.6, fontsize = 12)\n",
    "    MaxY = df[dim].max()\n",
    "    MinY = df[dim].min()\n",
    "    plt.ylim(MinY,MaxY)\n",
    "    plt.yticks(())\n",
    "    plt.xticks(())"
   ]
  },
  {
   "cell_type": "code",
   "execution_count": 188,
   "metadata": {},
   "outputs": [
    {
     "data": {
      "image/png": "[encoded data removed]",
      "text/plain": [
       "<Figure size 864x288 with 3 Axes>"
      ]
     },
     "metadata": {},
     "output_type": "display_data"
    }
   ],
   "source": [
    "fig = plt.figure(figsize = (12,4))\n",
    "ax1 = fig.add_subplot(131)\n",
    "PlotDimension(ax1, Govdf, 'gender')\n",
    "ax2 = fig.add_subplot(132)\n",
    "PlotDimension(ax2, Govdf, 'race')\n",
    "ax3 = fig.add_subplot(133)\n",
    "PlotDimension(ax3, Govdf, 'class')\n",
    "plt.show()"
   ]
  },
  {
   "cell_type": "code",
   "execution_count": 189,
   "metadata": {},
   "outputs": [
    {
     "data": {
      "image/png": "[encoded data removed]",
      "text/plain": [
       "<Figure size 864x288 with 3 Axes>"
      ]
     },
     "metadata": {},
     "output_type": "display_data"
    }
   ],
   "source": [
    "fig = plt.figure(figsize = (12,4))\n",
    "ax1 = fig.add_subplot(131)\n",
    "PlotDimension(ax1, Emodf, 'gender')\n",
    "ax2 = fig.add_subplot(132)\n",
    "PlotDimension(ax2, Emodf, 'race')\n",
    "ax3 = fig.add_subplot(133)\n",
    "PlotDimension(ax3, Emodf, 'class')\n",
    "plt.show()"
   ]
  },
  {
   "cell_type": "markdown",
   "metadata": {},
   "source": [
    "In words related to government, `policy` and `peace` stayed high in all dimensions, suggesting high cosine similarity. Gender is prevalent in `america`, and `war` is highly related to Class. These all makes sense in the context. In words related to emotions, interestingly, `dislike` is most similar to Race. Since we used the model we trained in Exercise 1, these are comments that received the highest upvotes, which makes it even more interestingly. `kind`, `like`, `love`, and `want` are all high in dimensions Gender and Class, suggesting quite positive sentiment in the two classes. As we can see in the projection of word vectors above, policy is high with all three dimensions: Gender, Race, and Class. The other words are closer to their own related dimension. Race explains the most variation in the projection of words."
   ]
  },
  {
   "cell_type": "markdown",
   "metadata": {},
   "source": [
    "## <span style=\"color:red\">*Exercise 4a*</span>\n",
    "\n",
    "<span style=\"color:red\">**Do only 4a or 4b.** Construct cells immediately below this that calculate the scores for a small sample of documents from outside your corpus to identify which are *closest* to your corpus. Then calculate the scores for a few phrases or sentences to identify the ones most likely to have appeared in your corpus. Interrogate patterns associated with these document/phrase scores (e.g., which companies produced job ads most or least likely to find jobseekers in the resume corpus?) What do these patterns suggest about the boundaries of your corpus?"
   ]
  },
  {
   "cell_type": "markdown",
   "metadata": {},
   "source": [
    "We uses the word2vec model constructed for comment and calculated the scores on parent comment."
   ]
  },
  {
   "cell_type": "code",
   "execution_count": 219,
   "metadata": {},
   "outputs": [],
   "source": [
    "com_vocab = commentsW2V.wv.index2word"
   ]
  },
  {
   "cell_type": "code",
   "execution_count": 220,
   "metadata": {},
   "outputs": [],
   "source": [
    "def adprob(ad, model):\n",
    "    com_scores = model.score(ad, len(ad))\n",
    "    ad_score = com_scores.mean()\n",
    "    return ad_score"
   ]
  },
  {
   "cell_type": "code",
   "execution_count": 221,
   "metadata": {},
   "outputs": [],
   "source": [
    "tempW2V = gensim.models.word2vec.Word2Vec(commentsDF['normalized_com'].sum(), hs=1, negative=0)"
   ]
  },
  {
   "cell_type": "code",
   "execution_count": 222,
   "metadata": {},
   "outputs": [
    {
     "data": {
      "text/html": [
       "<div>\n",
       "<style scoped>\n",
       "    .dataframe tbody tr th:only-of-type {\n",
       "        vertical-align: middle;\n",
       "    }\n",
       "\n",
       "    .dataframe tbody tr th {\n",
       "        vertical-align: top;\n",
       "    }\n",
       "\n",
       "    .dataframe thead th {\n",
       "        text-align: right;\n",
       "    }\n",
       "</style>\n",
       "<table border=\"1\" class=\"dataframe\">\n",
       "  <thead>\n",
       "    <tr style=\"text-align: right;\">\n",
       "      <th></th>\n",
       "      <th>id</th>\n",
       "      <th>parent_id</th>\n",
       "      <th>subreddit_id</th>\n",
       "      <th>link_id</th>\n",
       "      <th>text</th>\n",
       "      <th>score</th>\n",
       "      <th>ups</th>\n",
       "      <th>author</th>\n",
       "      <th>controversiality</th>\n",
       "      <th>parent_link_id</th>\n",
       "      <th>...</th>\n",
       "      <th>parent_score</th>\n",
       "      <th>parent_ups</th>\n",
       "      <th>parent_author</th>\n",
       "      <th>parent_controversiality</th>\n",
       "      <th>tokenized_com</th>\n",
       "      <th>normalized_com</th>\n",
       "      <th>tokenized_par</th>\n",
       "      <th>normalized_par</th>\n",
       "      <th>com_likelihood</th>\n",
       "      <th>par_likelihood</th>\n",
       "    </tr>\n",
       "  </thead>\n",
       "  <tbody>\n",
       "    <tr>\n",
       "      <th>0</th>\n",
       "      <td>c092j8m</td>\n",
       "      <td>t1_c092gss</td>\n",
       "      <td>t5_2qh2p</td>\n",
       "      <td>t3_8eyy3</td>\n",
       "      <td>This isn't Twitter: try to comment on the arti...</td>\n",
       "      <td>9582</td>\n",
       "      <td>9582</td>\n",
       "      <td>nraustinii</td>\n",
       "      <td>0</td>\n",
       "      <td>t3_8eyy3</td>\n",
       "      <td>...</td>\n",
       "      <td>-7526</td>\n",
       "      <td>-7526</td>\n",
       "      <td>Glorificus</td>\n",
       "      <td>0</td>\n",
       "      <td>[[This, is, n't, Twitter, try, to, comment, on...</td>\n",
       "      <td>[[twitter, try, comment, article, current, act...</td>\n",
       "      <td>[[Fucking, faggot]]</td>\n",
       "      <td>[[fucking, faggot]]</td>\n",
       "      <td>-37.875248</td>\n",
       "      <td>-5.641754</td>\n",
       "    </tr>\n",
       "    <tr>\n",
       "      <th>1</th>\n",
       "      <td>c4imcva</td>\n",
       "      <td>t1_c4im948</td>\n",
       "      <td>t5_2qh1i</td>\n",
       "      <td>t3_t0ynr</td>\n",
       "      <td>Well, it is exactly what it sounds like. It's ...</td>\n",
       "      <td>9531</td>\n",
       "      <td>9531</td>\n",
       "      <td>Lynfect</td>\n",
       "      <td>0</td>\n",
       "      <td>t3_t0ynr</td>\n",
       "      <td>...</td>\n",
       "      <td>3841</td>\n",
       "      <td>3841</td>\n",
       "      <td>eeeeevil</td>\n",
       "      <td>0</td>\n",
       "      <td>[[Well, it, is, exactly, what, it, sounds, lik...</td>\n",
       "      <td>[[exactly, sounds, like], [shoebox, masturbate...</td>\n",
       "      <td>[[Elaborate, on, this, cum, box, please]]</td>\n",
       "      <td>[[elaborate, cum, box]]</td>\n",
       "      <td>-22.978479</td>\n",
       "      <td>-14.445838</td>\n",
       "    </tr>\n",
       "    <tr>\n",
       "      <th>2</th>\n",
       "      <td>c0s4nfi</td>\n",
       "      <td>t1_c0s4lje</td>\n",
       "      <td>t5_2qh1i</td>\n",
       "      <td>t3_cf1n2</td>\n",
       "      <td>In soviet Russia, bomb disarms you!</td>\n",
       "      <td>8545</td>\n",
       "      <td>8545</td>\n",
       "      <td>CapnScumbone</td>\n",
       "      <td>0</td>\n",
       "      <td>t3_cf1n2</td>\n",
       "      <td>...</td>\n",
       "      <td>621</td>\n",
       "      <td>621</td>\n",
       "      <td>shady8x</td>\n",
       "      <td>0</td>\n",
       "      <td>[[In, soviet, Russia, bomb, disarms, you]]</td>\n",
       "      <td>[[soviet, russia, bomb, disarms]]</td>\n",
       "      <td>[[I, do, n't, live, in, Russia, anymore, and, ...</td>\n",
       "      <td>[[live, russia, anymore, going, time, soon], [...</td>\n",
       "      <td>-9.167850</td>\n",
       "      <td>-31.071903</td>\n",
       "    </tr>\n",
       "    <tr>\n",
       "      <th>3</th>\n",
       "      <td>c4ini33</td>\n",
       "      <td>t1_c4incln</td>\n",
       "      <td>t5_2qh1i</td>\n",
       "      <td>t3_t0ynr</td>\n",
       "      <td>\"runin for senitur! #YOLO!\"</td>\n",
       "      <td>7430</td>\n",
       "      <td>7430</td>\n",
       "      <td>[deleted]</td>\n",
       "      <td>0</td>\n",
       "      <td>t3_t0ynr</td>\n",
       "      <td>...</td>\n",
       "      <td>4651</td>\n",
       "      <td>4651</td>\n",
       "      <td>drspg99</td>\n",
       "      <td>0</td>\n",
       "      <td>[[runin, for, senitur], [YOLO]]</td>\n",
       "      <td>[[runin, senitur], [yolo]]</td>\n",
       "      <td>[[This, just, made, me, realize, that, future,...</td>\n",
       "      <td>[[realize, future, presidents, probably, faceb...</td>\n",
       "      <td>0.000000</td>\n",
       "      <td>-45.148430</td>\n",
       "    </tr>\n",
       "    <tr>\n",
       "      <th>4</th>\n",
       "      <td>c4imgel</td>\n",
       "      <td>t1_c4ima2e</td>\n",
       "      <td>t5_2qh1i</td>\n",
       "      <td>t3_t0ynr</td>\n",
       "      <td>You step motherfucker.</td>\n",
       "      <td>7173</td>\n",
       "      <td>7173</td>\n",
       "      <td>jbg89</td>\n",
       "      <td>0</td>\n",
       "      <td>t3_t0ynr</td>\n",
       "      <td>...</td>\n",
       "      <td>4251</td>\n",
       "      <td>4251</td>\n",
       "      <td>audir8</td>\n",
       "      <td>0</td>\n",
       "      <td>[[You, step, motherfucker]]</td>\n",
       "      <td>[[step, motherfucker]]</td>\n",
       "      <td>[[I, have, sex, with, my, step, mom, when, my,...</td>\n",
       "      <td>[[sex, step, mom, dad], [m, junior, high, scho...</td>\n",
       "      <td>-16.644398</td>\n",
       "      <td>-34.615280</td>\n",
       "    </tr>\n",
       "  </tbody>\n",
       "</table>\n",
       "<p>5 rows × 21 columns</p>\n",
       "</div>"
      ],
      "text/plain": [
       "        id   parent_id subreddit_id   link_id  \\\n",
       "0  c092j8m  t1_c092gss     t5_2qh2p  t3_8eyy3   \n",
       "1  c4imcva  t1_c4im948     t5_2qh1i  t3_t0ynr   \n",
       "2  c0s4nfi  t1_c0s4lje     t5_2qh1i  t3_cf1n2   \n",
       "3  c4ini33  t1_c4incln     t5_2qh1i  t3_t0ynr   \n",
       "4  c4imgel  t1_c4ima2e     t5_2qh1i  t3_t0ynr   \n",
       "\n",
       "                                                text  score   ups  \\\n",
       "0  This isn't Twitter: try to comment on the arti...   9582  9582   \n",
       "1  Well, it is exactly what it sounds like. It's ...   9531  9531   \n",
       "2                In soviet Russia, bomb disarms you!   8545  8545   \n",
       "3                        \"runin for senitur! #YOLO!\"   7430  7430   \n",
       "4                             You step motherfucker.   7173  7173   \n",
       "\n",
       "         author  controversiality parent_link_id  ... parent_score  \\\n",
       "0    nraustinii                 0       t3_8eyy3  ...        -7526   \n",
       "1       Lynfect                 0       t3_t0ynr  ...         3841   \n",
       "2  CapnScumbone                 0       t3_cf1n2  ...          621   \n",
       "3     [deleted]                 0       t3_t0ynr  ...         4651   \n",
       "4         jbg89                 0       t3_t0ynr  ...         4251   \n",
       "\n",
       "   parent_ups  parent_author parent_controversiality  \\\n",
       "0       -7526     Glorificus                       0   \n",
       "1        3841       eeeeevil                       0   \n",
       "2         621        shady8x                       0   \n",
       "3        4651        drspg99                       0   \n",
       "4        4251         audir8                       0   \n",
       "\n",
       "                                       tokenized_com  \\\n",
       "0  [[This, is, n't, Twitter, try, to, comment, on...   \n",
       "1  [[Well, it, is, exactly, what, it, sounds, lik...   \n",
       "2         [[In, soviet, Russia, bomb, disarms, you]]   \n",
       "3                    [[runin, for, senitur], [YOLO]]   \n",
       "4                        [[You, step, motherfucker]]   \n",
       "\n",
       "                                      normalized_com  \\\n",
       "0  [[twitter, try, comment, article, current, act...   \n",
       "1  [[exactly, sounds, like], [shoebox, masturbate...   \n",
       "2                  [[soviet, russia, bomb, disarms]]   \n",
       "3                         [[runin, senitur], [yolo]]   \n",
       "4                             [[step, motherfucker]]   \n",
       "\n",
       "                                       tokenized_par  \\\n",
       "0                                [[Fucking, faggot]]   \n",
       "1          [[Elaborate, on, this, cum, box, please]]   \n",
       "2  [[I, do, n't, live, in, Russia, anymore, and, ...   \n",
       "3  [[This, just, made, me, realize, that, future,...   \n",
       "4  [[I, have, sex, with, my, step, mom, when, my,...   \n",
       "\n",
       "                                      normalized_par com_likelihood  \\\n",
       "0                                [[fucking, faggot]]     -37.875248   \n",
       "1                            [[elaborate, cum, box]]     -22.978479   \n",
       "2  [[live, russia, anymore, going, time, soon], [...      -9.167850   \n",
       "3  [[realize, future, presidents, probably, faceb...       0.000000   \n",
       "4  [[sex, step, mom, dad], [m, junior, high, scho...     -16.644398   \n",
       "\n",
       "   par_likelihood  \n",
       "0       -5.641754  \n",
       "1      -14.445838  \n",
       "2      -31.071903  \n",
       "3      -45.148430  \n",
       "4      -34.615280  \n",
       "\n",
       "[5 rows x 21 columns]"
      ]
     },
     "execution_count": 222,
     "metadata": {},
     "output_type": "execute_result"
    }
   ],
   "source": [
    "commentsDF['par_likelihood'] = commentsDF['normalized_par'].apply(lambda x: adprob(x, tempW2V))\n",
    "commentsDF.head()"
   ]
  },
  {
   "cell_type": "code",
   "execution_count": 224,
   "metadata": {},
   "outputs": [
    {
     "name": "stdout",
     "output_type": "stream",
     "text": [
      "That's with roaches.\n",
      "\n",
      "\n",
      "Are you still up!?!?!?!\n",
      "\n",
      "\n",
      "Aaaaaaaaaaaaaand f*ck you.\n",
      "\n",
      "\n",
      "Seven \n",
      "\n",
      "\n",
      "\"The bell does not dismiss you, I DO!\" \n",
      "\n",
      "\n",
      "\n",
      "\n"
     ]
    }
   ],
   "source": [
    "for ad in commentsDF.sort_values(by = 'par_likelihood', ascending = False)['parent_text'][:5]:\n",
    "    print (ad + '\\n\\n')"
   ]
  },
  {
   "cell_type": "code",
   "execution_count": 226,
   "metadata": {},
   "outputs": [
    {
     "name": "stdout",
     "output_type": "stream",
     "text": [
      "I think people forget that 5-10 years ago, he gave a lot of interviews where he half-jokingly said that since he had kids, he a) only wanted to make lighter movies he could watch with them, and b) was going to start taking roles just for the money, because life is short and movies don't matter as much as spending time in comfort with your children. \n",
      "\n",
      "People took that as a joke, but in retrospect I think it's time to maybe consider that he was being completely open and honest in that moment, and now we're seeing the product of someone who gets $20 Million even for the worst films he does and really doesn't give a fuck about acting legacy. \n",
      "\n",
      "\n",
      "There is a rumor in the movie industry that in the opening sequence of \"Apocalypse Now\", the scene where you were drunk and punched the mirror, you were actually drunk and crying legitimately, and that you did not want that footage shown in the film, is this true?\n",
      "\n",
      "\n",
      "\"The money you save buying bad food will later be spent on hospital bills\"\n",
      "\n",
      "-Serbian dude in a grocery store when my family first came to America\n",
      "\n",
      "\n",
      "A green man changing into aliens who can shoot things out of his mouth and throw up and the throw up can turn into guns and start shooting people.\n",
      "\n",
      "\n",
      "What if we got everyone to elect a second police chief and build a new police department, and then let both entities fight for superiority throughout the city as they try to arrest the other for impersonating a police officer.\n",
      "\n",
      "\n"
     ]
    }
   ],
   "source": [
    "for ad in commentsDF.sort_values(by = 'par_likelihood', ascending = True)['parent_text'][:5]:\n",
    "    print (ad + '\\n\\n')"
   ]
  },
  {
   "cell_type": "markdown",
   "metadata": {},
   "source": [
    "Since we used comment model to generate the likelihood of the parent text to appear in our dataset, we will focus on \n",
    "the top 5 parent text that are most likely to occur and the top 5 that are least likely to occur. There are some clear patterns in our finding. The text that are most likely to have appeared in our dataset are usually very short and express very strong emotions. Instead, the text that are least likely to appear in our dataset are usually long, which may not be a favorable characteristics in online community. Also, they mostly consist of statements/opinions and are narrative. These results indicate that the text that are most likely to receive upvotes are often short and emotional."
   ]
  },
  {
   "cell_type": "code",
   "execution_count": null,
   "metadata": {},
   "outputs": [],
   "source": []
  }
 ],
 "metadata": {
  "kernelspec": {
   "display_name": "Python 3",
   "language": "python",
   "name": "python3"
  },
  "language_info": {
   "codemirror_mode": {
    "name": "ipython",
    "version": 3
   },
   "file_extension": ".py",
   "mimetype": "text/x-python",
   "name": "python",
   "nbconvert_exporter": "python",
   "pygments_lexer": "ipython3",
   "version": "3.7.3"
  }
 },
 "nbformat": 4,
 "nbformat_minor": 2
}
