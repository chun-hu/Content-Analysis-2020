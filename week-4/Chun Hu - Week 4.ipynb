{
 "cells": [
  {
   "cell_type": "code",
   "execution_count": 1,
   "metadata": {},
   "outputs": [],
   "source": [
    "#Special module written for this class\n",
    "#This provides access to data and to helper functions from previous weeks\n",
    "import lucem_illud_2020 #pip install git+git://github.com/Computational-Content-Analysis-2020/lucem_illud_2020.git\n",
    "\n",
    "#All these packages need to be installed from pip\n",
    "import requests #for http requests\n",
    "import pandas #gives us DataFrames\n",
    "import matplotlib.pyplot as plt #For graphics\n",
    "import wordcloud #Makes word clouds\n",
    "import numpy as np #For divergences/distances\n",
    "import scipy #For divergences/distances\n",
    "import seaborn as sns #makes our plots look nicer\n",
    "import sklearn.manifold #For a manifold plot\n",
    "import json #For API responses\n",
    "import urllib.parse #For joining urls\n",
    "\n",
    "# comp-linguistics\n",
    "import spacy\n",
    "\n",
    "#Displays the graphs\n",
    "import graphviz #You also need to install the command line graphviz\n",
    "\n",
    "#These are from the standard library\n",
    "import os.path\n",
    "import zipfile\n",
    "import subprocess\n",
    "import io\n",
    "import tempfile\n",
    "\n",
    "#This 'magic' command makes the plots work better\n",
    "#in the notebook, don't use it outside of a notebook\n",
    "%matplotlib inline"
   ]
  },
  {
   "cell_type": "markdown",
   "metadata": {},
   "source": [
    "## <span style=\"color:red\">*Exercise 1*</span>\n",
    "\n",
    "<span style=\"color:red\">Construct cells immediately below this that input and interrogate a corpus relating to your anticipated final project. This could include one of the Davies corpora or some other you have constructed. Turn your text into an nltk `Text` object, and explore all of the features examined above, and others that relate to better understanding your corpus in relation to your research question. </span>"
   ]
  },
  {
   "cell_type": "code",
   "execution_count": 2,
   "metadata": {},
   "outputs": [
    {
     "data": {
      "text/html": [
       "<div>\n",
       "<style scoped>\n",
       "    .dataframe tbody tr th:only-of-type {\n",
       "        vertical-align: middle;\n",
       "    }\n",
       "\n",
       "    .dataframe tbody tr th {\n",
       "        vertical-align: top;\n",
       "    }\n",
       "\n",
       "    .dataframe thead th {\n",
       "        text-align: right;\n",
       "    }\n",
       "</style>\n",
       "<table border=\"1\" class=\"dataframe\">\n",
       "  <thead>\n",
       "    <tr style=\"text-align: right;\">\n",
       "      <th></th>\n",
       "      <th>id</th>\n",
       "      <th>parent_id</th>\n",
       "      <th>subreddit_id</th>\n",
       "      <th>link_id</th>\n",
       "      <th>text</th>\n",
       "      <th>score</th>\n",
       "      <th>ups</th>\n",
       "      <th>author</th>\n",
       "      <th>controversiality</th>\n",
       "      <th>parent_link_id</th>\n",
       "      <th>parent_text</th>\n",
       "      <th>parent_score</th>\n",
       "      <th>parent_ups</th>\n",
       "      <th>parent_author</th>\n",
       "      <th>parent_controversiality</th>\n",
       "    </tr>\n",
       "  </thead>\n",
       "  <tbody>\n",
       "    <tr>\n",
       "      <th>0</th>\n",
       "      <td>c092j8m</td>\n",
       "      <td>t1_c092gss</td>\n",
       "      <td>t5_2qh2p</td>\n",
       "      <td>t3_8eyy3</td>\n",
       "      <td>This isn't Twitter: try to comment on the arti...</td>\n",
       "      <td>9582</td>\n",
       "      <td>9582</td>\n",
       "      <td>nraustinii</td>\n",
       "      <td>0</td>\n",
       "      <td>t3_8eyy3</td>\n",
       "      <td>Fucking faggot.</td>\n",
       "      <td>-7526</td>\n",
       "      <td>-7526</td>\n",
       "      <td>Glorificus</td>\n",
       "      <td>0</td>\n",
       "    </tr>\n",
       "    <tr>\n",
       "      <th>1</th>\n",
       "      <td>c4imcva</td>\n",
       "      <td>t1_c4im948</td>\n",
       "      <td>t5_2qh1i</td>\n",
       "      <td>t3_t0ynr</td>\n",
       "      <td>Well, it is exactly what it sounds like. It's ...</td>\n",
       "      <td>9531</td>\n",
       "      <td>9531</td>\n",
       "      <td>Lynfect</td>\n",
       "      <td>0</td>\n",
       "      <td>t3_t0ynr</td>\n",
       "      <td>Elaborate on this cum box, please.</td>\n",
       "      <td>3841</td>\n",
       "      <td>3841</td>\n",
       "      <td>eeeeevil</td>\n",
       "      <td>0</td>\n",
       "    </tr>\n",
       "    <tr>\n",
       "      <th>2</th>\n",
       "      <td>c0s4nfi</td>\n",
       "      <td>t1_c0s4lje</td>\n",
       "      <td>t5_2qh1i</td>\n",
       "      <td>t3_cf1n2</td>\n",
       "      <td>In soviet Russia, bomb disarms you!</td>\n",
       "      <td>8545</td>\n",
       "      <td>8545</td>\n",
       "      <td>CapnScumbone</td>\n",
       "      <td>0</td>\n",
       "      <td>t3_cf1n2</td>\n",
       "      <td>I don't live in Russia anymore, and I will not...</td>\n",
       "      <td>621</td>\n",
       "      <td>621</td>\n",
       "      <td>shady8x</td>\n",
       "      <td>0</td>\n",
       "    </tr>\n",
       "    <tr>\n",
       "      <th>3</th>\n",
       "      <td>c4ini33</td>\n",
       "      <td>t1_c4incln</td>\n",
       "      <td>t5_2qh1i</td>\n",
       "      <td>t3_t0ynr</td>\n",
       "      <td>\"runin for senitur! #YOLO!\"</td>\n",
       "      <td>7430</td>\n",
       "      <td>7430</td>\n",
       "      <td>[deleted]</td>\n",
       "      <td>0</td>\n",
       "      <td>t3_t0ynr</td>\n",
       "      <td>This just made me realize that future presiden...</td>\n",
       "      <td>4651</td>\n",
       "      <td>4651</td>\n",
       "      <td>drspg99</td>\n",
       "      <td>0</td>\n",
       "    </tr>\n",
       "    <tr>\n",
       "      <th>4</th>\n",
       "      <td>c4imgel</td>\n",
       "      <td>t1_c4ima2e</td>\n",
       "      <td>t5_2qh1i</td>\n",
       "      <td>t3_t0ynr</td>\n",
       "      <td>You step motherfucker.</td>\n",
       "      <td>7173</td>\n",
       "      <td>7173</td>\n",
       "      <td>jbg89</td>\n",
       "      <td>0</td>\n",
       "      <td>t3_t0ynr</td>\n",
       "      <td>I have sex with my step mom when my dad isn't ...</td>\n",
       "      <td>4251</td>\n",
       "      <td>4251</td>\n",
       "      <td>audir8</td>\n",
       "      <td>0</td>\n",
       "    </tr>\n",
       "  </tbody>\n",
       "</table>\n",
       "</div>"
      ],
      "text/plain": [
       "        id   parent_id subreddit_id   link_id  \\\n",
       "0  c092j8m  t1_c092gss     t5_2qh2p  t3_8eyy3   \n",
       "1  c4imcva  t1_c4im948     t5_2qh1i  t3_t0ynr   \n",
       "2  c0s4nfi  t1_c0s4lje     t5_2qh1i  t3_cf1n2   \n",
       "3  c4ini33  t1_c4incln     t5_2qh1i  t3_t0ynr   \n",
       "4  c4imgel  t1_c4ima2e     t5_2qh1i  t3_t0ynr   \n",
       "\n",
       "                                                text  score   ups  \\\n",
       "0  This isn't Twitter: try to comment on the arti...   9582  9582   \n",
       "1  Well, it is exactly what it sounds like. It's ...   9531  9531   \n",
       "2                In soviet Russia, bomb disarms you!   8545  8545   \n",
       "3                        \"runin for senitur! #YOLO!\"   7430  7430   \n",
       "4                             You step motherfucker.   7173  7173   \n",
       "\n",
       "         author  controversiality parent_link_id  \\\n",
       "0    nraustinii                 0       t3_8eyy3   \n",
       "1       Lynfect                 0       t3_t0ynr   \n",
       "2  CapnScumbone                 0       t3_cf1n2   \n",
       "3     [deleted]                 0       t3_t0ynr   \n",
       "4         jbg89                 0       t3_t0ynr   \n",
       "\n",
       "                                         parent_text  parent_score  \\\n",
       "0                                    Fucking faggot.         -7526   \n",
       "1                 Elaborate on this cum box, please.          3841   \n",
       "2  I don't live in Russia anymore, and I will not...           621   \n",
       "3  This just made me realize that future presiden...          4651   \n",
       "4  I have sex with my step mom when my dad isn't ...          4251   \n",
       "\n",
       "   parent_ups parent_author  parent_controversiality  \n",
       "0       -7526    Glorificus                        0  \n",
       "1        3841      eeeeevil                        0  \n",
       "2         621       shady8x                        0  \n",
       "3        4651       drspg99                        0  \n",
       "4        4251        audir8                        0  "
      ]
     },
     "execution_count": 2,
     "metadata": {},
     "output_type": "execute_result"
    }
   ],
   "source": [
    "# The dataset includes 2 million rows of comments that obtained the highest upvotes and scores in Reddit community.\n",
    "df = pandas.read_csv(\"/Users/reneehu/Desktop/Content-Analysis-2020/week-4/comments_positive.csv\")\n",
    "\n",
    "# Using the entire dataset can be computationally heavy. In this assignment, I'll only apply the nltk methods \n",
    "# to the first 5000 rows.\n",
    "small_df = df[:5000]\n",
    "small_df.head()"
   ]
  },
  {
   "cell_type": "code",
   "execution_count": 5,
   "metadata": {},
   "outputs": [],
   "source": [
    "nlp = spacy.load(\"en\")\n",
    "def word_tokenize(word_list):\n",
    "    tokenized = []\n",
    "    # pass word list through language model.\n",
    "    doc = nlp(word_list)\n",
    "    for token in doc:\n",
    "        if not token.is_punct and len(token.text.strip()) > 0:\n",
    "            tokenized.append(token.text)\n",
    "    return tokenized"
   ]
  },
  {
   "cell_type": "code",
   "execution_count": 6,
   "metadata": {},
   "outputs": [],
   "source": [
    "df_tokens = []\n",
    "for i in small_df['text']:\n",
    "    tokens = word_tokenize(i)\n",
    "    df_tokens += tokens"
   ]
  },
  {
   "cell_type": "code",
   "execution_count": 7,
   "metadata": {},
   "outputs": [
    {
     "data": {
      "text/plain": [
       "['and',\n",
       " 'not',\n",
       " 'your',\n",
       " 'current',\n",
       " 'activities',\n",
       " 'Well',\n",
       " 'it',\n",
       " 'is',\n",
       " 'exactly',\n",
       " 'what']"
      ]
     },
     "execution_count": 7,
     "metadata": {},
     "output_type": "execute_result"
    }
   ],
   "source": [
    "df_tokens[10:20]"
   ]
  },
  {
   "cell_type": "code",
   "execution_count": 8,
   "metadata": {},
   "outputs": [
    {
     "name": "stdout",
     "output_type": "stream",
     "text": [
      "Displaying 25 of 142 matches:\n",
      "r be rid of my need for it I hate and love the box just as I hate and love mysel\n",
      "e and love the box just as I hate and love myself Also what the fuck 2.7million \n",
      "s for all of the gold friends For the love of They are fighting an ideological b\n",
      "ingle day tldr If you get a chance at love risk everything You let them vote the\n",
      "or it at harvest time I say Jeez I 'd love to but I really need all the cash I c\n",
      "y /r bandnames You 're both twisted I love it That guy just broke up with a vege\n",
      "is that when you look for things like love meaning motivation it implies they ar\n",
      "ze that in life they create their own love they manufacture their own meaning th\n",
      "y goodness oh you Chris Nolan I would love to work with let me think I would lov\n",
      "ove to work with let me think I would love to work with Alejandro González Iñárr\n",
      "nzález Iñárritu I think those I would love to work with right off the top of my \n",
      "Edit Wow Gold highest rated comment I love you all P.S. French canada sucks Labo\n",
      "y beer hall women Good What 's not to love You talking Ring of Fire or just plai\n",
      "legal question in the United States I love your response Using Nine Inch Nails l\n",
      "tes girl into liking him They fall in love Girl finds out what guy did They brea\n",
      "ck up kinda guy Do n't get me wrong I love titties as much as the next lesbian B\n",
      "allenging job I 've had The amount of love that you have the type of love that y\n",
      "unt of love that you have the type of love that you have changes the way you loo\n",
      "ut so deep as the blade of unrequited love Your mom sounds like a very unhappy p\n",
      "r bag over my head when we 're making love It 's so I do n't get anything in my \n",
      "ly batman Edit gold for a dick joke I love you reddit After a few years of being\n",
      "ere gt;You be good see you tomorrow I love you These were the same words that th\n",
      "is nonchalantly reading a book on the love seat My uncle slurping up noodles The\n",
      "ars later anand we are still madly in love A million dollars bro this might actu\n",
      " Master still sleeping That 's okay I love Master I can wait Why does Master sle\n"
     ]
    }
   ],
   "source": [
    "import nltk\n",
    "df_text = nltk.Text(df_tokens)\n",
    "df_index = nltk.text.ConcordanceIndex(df_text) \n",
    "df_index.print_concordance('love')"
   ]
  },
  {
   "cell_type": "code",
   "execution_count": 9,
   "metadata": {},
   "outputs": [
    {
     "name": "stdout",
     "output_type": "stream",
     "text": [
      "my_they edit_dammit oh_this my_it my_that deceased_that thy_hath\n",
      "edit_i my_he oh_i checks_dammit fuck_i my_i dear_it my_a thank_i\n",
      "good_my fashion_damn every_damn but_this\n"
     ]
    }
   ],
   "source": [
    "df_text.common_contexts(['god'])"
   ]
  },
  {
   "cell_type": "code",
   "execution_count": 10,
   "metadata": {},
   "outputs": [
    {
     "data": {
      "text/plain": [
       "65"
      ]
     },
     "execution_count": 10,
     "metadata": {},
     "output_type": "execute_result"
    }
   ],
   "source": [
    "df_text.count('family')"
   ]
  },
  {
   "cell_type": "code",
   "execution_count": 11,
   "metadata": {},
   "outputs": [
    {
     "name": "stderr",
     "output_type": "stream",
     "text": [
      "/Users/reneehu/anaconda3/lib/python3.7/_collections_abc.py:841: MatplotlibDeprecationWarning: \n",
      "The examples.directory rcparam was deprecated in Matplotlib 3.0 and will be removed in 3.2. In the future, examples will be found relative to the 'datapath' directory.\n",
      "  self[key] = other[key]\n",
      "/Users/reneehu/anaconda3/lib/python3.7/_collections_abc.py:841: MatplotlibDeprecationWarning: \n",
      "The savefig.frameon rcparam was deprecated in Matplotlib 3.1 and will be removed in 3.3.\n",
      "  self[key] = other[key]\n",
      "/Users/reneehu/anaconda3/lib/python3.7/_collections_abc.py:841: MatplotlibDeprecationWarning: \n",
      "The text.latex.unicode rcparam was deprecated in Matplotlib 3.0 and will be removed in 3.2.\n",
      "  self[key] = other[key]\n",
      "/Users/reneehu/anaconda3/lib/python3.7/_collections_abc.py:841: MatplotlibDeprecationWarning: \n",
      "The verbose.fileo rcparam was deprecated in Matplotlib 3.1 and will be removed in 3.3.\n",
      "  self[key] = other[key]\n",
      "/Users/reneehu/anaconda3/lib/python3.7/_collections_abc.py:841: MatplotlibDeprecationWarning: \n",
      "The verbose.level rcparam was deprecated in Matplotlib 3.1 and will be removed in 3.3.\n",
      "  self[key] = other[key]\n"
     ]
    },
    {
     "data": {
      "image/png": "[encoded data removed]",
      "text/plain": [
       "<Figure size 640x480 with 1 Axes>"
      ]
     },
     "metadata": {},
     "output_type": "display_data"
    }
   ],
   "source": [
    "sns.reset_orig() #Seaborn messes with this plot, disabling it\n",
    "df_text.dispersion_plot(['love', 'hate', 'joke', 'government', 'friend', 'dinner'])\n",
    "sns.set() #Re-enabling seaborn"
   ]
  },
  {
   "cell_type": "markdown",
   "metadata": {},
   "source": [
    "Positive words such as \"love\" and \"friend\" occur quite often in the comments."
   ]
  },
  {
   "cell_type": "markdown",
   "metadata": {},
   "source": [
    "## <span style=\"color:red\">*Exercise 2*</span>\n",
    "\n",
    "<span style=\"color:red\">Construct cells immediately below this that filter, stem and lemmatize the tokens in your corpus, and then creates plots (with titles and labels) that map the word frequency distribution, word probability distribution, and at least two conditional probability distributions that help us better understand the social and cultural game underlying the production of your corpus. Create a wordl of words (or normalized words) and add a few vague comments about what mysteries are revealed through it.</span>"
   ]
  },
  {
   "cell_type": "code",
   "execution_count": 12,
   "metadata": {},
   "outputs": [
    {
     "name": "stderr",
     "output_type": "stream",
     "text": [
      "/Users/reneehu/anaconda3/lib/python3.7/site-packages/ipykernel_launcher.py:1: SettingWithCopyWarning: \n",
      "A value is trying to be set on a copy of a slice from a DataFrame.\n",
      "Try using .loc[row_indexer,col_indexer] = value instead\n",
      "\n",
      "See the caveats in the documentation: http://pandas.pydata.org/pandas-docs/stable/indexing.html#indexing-view-versus-copy\n",
      "  \"\"\"Entry point for launching an IPython kernel.\n"
     ]
    }
   ],
   "source": [
    "small_df['tokenized_text'] = small_df['text'].apply(lambda x: word_tokenize(x))"
   ]
  },
  {
   "cell_type": "code",
   "execution_count": 13,
   "metadata": {},
   "outputs": [
    {
     "name": "stderr",
     "output_type": "stream",
     "text": [
      "/Users/reneehu/anaconda3/lib/python3.7/site-packages/ipykernel_launcher.py:1: SettingWithCopyWarning: \n",
      "A value is trying to be set on a copy of a slice from a DataFrame.\n",
      "Try using .loc[row_indexer,col_indexer] = value instead\n",
      "\n",
      "See the caveats in the documentation: http://pandas.pydata.org/pandas-docs/stable/indexing.html#indexing-view-versus-copy\n",
      "  \"\"\"Entry point for launching an IPython kernel.\n"
     ]
    }
   ],
   "source": [
    "small_df['word_counts'] = small_df['tokenized_text'].apply(lambda x: len(x))"
   ]
  },
  {
   "cell_type": "code",
   "execution_count": 14,
   "metadata": {},
   "outputs": [
    {
     "data": {
      "text/html": [
       "<div>\n",
       "<style scoped>\n",
       "    .dataframe tbody tr th:only-of-type {\n",
       "        vertical-align: middle;\n",
       "    }\n",
       "\n",
       "    .dataframe tbody tr th {\n",
       "        vertical-align: top;\n",
       "    }\n",
       "\n",
       "    .dataframe thead th {\n",
       "        text-align: right;\n",
       "    }\n",
       "</style>\n",
       "<table border=\"1\" class=\"dataframe\">\n",
       "  <thead>\n",
       "    <tr style=\"text-align: right;\">\n",
       "      <th></th>\n",
       "      <th>id</th>\n",
       "      <th>parent_id</th>\n",
       "      <th>subreddit_id</th>\n",
       "      <th>link_id</th>\n",
       "      <th>text</th>\n",
       "      <th>score</th>\n",
       "      <th>ups</th>\n",
       "      <th>author</th>\n",
       "      <th>controversiality</th>\n",
       "      <th>parent_link_id</th>\n",
       "      <th>parent_text</th>\n",
       "      <th>parent_score</th>\n",
       "      <th>parent_ups</th>\n",
       "      <th>parent_author</th>\n",
       "      <th>parent_controversiality</th>\n",
       "      <th>tokenized_text</th>\n",
       "      <th>word_counts</th>\n",
       "    </tr>\n",
       "  </thead>\n",
       "  <tbody>\n",
       "    <tr>\n",
       "      <th>0</th>\n",
       "      <td>c092j8m</td>\n",
       "      <td>t1_c092gss</td>\n",
       "      <td>t5_2qh2p</td>\n",
       "      <td>t3_8eyy3</td>\n",
       "      <td>This isn't Twitter: try to comment on the arti...</td>\n",
       "      <td>9582</td>\n",
       "      <td>9582</td>\n",
       "      <td>nraustinii</td>\n",
       "      <td>0</td>\n",
       "      <td>t3_8eyy3</td>\n",
       "      <td>Fucking faggot.</td>\n",
       "      <td>-7526</td>\n",
       "      <td>-7526</td>\n",
       "      <td>Glorificus</td>\n",
       "      <td>0</td>\n",
       "      <td>[This, is, n't, Twitter, try, to, comment, on,...</td>\n",
       "      <td>15</td>\n",
       "    </tr>\n",
       "    <tr>\n",
       "      <th>1</th>\n",
       "      <td>c4imcva</td>\n",
       "      <td>t1_c4im948</td>\n",
       "      <td>t5_2qh1i</td>\n",
       "      <td>t3_t0ynr</td>\n",
       "      <td>Well, it is exactly what it sounds like. It's ...</td>\n",
       "      <td>9531</td>\n",
       "      <td>9531</td>\n",
       "      <td>Lynfect</td>\n",
       "      <td>0</td>\n",
       "      <td>t3_t0ynr</td>\n",
       "      <td>Elaborate on this cum box, please.</td>\n",
       "      <td>3841</td>\n",
       "      <td>3841</td>\n",
       "      <td>eeeeevil</td>\n",
       "      <td>0</td>\n",
       "      <td>[Well, it, is, exactly, what, it, sounds, like...</td>\n",
       "      <td>338</td>\n",
       "    </tr>\n",
       "    <tr>\n",
       "      <th>2</th>\n",
       "      <td>c0s4nfi</td>\n",
       "      <td>t1_c0s4lje</td>\n",
       "      <td>t5_2qh1i</td>\n",
       "      <td>t3_cf1n2</td>\n",
       "      <td>In soviet Russia, bomb disarms you!</td>\n",
       "      <td>8545</td>\n",
       "      <td>8545</td>\n",
       "      <td>CapnScumbone</td>\n",
       "      <td>0</td>\n",
       "      <td>t3_cf1n2</td>\n",
       "      <td>I don't live in Russia anymore, and I will not...</td>\n",
       "      <td>621</td>\n",
       "      <td>621</td>\n",
       "      <td>shady8x</td>\n",
       "      <td>0</td>\n",
       "      <td>[In, soviet, Russia, bomb, disarms, you]</td>\n",
       "      <td>6</td>\n",
       "    </tr>\n",
       "    <tr>\n",
       "      <th>3</th>\n",
       "      <td>c4ini33</td>\n",
       "      <td>t1_c4incln</td>\n",
       "      <td>t5_2qh1i</td>\n",
       "      <td>t3_t0ynr</td>\n",
       "      <td>\"runin for senitur! #YOLO!\"</td>\n",
       "      <td>7430</td>\n",
       "      <td>7430</td>\n",
       "      <td>[deleted]</td>\n",
       "      <td>0</td>\n",
       "      <td>t3_t0ynr</td>\n",
       "      <td>This just made me realize that future presiden...</td>\n",
       "      <td>4651</td>\n",
       "      <td>4651</td>\n",
       "      <td>drspg99</td>\n",
       "      <td>0</td>\n",
       "      <td>[runin, for, senitur, YOLO]</td>\n",
       "      <td>4</td>\n",
       "    </tr>\n",
       "    <tr>\n",
       "      <th>4</th>\n",
       "      <td>c4imgel</td>\n",
       "      <td>t1_c4ima2e</td>\n",
       "      <td>t5_2qh1i</td>\n",
       "      <td>t3_t0ynr</td>\n",
       "      <td>You step motherfucker.</td>\n",
       "      <td>7173</td>\n",
       "      <td>7173</td>\n",
       "      <td>jbg89</td>\n",
       "      <td>0</td>\n",
       "      <td>t3_t0ynr</td>\n",
       "      <td>I have sex with my step mom when my dad isn't ...</td>\n",
       "      <td>4251</td>\n",
       "      <td>4251</td>\n",
       "      <td>audir8</td>\n",
       "      <td>0</td>\n",
       "      <td>[You, step, motherfucker]</td>\n",
       "      <td>3</td>\n",
       "    </tr>\n",
       "  </tbody>\n",
       "</table>\n",
       "</div>"
      ],
      "text/plain": [
       "        id   parent_id subreddit_id   link_id  \\\n",
       "0  c092j8m  t1_c092gss     t5_2qh2p  t3_8eyy3   \n",
       "1  c4imcva  t1_c4im948     t5_2qh1i  t3_t0ynr   \n",
       "2  c0s4nfi  t1_c0s4lje     t5_2qh1i  t3_cf1n2   \n",
       "3  c4ini33  t1_c4incln     t5_2qh1i  t3_t0ynr   \n",
       "4  c4imgel  t1_c4ima2e     t5_2qh1i  t3_t0ynr   \n",
       "\n",
       "                                                text  score   ups  \\\n",
       "0  This isn't Twitter: try to comment on the arti...   9582  9582   \n",
       "1  Well, it is exactly what it sounds like. It's ...   9531  9531   \n",
       "2                In soviet Russia, bomb disarms you!   8545  8545   \n",
       "3                        \"runin for senitur! #YOLO!\"   7430  7430   \n",
       "4                             You step motherfucker.   7173  7173   \n",
       "\n",
       "         author  controversiality parent_link_id  \\\n",
       "0    nraustinii                 0       t3_8eyy3   \n",
       "1       Lynfect                 0       t3_t0ynr   \n",
       "2  CapnScumbone                 0       t3_cf1n2   \n",
       "3     [deleted]                 0       t3_t0ynr   \n",
       "4         jbg89                 0       t3_t0ynr   \n",
       "\n",
       "                                         parent_text  parent_score  \\\n",
       "0                                    Fucking faggot.         -7526   \n",
       "1                 Elaborate on this cum box, please.          3841   \n",
       "2  I don't live in Russia anymore, and I will not...           621   \n",
       "3  This just made me realize that future presiden...          4651   \n",
       "4  I have sex with my step mom when my dad isn't ...          4251   \n",
       "\n",
       "   parent_ups parent_author  parent_controversiality  \\\n",
       "0       -7526    Glorificus                        0   \n",
       "1        3841      eeeeevil                        0   \n",
       "2         621       shady8x                        0   \n",
       "3        4651       drspg99                        0   \n",
       "4        4251        audir8                        0   \n",
       "\n",
       "                                      tokenized_text  word_counts  \n",
       "0  [This, is, n't, Twitter, try, to, comment, on,...           15  \n",
       "1  [Well, it, is, exactly, what, it, sounds, like...          338  \n",
       "2           [In, soviet, Russia, bomb, disarms, you]            6  \n",
       "3                        [runin, for, senitur, YOLO]            4  \n",
       "4                          [You, step, motherfucker]            3  "
      ]
     },
     "execution_count": 14,
     "metadata": {},
     "output_type": "execute_result"
    }
   ],
   "source": [
    "small_df.head()"
   ]
  },
  {
   "cell_type": "code",
   "execution_count": 15,
   "metadata": {},
   "outputs": [],
   "source": [
    "from nltk.corpus import stopwords\n",
    "stopwords = set(stopwords.words('english'))"
   ]
  },
  {
   "cell_type": "code",
   "execution_count": 16,
   "metadata": {},
   "outputs": [
    {
     "data": {
      "text/plain": [
       "[('I', 5360),\n",
       " (\"'s\", 1767),\n",
       " (\"n't\", 1440),\n",
       " ('like', 819),\n",
       " ('The', 691),\n",
       " ('would', 638),\n",
       " ('one', 589),\n",
       " (\"'m\", 565),\n",
       " ('It', 536),\n",
       " ('You', 534),\n",
       " ('people', 522),\n",
       " ('get', 511),\n",
       " ('time', 463),\n",
       " ('Edit', 439),\n",
       " (\"'re\", 421),\n",
       " ('know', 394),\n",
       " ('And', 360),\n",
       " ('He', 347),\n",
       " ('That', 331),\n",
       " ('could', 329),\n",
       " ('think', 313),\n",
       " ('go', 303),\n",
       " ('This', 292),\n",
       " ('really', 282),\n",
       " (\"'ve\", 280),\n",
       " ('got', 273),\n",
       " (\"'ll\", 267),\n",
       " ('even', 264),\n",
       " ('see', 260),\n",
       " ('good', 259)]"
      ]
     },
     "execution_count": 16,
     "metadata": {},
     "output_type": "execute_result"
    }
   ],
   "source": [
    "countsDict = {}\n",
    "for word in small_df['tokenized_text'].sum():\n",
    "    if word not in stopwords:\n",
    "        if word in countsDict:\n",
    "            countsDict[word] += 1\n",
    "        else:\n",
    "            countsDict[word] = 1\n",
    "word_counts = sorted(countsDict.items(), key = lambda x : x[1], reverse = True)\n",
    "word_counts[:30]"
   ]
  },
  {
   "cell_type": "code",
   "execution_count": 17,
   "metadata": {},
   "outputs": [],
   "source": [
    "# pick the cutoff at count 500\n",
    "stop_words_freq = []\n",
    "for word, count in word_counts:\n",
    "    if word == 'time':\n",
    "        break\n",
    "    else:\n",
    "        stop_words_freq.append(word)"
   ]
  },
  {
   "cell_type": "code",
   "execution_count": 18,
   "metadata": {},
   "outputs": [],
   "source": [
    "def normalizeTokens(word_list, extra_stop=[]):\n",
    "    #We can use a generator here as we just need to iterate over it\n",
    "    normalized = []\n",
    "    if type(word_list) == list and len(word_list) == 1:\n",
    "        word_list = word_list[0]\n",
    "\n",
    "    if type(word_list) == list:\n",
    "        word_list = ' '.join([str(elem) for elem in word_list]) \n",
    "\n",
    "    doc = nlp(word_list.lower())\n",
    "    \n",
    "    # add the property of stop word to words considered as stop words\n",
    "    if len(extra_stop) > 0:\n",
    "        for stopword in extra_stop:\n",
    "            lexeme = nlp.vocab[stopword]\n",
    "            lexeme.is_stop = True\n",
    "\n",
    "    for w in doc:\n",
    "        # if it's not a stop word or punctuation mark, add it to our article\n",
    "        if w.text != '\\n' and not w.is_stop and not w.is_punct and not w.like_num and len(w.text.strip()) > 0:\n",
    "            # we add the lematized version of the word\n",
    "            normalized.append(str(w.lemma_))\n",
    "\n",
    "    return normalized"
   ]
  },
  {
   "cell_type": "code",
   "execution_count": 19,
   "metadata": {},
   "outputs": [
    {
     "name": "stderr",
     "output_type": "stream",
     "text": [
      "/Users/reneehu/anaconda3/lib/python3.7/site-packages/ipykernel_launcher.py:1: SettingWithCopyWarning: \n",
      "A value is trying to be set on a copy of a slice from a DataFrame.\n",
      "Try using .loc[row_indexer,col_indexer] = value instead\n",
      "\n",
      "See the caveats in the documentation: http://pandas.pydata.org/pandas-docs/stable/indexing.html#indexing-view-versus-copy\n",
      "  \"\"\"Entry point for launching an IPython kernel.\n",
      "/Users/reneehu/anaconda3/lib/python3.7/site-packages/ipykernel_launcher.py:2: SettingWithCopyWarning: \n",
      "A value is trying to be set on a copy of a slice from a DataFrame.\n",
      "Try using .loc[row_indexer,col_indexer] = value instead\n",
      "\n",
      "See the caveats in the documentation: http://pandas.pydata.org/pandas-docs/stable/indexing.html#indexing-view-versus-copy\n",
      "  \n"
     ]
    },
    {
     "data": {
      "text/html": [
       "<div>\n",
       "<style scoped>\n",
       "    .dataframe tbody tr th:only-of-type {\n",
       "        vertical-align: middle;\n",
       "    }\n",
       "\n",
       "    .dataframe tbody tr th {\n",
       "        vertical-align: top;\n",
       "    }\n",
       "\n",
       "    .dataframe thead th {\n",
       "        text-align: right;\n",
       "    }\n",
       "</style>\n",
       "<table border=\"1\" class=\"dataframe\">\n",
       "  <thead>\n",
       "    <tr style=\"text-align: right;\">\n",
       "      <th></th>\n",
       "      <th>id</th>\n",
       "      <th>parent_id</th>\n",
       "      <th>subreddit_id</th>\n",
       "      <th>link_id</th>\n",
       "      <th>text</th>\n",
       "      <th>score</th>\n",
       "      <th>ups</th>\n",
       "      <th>author</th>\n",
       "      <th>controversiality</th>\n",
       "      <th>parent_link_id</th>\n",
       "      <th>parent_text</th>\n",
       "      <th>parent_score</th>\n",
       "      <th>parent_ups</th>\n",
       "      <th>parent_author</th>\n",
       "      <th>parent_controversiality</th>\n",
       "      <th>tokenized_text</th>\n",
       "      <th>word_counts</th>\n",
       "      <th>normalized_tokens</th>\n",
       "      <th>normalized_tokens_count</th>\n",
       "    </tr>\n",
       "  </thead>\n",
       "  <tbody>\n",
       "    <tr>\n",
       "      <th>0</th>\n",
       "      <td>c092j8m</td>\n",
       "      <td>t1_c092gss</td>\n",
       "      <td>t5_2qh2p</td>\n",
       "      <td>t3_8eyy3</td>\n",
       "      <td>This isn't Twitter: try to comment on the arti...</td>\n",
       "      <td>9582</td>\n",
       "      <td>9582</td>\n",
       "      <td>nraustinii</td>\n",
       "      <td>0</td>\n",
       "      <td>t3_8eyy3</td>\n",
       "      <td>Fucking faggot.</td>\n",
       "      <td>-7526</td>\n",
       "      <td>-7526</td>\n",
       "      <td>Glorificus</td>\n",
       "      <td>0</td>\n",
       "      <td>[This, is, n't, Twitter, try, to, comment, on,...</td>\n",
       "      <td>15</td>\n",
       "      <td>[twitt, try, comment, article, current, activity]</td>\n",
       "      <td>6</td>\n",
       "    </tr>\n",
       "    <tr>\n",
       "      <th>1</th>\n",
       "      <td>c4imcva</td>\n",
       "      <td>t1_c4im948</td>\n",
       "      <td>t5_2qh1i</td>\n",
       "      <td>t3_t0ynr</td>\n",
       "      <td>Well, it is exactly what it sounds like. It's ...</td>\n",
       "      <td>9531</td>\n",
       "      <td>9531</td>\n",
       "      <td>Lynfect</td>\n",
       "      <td>0</td>\n",
       "      <td>t3_t0ynr</td>\n",
       "      <td>Elaborate on this cum box, please.</td>\n",
       "      <td>3841</td>\n",
       "      <td>3841</td>\n",
       "      <td>eeeeevil</td>\n",
       "      <td>0</td>\n",
       "      <td>[Well, it, is, exactly, what, it, sounds, like...</td>\n",
       "      <td>338</td>\n",
       "      <td>[exactly, sound, shoebox, masturbate, cum, ve,...</td>\n",
       "      <td>128</td>\n",
       "    </tr>\n",
       "    <tr>\n",
       "      <th>2</th>\n",
       "      <td>c0s4nfi</td>\n",
       "      <td>t1_c0s4lje</td>\n",
       "      <td>t5_2qh1i</td>\n",
       "      <td>t3_cf1n2</td>\n",
       "      <td>In soviet Russia, bomb disarms you!</td>\n",
       "      <td>8545</td>\n",
       "      <td>8545</td>\n",
       "      <td>CapnScumbone</td>\n",
       "      <td>0</td>\n",
       "      <td>t3_cf1n2</td>\n",
       "      <td>I don't live in Russia anymore, and I will not...</td>\n",
       "      <td>621</td>\n",
       "      <td>621</td>\n",
       "      <td>shady8x</td>\n",
       "      <td>0</td>\n",
       "      <td>[In, soviet, Russia, bomb, disarms, you]</td>\n",
       "      <td>6</td>\n",
       "      <td>[soviet, russia, bomb, disarm]</td>\n",
       "      <td>4</td>\n",
       "    </tr>\n",
       "    <tr>\n",
       "      <th>3</th>\n",
       "      <td>c4ini33</td>\n",
       "      <td>t1_c4incln</td>\n",
       "      <td>t5_2qh1i</td>\n",
       "      <td>t3_t0ynr</td>\n",
       "      <td>\"runin for senitur! #YOLO!\"</td>\n",
       "      <td>7430</td>\n",
       "      <td>7430</td>\n",
       "      <td>[deleted]</td>\n",
       "      <td>0</td>\n",
       "      <td>t3_t0ynr</td>\n",
       "      <td>This just made me realize that future presiden...</td>\n",
       "      <td>4651</td>\n",
       "      <td>4651</td>\n",
       "      <td>drspg99</td>\n",
       "      <td>0</td>\n",
       "      <td>[runin, for, senitur, YOLO]</td>\n",
       "      <td>4</td>\n",
       "      <td>[runin, senitur, yolo]</td>\n",
       "      <td>3</td>\n",
       "    </tr>\n",
       "    <tr>\n",
       "      <th>4</th>\n",
       "      <td>c4imgel</td>\n",
       "      <td>t1_c4ima2e</td>\n",
       "      <td>t5_2qh1i</td>\n",
       "      <td>t3_t0ynr</td>\n",
       "      <td>You step motherfucker.</td>\n",
       "      <td>7173</td>\n",
       "      <td>7173</td>\n",
       "      <td>jbg89</td>\n",
       "      <td>0</td>\n",
       "      <td>t3_t0ynr</td>\n",
       "      <td>I have sex with my step mom when my dad isn't ...</td>\n",
       "      <td>4251</td>\n",
       "      <td>4251</td>\n",
       "      <td>audir8</td>\n",
       "      <td>0</td>\n",
       "      <td>[You, step, motherfucker]</td>\n",
       "      <td>3</td>\n",
       "      <td>[step, motherfucker]</td>\n",
       "      <td>2</td>\n",
       "    </tr>\n",
       "  </tbody>\n",
       "</table>\n",
       "</div>"
      ],
      "text/plain": [
       "        id   parent_id subreddit_id   link_id  \\\n",
       "0  c092j8m  t1_c092gss     t5_2qh2p  t3_8eyy3   \n",
       "1  c4imcva  t1_c4im948     t5_2qh1i  t3_t0ynr   \n",
       "2  c0s4nfi  t1_c0s4lje     t5_2qh1i  t3_cf1n2   \n",
       "3  c4ini33  t1_c4incln     t5_2qh1i  t3_t0ynr   \n",
       "4  c4imgel  t1_c4ima2e     t5_2qh1i  t3_t0ynr   \n",
       "\n",
       "                                                text  score   ups  \\\n",
       "0  This isn't Twitter: try to comment on the arti...   9582  9582   \n",
       "1  Well, it is exactly what it sounds like. It's ...   9531  9531   \n",
       "2                In soviet Russia, bomb disarms you!   8545  8545   \n",
       "3                        \"runin for senitur! #YOLO!\"   7430  7430   \n",
       "4                             You step motherfucker.   7173  7173   \n",
       "\n",
       "         author  controversiality parent_link_id  \\\n",
       "0    nraustinii                 0       t3_8eyy3   \n",
       "1       Lynfect                 0       t3_t0ynr   \n",
       "2  CapnScumbone                 0       t3_cf1n2   \n",
       "3     [deleted]                 0       t3_t0ynr   \n",
       "4         jbg89                 0       t3_t0ynr   \n",
       "\n",
       "                                         parent_text  parent_score  \\\n",
       "0                                    Fucking faggot.         -7526   \n",
       "1                 Elaborate on this cum box, please.          3841   \n",
       "2  I don't live in Russia anymore, and I will not...           621   \n",
       "3  This just made me realize that future presiden...          4651   \n",
       "4  I have sex with my step mom when my dad isn't ...          4251   \n",
       "\n",
       "   parent_ups parent_author  parent_controversiality  \\\n",
       "0       -7526    Glorificus                        0   \n",
       "1        3841      eeeeevil                        0   \n",
       "2         621       shady8x                        0   \n",
       "3        4651       drspg99                        0   \n",
       "4        4251        audir8                        0   \n",
       "\n",
       "                                      tokenized_text  word_counts  \\\n",
       "0  [This, is, n't, Twitter, try, to, comment, on,...           15   \n",
       "1  [Well, it, is, exactly, what, it, sounds, like...          338   \n",
       "2           [In, soviet, Russia, bomb, disarms, you]            6   \n",
       "3                        [runin, for, senitur, YOLO]            4   \n",
       "4                          [You, step, motherfucker]            3   \n",
       "\n",
       "                                   normalized_tokens  normalized_tokens_count  \n",
       "0  [twitt, try, comment, article, current, activity]                        6  \n",
       "1  [exactly, sound, shoebox, masturbate, cum, ve,...                      128  \n",
       "2                     [soviet, russia, bomb, disarm]                        4  \n",
       "3                             [runin, senitur, yolo]                        3  \n",
       "4                               [step, motherfucker]                        2  "
      ]
     },
     "execution_count": 19,
     "metadata": {},
     "output_type": "execute_result"
    }
   ],
   "source": [
    "small_df['normalized_tokens'] = small_df['tokenized_text'].apply(lambda x: normalizeTokens(x, extra_stop=stop_words_freq))\n",
    "small_df['normalized_tokens_count'] = small_df['normalized_tokens'].apply(lambda x: len(x))\n",
    "small_df.head()"
   ]
  },
  {
   "cell_type": "markdown",
   "metadata": {},
   "source": [
    "### Conditional Frequency Distribution (condition: word length)"
   ]
  },
  {
   "cell_type": "code",
   "execution_count": 20,
   "metadata": {},
   "outputs": [
    {
     "name": "stdout",
     "output_type": "stream",
     "text": [
      "81973\n"
     ]
    }
   ],
   "source": [
    "#.sum() adds together the lists from each row into a single list\n",
    "whcfdist = nltk.ConditionalFreqDist(((len(w), w) for w in small_df['normalized_tokens'].sum()))\n",
    "\n",
    "#print the number of words\n",
    "print(whcfdist.N())"
   ]
  },
  {
   "cell_type": "code",
   "execution_count": 21,
   "metadata": {},
   "outputs": [
    {
     "name": "stderr",
     "output_type": "stream",
     "text": [
      "/Users/reneehu/anaconda3/lib/python3.7/site-packages/matplotlib/backends/backend_agg.py:211: RuntimeWarning: Glyph 12389 missing from current font.\n",
      "  font.set_text(s, 0.0, flags=flags)\n",
      "/Users/reneehu/anaconda3/lib/python3.7/site-packages/matplotlib/backends/backend_agg.py:211: RuntimeWarning: Glyph 65377 missing from current font.\n",
      "  font.set_text(s, 0.0, flags=flags)\n",
      "/Users/reneehu/anaconda3/lib/python3.7/site-packages/matplotlib/backends/backend_agg.py:180: RuntimeWarning: Glyph 12389 missing from current font.\n",
      "  font.set_text(s, 0, flags=flags)\n",
      "/Users/reneehu/anaconda3/lib/python3.7/site-packages/matplotlib/backends/backend_agg.py:180: RuntimeWarning: Glyph 65377 missing from current font.\n",
      "  font.set_text(s, 0, flags=flags)\n"
     ]
    },
    {
     "data": {
      "image/png": "[encoded data removed]",
      "text/plain": [
       "<Figure size 640x480 with 1 Axes>"
      ]
     },
     "metadata": {},
     "output_type": "display_data"
    },
    {
     "data": {
      "text/plain": [
       "<matplotlib.axes._subplots.AxesSubplot at 0x1a6e842d30>"
      ]
     },
     "execution_count": 21,
     "metadata": {},
     "output_type": "execute_result"
    }
   ],
   "source": [
    "whcfdist[2].plot()"
   ]
  },
  {
   "cell_type": "markdown",
   "metadata": {},
   "source": [
    "### Conditional Probability Distribution"
   ]
  },
  {
   "cell_type": "code",
   "execution_count": 22,
   "metadata": {},
   "outputs": [
    {
     "name": "stdout",
     "output_type": "stream",
     "text": [
      "think\n",
      "0.033852425082003756\n"
     ]
    }
   ],
   "source": [
    "whcpdist = nltk.ConditionalProbDist(whcfdist, nltk.ELEProbDist)\n",
    "\n",
    "#print the most common 5 letter word\n",
    "print(whcpdist[5].max())\n",
    "\n",
    "#And its probability\n",
    "print(whcpdist[5].prob(whcpdist[5].max()))"
   ]
  },
  {
   "cell_type": "code",
   "execution_count": 23,
   "metadata": {},
   "outputs": [],
   "source": [
    "def spacy_pos(word_list):\n",
    "    tags = []\n",
    "    doc = nlp(word_list.lower())\n",
    "    for w in doc:\n",
    "        tags.append((w.text, w.tag_))\n",
    "    return tags"
   ]
  },
  {
   "cell_type": "code",
   "execution_count": 24,
   "metadata": {},
   "outputs": [
    {
     "name": "stderr",
     "output_type": "stream",
     "text": [
      "/Users/reneehu/anaconda3/lib/python3.7/site-packages/ipykernel_launcher.py:1: SettingWithCopyWarning: \n",
      "A value is trying to be set on a copy of a slice from a DataFrame.\n",
      "Try using .loc[row_indexer,col_indexer] = value instead\n",
      "\n",
      "See the caveats in the documentation: http://pandas.pydata.org/pandas-docs/stable/indexing.html#indexing-view-versus-copy\n",
      "  \"\"\"Entry point for launching an IPython kernel.\n"
     ]
    }
   ],
   "source": [
    "small_df['normalized_tokens_POS'] = [spacy_pos(t) for t in small_df['text']]"
   ]
  },
  {
   "cell_type": "markdown",
   "metadata": {},
   "source": [
    "### Conditional Frequency Distribution (condition: number of occurrences)"
   ]
  },
  {
   "cell_type": "code",
   "execution_count": 25,
   "metadata": {},
   "outputs": [
    {
     "data": {
      "text/plain": [
       "[('this', FreqDist({'DT': 1446})),\n",
       " ('is', FreqDist({'VBZ': 2209, 'RB': 4})),\n",
       " (\"n't\", FreqDist({'RB': 1454})),\n",
       " ('twitter', FreqDist({'NN': 8, 'JJR': 4, 'JJ': 1})),\n",
       " (':', FreqDist({':': 1328, 'SYM': 2, '.': 1})),\n",
       " ('try', FreqDist({'VB': 65, 'VBP': 30, 'NN': 3, 'NNP': 1})),\n",
       " ('to', FreqDist({'TO': 3342, 'IN': 1487, 'RB': 1})),\n",
       " ('comment', FreqDist({'NN': 144, 'VB': 8, 'VBP': 2})),\n",
       " ('on', FreqDist({'IN': 1133, 'RP': 100, 'RB': 29, 'NN': 1})),\n",
       " ('the', FreqDist({'DT': 7683}))]"
      ]
     },
     "execution_count": 25,
     "metadata": {},
     "output_type": "execute_result"
    }
   ],
   "source": [
    "whcfdist_WordtoPOS = nltk.ConditionalFreqDist(small_df['normalized_tokens_POS'].sum())\n",
    "list(whcfdist_WordtoPOS.items())[:10]"
   ]
  },
  {
   "cell_type": "code",
   "execution_count": 26,
   "metadata": {},
   "outputs": [],
   "source": [
    "whcfdist_POStoWord = nltk.ConditionalFreqDist((p, w) for w, p in small_df['normalized_tokens_POS'].sum())"
   ]
  },
  {
   "cell_type": "code",
   "execution_count": 27,
   "metadata": {},
   "outputs": [
    {
     "data": {
      "text/plain": [
       "FreqDist({'good': 285, 'other': 277, 'first': 173, 'many': 164, 'little': 160, 'few': 149, 'same': 140, 'old': 129, 'new': 129, 'great': 100, ...})"
      ]
     },
     "execution_count": 27,
     "metadata": {},
     "output_type": "execute_result"
    }
   ],
   "source": [
    "whcfdist_POStoWord['JJ']"
   ]
  },
  {
   "cell_type": "code",
   "execution_count": 28,
   "metadata": {},
   "outputs": [
    {
     "data": {
      "text/plain": [
       "[('edit', 551), ('time', 481), ('gold', 262), ('day', 231), ('guy', 228)]"
      ]
     },
     "execution_count": 28,
     "metadata": {},
     "output_type": "execute_result"
    }
   ],
   "source": [
    "whcfdist_POStoWord['NN'].most_common(5)"
   ]
  },
  {
   "cell_type": "code",
   "execution_count": 29,
   "metadata": {},
   "outputs": [
    {
     "data": {
      "image/png": "[encoded data removed]",
      "text/plain": [
       "<Figure size 640x480 with 1 Axes>"
      ]
     },
     "metadata": {},
     "output_type": "display_data"
    },
    {
     "data": {
      "text/plain": [
       "<matplotlib.axes._subplots.AxesSubplot at 0x1aa5cd1b00>"
      ]
     },
     "execution_count": 29,
     "metadata": {},
     "output_type": "execute_result"
    }
   ],
   "source": [
    "whcfdist_POStoWord['JJ'].plot()"
   ]
  },
  {
   "cell_type": "code",
   "execution_count": 30,
   "metadata": {},
   "outputs": [
    {
     "name": "stdout",
     "output_type": "stream",
     "text": [
      "good\n",
      "0.021553676581609543\n"
     ]
    }
   ],
   "source": [
    "whcpdist_POStoWord = nltk.ConditionalProbDist(whcfdist_POStoWord, nltk.ELEProbDist)\n",
    "\n",
    "#print the most common adj\n",
    "print(whcpdist_POStoWord['JJ'].max())\n",
    "\n",
    "#And its probability\n",
    "print(whcpdist_POStoWord['JJ'].prob(whcpdist_POStoWord['JJ'].max()))"
   ]
  },
  {
   "cell_type": "code",
   "execution_count": 31,
   "metadata": {},
   "outputs": [
    {
     "data": {
      "image/png": "[encoded data removed]",
      "text/plain": [
       "<Figure size 640x480 with 1 Axes>"
      ]
     },
     "metadata": {},
     "output_type": "display_data"
    }
   ],
   "source": [
    "wc = wordcloud.WordCloud(background_color=\"white\", max_words=500, width= 1000, height = 1000, mode ='RGBA', scale=.5).generate(' '.join(small_df['normalized_tokens'].sum()))\n",
    "plt.imshow(wc)\n",
    "plt.axis(\"off\")\n",
    "plt.savefig(\"positive_comment_word_cloud.pdf\", format = 'pdf')"
   ]
  },
  {
   "cell_type": "markdown",
   "metadata": {},
   "source": [
    "The word cloud and word frequency distribution give us an exploratory peep into the dataset. After cleaning and normalizing the Reddit positive comments, the most frequent words are \"think\", \"know\", and \"time\". High frequent verbs include \"want\", \"look\", \"edit\", \"tell\", \"say\", \"work\", and the most frequent adj is \"good\". In general, these words indicate the presence of a thought-provoking and inspiring environment in the Reddit community. "
   ]
  },
  {
   "cell_type": "markdown",
   "metadata": {},
   "source": [
    "## <span style=\"color:red\">*Your turn*</span>\n",
    "\n",
    "<span style=\"color:red\">In the cells immediately following, perform POS tagging on a meaningful (but modest) subset of a corpus associated with your final project. Examine the list of words associated with at least three different parts of speech. Consider conditional associations (e.g., adjectives associated with nouns or adverbs with verbs of interest). What do these distributions suggest about your corpus?"
   ]
  },
  {
   "cell_type": "code",
   "execution_count": 32,
   "metadata": {},
   "outputs": [
    {
     "data": {
      "text/html": [
       "<div>\n",
       "<style scoped>\n",
       "    .dataframe tbody tr th:only-of-type {\n",
       "        vertical-align: middle;\n",
       "    }\n",
       "\n",
       "    .dataframe tbody tr th {\n",
       "        vertical-align: top;\n",
       "    }\n",
       "\n",
       "    .dataframe thead th {\n",
       "        text-align: right;\n",
       "    }\n",
       "</style>\n",
       "<table border=\"1\" class=\"dataframe\">\n",
       "  <thead>\n",
       "    <tr style=\"text-align: right;\">\n",
       "      <th></th>\n",
       "      <th>id</th>\n",
       "      <th>parent_id</th>\n",
       "      <th>subreddit_id</th>\n",
       "      <th>link_id</th>\n",
       "      <th>text</th>\n",
       "      <th>score</th>\n",
       "      <th>ups</th>\n",
       "      <th>author</th>\n",
       "      <th>controversiality</th>\n",
       "      <th>parent_link_id</th>\n",
       "      <th>parent_text</th>\n",
       "      <th>parent_score</th>\n",
       "      <th>parent_ups</th>\n",
       "      <th>parent_author</th>\n",
       "      <th>parent_controversiality</th>\n",
       "      <th>tokenized_text</th>\n",
       "      <th>word_counts</th>\n",
       "      <th>normalized_tokens</th>\n",
       "      <th>normalized_tokens_count</th>\n",
       "      <th>normalized_tokens_POS</th>\n",
       "    </tr>\n",
       "  </thead>\n",
       "  <tbody>\n",
       "    <tr>\n",
       "      <th>99</th>\n",
       "      <td>c092j8m</td>\n",
       "      <td>t1_c092gss</td>\n",
       "      <td>t5_2qh2p</td>\n",
       "      <td>t3_8eyy3</td>\n",
       "      <td>This isn't Twitter: try to comment on the arti...</td>\n",
       "      <td>9582</td>\n",
       "      <td>9582</td>\n",
       "      <td>nraustinii</td>\n",
       "      <td>0</td>\n",
       "      <td>t3_8eyy3</td>\n",
       "      <td>Fucking faggot.</td>\n",
       "      <td>-7526</td>\n",
       "      <td>-7526</td>\n",
       "      <td>Glorificus</td>\n",
       "      <td>0</td>\n",
       "      <td>[This, is, n't, Twitter, try, to, comment, on,...</td>\n",
       "      <td>15</td>\n",
       "      <td>[twitt, try, comment, article, current, activity]</td>\n",
       "      <td>6</td>\n",
       "      <td>[(this, DT), (is, VBZ), (n't, RB), (twitter, J...</td>\n",
       "    </tr>\n",
       "    <tr>\n",
       "      <th>98</th>\n",
       "      <td>c4imcva</td>\n",
       "      <td>t1_c4im948</td>\n",
       "      <td>t5_2qh1i</td>\n",
       "      <td>t3_t0ynr</td>\n",
       "      <td>Well, it is exactly what it sounds like. It's ...</td>\n",
       "      <td>9531</td>\n",
       "      <td>9531</td>\n",
       "      <td>Lynfect</td>\n",
       "      <td>0</td>\n",
       "      <td>t3_t0ynr</td>\n",
       "      <td>Elaborate on this cum box, please.</td>\n",
       "      <td>3841</td>\n",
       "      <td>3841</td>\n",
       "      <td>eeeeevil</td>\n",
       "      <td>0</td>\n",
       "      <td>[Well, it, is, exactly, what, it, sounds, like...</td>\n",
       "      <td>338</td>\n",
       "      <td>[exactly, sound, shoebox, masturbate, cum, ve,...</td>\n",
       "      <td>128</td>\n",
       "      <td>[(well, UH), (,, ,), (it, PRP), (is, VBZ), (ex...</td>\n",
       "    </tr>\n",
       "    <tr>\n",
       "      <th>97</th>\n",
       "      <td>c0s4nfi</td>\n",
       "      <td>t1_c0s4lje</td>\n",
       "      <td>t5_2qh1i</td>\n",
       "      <td>t3_cf1n2</td>\n",
       "      <td>In soviet Russia, bomb disarms you!</td>\n",
       "      <td>8545</td>\n",
       "      <td>8545</td>\n",
       "      <td>CapnScumbone</td>\n",
       "      <td>0</td>\n",
       "      <td>t3_cf1n2</td>\n",
       "      <td>I don't live in Russia anymore, and I will not...</td>\n",
       "      <td>621</td>\n",
       "      <td>621</td>\n",
       "      <td>shady8x</td>\n",
       "      <td>0</td>\n",
       "      <td>[In, soviet, Russia, bomb, disarms, you]</td>\n",
       "      <td>6</td>\n",
       "      <td>[soviet, russia, bomb, disarm]</td>\n",
       "      <td>4</td>\n",
       "      <td>[(in, IN), (soviet, NNP), (russia, NNP), (,, ,...</td>\n",
       "    </tr>\n",
       "    <tr>\n",
       "      <th>96</th>\n",
       "      <td>c4ini33</td>\n",
       "      <td>t1_c4incln</td>\n",
       "      <td>t5_2qh1i</td>\n",
       "      <td>t3_t0ynr</td>\n",
       "      <td>\"runin for senitur! #YOLO!\"</td>\n",
       "      <td>7430</td>\n",
       "      <td>7430</td>\n",
       "      <td>[deleted]</td>\n",
       "      <td>0</td>\n",
       "      <td>t3_t0ynr</td>\n",
       "      <td>This just made me realize that future presiden...</td>\n",
       "      <td>4651</td>\n",
       "      <td>4651</td>\n",
       "      <td>drspg99</td>\n",
       "      <td>0</td>\n",
       "      <td>[runin, for, senitur, YOLO]</td>\n",
       "      <td>4</td>\n",
       "      <td>[runin, senitur, yolo]</td>\n",
       "      <td>3</td>\n",
       "      <td>[(\", ``), (runin, VB), (for, IN), (senitur, NN...</td>\n",
       "    </tr>\n",
       "    <tr>\n",
       "      <th>95</th>\n",
       "      <td>c4imgel</td>\n",
       "      <td>t1_c4ima2e</td>\n",
       "      <td>t5_2qh1i</td>\n",
       "      <td>t3_t0ynr</td>\n",
       "      <td>You step motherfucker.</td>\n",
       "      <td>7173</td>\n",
       "      <td>7173</td>\n",
       "      <td>jbg89</td>\n",
       "      <td>0</td>\n",
       "      <td>t3_t0ynr</td>\n",
       "      <td>I have sex with my step mom when my dad isn't ...</td>\n",
       "      <td>4251</td>\n",
       "      <td>4251</td>\n",
       "      <td>audir8</td>\n",
       "      <td>0</td>\n",
       "      <td>[You, step, motherfucker]</td>\n",
       "      <td>3</td>\n",
       "      <td>[step, motherfucker]</td>\n",
       "      <td>2</td>\n",
       "      <td>[(you, PRP), (step, VBP), (motherfucker, NN), ...</td>\n",
       "    </tr>\n",
       "  </tbody>\n",
       "</table>\n",
       "</div>"
      ],
      "text/plain": [
       "         id   parent_id subreddit_id   link_id  \\\n",
       "99  c092j8m  t1_c092gss     t5_2qh2p  t3_8eyy3   \n",
       "98  c4imcva  t1_c4im948     t5_2qh1i  t3_t0ynr   \n",
       "97  c0s4nfi  t1_c0s4lje     t5_2qh1i  t3_cf1n2   \n",
       "96  c4ini33  t1_c4incln     t5_2qh1i  t3_t0ynr   \n",
       "95  c4imgel  t1_c4ima2e     t5_2qh1i  t3_t0ynr   \n",
       "\n",
       "                                                 text  score   ups  \\\n",
       "99  This isn't Twitter: try to comment on the arti...   9582  9582   \n",
       "98  Well, it is exactly what it sounds like. It's ...   9531  9531   \n",
       "97                In soviet Russia, bomb disarms you!   8545  8545   \n",
       "96                        \"runin for senitur! #YOLO!\"   7430  7430   \n",
       "95                             You step motherfucker.   7173  7173   \n",
       "\n",
       "          author  controversiality parent_link_id  \\\n",
       "99    nraustinii                 0       t3_8eyy3   \n",
       "98       Lynfect                 0       t3_t0ynr   \n",
       "97  CapnScumbone                 0       t3_cf1n2   \n",
       "96     [deleted]                 0       t3_t0ynr   \n",
       "95         jbg89                 0       t3_t0ynr   \n",
       "\n",
       "                                          parent_text  parent_score  \\\n",
       "99                                    Fucking faggot.         -7526   \n",
       "98                 Elaborate on this cum box, please.          3841   \n",
       "97  I don't live in Russia anymore, and I will not...           621   \n",
       "96  This just made me realize that future presiden...          4651   \n",
       "95  I have sex with my step mom when my dad isn't ...          4251   \n",
       "\n",
       "    parent_ups parent_author  parent_controversiality  \\\n",
       "99       -7526    Glorificus                        0   \n",
       "98        3841      eeeeevil                        0   \n",
       "97         621       shady8x                        0   \n",
       "96        4651       drspg99                        0   \n",
       "95        4251        audir8                        0   \n",
       "\n",
       "                                       tokenized_text  word_counts  \\\n",
       "99  [This, is, n't, Twitter, try, to, comment, on,...           15   \n",
       "98  [Well, it, is, exactly, what, it, sounds, like...          338   \n",
       "97           [In, soviet, Russia, bomb, disarms, you]            6   \n",
       "96                        [runin, for, senitur, YOLO]            4   \n",
       "95                          [You, step, motherfucker]            3   \n",
       "\n",
       "                                    normalized_tokens  \\\n",
       "99  [twitt, try, comment, article, current, activity]   \n",
       "98  [exactly, sound, shoebox, masturbate, cum, ve,...   \n",
       "97                     [soviet, russia, bomb, disarm]   \n",
       "96                             [runin, senitur, yolo]   \n",
       "95                               [step, motherfucker]   \n",
       "\n",
       "    normalized_tokens_count                              normalized_tokens_POS  \n",
       "99                        6  [(this, DT), (is, VBZ), (n't, RB), (twitter, J...  \n",
       "98                      128  [(well, UH), (,, ,), (it, PRP), (is, VBZ), (ex...  \n",
       "97                        4  [(in, IN), (soviet, NNP), (russia, NNP), (,, ,...  \n",
       "96                        3  [(\", ``), (runin, VB), (for, IN), (senitur, NN...  \n",
       "95                        2  [(you, PRP), (step, VBP), (motherfucker, NN), ...  "
      ]
     },
     "execution_count": 32,
     "metadata": {},
     "output_type": "execute_result"
    }
   ],
   "source": [
    "# 100 highest scoring posts\n",
    "sub_df = small_df[:100]\n",
    "sub_df.index = range(len(sub_df) - 1, -1,-1) #Reindex to make things nice in the future\n",
    "sub_df.head()"
   ]
  },
  {
   "cell_type": "code",
   "execution_count": 33,
   "metadata": {},
   "outputs": [],
   "source": [
    "def tag_sents_pos(sentences):\n",
    "    \"\"\"\n",
    "    function which replicates NLTK pos tagging on sentences.\n",
    "    \"\"\"\n",
    "    new_sents = []\n",
    "    new_sent = ' '.join(sentences)\n",
    "    new_sents.append(new_sent)\n",
    "    final_string = ' '.join(new_sents)\n",
    "    doc = nlp(final_string)\n",
    "    \n",
    "    pos_sents = []\n",
    "    for sent in doc.sents:\n",
    "        pos_sent = []\n",
    "        for token in sent:\n",
    "            pos_sent.append((token.text, token.tag_))\n",
    "        pos_sents.append(pos_sent)\n",
    "    \n",
    "    return pos_sents"
   ]
  },
  {
   "cell_type": "code",
   "execution_count": 34,
   "metadata": {},
   "outputs": [
    {
     "name": "stderr",
     "output_type": "stream",
     "text": [
      "/Users/reneehu/anaconda3/lib/python3.7/site-packages/ipykernel_launcher.py:1: SettingWithCopyWarning: \n",
      "A value is trying to be set on a copy of a slice from a DataFrame.\n",
      "Try using .loc[row_indexer,col_indexer] = value instead\n",
      "\n",
      "See the caveats in the documentation: http://pandas.pydata.org/pandas-docs/stable/indexing.html#indexing-view-versus-copy\n",
      "  \"\"\"Entry point for launching an IPython kernel.\n"
     ]
    }
   ],
   "source": [
    "sub_df['POS_sents'] = sub_df['tokenized_text'].apply(lambda x: tag_sents_pos(x))"
   ]
  },
  {
   "cell_type": "code",
   "execution_count": 35,
   "metadata": {},
   "outputs": [
    {
     "data": {
      "text/plain": [
       "99    [[(This, DT), (is, VBZ), (n't, RB), (Twitter, ...\n",
       "98    [[(Well, UH), (it, PRP), (is, VBZ), (exactly, ...\n",
       "97    [[(In, IN), (soviet, JJ), (Russia, NNP), (bomb...\n",
       "96    [[(runin, VB), (for, IN), (senitur, JJ), (YOLO...\n",
       "95      [[(You, PRP), (step, VBP), (motherfucker, NN)]]\n",
       "94    [[(Is, VBZ), (n't, RB), (this, DT), (putting, ...\n",
       "93                [[(WHAT, WP), (THE, DT), (FUCK, NN)]]\n",
       "92    [[(because, IN), (i, PRP), (', ``), (m, NN), (...\n",
       "91    [[(Dude, NNP), (This, DT), (is, VBZ), (bad, JJ...\n",
       "90    [[(I, PRP), (also, RB), (find, VBP), (it, PRP)...\n",
       "Name: POS_sents, dtype: object"
      ]
     },
     "execution_count": 35,
     "metadata": {},
     "output_type": "execute_result"
    }
   ],
   "source": [
    "sub_df['POS_sents'][:10]"
   ]
  },
  {
   "cell_type": "code",
   "execution_count": 36,
   "metadata": {},
   "outputs": [
    {
     "data": {
      "text/plain": [
       "[('world', 13),\n",
       " ('day', 11),\n",
       " ('m', 10),\n",
       " ('time', 10),\n",
       " ('life', 10),\n",
       " ('gold', 8),\n",
       " ('girl', 7),\n",
       " ('year', 7),\n",
       " ('wife', 6),\n",
       " ('reason', 5),\n",
       " ('person', 5),\n",
       " ('mom', 5),\n",
       " ('guy', 5),\n",
       " ('photo', 5),\n",
       " ('lot', 4),\n",
       " ('box', 4),\n",
       " ('anything', 4),\n",
       " ('chance', 4),\n",
       " ('front', 4),\n",
       " ('everything', 4)]"
      ]
     },
     "execution_count": 36,
     "metadata": {},
     "output_type": "execute_result"
    }
   ],
   "source": [
    "countTarget = 'NN'\n",
    "targetCounts = {}\n",
    "for entry in sub_df['POS_sents']:\n",
    "    for sentence in entry:\n",
    "        for ent, kind in sentence:\n",
    "            if kind != countTarget:\n",
    "                continue\n",
    "            elif ent in targetCounts:\n",
    "                targetCounts[ent] += 1\n",
    "            else:\n",
    "                targetCounts[ent] = 1\n",
    "sortedTargets = sorted(targetCounts.items(), key = lambda x: x[1], reverse = True)\n",
    "sortedTargets[:20]"
   ]
  },
  {
   "cell_type": "code",
   "execution_count": 37,
   "metadata": {},
   "outputs": [
    {
     "data": {
      "text/plain": [
       "[('be', 24),\n",
       " ('have', 12),\n",
       " ('kill', 8),\n",
       " ('get', 7),\n",
       " ('do', 7),\n",
       " ('break', 6),\n",
       " ('take', 4),\n",
       " ('know', 4),\n",
       " ('Take', 3),\n",
       " ('meet', 3),\n",
       " ('ask', 3),\n",
       " ('make', 3),\n",
       " ('prove', 3),\n",
       " ('hear', 3),\n",
       " ('go', 3),\n",
       " ('throw', 2),\n",
       " ('destroy', 2),\n",
       " ('save', 2),\n",
       " ('call', 2),\n",
       " ('say', 2)]"
      ]
     },
     "execution_count": 37,
     "metadata": {},
     "output_type": "execute_result"
    }
   ],
   "source": [
    "countTarget = 'VB'\n",
    "targetCounts = {}\n",
    "for entry in sub_df['POS_sents']:\n",
    "    for sentence in entry:\n",
    "        for ent, kind in sentence:\n",
    "            if kind != countTarget:\n",
    "                continue\n",
    "            elif ent in targetCounts:\n",
    "                targetCounts[ent] += 1\n",
    "            else:\n",
    "                targetCounts[ent] = 1\n",
    "sortedTargets = sorted(targetCounts.items(), key = lambda x: x[1], reverse = True)\n",
    "sortedTargets[:20]"
   ]
  },
  {
   "cell_type": "code",
   "execution_count": 38,
   "metadata": {},
   "outputs": [
    {
     "data": {
      "text/plain": [
       "[('other', 21),\n",
       " ('many', 7),\n",
       " ('first', 7),\n",
       " ('new', 5),\n",
       " ('little', 5),\n",
       " ('same', 4),\n",
       " ('good', 4),\n",
       " ('important', 4),\n",
       " ('big', 4),\n",
       " ('dark', 4),\n",
       " ('old', 3),\n",
       " ('few', 3),\n",
       " ('high', 3),\n",
       " ('right', 3),\n",
       " ('short', 3),\n",
       " ('cruel', 3),\n",
       " ('much', 3),\n",
       " ('crazy', 3),\n",
       " ('whole', 3),\n",
       " ('current', 2)]"
      ]
     },
     "execution_count": 38,
     "metadata": {},
     "output_type": "execute_result"
    }
   ],
   "source": [
    "countTarget = 'JJ'\n",
    "targetCounts = {}\n",
    "for entry in sub_df['POS_sents']:\n",
    "    for sentence in entry:\n",
    "        for ent, kind in sentence:\n",
    "            if kind != countTarget:\n",
    "                continue\n",
    "            elif ent in targetCounts:\n",
    "                targetCounts[ent] += 1\n",
    "            else:\n",
    "                targetCounts[ent] = 1\n",
    "sortedTargets = sorted(targetCounts.items(), key = lambda x: x[1], reverse = True)\n",
    "sortedTargets[:20]"
   ]
  },
  {
   "cell_type": "code",
   "execution_count": 39,
   "metadata": {},
   "outputs": [
    {
     "name": "stdout",
     "output_type": "stream",
     "text": [
      "{'precious', 'first', 'First'}\n"
     ]
    }
   ],
   "source": [
    "NTarget = 'JJ'\n",
    "Word = 'time'\n",
    "NResults = set()\n",
    "for entry in sub_df['POS_sents']:\n",
    "    for sentence in entry:\n",
    "        for (ent1, kind1),(ent2,kind2) in zip(sentence[:-1], sentence[1:]):\n",
    "            if (kind1,ent2.lower())==(NTarget,Word):\n",
    "                NResults.add(ent1)\n",
    "            else:\n",
    "                continue\n",
    "\n",
    "print(NResults)     "
   ]
  },
  {
   "cell_type": "code",
   "execution_count": 40,
   "metadata": {},
   "outputs": [
    {
     "name": "stdout",
     "output_type": "stream",
     "text": [
      "{'high', 'whole', 'real'}\n"
     ]
    }
   ],
   "source": [
    "NTarget = 'JJ'\n",
    "Word = 'life'\n",
    "NResults = set()\n",
    "for entry in sub_df['POS_sents']:\n",
    "    for sentence in entry:\n",
    "        for (ent1, kind1),(ent2,kind2) in zip(sentence[:-1], sentence[1:]):\n",
    "            if (kind1,ent2.lower())==(NTarget,Word):\n",
    "                NResults.add(ent1)\n",
    "            else:\n",
    "                continue\n",
    "\n",
    "print(NResults)   "
   ]
  },
  {
   "cell_type": "code",
   "execution_count": 41,
   "metadata": {},
   "outputs": [
    {
     "name": "stdout",
     "output_type": "stream",
     "text": [
      "{'pregnant'}\n"
     ]
    }
   ],
   "source": [
    "NTarget = 'JJ'\n",
    "Word = 'wife'\n",
    "NResults = set()\n",
    "for entry in sub_df['POS_sents']:\n",
    "    for sentence in entry:\n",
    "        for (ent1, kind1),(ent2,kind2) in zip(sentence[:-1], sentence[1:]):\n",
    "            if (kind1,ent2.lower())==(NTarget,Word):\n",
    "                NResults.add(ent1)\n",
    "            else:\n",
    "                continue\n",
    "\n",
    "print(NResults)   "
   ]
  },
  {
   "cell_type": "markdown",
   "metadata": {},
   "source": [
    "The conditional associations reveal quite positive sentiment. I specificlaly looked at ADJ associated with high-occurring nouns, and the associations revealed good positive vibes. The high-occuring verbs include some negative emotions -- it would be worth investigating the context of these verbs and the reason why they occur in future analysis."
   ]
  },
  {
   "cell_type": "markdown",
   "metadata": {},
   "source": [
    "## <span style=\"color:red\">*Exercise 3*</span>\n",
    "\n",
    "<span style=\"color:red\">Construct cells immediately below this that identify statistically significant bigrams, trigrams, quadgrams, higher-order *n*grams and skipgrams. Explore whether these collocations are idiomatic and so irreducible to the semantic sum of their component words. You can do this by examination of conditional frequencies (e.g., what else is 'united' besides the 'United States'). If these phrases are idiomatic, what do they suggest about the culture of the world producing them?\n",
    "\n",
    "<span style=\"color:red\">**Stretch**: In Manning and Schütze's textbook, there Section 5.3.2 explores how to use the *t*-test to find words whose co-occurance patterns best distinguish two words. Implement that and use it to explore phrases in your corpus. For instance, you could tell what words come after \"America\" much more often than after \"Iraq\"?</span> "
   ]
  },
  {
   "cell_type": "code",
   "execution_count": 42,
   "metadata": {},
   "outputs": [
    {
     "name": "stdout",
     "output_type": "stream",
     "text": [
      "There are 81973 bigrams in the finder\n"
     ]
    }
   ],
   "source": [
    "comment_bigrams = nltk.collocations.BigramCollocationFinder.from_words(small_df['normalized_tokens'].sum())\n",
    "print(\"There are {} bigrams in the finder\".format(comment_bigrams.N))"
   ]
  },
  {
   "cell_type": "code",
   "execution_count": 45,
   "metadata": {},
   "outputs": [
    {
     "name": "stdout",
     "output_type": "stream",
     "text": [
      "[('thank', 'gold'), ('edit', 'thank'), ('─', '─'), ('year', 'old'), ('m', 'go'), ('ve', 'get'), ('year', 'ago'), ('m', 'sorry'), ('gon', 'na'), ('gold', 'thank')]\n"
     ]
    }
   ],
   "source": [
    "def bigramScoring(count, wordsTuple, total):\n",
    "    return count\n",
    "\n",
    "print(comment_bigrams.nbest(bigramScoring, 10))"
   ]
  },
  {
   "cell_type": "code",
   "execution_count": 51,
   "metadata": {},
   "outputs": [
    {
     "data": {
      "text/plain": [
       "[(('thank', 'gold'), 10.377673715044317),\n",
       " (('edit', 'thank'), 9.66960328256245),\n",
       " (('─', '─'), 8.821544916021606),\n",
       " (('year', 'old'), 6.767693951654214),\n",
       " (('m', 'go'), 6.114107757365916),\n",
       " (('year', 'ago'), 6.046550751849395),\n",
       " (('ve', 'get'), 5.892928173741734),\n",
       " (('m', 'sorry'), 5.800168907648432),\n",
       " (('gon', 'na'), 5.654438943248468),\n",
       " (('gold', 'thank'), 5.359774267179044),\n",
       " (('holy', 'shit'), 5.265988533204821),\n",
       " (('=', '='), 4.964278481939175),\n",
       " (('high', 'school'), 4.857673063682233),\n",
       " (('minimum', 'wage'), 4.7933590505416435),\n",
       " (('edit', 'wow'), 4.694198138983118),\n",
       " (('kind', 'stranger'), 4.670024977294694),\n",
       " (('answer', 'question'), 4.656875003255755),\n",
       " (('m', 'sure'), 4.610881911468871),\n",
       " (('shrimp', 'tycoon'), 4.580935859639512),\n",
       " (('ve', 'see'), 4.443525113928102),\n",
       " (('good', 'friend'), 4.388494796299633),\n",
       " (('oh', 'god'), 4.3299718452853195),\n",
       " (('edit', 'holy'), 4.265409226317367),\n",
       " (('͡', '°'), 4.241605555871894),\n",
       " (('edit', 'gold'), 4.227045630318402),\n",
       " (('watch?v', '='), 4.117019526771702),\n",
       " (('|', '|'), 4.114477981361552),\n",
       " (('m', 'glad'), 4.059833275680463),\n",
       " (('black', 'hole'), 3.987556878484379),\n",
       " (('reddit', 'gold'), 3.984684600625287)]"
      ]
     },
     "execution_count": 51,
     "metadata": {},
     "output_type": "execute_result"
    }
   ],
   "source": [
    "bigram_measures = nltk.collocations.BigramAssocMeasures()\n",
    "comment_bigrams.score_ngrams(bigram_measures.student_t)[:30]"
   ]
  },
  {
   "cell_type": "code",
   "execution_count": 52,
   "metadata": {},
   "outputs": [
    {
     "data": {
      "text/plain": [
       "[(('edit', 'thank', 'gold'), 8.484190869081058),\n",
       " (('─', '─', '─'), 8.366588951640331),\n",
       " (('=', '=', '='), 4.795776550173984),\n",
       " (('gold', 'kind', 'stranger'), 3.6054632574364933),\n",
       " (('osama', 'bin', 'laden'), 3.4641014604805282),\n",
       " (('thank', 'gold', 'kind'), 3.4635306756451),\n",
       " (('edit', 'holy', 'shit'), 2.999640409428181),\n",
       " (('m', 'gon', 'na'), 2.8283911189365933),\n",
       " (('obligatory', 'thank', 'gold'), 2.8283522045445286),\n",
       " (('edit', 'obligatory', 'thank'), 2.8282467102899838),\n",
       " (('°', '͜ʖ', '͡'), 2.645751149069516),\n",
       " (('͜ʖ', '͡', '°'), 2.645751149069516),\n",
       " (('͡', '°', '͜ʖ'), 2.645751149069516),\n",
       " (('dundundundun', 'dundundundun', '^dundundundun'), 2.6457511374261204),\n",
       " (('dundundundun', 'dundundundun', 'dundundundun'), 2.6457507901491804),\n",
       " (('|', 'yrs', '|'), 2.64574999890449),\n",
       " (('thank', 'gold', 'stranger'), 2.645452296956895),\n",
       " (('m', 'pretty', 'sure'), 2.6452278221826373),\n",
       " (('^dundundundun', 'dundundundun', 'dundundundun'), 2.449489555232195),\n",
       " (('dundundundun', '^dundundundun', 'dundundundun'), 2.449489555232195),\n",
       " (('bang', 'bang', 'bang'), 2.4494889029047227),\n",
       " (('yrs', '|', '|'), 2.449488325488284),\n",
       " (('high', 'rated', 'comment'), 2.4494781703953925),\n",
       " (('gold', 'thank', 'kind'), 2.448682312409371),\n",
       " (('edit', 'gold', 'thank'), 2.445712122105723),\n",
       " (('kraine', 'kraine', 'kraine'), 2.2360679546718107),\n",
       " (('bake', 'bake', 'bake'), 2.236067831280929),\n",
       " (('comparative', 'price', 'level'), 2.236067384504774),\n",
       " (('naked', 'naked', 'naked'), 2.236067057459038),\n",
       " (('hey', 'food', 'ready'), 2.2360597013924726)]"
      ]
     },
     "execution_count": 52,
     "metadata": {},
     "output_type": "execute_result"
    }
   ],
   "source": [
    "trigram_measures = nltk.collocations.TrigramAssocMeasures()\n",
    "comment_trigrams = nltk.collocations.TrigramCollocationFinder.from_words(small_df['normalized_tokens'].sum())\n",
    "comment_trigrams.score_ngrams(trigram_measures.student_t)[:30]"
   ]
  },
  {
   "cell_type": "markdown",
   "metadata": {},
   "source": [
    "Since ngrams longer than 3 words do not produce meaningful combinations, and have much lower statistical significance than bigrams and trigrams. I only explored these two measures here.\n",
    "\n",
    "The top bigrams fall into four categories: 1) emotion words, specifically the use of \"gold\" - \"thank gold\", \"gold thank\", \"reddit gold\", which could be a specific type of expression in Reddit community, 2) words related to time - \"year old\", \"year ago\", \"high school\" - these indicate that users are recalling a story from before, 3) verbs - \"m go\", \"gon na\", \"ve see\", \"answer question\" - also an indication of story telling, 4) interesting nouns - \"minimum wage\", \"kind stranger\", \"shrimp tycoon\", \"good friend\", \"black hole\". These are either hot topics people discuss or positive description of people around them.\n",
    "\n",
    "Compared to bigrams, the words in trigrams are even more interesting. Top trigrams include \"osma bin laden\", \"comparative price level\" - very intuitive, hot topics in the community; emotion icons - cute expressions; and again, many occurrences of \"strangers\". It could be that there are many positive stories about kind strangers that people share in their comments, or it could also be that people are expressing gratitude to strangers that post in Reddit community. "
   ]
  },
  {
   "cell_type": "code",
   "execution_count": 63,
   "metadata": {},
   "outputs": [
    {
     "data": {
      "text/plain": [
       "[(('long', 'time'), 3.49991495886672),\n",
       " (('time', 've'), 2.7191340820014167),\n",
       " (('spend', 'time'), 2.679514868715261),\n",
       " (('second', 'time'), 2.413484804246897),\n",
       " (('time', 'great'), 2.3195343071071552),\n",
       " (('time', 'think'), 2.0028594350784523),\n",
       " (('harvest', 'time'), 1.9792858624181133),\n",
       " (('lot', 'time'), 1.9477367415796933),\n",
       " (('time', 'go'), 1.936674270796482),\n",
       " (('waste', 'time'), 1.934405230990692)]"
      ]
     },
     "execution_count": 63,
     "metadata": {},
     "output_type": "execute_result"
    }
   ],
   "source": [
    "cooccur_time = []\n",
    "for i in comment_bigrams.score_ngrams(bigram_measures.student_t):\n",
    "    if 'time' in i[0]:\n",
    "        cooccur_time.append(i)\n",
    "cooccur_time[:10]"
   ]
  },
  {
   "cell_type": "code",
   "execution_count": 62,
   "metadata": {},
   "outputs": [
    {
     "data": {
      "text/plain": [
       "[(('real', 'life'), 3.389620028558268),\n",
       " (('rest', 'life'), 2.387858808274373),\n",
       " (('live', 'life'), 2.2914904379515133),\n",
       " (('new', 'life'), 2.283646500832211),\n",
       " (('entire', 'life'), 2.1796023032726106),\n",
       " (('day', 'life'), 2.1032359470882533),\n",
       " (('life', 'beautiful'), 1.9505934880997402),\n",
       " (('moment', 'life'), 1.917655813499567),\n",
       " (('shelf', 'life'), 1.7114495176639128),\n",
       " (('life', 'goal'), 1.697187086191245)]"
      ]
     },
     "execution_count": 62,
     "metadata": {},
     "output_type": "execute_result"
    }
   ],
   "source": [
    "cooccur_life = []\n",
    "for i in comment_bigrams.score_ngrams(bigram_measures.student_t):\n",
    "    if 'life' in i[0]:\n",
    "        cooccur_life.append(i)\n",
    "cooccur_life[:10]"
   ]
  },
  {
   "cell_type": "markdown",
   "metadata": {},
   "source": [
    "As usual, I compared the combination of bigrams that include \"time\" and \"life\". The top co-occuring combinations in both bigrams express a positive sentiment."
   ]
  },
  {
   "cell_type": "markdown",
   "metadata": {},
   "source": [
    "## <span style=\"color:red\">*Exercise 4*</span>\n",
    "\n",
    "<span style=\"color:red\">In the cells immediately following, perform NER on a (modest) subset of your corpus of interest. List all of the different kinds of entities tagged? What does their distribution suggest about the focus of your corpus? For a subset of your corpus, tally at least one type of named entity and calculate the Precision, Recall and F-score for the NER classification just performed."
   ]
  },
  {
   "cell_type": "code",
   "execution_count": 56,
   "metadata": {},
   "outputs": [],
   "source": [
    "def tag_sents_ner(sentences):\n",
    "    \"\"\"\n",
    "    function which replicates NLTK ner tagging on sentences.\n",
    "    \"\"\"\n",
    "    new_sents = []\n",
    "    new_sent = ' '.join(sentences)\n",
    "    new_sents.append(new_sent)\n",
    "    final_string = ' '.join(new_sents)\n",
    "    doc = nlp(final_string)\n",
    "    \n",
    "    pos_sents = []\n",
    "    for sent in doc.sents:\n",
    "        pos_sent = []\n",
    "        for ent in sent.ents:\n",
    "            pos_sent.append((ent.text, ent.label_))\n",
    "        pos_sents.append(pos_sent)\n",
    "    \n",
    "    return pos_sents"
   ]
  },
  {
   "cell_type": "code",
   "execution_count": 57,
   "metadata": {},
   "outputs": [
    {
     "name": "stderr",
     "output_type": "stream",
     "text": [
      "/Users/reneehu/anaconda3/lib/python3.7/site-packages/ipykernel_launcher.py:1: SettingWithCopyWarning: \n",
      "A value is trying to be set on a copy of a slice from a DataFrame.\n",
      "Try using .loc[row_indexer,col_indexer] = value instead\n",
      "\n",
      "See the caveats in the documentation: http://pandas.pydata.org/pandas-docs/stable/indexing.html#indexing-view-versus-copy\n",
      "  \"\"\"Entry point for launching an IPython kernel.\n"
     ]
    },
    {
     "data": {
      "text/plain": [
       "0                                                  [[]]\n",
       "1     [[], [], [], [(two or three years, DATE)], [],...\n",
       "2                                     [[(Russia, GPE)]]\n",
       "3                                       [[(YOLO, ORG)]]\n",
       "4                                                  [[]]\n",
       "5                               [[(Descartes, PERSON)]]\n",
       "6                                                  [[]]\n",
       "7                                                  [[]]\n",
       "8     [[(Dude This, PERSON)], [], [], [], [], [], []...\n",
       "9                                    [[(72, CARDINAL)]]\n",
       "10                                                 [[]]\n",
       "11                                                 [[]]\n",
       "12                                                 [[]]\n",
       "13                                                   []\n",
       "14                                             [[], []]\n",
       "15                                             [[], []]\n",
       "16                                                 [[]]\n",
       "17                  [[(Jenny, PERSON), (Zack, PERSON)]]\n",
       "18                                                 [[]]\n",
       "19                                                 [[]]\n",
       "Name: classified_sents, dtype: object"
      ]
     },
     "execution_count": 57,
     "metadata": {},
     "output_type": "execute_result"
    }
   ],
   "source": [
    "small_df['classified_sents'] = small_df['tokenized_text'].apply(lambda x: tag_sents_ner(x))\n",
    "small_df['classified_sents'][:20]"
   ]
  },
  {
   "cell_type": "code",
   "execution_count": 59,
   "metadata": {},
   "outputs": [
    {
     "data": {
      "text/plain": [
       "[('one', 233),\n",
       " ('first', 176),\n",
       " ('two', 100),\n",
       " ('2', 90),\n",
       " ('1', 65),\n",
       " ('3', 60),\n",
       " ('second', 50),\n",
       " ('today', 46),\n",
       " ('One', 45),\n",
       " ('three', 42),\n",
       " ('10', 37),\n",
       " ('4', 31),\n",
       " ('100', 30),\n",
       " ('half', 29),\n",
       " ('American', 26),\n",
       " ('Jesus', 24),\n",
       " ('Thor', 24),\n",
       " ('the day', 22),\n",
       " ('5', 22),\n",
       " ('OP', 21),\n",
       " ('US', 20),\n",
       " ('8', 19),\n",
       " ('America', 19),\n",
       " ('years', 19),\n",
       " ('Two', 17),\n",
       " ('four', 16),\n",
       " ('Jeff', 16),\n",
       " ('tomorrow', 15),\n",
       " ('20', 15),\n",
       " ('third', 15)]"
      ]
     },
     "execution_count": 59,
     "metadata": {},
     "output_type": "execute_result"
    }
   ],
   "source": [
    "entityCounts = {}\n",
    "for entry in small_df['classified_sents']:\n",
    "    for sentence in entry:\n",
    "        for ent, kind in sentence:\n",
    "            if ent in entityCounts:\n",
    "                entityCounts[ent] += 1\n",
    "            else:\n",
    "                entityCounts[ent] = 1\n",
    "sortedEntities = sorted(entityCounts.items(), key = lambda x: x[1], reverse = True)\n",
    "sortedEntities[:30]"
   ]
  },
  {
   "cell_type": "code",
   "execution_count": 69,
   "metadata": {},
   "outputs": [
    {
     "data": {
      "text/plain": [
       "[('OP', 21),\n",
       " ('TSA', 13),\n",
       " ('House', 12),\n",
       " ('MIT', 11),\n",
       " ('Annie', 11),\n",
       " ('TIL', 10),\n",
       " ('SRS', 10),\n",
       " ('EPA', 8),\n",
       " ('Time', 7),\n",
       " ('Google', 7)]"
      ]
     },
     "execution_count": 69,
     "metadata": {},
     "output_type": "execute_result"
    }
   ],
   "source": [
    "OrgCounts = {}\n",
    "for entry in small_df['classified_sents']:\n",
    "    for sentence in entry:\n",
    "        for ent, kind in sentence:\n",
    "            if kind == 'ORG':\n",
    "                if ent in OrgCounts:\n",
    "                    OrgCounts[ent] += 1\n",
    "                else:\n",
    "                    OrgCounts[ent] = 1\n",
    "sortedOrg = sorted(OrgCounts.items(), key = lambda x: x[1], reverse = True)\n",
    "sortedOrg[:10]"
   ]
  },
  {
   "cell_type": "markdown",
   "metadata": {},
   "source": [
    "Manually calculating the precision, recall, and F-score for the organization counts. 7/10 of the top organization words are correct. We hand-tagged the dataset by ourselves, and according to the numbers:\n",
    "\n",
    "True Positive: 7                                                                                                     \n",
    "False Positive: 3                                                                                                    \n",
    "False Negative: 5                                                                                                    \n",
    "True Negative: 98                                                                                                    \n",
    "\n",
    "Precision = True Positive / Positive = 7/10                                                                          \n",
    "Recall = True Positive / (True Positive + False Negative) = 7/12                                                     \n",
    "F = 2 * (precision * recall) / (precision + recall) = 0.636"
   ]
  },
  {
   "cell_type": "markdown",
   "metadata": {},
   "source": [
    "## <span style=\"color:red\">*Your turn*</span>\n",
    "\n",
    "<span style=\"color:red\">In the cells immediately following, parse a (modest) subset of your corpus of interest. How deep are the phrase structure and dependency parse trees nested? How does parse depth relate to perceived sentence complexity? What are five things you can extract from these parses for subsequent analysis? (e.g., nouns collocated in a noun phrase; adjectives that modify a noun; etc.) Capture these sets of things for a focal set of words (e.g., \"Bush\", \"Obama\", \"Trump\"). What do they reveal about the roles that these entities are perceive to play in the social world inscribed by your texts?"
   ]
  },
  {
   "cell_type": "code",
   "execution_count": 144,
   "metadata": {},
   "outputs": [],
   "source": [
    "from spacy import displacy\n",
    "from spacy.symbols import nsubj, VERB, ADJ, NOUN, poss, amod, prep"
   ]
  },
  {
   "cell_type": "code",
   "execution_count": 146,
   "metadata": {},
   "outputs": [
    {
     "name": "stdout",
     "output_type": "stream",
     "text": [
      "your own\n",
      "my first\n",
      "my didliest\n",
      "Their best\n",
      "your stalker\n"
     ]
    }
   ],
   "source": [
    "for index, row in sub_df.iterrows():\n",
    "    text = ' '.join(row['tokenized_text'])\n",
    "    doc = nlp(text)\n",
    "    for chunk in doc:\n",
    "        if chunk.dep == poss and chunk.head.pos == ADJ:\n",
    "            print(chunk.text, chunk.head.text)"
   ]
  },
  {
   "cell_type": "code",
   "execution_count": 140,
   "metadata": {},
   "outputs": [],
   "source": [
    "amod_noun = {}\n",
    "for index, row in sub_df.iterrows():\n",
    "    text = ' '.join(row['tokenized_text'])\n",
    "    amod_noun[row['ups']] = []\n",
    "    doc = nlp(text)\n",
    "    for chunk in doc:\n",
    "        if chunk.dep == amod and chunk.head.pos == NOUN:\n",
    "            amod_noun[row['ups']] = [chunk.text, chunk.head.text]"
   ]
  },
  {
   "cell_type": "code",
   "execution_count": 142,
   "metadata": {},
   "outputs": [
    {
     "name": "stdout",
     "output_type": "stream",
     "text": [
      "9582 ['current', 'activities']\n",
      "9531 ['fair', 'amount']\n",
      "5704 ['masterful', 'manipulator']\n",
      "5684 ['Worst', 'launderer']\n",
      "5428 ['bland', 'reason']\n",
      "5422 ['favorite', 'part']\n",
      "5314 ['Russian', 'friend']\n",
      "5178 ['short', 'shit']\n",
      "5127 ['vicious', 'motherfucker']\n",
      "5109 ['big', 'branches']\n",
      "5080 ['giant', 'sheet']\n",
      "5073 ['first', 'time']\n",
      "5048 ['dressed', 'girl']\n",
      "5031 ['extra', 'homework']\n",
      "5019 ['saying', 'man']\n",
      "5005 ['important', 'issue']\n",
      "4944 ['good', 'friends']\n",
      "4926 ['high', 'life']\n",
      "4911 ['other', 'cars']\n",
      "4904 ['21st', 'century']\n",
      "4895 ['Blue', 'link']\n",
      "4878 ['enough', 'internet']\n",
      "4867 ['best', 'friend']\n",
      "4864 ['greater', 'aplomb']\n",
      "4836 ['top', 'comment']\n",
      "4812 ['First', 'time']\n",
      "4804 ['highest', 'comment']\n",
      "4787 ['red', 'dies']\n",
      "4761 ['wrong', 'thread']\n",
      "4748 ['dark', 'spots']\n",
      "4744 ['little', 'lid']\n",
      "4733 ['limited', 'fonts']\n",
      "4695 ['other', 'illnesses']\n",
      "4690 ['based', 'regulations']\n",
      "4688 ['other', 'dot']\n",
      "4675 ['peaceful', 'existence']\n",
      "4672 ['small', 'subset']\n",
      "4657 ['strange', 'sentence']\n",
      "4646 ['nice', 'guys']\n",
      "4626 ['single', 'day']\n",
      "4613 ['good', 'sir']\n",
      "4612 ['classic', 'move']\n",
      "4603 ['many', 'thanks']\n",
      "4583 ['crazy', 'speeder']\n"
     ]
    }
   ],
   "source": [
    "for key, value in amod_noun.items():\n",
    "    if value != []:\n",
    "        print(key, value)"
   ]
  },
  {
   "cell_type": "code",
   "execution_count": 147,
   "metadata": {},
   "outputs": [],
   "source": [
    "prep_noun = {}\n",
    "for index, row in sub_df.iterrows():\n",
    "    text = ' '.join(row['tokenized_text'])\n",
    "    prep_noun[row['ups']] = []\n",
    "    doc = nlp(text)\n",
    "    for chunk in doc:\n",
    "        if chunk.dep == prep and chunk.head.pos == NOUN:\n",
    "            prep_noun[row['ups']] = [chunk.text, chunk.head.text]"
   ]
  },
  {
   "cell_type": "code",
   "execution_count": 148,
   "metadata": {},
   "outputs": [
    {
     "name": "stdout",
     "output_type": "stream",
     "text": [
      "9531 ['for', 'need']\n",
      "5704 ['with', 'relationship']\n",
      "5489 ['for', 'inflation']\n",
      "5428 ['in', 'secret']\n",
      "5422 ['of', 'part']\n",
      "5354 ['with', 'dinner']\n",
      "5332 ['of', 'portion']\n",
      "5178 ['for', 'thanks']\n",
      "5127 ['to', 'bends']\n",
      "5109 ['of', 'bit']\n",
      "5080 ['of', 'sheet']\n",
      "5073 ['of', 'type']\n",
      "5031 ['in', 'soldier']\n",
      "5005 ['of', 'issue']\n",
      "4926 ['of', 'density']\n",
      "4904 ['of', 'lot']\n",
      "4878 ['between', 'internet']\n",
      "4874 ['for', 'Thanks']\n",
      "4869 ['in', 'houses']\n",
      "4812 ['in', 'shit']\n",
      "4804 ['on', 'kiss']\n",
      "4780 ['for', 'Thank']\n",
      "4748 ['as', 'sunlight']\n",
      "4744 ['like', 'cut']\n",
      "4688 ['with', 'butt']\n",
      "4675 ['of', 'tons']\n",
      "4672 ['of', 'subset']\n",
      "4657 ['for', 'Thanks']\n",
      "4626 ['at', 'chance']\n",
      "4583 ['of', 'front']\n"
     ]
    }
   ],
   "source": [
    "for key, value in prep_noun.items():\n",
    "    if value != []:\n",
    "        print(key, value)"
   ]
  },
  {
   "cell_type": "code",
   "execution_count": 153,
   "metadata": {},
   "outputs": [
    {
     "name": "stdout",
     "output_type": "stream",
     "text": [
      "I think\n",
      "I think\n",
      "they think\n",
      "I think\n",
      "I think\n",
      "I think\n",
      "you think\n",
      "me think\n",
      "you think\n"
     ]
    }
   ],
   "source": [
    "for index, row in sub_df.iterrows():\n",
    "    text = ' '.join(row['tokenized_text'])\n",
    "    doc = nlp(text)\n",
    "    for chunk in doc:\n",
    "        if chunk.dep == nsubj and chunk.head.pos == VERB:\n",
    "            if chunk.head.text == 'think':\n",
    "                print(chunk.text, chunk.head.text)"
   ]
  },
  {
   "cell_type": "code",
   "execution_count": 156,
   "metadata": {},
   "outputs": [
    {
     "name": "stdout",
     "output_type": "stream",
     "text": [
      "upvotes know\n",
      "I know\n"
     ]
    }
   ],
   "source": [
    "for index, row in sub_df.iterrows():\n",
    "    text = ' '.join(row['tokenized_text'])\n",
    "    doc = nlp(text)\n",
    "    for chunk in doc:\n",
    "        if chunk.dep == nsubj and chunk.head.pos == VERB:\n",
    "            if chunk.head.text == 'know':\n",
    "                print(chunk.text, chunk.head.text)"
   ]
  },
  {
   "cell_type": "markdown",
   "metadata": {},
   "source": [
    "The comments in our dataset are mostly comprised of colloquial expressions, hence, do not have deep phrase structures and deeply nested dependency parse trees. We extracted combinations of words that involve the use of NOUN and VERB. ADJ-NOUN pairs occur the most in our dataset. The words in these pairs are mostly positive in sentiment, but diverse in topic. Some common themes include \"friend\", \"day\", \"comment\", etc. However, the combination itself does not reveal much information about the entities in the comments. For future analysis, We need to take into account of the context of these words and try to find the associations between these comments and the original post."
   ]
  },
  {
   "cell_type": "markdown",
   "metadata": {},
   "source": [
    "## <span style=\"color:red\">*Exercise 6*</span>\n",
    "\n",
    "<span style=\"color:red\">Construct cells immediately below this that calculate the KL and $\\chi^2$ divergences, and the KS and Wasserstein distances between four separate corpora, plot these with heatmaps, and then array them in two dimensions with multidimensional scaling as above. What does this reveal about relations between the corpora? Which analysis (and divergence or distribution) distinguishes the authors or documents better? \n",
    "\n",
    "<span style=\"color:red\">**Stretch**: Calculate the <a \"href=https://en.wikipedia.org/wiki/Jensen–Shannon_divergence\" target=\"_blank\">Jensen-Shannon Divergence</a> between your four corpora. What is the relationship between the KL and JS divergences?</span> "
   ]
  },
  {
   "cell_type": "code",
   "execution_count": 164,
   "metadata": {},
   "outputs": [],
   "source": [
    "# Import another dataset that includes 2 million rows of comments that obtained the highest downvotes and scores \n",
    "# in Reddit community. The dataset is arranged in the order from the highest downvotes to the lowest downvotes.\n",
    "# To obtain four separate dataset, I selected the first 5000 rows and the last 5000 rows of both positive and \n",
    "# negative comments dataset.\n",
    "\n",
    "df_negative = pandas.read_csv(\"/Users/reneehu/Desktop/Content-Analysis-2020/week-4/comments_negative.csv\")\n",
    "\n",
    "positive_high = df[:5000]\n",
    "positive_low = df[-5000:]\n",
    "negative_high = df_negative[:5000]\n",
    "negative_low = df_negative[-5000:]"
   ]
  },
  {
   "cell_type": "code",
   "execution_count": 160,
   "metadata": {},
   "outputs": [
    {
     "data": {
      "text/html": [
       "<div>\n",
       "<style scoped>\n",
       "    .dataframe tbody tr th:only-of-type {\n",
       "        vertical-align: middle;\n",
       "    }\n",
       "\n",
       "    .dataframe tbody tr th {\n",
       "        vertical-align: top;\n",
       "    }\n",
       "\n",
       "    .dataframe thead th {\n",
       "        text-align: right;\n",
       "    }\n",
       "</style>\n",
       "<table border=\"1\" class=\"dataframe\">\n",
       "  <thead>\n",
       "    <tr style=\"text-align: right;\">\n",
       "      <th></th>\n",
       "      <th>id</th>\n",
       "      <th>parent_id</th>\n",
       "      <th>subreddit_id</th>\n",
       "      <th>link_id</th>\n",
       "      <th>text</th>\n",
       "      <th>score</th>\n",
       "      <th>ups</th>\n",
       "      <th>author</th>\n",
       "      <th>controversiality</th>\n",
       "      <th>parent_link_id</th>\n",
       "      <th>parent_text</th>\n",
       "      <th>parent_score</th>\n",
       "      <th>parent_ups</th>\n",
       "      <th>parent_author</th>\n",
       "      <th>parent_controversiality</th>\n",
       "    </tr>\n",
       "  </thead>\n",
       "  <tbody>\n",
       "    <tr>\n",
       "      <th>0</th>\n",
       "      <td>c0a2d2p</td>\n",
       "      <td>t1_c0a2cn1</td>\n",
       "      <td>t5_1a8ah</td>\n",
       "      <td>t3_8pr4w</td>\n",
       "      <td>Na, not really. \\n\\nI just hate islam and ever...</td>\n",
       "      <td>-2946</td>\n",
       "      <td>-2946</td>\n",
       "      <td>b34nz</td>\n",
       "      <td>0</td>\n",
       "      <td>t3_8pr4w</td>\n",
       "      <td>What goes through the heads of you people?  Is...</td>\n",
       "      <td>459</td>\n",
       "      <td>459</td>\n",
       "      <td>[deleted]</td>\n",
       "      <td>0</td>\n",
       "    </tr>\n",
       "    <tr>\n",
       "      <th>1</th>\n",
       "      <td>c6okok8</td>\n",
       "      <td>t1_c6oaywb</td>\n",
       "      <td>t5_2s8e9</td>\n",
       "      <td>t3_11otij</td>\n",
       "      <td>lol you're some ugly ass white dude</td>\n",
       "      <td>-2724</td>\n",
       "      <td>-2724</td>\n",
       "      <td>letmetellyouhowitis</td>\n",
       "      <td>0</td>\n",
       "      <td>t3_11otij</td>\n",
       "      <td>This is worth noting.\\n\\nThankfully I don't.</td>\n",
       "      <td>72</td>\n",
       "      <td>72</td>\n",
       "      <td>flowen65</td>\n",
       "      <td>0</td>\n",
       "    </tr>\n",
       "    <tr>\n",
       "      <th>2</th>\n",
       "      <td>c3nlalf</td>\n",
       "      <td>t1_c3nijr7</td>\n",
       "      <td>t5_2qzb6</td>\n",
       "      <td>t3_p9a1v</td>\n",
       "      <td>First of off, its not true, and second off, I ...</td>\n",
       "      <td>-2132</td>\n",
       "      <td>-2132</td>\n",
       "      <td>iamwoodyharrelson</td>\n",
       "      <td>0</td>\n",
       "      <td>t3_p9a1v</td>\n",
       "      <td>I swear this is *(allegedly)* a true story.  I...</td>\n",
       "      <td>4028</td>\n",
       "      <td>4028</td>\n",
       "      <td>AndyRooney</td>\n",
       "      <td>0</td>\n",
       "    </tr>\n",
       "    <tr>\n",
       "      <th>3</th>\n",
       "      <td>c10nh8q</td>\n",
       "      <td>t1_c10nc34</td>\n",
       "      <td>t5_6</td>\n",
       "      <td>t3_djasj</td>\n",
       "      <td>Who made you reddit police? I will submit what...</td>\n",
       "      <td>-2117</td>\n",
       "      <td>-2117</td>\n",
       "      <td>JimmyJamesincorp</td>\n",
       "      <td>0</td>\n",
       "      <td>t3_djasj</td>\n",
       "      <td>I was on my way over here to bitch and moan ab...</td>\n",
       "      <td>1214</td>\n",
       "      <td>1214</td>\n",
       "      <td>SloaneRanger</td>\n",
       "      <td>0</td>\n",
       "    </tr>\n",
       "    <tr>\n",
       "      <th>4</th>\n",
       "      <td>c3nlufk</td>\n",
       "      <td>t1_c3nlcob</td>\n",
       "      <td>t5_2qzb6</td>\n",
       "      <td>t3_p9a1v</td>\n",
       "      <td>We gotta be...i consider my time valuable.</td>\n",
       "      <td>-1962</td>\n",
       "      <td>-1962</td>\n",
       "      <td>iamwoodyharrelson</td>\n",
       "      <td>0</td>\n",
       "      <td>t3_p9a1v</td>\n",
       "      <td>Should change this AMA to AMAAR (Ask Me Anythi...</td>\n",
       "      <td>1405</td>\n",
       "      <td>1405</td>\n",
       "      <td>bersh</td>\n",
       "      <td>0</td>\n",
       "    </tr>\n",
       "  </tbody>\n",
       "</table>\n",
       "</div>"
      ],
      "text/plain": [
       "        id   parent_id subreddit_id    link_id  \\\n",
       "0  c0a2d2p  t1_c0a2cn1     t5_1a8ah   t3_8pr4w   \n",
       "1  c6okok8  t1_c6oaywb     t5_2s8e9  t3_11otij   \n",
       "2  c3nlalf  t1_c3nijr7     t5_2qzb6   t3_p9a1v   \n",
       "3  c10nh8q  t1_c10nc34         t5_6   t3_djasj   \n",
       "4  c3nlufk  t1_c3nlcob     t5_2qzb6   t3_p9a1v   \n",
       "\n",
       "                                                text  score   ups  \\\n",
       "0  Na, not really. \\n\\nI just hate islam and ever...  -2946 -2946   \n",
       "1                lol you're some ugly ass white dude  -2724 -2724   \n",
       "2  First of off, its not true, and second off, I ...  -2132 -2132   \n",
       "3  Who made you reddit police? I will submit what...  -2117 -2117   \n",
       "4        We gotta be...i consider my time valuable.   -1962 -1962   \n",
       "\n",
       "                author  controversiality parent_link_id  \\\n",
       "0                b34nz                 0       t3_8pr4w   \n",
       "1  letmetellyouhowitis                 0      t3_11otij   \n",
       "2    iamwoodyharrelson                 0       t3_p9a1v   \n",
       "3     JimmyJamesincorp                 0       t3_djasj   \n",
       "4    iamwoodyharrelson                 0       t3_p9a1v   \n",
       "\n",
       "                                         parent_text  parent_score  \\\n",
       "0  What goes through the heads of you people?  Is...           459   \n",
       "1      This is worth noting.\\n\\nThankfully I don't.             72   \n",
       "2  I swear this is *(allegedly)* a true story.  I...          4028   \n",
       "3  I was on my way over here to bitch and moan ab...          1214   \n",
       "4  Should change this AMA to AMAAR (Ask Me Anythi...          1405   \n",
       "\n",
       "   parent_ups parent_author  parent_controversiality  \n",
       "0         459     [deleted]                        0  \n",
       "1          72      flowen65                        0  \n",
       "2        4028    AndyRooney                        0  \n",
       "3        1214  SloaneRanger                        0  \n",
       "4        1405         bersh                        0  "
      ]
     },
     "execution_count": 160,
     "metadata": {},
     "output_type": "execute_result"
    }
   ],
   "source": [
    "negative_high.head()"
   ]
  },
  {
   "cell_type": "code",
   "execution_count": 163,
   "metadata": {},
   "outputs": [
    {
     "data": {
      "text/html": [
       "<div>\n",
       "<style scoped>\n",
       "    .dataframe tbody tr th:only-of-type {\n",
       "        vertical-align: middle;\n",
       "    }\n",
       "\n",
       "    .dataframe tbody tr th {\n",
       "        vertical-align: top;\n",
       "    }\n",
       "\n",
       "    .dataframe thead th {\n",
       "        text-align: right;\n",
       "    }\n",
       "</style>\n",
       "<table border=\"1\" class=\"dataframe\">\n",
       "  <thead>\n",
       "    <tr style=\"text-align: right;\">\n",
       "      <th></th>\n",
       "      <th>id</th>\n",
       "      <th>parent_id</th>\n",
       "      <th>subreddit_id</th>\n",
       "      <th>link_id</th>\n",
       "      <th>text</th>\n",
       "      <th>score</th>\n",
       "      <th>ups</th>\n",
       "      <th>author</th>\n",
       "      <th>controversiality</th>\n",
       "      <th>parent_link_id</th>\n",
       "      <th>parent_text</th>\n",
       "      <th>parent_score</th>\n",
       "      <th>parent_ups</th>\n",
       "      <th>parent_author</th>\n",
       "      <th>parent_controversiality</th>\n",
       "    </tr>\n",
       "  </thead>\n",
       "  <tbody>\n",
       "    <tr>\n",
       "      <th>1995000</th>\n",
       "      <td>cneuouu</td>\n",
       "      <td>t1_cnet84b</td>\n",
       "      <td>t5_2qh3u</td>\n",
       "      <td>t3_2rcsu7</td>\n",
       "      <td>Give it a couple hours. The idiot with a fake ...</td>\n",
       "      <td>-6</td>\n",
       "      <td>-6</td>\n",
       "      <td>IHateShaneBattier</td>\n",
       "      <td>0</td>\n",
       "      <td>t3_2rcsu7</td>\n",
       "      <td>No one is being demonized here.</td>\n",
       "      <td>30</td>\n",
       "      <td>30</td>\n",
       "      <td>Fudada</td>\n",
       "      <td>0</td>\n",
       "    </tr>\n",
       "    <tr>\n",
       "      <th>1995001</th>\n",
       "      <td>c3zvwh0</td>\n",
       "      <td>t1_c3zvsyi</td>\n",
       "      <td>t5_2qh0s</td>\n",
       "      <td>t3_qr9vv</td>\n",
       "      <td>&amp;gt;I'm not hating at you, just pointing out t...</td>\n",
       "      <td>-6</td>\n",
       "      <td>-6</td>\n",
       "      <td>Hellzapoppin</td>\n",
       "      <td>0</td>\n",
       "      <td>t3_qr9vv</td>\n",
       "      <td>Lemme just quote from the sidebar.\\n\\n&amp;gt;How ...</td>\n",
       "      <td>7</td>\n",
       "      <td>7</td>\n",
       "      <td>credence</td>\n",
       "      <td>0</td>\n",
       "    </tr>\n",
       "    <tr>\n",
       "      <th>1995002</th>\n",
       "      <td>c49m09n</td>\n",
       "      <td>t1_c49lvpw</td>\n",
       "      <td>t5_2qh03</td>\n",
       "      <td>t3_rxrxw</td>\n",
       "      <td>You shouldn't have bought tickets to pax if yo...</td>\n",
       "      <td>-6</td>\n",
       "      <td>-6</td>\n",
       "      <td>[deleted]</td>\n",
       "      <td>0</td>\n",
       "      <td>t3_rxrxw</td>\n",
       "      <td>Im over £1000 out of pocket, I have a shit loa...</td>\n",
       "      <td>2</td>\n",
       "      <td>2</td>\n",
       "      <td>[deleted]</td>\n",
       "      <td>0</td>\n",
       "    </tr>\n",
       "    <tr>\n",
       "      <th>1995003</th>\n",
       "      <td>c52v1mn</td>\n",
       "      <td>t1_c52tj5a</td>\n",
       "      <td>t5_2qh0u</td>\n",
       "      <td>t3_va4s5</td>\n",
       "      <td>I call bullshit, give me some kind of source f...</td>\n",
       "      <td>-6</td>\n",
       "      <td>-6</td>\n",
       "      <td>TheProven</td>\n",
       "      <td>0</td>\n",
       "      <td>t3_va4s5</td>\n",
       "      <td>Firstly, I would like to remind everyone that ...</td>\n",
       "      <td>37</td>\n",
       "      <td>37</td>\n",
       "      <td>0_-</td>\n",
       "      <td>0</td>\n",
       "    </tr>\n",
       "    <tr>\n",
       "      <th>1995004</th>\n",
       "      <td>c1t6lhf</td>\n",
       "      <td>t1_c1t6689</td>\n",
       "      <td>t5_2qh03</td>\n",
       "      <td>t3_h7f7j</td>\n",
       "      <td>I would spray-shit on that paiting if it were ...</td>\n",
       "      <td>-6</td>\n",
       "      <td>-6</td>\n",
       "      <td>[deleted]</td>\n",
       "      <td>0</td>\n",
       "      <td>t3_h7f7j</td>\n",
       "      <td>would hang the shit out of that painting.\\n</td>\n",
       "      <td>60</td>\n",
       "      <td>60</td>\n",
       "      <td>[deleted]</td>\n",
       "      <td>0</td>\n",
       "    </tr>\n",
       "  </tbody>\n",
       "</table>\n",
       "</div>"
      ],
      "text/plain": [
       "              id   parent_id subreddit_id    link_id  \\\n",
       "1995000  cneuouu  t1_cnet84b     t5_2qh3u  t3_2rcsu7   \n",
       "1995001  c3zvwh0  t1_c3zvsyi     t5_2qh0s   t3_qr9vv   \n",
       "1995002  c49m09n  t1_c49lvpw     t5_2qh03   t3_rxrxw   \n",
       "1995003  c52v1mn  t1_c52tj5a     t5_2qh0u   t3_va4s5   \n",
       "1995004  c1t6lhf  t1_c1t6689     t5_2qh03   t3_h7f7j   \n",
       "\n",
       "                                                      text  score  ups  \\\n",
       "1995000  Give it a couple hours. The idiot with a fake ...     -6   -6   \n",
       "1995001  &gt;I'm not hating at you, just pointing out t...     -6   -6   \n",
       "1995002  You shouldn't have bought tickets to pax if yo...     -6   -6   \n",
       "1995003  I call bullshit, give me some kind of source f...     -6   -6   \n",
       "1995004  I would spray-shit on that paiting if it were ...     -6   -6   \n",
       "\n",
       "                    author  controversiality parent_link_id  \\\n",
       "1995000  IHateShaneBattier                 0      t3_2rcsu7   \n",
       "1995001       Hellzapoppin                 0       t3_qr9vv   \n",
       "1995002          [deleted]                 0       t3_rxrxw   \n",
       "1995003          TheProven                 0       t3_va4s5   \n",
       "1995004          [deleted]                 0       t3_h7f7j   \n",
       "\n",
       "                                               parent_text  parent_score  \\\n",
       "1995000                    No one is being demonized here.            30   \n",
       "1995001  Lemme just quote from the sidebar.\\n\\n&gt;How ...             7   \n",
       "1995002  Im over £1000 out of pocket, I have a shit loa...             2   \n",
       "1995003  Firstly, I would like to remind everyone that ...            37   \n",
       "1995004        would hang the shit out of that painting.\\n            60   \n",
       "\n",
       "         parent_ups parent_author  parent_controversiality  \n",
       "1995000          30        Fudada                        0  \n",
       "1995001           7      credence                        0  \n",
       "1995002           2     [deleted]                        0  \n",
       "1995003          37           0_-                        0  \n",
       "1995004          60     [deleted]                        0  "
      ]
     },
     "execution_count": 163,
     "metadata": {},
     "output_type": "execute_result"
    }
   ],
   "source": [
    "negative_low.head()"
   ]
  },
  {
   "cell_type": "code",
   "execution_count": 167,
   "metadata": {},
   "outputs": [
    {
     "name": "stderr",
     "output_type": "stream",
     "text": [
      "/Users/reneehu/anaconda3/lib/python3.7/site-packages/ipykernel_launcher.py:1: SettingWithCopyWarning: \n",
      "A value is trying to be set on a copy of a slice from a DataFrame.\n",
      "Try using .loc[row_indexer,col_indexer] = value instead\n",
      "\n",
      "See the caveats in the documentation: http://pandas.pydata.org/pandas-docs/stable/indexing.html#indexing-view-versus-copy\n",
      "  \"\"\"Entry point for launching an IPython kernel.\n",
      "/Users/reneehu/anaconda3/lib/python3.7/site-packages/ipykernel_launcher.py:2: SettingWithCopyWarning: \n",
      "A value is trying to be set on a copy of a slice from a DataFrame.\n",
      "Try using .loc[row_indexer,col_indexer] = value instead\n",
      "\n",
      "See the caveats in the documentation: http://pandas.pydata.org/pandas-docs/stable/indexing.html#indexing-view-versus-copy\n",
      "  \n"
     ]
    }
   ],
   "source": [
    "positive_high['tokenized_text'] = positive_high['text'].apply(lambda x: word_tokenize(x))\n",
    "positive_high['normalized_tokens'] = positive_high['tokenized_text'].apply(lambda x: normalizeTokens(x))"
   ]
  },
  {
   "cell_type": "code",
   "execution_count": 168,
   "metadata": {},
   "outputs": [
    {
     "name": "stderr",
     "output_type": "stream",
     "text": [
      "/Users/reneehu/anaconda3/lib/python3.7/site-packages/ipykernel_launcher.py:1: SettingWithCopyWarning: \n",
      "A value is trying to be set on a copy of a slice from a DataFrame.\n",
      "Try using .loc[row_indexer,col_indexer] = value instead\n",
      "\n",
      "See the caveats in the documentation: http://pandas.pydata.org/pandas-docs/stable/indexing.html#indexing-view-versus-copy\n",
      "  \"\"\"Entry point for launching an IPython kernel.\n",
      "/Users/reneehu/anaconda3/lib/python3.7/site-packages/ipykernel_launcher.py:2: SettingWithCopyWarning: \n",
      "A value is trying to be set on a copy of a slice from a DataFrame.\n",
      "Try using .loc[row_indexer,col_indexer] = value instead\n",
      "\n",
      "See the caveats in the documentation: http://pandas.pydata.org/pandas-docs/stable/indexing.html#indexing-view-versus-copy\n",
      "  \n"
     ]
    }
   ],
   "source": [
    "positive_low['tokenized_text'] = positive_low['text'].apply(lambda x: word_tokenize(x))\n",
    "positive_low['normalized_tokens'] = positive_low['tokenized_text'].apply(lambda x: normalizeTokens(x))"
   ]
  },
  {
   "cell_type": "code",
   "execution_count": 169,
   "metadata": {},
   "outputs": [
    {
     "name": "stderr",
     "output_type": "stream",
     "text": [
      "/Users/reneehu/anaconda3/lib/python3.7/site-packages/ipykernel_launcher.py:1: SettingWithCopyWarning: \n",
      "A value is trying to be set on a copy of a slice from a DataFrame.\n",
      "Try using .loc[row_indexer,col_indexer] = value instead\n",
      "\n",
      "See the caveats in the documentation: http://pandas.pydata.org/pandas-docs/stable/indexing.html#indexing-view-versus-copy\n",
      "  \"\"\"Entry point for launching an IPython kernel.\n",
      "/Users/reneehu/anaconda3/lib/python3.7/site-packages/ipykernel_launcher.py:2: SettingWithCopyWarning: \n",
      "A value is trying to be set on a copy of a slice from a DataFrame.\n",
      "Try using .loc[row_indexer,col_indexer] = value instead\n",
      "\n",
      "See the caveats in the documentation: http://pandas.pydata.org/pandas-docs/stable/indexing.html#indexing-view-versus-copy\n",
      "  \n"
     ]
    }
   ],
   "source": [
    "negative_high['tokenized_text'] = negative_high['text'].apply(lambda x: word_tokenize(x))\n",
    "negative_high['normalized_tokens'] = negative_high['tokenized_text'].apply(lambda x: normalizeTokens(x))"
   ]
  },
  {
   "cell_type": "code",
   "execution_count": 170,
   "metadata": {},
   "outputs": [
    {
     "name": "stderr",
     "output_type": "stream",
     "text": [
      "/Users/reneehu/anaconda3/lib/python3.7/site-packages/ipykernel_launcher.py:1: SettingWithCopyWarning: \n",
      "A value is trying to be set on a copy of a slice from a DataFrame.\n",
      "Try using .loc[row_indexer,col_indexer] = value instead\n",
      "\n",
      "See the caveats in the documentation: http://pandas.pydata.org/pandas-docs/stable/indexing.html#indexing-view-versus-copy\n",
      "  \"\"\"Entry point for launching an IPython kernel.\n",
      "/Users/reneehu/anaconda3/lib/python3.7/site-packages/ipykernel_launcher.py:2: SettingWithCopyWarning: \n",
      "A value is trying to be set on a copy of a slice from a DataFrame.\n",
      "Try using .loc[row_indexer,col_indexer] = value instead\n",
      "\n",
      "See the caveats in the documentation: http://pandas.pydata.org/pandas-docs/stable/indexing.html#indexing-view-versus-copy\n",
      "  \n"
     ]
    }
   ],
   "source": [
    "negative_low['tokenized_text'] = negative_low['text'].apply(lambda x: word_tokenize(x))\n",
    "negative_low['normalized_tokens'] = negative_low['tokenized_text'].apply(lambda x: normalizeTokens(x))"
   ]
  },
  {
   "cell_type": "code",
   "execution_count": 171,
   "metadata": {},
   "outputs": [
    {
     "data": {
      "text/plain": [
       "2339"
      ]
     },
     "execution_count": 171,
     "metadata": {},
     "output_type": "execute_result"
    }
   ],
   "source": [
    "pos_high_words = set(positive_high['normalized_tokens'].sum())\n",
    "pos_low_words = set(positive_low['normalized_tokens'].sum())\n",
    "neg_high_words = set(negative_high['normalized_tokens'].sum())\n",
    "neg_low_words = set(negative_low['normalized_tokens'].sum())\n",
    "\n",
    "overlapWords = pos_high_words & pos_low_words & neg_high_words & neg_low_words\n",
    "\n",
    "overlapWordsDict = {word: index for index, word in enumerate(overlapWords)}\n",
    "overlapWordsDict['time']"
   ]
  },
  {
   "cell_type": "code",
   "execution_count": 173,
   "metadata": {},
   "outputs": [
    {
     "data": {
      "text/plain": [
       "1.0"
      ]
     },
     "execution_count": 173,
     "metadata": {},
     "output_type": "execute_result"
    }
   ],
   "source": [
    "def makeProbsArray(dfColumn, overlapDict):\n",
    "    words = dfColumn.sum()\n",
    "    countList = [0] * len(overlapDict)\n",
    "    for word in words:\n",
    "        try:\n",
    "            countList[overlapDict[word]] += 1\n",
    "        except KeyError:\n",
    "            #The word is not common so we skip it\n",
    "            pass\n",
    "    countArray = np.array(countList)\n",
    "    return countArray / countArray.sum()\n",
    "\n",
    "pos_highProbArray = makeProbsArray(positive_high['normalized_tokens'], overlapWordsDict)\n",
    "pos_lowProbArray = makeProbsArray(positive_low['normalized_tokens'], overlapWordsDict)\n",
    "neg_highProbArray = makeProbsArray(negative_high['normalized_tokens'], overlapWordsDict)\n",
    "neg_lowProbArray = makeProbsArray(negative_low['normalized_tokens'], overlapWordsDict)\n",
    "\n",
    "pos_lowProbArray.sum()"
   ]
  },
  {
   "cell_type": "markdown",
   "metadata": {},
   "source": [
    "### KL Divergence"
   ]
  },
  {
   "cell_type": "code",
   "execution_count": 174,
   "metadata": {},
   "outputs": [
    {
     "name": "stdout",
     "output_type": "stream",
     "text": [
      "0.14274471610482609\n",
      "0.18597327784022777\n",
      "0.27292154015379955\n",
      "0.158963359335536\n"
     ]
    }
   ],
   "source": [
    "pos_divergence = scipy.stats.entropy(pos_highProbArray, pos_lowProbArray)\n",
    "print(pos_divergence)\n",
    "neg_divergence = scipy.stats.entropy(neg_highProbArray, neg_lowProbArray)\n",
    "print(neg_divergence)\n",
    "high_divergence = scipy.stats.entropy(pos_highProbArray, neg_highProbArray)\n",
    "print(high_divergence)\n",
    "low_divergence = scipy.stats.entropy(pos_lowProbArray, neg_lowProbArray)\n",
    "print(low_divergence)"
   ]
  },
  {
   "cell_type": "code",
   "execution_count": 176,
   "metadata": {},
   "outputs": [
    {
     "data": {
      "text/html": [
       "<div>\n",
       "<style scoped>\n",
       "    .dataframe tbody tr th:only-of-type {\n",
       "        vertical-align: middle;\n",
       "    }\n",
       "\n",
       "    .dataframe tbody tr th {\n",
       "        vertical-align: top;\n",
       "    }\n",
       "\n",
       "    .dataframe thead th {\n",
       "        text-align: right;\n",
       "    }\n",
       "</style>\n",
       "<table border=\"1\" class=\"dataframe\">\n",
       "  <thead>\n",
       "    <tr style=\"text-align: right;\">\n",
       "      <th></th>\n",
       "      <th>word</th>\n",
       "      <th>elementwise divergence</th>\n",
       "    </tr>\n",
       "  </thead>\n",
       "  <tbody>\n",
       "    <tr>\n",
       "      <th>2575</th>\n",
       "      <td>downvote</td>\n",
       "      <td>0.009175</td>\n",
       "    </tr>\n",
       "    <tr>\n",
       "      <th>1891</th>\n",
       "      <td>gay</td>\n",
       "      <td>0.006773</td>\n",
       "    </tr>\n",
       "    <tr>\n",
       "      <th>3143</th>\n",
       "      <td>gold</td>\n",
       "      <td>0.004413</td>\n",
       "    </tr>\n",
       "    <tr>\n",
       "      <th>2741</th>\n",
       "      <td>post</td>\n",
       "      <td>0.002723</td>\n",
       "    </tr>\n",
       "    <tr>\n",
       "      <th>2243</th>\n",
       "      <td>karma</td>\n",
       "      <td>0.002184</td>\n",
       "    </tr>\n",
       "    <tr>\n",
       "      <th>3148</th>\n",
       "      <td>cheese</td>\n",
       "      <td>0.002009</td>\n",
       "    </tr>\n",
       "    <tr>\n",
       "      <th>3661</th>\n",
       "      <td>comment</td>\n",
       "      <td>0.001889</td>\n",
       "    </tr>\n",
       "    <tr>\n",
       "      <th>416</th>\n",
       "      <td>lol</td>\n",
       "      <td>0.001767</td>\n",
       "    </tr>\n",
       "    <tr>\n",
       "      <th>134</th>\n",
       "      <td>door</td>\n",
       "      <td>0.001668</td>\n",
       "    </tr>\n",
       "    <tr>\n",
       "      <th>2664</th>\n",
       "      <td>fuck</td>\n",
       "      <td>0.001639</td>\n",
       "    </tr>\n",
       "  </tbody>\n",
       "</table>\n",
       "</div>"
      ],
      "text/plain": [
       "          word  elementwise divergence\n",
       "2575  downvote                0.009175\n",
       "1891       gay                0.006773\n",
       "3143      gold                0.004413\n",
       "2741      post                0.002723\n",
       "2243     karma                0.002184\n",
       "3148    cheese                0.002009\n",
       "3661   comment                0.001889\n",
       "416        lol                0.001767\n",
       "134       door                0.001668\n",
       "2664      fuck                0.001639"
      ]
     },
     "execution_count": 176,
     "metadata": {},
     "output_type": "execute_result"
    }
   ],
   "source": [
    "# between positive_high and negative_high\n",
    "high_divergence_ew = scipy.special.kl_div(pos_highProbArray, neg_highProbArray)\n",
    "kl_df = pandas.DataFrame(list(overlapWordsDict.keys()), columns = ['word'], index = list(overlapWordsDict.values()))\n",
    "kl_df = kl_df.sort_index()\n",
    "kl_df['elementwise divergence'] = high_divergence_ew\n",
    "kl_df.sort_values(by='elementwise divergence', ascending=False)[:10]"
   ]
  },
  {
   "cell_type": "code",
   "execution_count": 177,
   "metadata": {},
   "outputs": [],
   "source": [
    "def kl_divergence(X, Y):\n",
    "    P = X.copy()\n",
    "    Q = Y.copy()\n",
    "    P.columns = ['P']\n",
    "    Q.columns = ['Q']\n",
    "    df = Q.join(P).fillna(0)\n",
    "    p = df.iloc[:,1]\n",
    "    q = df.iloc[:,0]\n",
    "    D_kl = scipy.stats.entropy(p, q)\n",
    "    return D_kl\n",
    "\n",
    "def chi2_divergence(X,Y):\n",
    "    P = X.copy()\n",
    "    Q = Y.copy()\n",
    "    P.columns = ['P']\n",
    "    Q.columns = ['Q']\n",
    "    df = Q.join(P).fillna(0)\n",
    "    p = df.iloc[:,1]\n",
    "    q = df.iloc[:,0]\n",
    "    return scipy.stats.chisquare(p, q).statistic\n",
    "\n",
    "def Divergence(corpus1, corpus2, difference=\"KL\"):\n",
    "    \"\"\"Difference parameter can equal KL, Chi2, or Wass\"\"\"\n",
    "    freqP = nltk.FreqDist(corpus1)\n",
    "    P = pandas.DataFrame(list(freqP.values()), columns = ['frequency'], index = list(freqP.keys()))\n",
    "    freqQ = nltk.FreqDist(corpus2)\n",
    "    Q = pandas.DataFrame(list(freqQ.values()), columns = ['frequency'], index = list(freqQ.keys()))\n",
    "    if difference == \"KL\":\n",
    "        return kl_divergence(P, Q)\n",
    "    elif difference == \"Chi2\":\n",
    "        return chi2_divergence(P, Q)\n",
    "    elif difference == \"KS\":\n",
    "        try:\n",
    "            return scipy.stats.ks_2samp(P['frequency'], Q['frequency']).statistic\n",
    "        except:\n",
    "            return scipy.stats.ks_2samp(P['frequency'], Q['frequency'])\n",
    "    elif difference == \"Wasserstein\":\n",
    "        try:\n",
    "            return scipy.stats.wasserstein_distance(P['frequency'], Q['frequency'], u_weights=None, v_weights=None).statistic\n",
    "        except:\n",
    "            return scipy.stats.wasserstein_distance(P['frequency'], Q['frequency'], u_weights=None, v_weights=None)"
   ]
  },
  {
   "cell_type": "code",
   "execution_count": 178,
   "metadata": {},
   "outputs": [],
   "source": [
    "corpora = [positive_high, positive_low, negative_high, negative_low]"
   ]
  },
  {
   "cell_type": "code",
   "execution_count": 184,
   "metadata": {},
   "outputs": [],
   "source": [
    "fileids = ['Most Upvoted Comments', 'Least Upvoted Comments', 'Most Downvoted Comments', 'Least Downvoted Comments']"
   ]
  },
  {
   "cell_type": "code",
   "execution_count": 185,
   "metadata": {},
   "outputs": [
    {
     "data": {
      "image/png": "[encoded data removed]",
      "text/plain": [
       "<Figure size 640x480 with 2 Axes>"
      ]
     },
     "metadata": {},
     "output_type": "display_data"
    }
   ],
   "source": [
    "L = []\n",
    "for p in corpora:\n",
    "    l = []\n",
    "    for q in corpora:\n",
    "        l.append(Divergence(p['text'],q['text'], difference = 'KL'))\n",
    "    L.append(l)\n",
    "M = np.array(L)\n",
    "fig = plt.figure()\n",
    "div = pandas.DataFrame(M, columns = fileids, index = fileids)\n",
    "ax = sns.heatmap(div)\n",
    "plt.show()"
   ]
  },
  {
   "cell_type": "markdown",
   "metadata": {},
   "source": [
    "### $\\chi^2$ Divergence"
   ]
  },
  {
   "cell_type": "code",
   "execution_count": 188,
   "metadata": {},
   "outputs": [
    {
     "data": {
      "image/png": "[encoded data removed]",
      "text/plain": [
       "<Figure size 640x480 with 2 Axes>"
      ]
     },
     "metadata": {},
     "output_type": "display_data"
    }
   ],
   "source": [
    "L = []\n",
    "for p in corpora:\n",
    "    l = []\n",
    "    for q in corpora:\n",
    "        l.append(Divergence(p['text'],q['text'], difference='Chi2'))\n",
    "    L.append(l)\n",
    "M = np.array(L)\n",
    "fig = plt.figure()\n",
    "div = pandas.DataFrame(M, columns = fileids, index = fileids)\n",
    "ax = sns.heatmap(div)\n",
    "plt.show()"
   ]
  },
  {
   "cell_type": "markdown",
   "metadata": {},
   "source": [
    "### KS Distance"
   ]
  },
  {
   "cell_type": "code",
   "execution_count": 190,
   "metadata": {},
   "outputs": [
    {
     "data": {
      "image/png": "[encoded data removed]",
      "text/plain": [
       "<Figure size 640x480 with 2 Axes>"
      ]
     },
     "metadata": {},
     "output_type": "display_data"
    }
   ],
   "source": [
    "L = []\n",
    "for p in corpora:\n",
    "    l = []\n",
    "    for q in corpora:\n",
    "        l.append(Divergence(p['text'],q['text'], difference='KS'))\n",
    "    L.append(l)\n",
    "M = np.array(L)\n",
    "fig = plt.figure()\n",
    "div = pandas.DataFrame(M, columns = fileids, index = fileids)\n",
    "ax = sns.heatmap(div)\n",
    "plt.show()"
   ]
  },
  {
   "cell_type": "markdown",
   "metadata": {},
   "source": [
    "### Wasserstein Distance"
   ]
  },
  {
   "cell_type": "code",
   "execution_count": 191,
   "metadata": {},
   "outputs": [
    {
     "data": {
      "image/png": "[encoded data removed]",
      "text/plain": [
       "<Figure size 640x480 with 2 Axes>"
      ]
     },
     "metadata": {},
     "output_type": "display_data"
    }
   ],
   "source": [
    "L = []\n",
    "for p in corpora:\n",
    "    l = []\n",
    "    for q in corpora:\n",
    "        l.append(Divergence(p['text'],q['text'], difference='Wasserstein'))\n",
    "    L.append(l)\n",
    "M = np.array(L)\n",
    "fig = plt.figure()\n",
    "div = pandas.DataFrame(M, columns = fileids, index = fileids)\n",
    "ax = sns.heatmap(div)\n",
    "plt.show()"
   ]
  },
  {
   "cell_type": "markdown",
   "metadata": {},
   "source": [
    "### Multidimensional Scaling"
   ]
  },
  {
   "cell_type": "code",
   "execution_count": 186,
   "metadata": {},
   "outputs": [
    {
     "name": "stderr",
     "output_type": "stream",
     "text": [
      "/Users/reneehu/anaconda3/lib/python3.7/site-packages/sklearn/manifold/mds.py:421: UserWarning: The MDS API has changed. ``fit`` now constructs an dissimilarity matrix from data. To use a custom dissimilarity matrix, set ``dissimilarity='precomputed'``.\n",
      "  warnings.warn(\"The MDS API has changed. ``fit`` now constructs an\"\n"
     ]
    },
    {
     "data": {
      "image/png": "[encoded data removed]",
      "text/plain": [
       "<Figure size 600x600 with 1 Axes>"
      ]
     },
     "metadata": {},
     "output_type": "display_data"
    }
   ],
   "source": [
    "mds = sklearn.manifold.MDS()\n",
    "pos = mds.fit(M).embedding_\n",
    "x = pos[:,0]\n",
    "y = pos[:,1]\n",
    "fig, ax = plt.subplots(figsize = (6,6))\n",
    "plt.plot(x, y, ' ')\n",
    "for i, txt in enumerate(fileids):\n",
    "    ax.annotate(txt, (x[i],y[i]))"
   ]
  },
  {
   "cell_type": "markdown",
   "metadata": {},
   "source": [
    "### Jensen-Shannon Divergence"
   ]
  },
  {
   "cell_type": "code",
   "execution_count": 195,
   "metadata": {},
   "outputs": [
    {
     "name": "stdout",
     "output_type": "stream",
     "text": [
      "0.18277300518493417\n",
      "0.20639111240519192\n",
      "0.2551953814393443\n",
      "0.19297767622057768\n"
     ]
    }
   ],
   "source": [
    "posJSD = scipy.spatial.distance.jensenshannon(pos_highProbArray, pos_lowProbArray)\n",
    "print(posJSD)\n",
    "negJSD = scipy.spatial.distance.jensenshannon(neg_highProbArray, neg_lowProbArray)\n",
    "print(negJSD)\n",
    "highJSD = scipy.spatial.distance.jensenshannon(pos_highProbArray, neg_highProbArray)\n",
    "print(highJSD)\n",
    "lowJSD = scipy.spatial.distance.jensenshannon(pos_lowProbArray, neg_lowProbArray)\n",
    "print(lowJSD)"
   ]
  },
  {
   "cell_type": "markdown",
   "metadata": {},
   "source": [
    "JS Divergence computes the average KL divergence between each distribution and the average of both distribution, producing a symmetric matrix."
   ]
  },
  {
   "cell_type": "markdown",
   "metadata": {},
   "source": [
    "KL divergence captures the differences between documents better than $\\chi^2$ divergences. The latter shows that all documents are highly divergent from each other, while the former is able to refine the divergence more accurately. KS and Wasserstein distances produce similar results, and both methods distinguish the documents pretty well. In general, the most upvoted comments and the least upvoted comments are quite similar to each other, so do the most downvoted and the least downvoted comments. However, the most downvoted comments and the most upvoted comments differ a lot more in their text, and the difference is successfully captured by the analysis."
   ]
  },
  {
   "cell_type": "code",
   "execution_count": null,
   "metadata": {},
   "outputs": [],
   "source": []
  }
 ],
 "metadata": {
  "kernelspec": {
   "display_name": "Python 3",
   "language": "python",
   "name": "python3"
  },
  "language_info": {
   "codemirror_mode": {
    "name": "ipython",
    "version": 3
   },
   "file_extension": ".py",
   "mimetype": "text/x-python",
   "name": "python",
   "nbconvert_exporter": "python",
   "pygments_lexer": "ipython3",
   "version": "3.7.3"
  }
 },
 "nbformat": 4,
 "nbformat_minor": 2
}
